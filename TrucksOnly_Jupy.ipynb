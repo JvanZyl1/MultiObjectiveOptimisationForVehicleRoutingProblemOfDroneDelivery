{
 "cells": [
  {
   "cell_type": "markdown",
   "metadata": {},
   "source": [
    "# Trucks only problem #"
   ]
  },
  {
   "cell_type": "markdown",
   "metadata": {},
   "source": [
    "Install necessary packages"
   ]
  },
  {
   "cell_type": "code",
   "execution_count": 15,
   "metadata": {},
   "outputs": [],
   "source": [
    "from gurobipy import Model,GRB,LinExpr,quicksum\n",
    "import numpy as np\n",
    "from scipy.spatial import distance\n",
    "import os\n",
    "import socket\n",
    "from load_dataset import Dataset"
   ]
  },
  {
   "cell_type": "markdown",
   "metadata": {},
   "source": [
    "For Ugo's laptop"
   ]
  },
  {
   "cell_type": "code",
   "execution_count": 16,
   "metadata": {},
   "outputs": [
    {
     "name": "stdout",
     "output_type": "stream",
     "text": [
      "Not Ugo's MacBook Pro, using default or no specific license settings.\n"
     ]
    }
   ],
   "source": [
    "# Define the node name or another identifier of your laptop\n",
    "my_laptop_node = 'Ugos-MacBook-Pro.local'\n",
    "\n",
    "# Get the current system's node name using socket.gethostname()\n",
    "current_node = socket.gethostname()\n",
    "\n",
    "if current_node == my_laptop_node:\n",
    "    # Set the environment variable for Gurobi license file\n",
    "    os.environ[\"GRB_LICENSE_FILE\"] = \"/Users/ugomunzi/gurobi/licenses/gurobi.lic\"\n",
    "    print(\"Gurobi license path set for Ugo's MacBook Pro.\")\n",
    "else:\n",
    "    print(\"Not Ugo's MacBook Pro, using default or no specific license settings.\")"
   ]
  },
  {
   "cell_type": "markdown",
   "metadata": {},
   "source": [
    "Define model parametres"
   ]
  },
  {
   "cell_type": "code",
   "execution_count": 17,
   "metadata": {},
   "outputs": [],
   "source": [
    "## MODEL PARAMETERS ##\n",
    "W_T = 1500 #empty weight truck [kg]\n",
    "Q_T = 1000 #load capacity of trucks [kg]\n",
    "W_D = 25 #empty weight drone [kg]\n",
    "Q_D = 5 #load capacity of drones [kg]\n",
    "C_T = 25 #travel cost of trucks per unit distance [monetary unit/km]\n",
    "C_D = 1 #travel cost of drones per unit distance [monetary unit/km]\n",
    "C_B = 500 #basis cost of using a truck equipped with a drone [monetary unit]\n",
    "E = 0.5 #maximum endurance of empty drones [hours]\n",
    "S_T = 60 #average travel speed of the trucks [km/h]\n",
    "S_D = 65 #average travel speed of the drones [km/h]"
   ]
  },
  {
   "cell_type": "markdown",
   "metadata": {},
   "source": [
    "Define Big M constant"
   ]
  },
  {
   "cell_type": "code",
   "execution_count": 18,
   "metadata": {},
   "outputs": [],
   "source": [
    "M = 500 #big M constant for big M method"
   ]
  },
  {
   "cell_type": "markdown",
   "metadata": {},
   "source": [
    "Load Dataset using load_dataset.py"
   ]
  },
  {
   "cell_type": "code",
   "execution_count": 19,
   "metadata": {},
   "outputs": [],
   "source": [
    "## LOAD DATASET ##\n",
    "current_dir = os.getcwd()\n",
    "# Select which data folder to use\n",
    "data_subfolder = '0.3'\n",
    "data_subfoldercopy = '0.3_copy'\n",
    "data_num_nodes = '40'\n",
    "data_area = '20'\n",
    "\n",
    "data_file_name = f'{data_num_nodes}_{data_area}_{data_subfoldercopy}'\n",
    "dataset_path = f'dataset/{data_subfolder}/{data_file_name}.txt'\n",
    "output_file_path = os.path.join(current_dir, data_file_name + '_solution.sol')#used to save solution file\n",
    "\n",
    "dataset = Dataset(dataset_path)\n",
    "\n"
   ]
  },
  {
   "cell_type": "markdown",
   "metadata": {},
   "source": [
    "Pre-processing"
   ]
  },
  {
   "cell_type": "code",
   "execution_count": 20,
   "metadata": {},
   "outputs": [],
   "source": [
    "## FUNCTIONS ##\n",
    "def get_manhattan_distance(data):\n",
    "    \"\"\"\n",
    "    Returns a dictionary with manhattan distances between all nodes in dataset\n",
    "    \"\"\"\n",
    "    distance_dict = {}\n",
    "    for node1 in data.keys():\n",
    "        for node2 in data.keys():\n",
    "            distance_dict[node1, node2] = distance.cityblock([data[node1]['X'], data[node1]['Y']], [data[node2]['X'], data[node2]['Y']])\n",
    "    return distance_dict\n",
    "\n",
    "def get_time_dict(data, S_T, distance_dict):\n",
    "    \"\"\"\n",
    "    Returns a dictionary with travel times between all nodes in dataset\n",
    "    \"\"\"\n",
    "    time_dict = {}\n",
    "    for node1 in data.keys():\n",
    "        for node2 in data.keys():\n",
    "            time_dict[node1, node2] = distance_dict[node1, node2] / S_T\n",
    "    return time_dict\n",
    "\n",
    "\n",
    "num_trucks = 2\n",
    "distance_dict = get_manhattan_distance(dataset.data)\n",
    "time_dict = get_time_dict(dataset.data, S_T, distance_dict)\n",
    "\n",
    "#definitions of N_0, N and N_plus follow from paper\n",
    "N = list(dataset.data.keys()) #set of nodes with depot at start\n",
    "N_customers = N.copy()\n",
    "N_customers.remove('D0')\n",
    "V = [f'V{i}' for i in range(1, num_trucks+1)] #set of trucks"
   ]
  },
  {
   "cell_type": "markdown",
   "metadata": {},
   "source": [
    "Define the model"
   ]
  },
  {
   "cell_type": "code",
   "execution_count": 21,
   "metadata": {},
   "outputs": [],
   "source": [
    "# Define your data here\n",
    "# Assume distance_dict, C_T, C_B, N, V, N_customers, time_dict, M, Q_T are all defined as per your problem context\n",
    "\n",
    "# Create a new model\n",
    "model = Model(\"Truck_Routing\")\n",
    "\n",
    "# Define decision variables\n",
    "x = model.addVars(V, [(i, j) for i in N for j in N if i != j], lb=0, ub=1, vtype=GRB.BINARY, name='x')\n",
    "y = model.addVars(V, lb=0, ub=1, vtype=GRB.BINARY, name='y')\n",
    "t = model.addVars(V, N, lb=0, vtype=GRB.CONTINUOUS, name='t')\n",
    "\n",
    "# Objective function (minimize cost both due to transportation and base cost of using truck if active)\n",
    "cost_obj = quicksum(C_T * distance_dict[i,j] * x[v,i,j] for i in N for j in N if i != j for v in V) + quicksum(C_B * y[v] for v in V)\n",
    "model.setObjective(cost_obj, GRB.MINIMIZE)\n",
    "\n",
    "model.update()"
   ]
  },
  {
   "cell_type": "markdown",
   "metadata": {},
   "source": [
    "Constraint 1: Each customer is visited by exactly one truck"
   ]
  },
  {
   "cell_type": "code",
   "execution_count": 22,
   "metadata": {},
   "outputs": [],
   "source": [
    "# Each customer is visited by exactly one truck\n",
    "constraints = {}\n",
    "# Loop over each customer\n",
    "for customer in N_customers:\n",
    "    # Initialize the sum for the current customer\n",
    "    sum_for_current_customer = 0\n",
    "\n",
    "    # Loop over each vehicle\n",
    "    for vehicle in V:\n",
    "        # Loop over each node\n",
    "        for node in N:\n",
    "            # Skip if customer is equal to node\n",
    "            if customer != node:\n",
    "                # Add the variable to the sum\n",
    "                sum_for_current_customer += x[vehicle, node, customer]\n",
    "\n",
    "    # The sum for the current customer must be equal to 1\n",
    "    constraints[node] = sum_for_current_customer == 1\n",
    "\n",
    "    # Add the constraints to the model\n",
    "    model.addConstr(constraints[node], name='Each_customer_visited_once')"
   ]
  },
  {
   "cell_type": "markdown",
   "metadata": {},
   "source": [
    "Constraint 2: Each depot must be visited exactly once"
   ]
  },
  {
   "cell_type": "code",
   "execution_count": 23,
   "metadata": {},
   "outputs": [],
   "source": [
    "# Each truck must leave the depot\n",
    "# y - active\n",
    "# 'D0' - depot\n",
    "# Loop over each vehicle\n",
    "for vehicle in V:\n",
    "    # Initialize the sum for the current vehicle\n",
    "    sum_for_current_vehicle = quicksum(x[vehicle, 'D0', customer] for customer in N_customers)\n",
    "    \n",
    "    #### THE ACTIVE PART IS WRONG, NEED TO FIX THIS !!!\n",
    "    # Add the constraint to the model\n",
    "    model.addConstr(sum_for_current_vehicle == 1, name=f'Truck_leaves_depot_{vehicle}')\n",
    "\n",
    "    # Add the constraint to the model\n",
    "    #model.addGenConstrIndicator(y[vehicle], 1, sum_for_current_vehicle == 1, name=f'Truck_leaves_depot_if_active_{vehicle}')\n",
    "\n"
   ]
  },
  {
   "cell_type": "markdown",
   "metadata": {},
   "source": [
    "Constraint 3: Each vehicle arrives at depot if active"
   ]
  },
  {
   "cell_type": "code",
   "execution_count": 24,
   "metadata": {},
   "outputs": [],
   "source": [
    "\n",
    "# Each truck must return to the depot\n",
    "# Loop over each vehicle\n",
    "for vehicle in V:\n",
    "    # Initialize the sum for the current vehicle\n",
    "    sum_for_current_vehicle = quicksum(x[vehicle, customer, 'D0'] for customer in N_customers)\n",
    "    \n",
    "    #### THE ACTIVE PART IS WRONG, NEED TO FIX THIS !!!\n",
    "    # Add the constraint to the model\n",
    "    model.addConstr(sum_for_current_vehicle == 1, name=f'Truck_leaves_depot_{vehicle}')\n",
    "\n",
    "    # Add the constraint to the model\n",
    "    #model.addGenConstrIndicator(y[vehicle], 1, sum_for_current_vehicle == 1, name=f'Truck_leaves_depot_if_active_{vehicle}')\n"
   ]
  },
  {
   "cell_type": "markdown",
   "metadata": {},
   "source": [
    "Constraint 4: If a vehicle arrives at a customer node it must also leave"
   ]
  },
  {
   "cell_type": "code",
   "execution_count": 25,
   "metadata": {},
   "outputs": [],
   "source": [
    "# If a truck visits a customer, it must leave the customer\n",
    "for vehicle in V:\n",
    "    for node in N_customers:\n",
    "        model.addConstr(\n",
    "            quicksum(x[vehicle, node, j] for j in N if j != node) == \n",
    "            quicksum(x[vehicle, j, node] for j in N if j != node),\n",
    "            name=f'Flow_balance_{vehicle}_{node}'\n",
    "        )\n"
   ]
  },
  {
   "cell_type": "markdown",
   "metadata": {},
   "source": [
    "Constraint 5: Time at a node is equal or larger than time at previous nodes plus travel time (or irrelevant). Eliminates need for subtour constraints."
   ]
  },
  {
   "cell_type": "code",
   "execution_count": 26,
   "metadata": {},
   "outputs": [
    {
     "data": {
      "text/plain": [
       "\"\\n# Define a large constant M for the big-M method\\nM_subtour = 3600  # Make sure M is larger than the maximum possible travel time\\n\\n# Add time constraints for all vehicles, nodes, and customers\\nfor vehicle in V:\\n    for node in N:\\n        for customer in N:\\n            if node != customer:\\n                model.addConstr(\\n                    t[vehicle, customer] >= t[vehicle, node] + time_dict[(node, customer)] - M_subtour * (1 - x[vehicle, node, customer]),\\n                    name=f'Time_{vehicle}_{node}_{customer}'\\n                )\\n\""
      ]
     },
     "execution_count": 26,
     "metadata": {},
     "output_type": "execute_result"
    }
   ],
   "source": [
    "'''\n",
    "Constraint 5: Time at a node is equal or larger than time at previous nodes plus travel time (or irrelevant). Eliminates need for subtour constraints.\n",
    "'''\n",
    "'''\n",
    "# Define a large constant M for the big-M method\n",
    "M_subtour = 3600  # Make sure M is larger than the maximum possible travel time\n",
    "\n",
    "# Add time constraints for all vehicles, nodes, and customers\n",
    "for vehicle in V:\n",
    "    for node in N:\n",
    "        for customer in N:\n",
    "            if node != customer:\n",
    "                model.addConstr(\n",
    "                    t[vehicle, customer] >= t[vehicle, node] + time_dict[(node, customer)] - M_subtour * (1 - x[vehicle, node, customer]),\n",
    "                    name=f'Time_{vehicle}_{node}_{customer}'\n",
    "                )\n",
    "'''"
   ]
  },
  {
   "cell_type": "markdown",
   "metadata": {},
   "source": [
    "Constraint 6: Payloads"
   ]
  },
  {
   "cell_type": "code",
   "execution_count": 27,
   "metadata": {},
   "outputs": [],
   "source": [
    "# The total payload delivered to the customer must be less or equal to the truck load capacity Q_T\n",
    "for v in V:\n",
    "    model.addConstr(quicksum(dataset.data[i]['Demand'] * x[v, i, j] for i in N for j in N if i != j) <= Q_T, \n",
    "                    name=f'Payload_{v}')"
   ]
  },
  {
   "cell_type": "markdown",
   "metadata": {},
   "source": [
    "Update, tune and run the model"
   ]
  },
  {
   "cell_type": "code",
   "execution_count": 28,
   "metadata": {},
   "outputs": [
    {
     "name": "stdout",
     "output_type": "stream",
     "text": [
      "Warning: linear constraint 0 and linear constraint 1 have the same name \"Each_customer_visited_once\"\n",
      "Gurobi Optimizer version 11.0.2 build v11.0.2rc0 (win64 - Windows 11.0 (22631.2))\n",
      "\n",
      "CPU model: Intel(R) Core(TM) i7-9750H CPU @ 2.60GHz, instruction set [SSE2|AVX|AVX2]\n",
      "Thread count: 6 physical cores, 12 logical processors, using up to 12 threads\n",
      "\n",
      "Start tuning.\n",
      "\n",
      "Solving model using baseline parameter set with TimeLimit=3600s\n",
      "\n",
      "-------------------------------------------------------------------------------\n",
      "\n",
      "Testing candidate parameter set 1...\n",
      "\n",
      "\tDefault parameters\n",
      "\n",
      "Solving Truck_Routing with random seed #1 ... MIP gap 0.01%\n",
      "Solving Truck_Routing with random seed #2 ... MIP gap 0.01%\n",
      "Solving Truck_Routing with random seed #3 ... MIP gap 0.01%\n",
      "\n",
      "Summary candidate parameter set 1 \n",
      " # Name              0        1        2      Avg  Std Dev      Max\n",
      " 0 Truck_Rou     0.01s    0.01s    0.01s    0.01s     0.00    0.01s\n",
      "\n",
      "Setting total tuning time limit to 0s\n",
      "(set the TuneTimeLimit parameter to choose a different value)\n",
      "\n",
      "-------------------------------------------------------------------------------\n",
      "Begin tuning (baseline mean runtime 0.01s)...\n",
      "-------------------------------------------------------------------------------\n",
      "\n",
      "Testing candidate parameter set 2...\n",
      "\n",
      "\tHeuristics 0\n",
      "\n",
      "Solving Truck_Routing with random seed #1 ... runtime 0.01s\n",
      "Solving Truck_Routing with random seed #2 ... runtime 0.01s\n",
      "Solving Truck_Routing with random seed #3 ... runtime 0.01s\n",
      "\n",
      "Summary candidate parameter set 2 \n",
      " # Name              0        1        2      Avg  Std Dev      Max\n",
      " 0 Truck_Rou     0.01s    0.01s    0.01s    0.01s     0.00    0.01s\n",
      "\n",
      "Progress so far:\n",
      "  baseline: mean runtime 0.01s (parameter set 1, 0 non-defaults)\n",
      "  best:     mean runtime 0.01s (parameter set 1, 0 non-defaults)\n",
      "Total elapsed tuning time 0s (0s remaining, 1 running jobs)\n",
      "\n",
      "-------------------------------------------------------------------------------\n",
      "\n",
      "Testing candidate parameter set 3...\n",
      "\n",
      "\tMIPFocus 2\n",
      "\n",
      "Solving Truck_Routing with random seed #1 ... runtime 0.01s\n",
      "Solving Truck_Routing with random seed #2 ... runtime 0.01s\n",
      "Solving Truck_Routing with random seed #3 ... runtime 0.01s\n",
      "\n",
      "Summary candidate parameter set 3 \n",
      " # Name              0        1        2      Avg  Std Dev      Max\n",
      " 0 Truck_Rou     0.01s    0.01s    0.01s    0.01s     0.00    0.01s\n",
      "\n",
      "Progress so far:\n",
      "  baseline: mean runtime 0.01s (parameter set 1, 0 non-defaults)\n",
      "  best:     mean runtime 0.01s (parameter set 1, 0 non-defaults)\n",
      "Total elapsed tuning time 0s (0s remaining, 1 running jobs)\n",
      "\n",
      "-------------------------------------------------------------------------------\n",
      "\n",
      "Testing candidate parameter set 4...\n",
      "\n",
      "\tDegenMoves 0\n",
      "\tMIPFocus 2\n",
      "\n",
      "Solving Truck_Routing with random seed #1 ... runtime 0.01s\n",
      "Solving Truck_Routing with random seed #2 ... runtime 0.01s\n",
      "Solving Truck_Routing with random seed #3 ... runtime 0.01s\n",
      "\n",
      "Summary candidate parameter set 4 \n",
      " # Name              0        1        2      Avg  Std Dev      Max\n",
      " 0 Truck_Rou     0.01s    0.01s    0.01s    0.01s     0.00    0.01s\n",
      "\n",
      "Progress so far:\n",
      "  baseline: mean runtime 0.01s (parameter set 1, 0 non-defaults)\n",
      "  best:     mean runtime 0.01s (parameter set 1, 0 non-defaults)\n",
      "Total elapsed tuning time 0s (0s remaining, 1 running jobs)\n",
      "\n",
      "\n",
      "\n",
      "Tune time limit reached\n",
      "\n",
      "-------------------------------------------------------------------------------\n",
      "\n",
      "Tested 4 parameter sets in 0.24s\n",
      "Total optimization run time for up to 1 concurrent runs: 0.12s\n",
      "\n",
      "Baseline parameter set: mean runtime 0.01s\n",
      "\n",
      "\tDefault parameters\n",
      "\n",
      " # Name              0        1        2      Avg  Std Dev      Max\n",
      " 0 Truck_Rou     0.01s    0.01s    0.01s    0.01s     0.00    0.01s\n",
      "\n",
      "Unable to improve on baseline parameter set.\n",
      "\n",
      "Gurobi Optimizer version 11.0.2 build v11.0.2rc0 (win64 - Windows 11.0 (22631.2))\n",
      "\n",
      "CPU model: Intel(R) Core(TM) i7-9750H CPU @ 2.60GHz, instruction set [SSE2|AVX|AVX2]\n",
      "Thread count: 6 physical cores, 12 logical processors, using up to 12 threads\n",
      "\n",
      "Academic license 2518537 - for non-commercial use only - registered to j.___@student.tudelft.nl\n",
      "Optimize a model with 36 rows, 244 columns and 840 nonzeros\n",
      "Model fingerprint: 0x5a7734c7\n",
      "Variable types: 22 continuous, 222 integer (222 binary)\n",
      "Coefficient statistics:\n",
      "  Matrix range     [1e+00, 5e+00]\n",
      "  Objective range  [5e+01, 8e+02]\n",
      "  Bounds range     [1e+00, 1e+00]\n",
      "  RHS range        [1e+00, 1e+03]\n",
      "Found heuristic solution: objective 3595.0000000\n",
      "Presolve removed 2 rows and 24 columns\n",
      "Presolve time: 0.00s\n",
      "Presolved: 34 rows, 220 columns, 640 nonzeros\n",
      "Variable types: 0 continuous, 220 integer (220 binary)\n",
      "\n",
      "Root relaxation: objective 2.035000e+03, 27 iterations, 0.00 seconds (0.00 work units)\n",
      "\n",
      "    Nodes    |    Current Node    |     Objective Bounds      |     Work\n",
      " Expl Unexpl |  Obj  Depth IntInf | Incumbent    BestBd   Gap | It/Node Time\n",
      "\n",
      "*    0     0               0    2035.0000000 2035.00000  0.00%     -    0s\n",
      "\n",
      "Explored 1 nodes (27 simplex iterations) in 0.04 seconds (0.00 work units)\n",
      "Thread count was 12 (of 12 available processors)\n",
      "\n",
      "Solution count 2: 2035 3595 \n",
      "\n",
      "Optimal solution found (tolerance 1.00e-04)\n",
      "Best objective 2.035000000000e+03, best bound 2.035000000000e+03, gap 0.0000%\n",
      "Optimal objective: 2035\n",
      "x[V1,D0,C9]: 1\n",
      "x[V1,C1,C5]: 1\n",
      "x[V1,C2,C3]: 1\n",
      "x[V1,C3,C2]: 1\n",
      "x[V1,C5,C1]: 1\n",
      "x[V1,C8,C10]: 1\n",
      "x[V1,C9,D0]: 1\n",
      "x[V1,C10,C8]: 1\n",
      "x[V2,D0,C6]: 1\n",
      "x[V2,C4,C7]: 1\n",
      "x[V2,C6,D0]: 1\n",
      "x[V2,C7,C4]: 1\n"
     ]
    }
   ],
   "source": [
    "# Update the model to integrate new variables\n",
    "model.update()\n",
    "\n",
    "# Write model to a file\n",
    "model.write('TruckonlySimple.lp')\n",
    "\n",
    "# Tune solver parameters\n",
    "model.tune()\n",
    "\n",
    "# Optimize the model\n",
    "model.optimize()\n",
    "\n",
    "# Print the results\n",
    "if model.status == GRB.OPTIMAL:\n",
    "    print('Optimal objective: %g' % model.objVal)\n",
    "    for v in model.getVars():\n",
    "        if v.x > 0:\n",
    "            print('%s: %g' % (v.varName, v.x))\n",
    "else:\n",
    "    print('Optimization was stopped with status %d' % model.status)"
   ]
  },
  {
   "cell_type": "markdown",
   "metadata": {},
   "source": [
    "Post-processing"
   ]
  },
  {
   "cell_type": "code",
   "execution_count": 29,
   "metadata": {},
   "outputs": [
    {
     "name": "stdout",
     "output_type": "stream",
     "text": [
      "Vehicle V1:\n",
      "D0 -> C9\n",
      "C1 -> C5\n",
      "C2 -> C3\n",
      "C3 -> C2\n",
      "C5 -> C1\n",
      "C8 -> C10\n",
      "C9 -> D0\n",
      "C10 -> C8\n",
      "\n",
      "Total payload delivered by vehicle V1: 24.119999999999997\n",
      "\n",
      "Vehicle V2:\n",
      "D0 -> C6\n",
      "C4 -> C7\n",
      "C6 -> D0\n",
      "C7 -> C4\n",
      "\n",
      "Total payload delivered by vehicle V2: 11.23\n",
      "\n"
     ]
    }
   ],
   "source": [
    "# Extract and store the solution\n",
    "solution = {var.varName: var.x for var in model.getVars()}\n",
    "\n",
    "# Print all routes for each vehicle\n",
    "for vehicle in V:\n",
    "    print(f'Vehicle {vehicle}:')\n",
    "    total_payload = 0\n",
    "    for node_from in N:\n",
    "        for node_to in N:\n",
    "            if node_from != node_to:\n",
    "                var_name = f'x[{vehicle},{node_from},{node_to}]'\n",
    "                if var_name in solution and solution[var_name] >= 0.99:\n",
    "                    print(f'{node_from} -> {node_to}')\n",
    "                    total_payload += dataset.data[node_from]['Demand']\n",
    "    print()\n",
    "    print(f'Total payload delivered by vehicle {vehicle}: {total_payload}\\n')\n"
   ]
  },
  {
   "cell_type": "markdown",
   "metadata": {},
   "source": [
    "Old post-processing"
   ]
  },
  {
   "cell_type": "code",
   "execution_count": 30,
   "metadata": {},
   "outputs": [
    {
     "name": "stdout",
     "output_type": "stream",
     "text": [
      "['x[V1,D0,C9]', 'x[V1,C1,C5]', 'x[V1,C2,C3]', 'x[V1,C3,C2]', 'x[V1,C5,C1]', 'x[V1,C8,C10]', 'x[V1,C9,D0]', 'x[V1,C10,C8]', 'x[V2,D0,C6]', 'x[V2,C4,C7]', 'x[V2,C6,D0]', 'x[V2,C7,C4]']\n",
      "{}\n"
     ]
    }
   ],
   "source": [
    "#exctract active vehicles\n",
    "active_vehicles = [v for v in V if solution[f'y[{v}]'] >= 0.99]\n",
    "#extract routes\n",
    "active_routes = {}\n",
    "for v in active_vehicles:\n",
    "    active_routes[v] = [i for i in N if solution[f'x[{v},{i},D0]'] >= 0.99] #start with depot\n",
    "    while active_routes[v][-1] != 'D0':\n",
    "        for j in N:\n",
    "            if solution[f'x[{v},{active_routes[v][-1]},{j}]'] >= 0.99:\n",
    "                active_routes[v].append(j)\n",
    "                break\n",
    "\n",
    "#retrieve timestamps of customer visits\n",
    "timestamps = {}\n",
    "for v in active_vehicles:\n",
    "    timestamps[v] = {}\n",
    "    for i in N_customers:\n",
    "        timestamps[v][i] = solution[f't[{v},{i}]']\n",
    "\n",
    "#print all solution variables which have value of 1\n",
    "print([var for var in solution.keys() if solution[var] >=0.9])\n",
    "print(active_routes)"
   ]
  }
 ],
 "metadata": {
  "kernelspec": {
   "display_name": "Python 3",
   "language": "python",
   "name": "python3"
  },
  "language_info": {
   "codemirror_mode": {
    "name": "ipython",
    "version": 3
   },
   "file_extension": ".py",
   "mimetype": "text/x-python",
   "name": "python",
   "nbconvert_exporter": "python",
   "pygments_lexer": "ipython3",
   "version": "3.9.19"
  }
 },
 "nbformat": 4,
 "nbformat_minor": 2
}
