{
 "cells": [
  {
   "cell_type": "markdown",
   "metadata": {},
   "source": [
    "# Trucks only problem #"
   ]
  },
  {
   "cell_type": "markdown",
   "metadata": {},
   "source": [
    "Install necessary packages"
   ]
  },
  {
   "cell_type": "code",
   "execution_count": 30,
   "metadata": {},
   "outputs": [],
   "source": [
    "from gurobipy import Model,GRB,LinExpr,quicksum\n",
    "import numpy as np\n",
    "from scipy.spatial import distance\n",
    "import os\n",
    "import socket\n",
    "from load_dataset import Dataset"
   ]
  },
  {
   "cell_type": "markdown",
   "metadata": {},
   "source": [
    "For Ugo's laptop"
   ]
  },
  {
   "cell_type": "code",
   "execution_count": 31,
   "metadata": {},
   "outputs": [
    {
     "name": "stdout",
     "output_type": "stream",
     "text": [
      "Not Ugo's MacBook Pro, using default or no specific license settings.\n"
     ]
    }
   ],
   "source": [
    "# Define the node name or another identifier of your laptop\n",
    "my_laptop_node = 'Ugos-MacBook-Pro.local'\n",
    "\n",
    "# Get the current system's node name using socket.gethostname()\n",
    "current_node = socket.gethostname()\n",
    "\n",
    "if current_node == my_laptop_node:\n",
    "    # Set the environment variable for Gurobi license file\n",
    "    os.environ[\"GRB_LICENSE_FILE\"] = \"/Users/ugomunzi/gurobi/licenses/gurobi.lic\"\n",
    "    print(\"Gurobi license path set for Ugo's MacBook Pro.\")\n",
    "else:\n",
    "    print(\"Not Ugo's MacBook Pro, using default or no specific license settings.\")"
   ]
  },
  {
   "cell_type": "markdown",
   "metadata": {},
   "source": [
    "Define model parametres"
   ]
  },
  {
   "cell_type": "code",
   "execution_count": 32,
   "metadata": {},
   "outputs": [],
   "source": [
    "## MODEL PARAMETERS ##\n",
    "W_T = 1500 #empty weight truck [kg]\n",
    "Q_T = 1000 #load capacity of trucks [kg]\n",
    "#W_D = 25 #empty weight drone [kg]\n",
    "#Q_D = 5 #load capacity of drones [kg]\n",
    "C_T = 25 #travel cost of trucks per unit distance [monetary unit/km]\n",
    "#C_D = 1 #travel cost of drones per unit distance [monetary unit/km]\n",
    "C_B = 500 #basis cost of using a truck equipped with a drone [monetary unit]\n",
    "#E = 0.5 #maximum endurance of empty drones [hours]\n",
    "S_T = 60 #average travel speed of the trucks [km/h]\n",
    "#S_D = 65 #average travel speed of the drones [km/h]"
   ]
  },
  {
   "cell_type": "markdown",
   "metadata": {},
   "source": [
    "Define Big M constant"
   ]
  },
  {
   "cell_type": "code",
   "execution_count": 33,
   "metadata": {},
   "outputs": [],
   "source": [
    "M = 500 #big M constant for big M method"
   ]
  },
  {
   "cell_type": "markdown",
   "metadata": {},
   "source": [
    "Load Dataset using load_dataset.py"
   ]
  },
  {
   "cell_type": "code",
   "execution_count": 34,
   "metadata": {},
   "outputs": [],
   "source": [
    "## LOAD DATASET ##\n",
    "current_dir = os.getcwd()\n",
    "# Select which data folder to use\n",
    "data_subfolder = '0.3'\n",
    "data_subfoldercopy = '0.3_copy'\n",
    "data_num_nodes = '40'\n",
    "data_area = '20'\n",
    "\n",
    "data_file_name = f'{data_num_nodes}_{data_area}_{data_subfoldercopy}'\n",
    "dataset_path = f'dataset/{data_subfolder}/{data_file_name}.txt'\n",
    "output_file_path = os.path.join(current_dir, data_file_name + '_solution.sol')#used to save solution file\n",
    "\n",
    "dataset = Dataset(dataset_path)\n",
    "\n"
   ]
  },
  {
   "cell_type": "markdown",
   "metadata": {},
   "source": [
    "Pre-processing"
   ]
  },
  {
   "cell_type": "code",
   "execution_count": 35,
   "metadata": {},
   "outputs": [],
   "source": [
    "## FUNCTIONS ##\n",
    "def get_manhattan_distance(data):\n",
    "    \"\"\"\n",
    "    Returns a dictionary with manhattan distances between all nodes in dataset\n",
    "    \"\"\"\n",
    "    distance_dict = {}\n",
    "    for node1 in data.keys():\n",
    "        for node2 in data.keys():\n",
    "            distance_dict[node1, node2] = distance.cityblock([data[node1]['X'], data[node1]['Y']], [data[node2]['X'], data[node2]['Y']])\n",
    "    return distance_dict\n",
    "\n",
    "def get_time_dict(data, S_T, distance_dict):\n",
    "    \"\"\"\n",
    "    Returns a dictionary with travel times between all nodes in dataset\n",
    "    \"\"\"\n",
    "    time_dict = {}\n",
    "    for node1 in data.keys():\n",
    "        for node2 in data.keys():\n",
    "            time_dict[node1, node2] = distance_dict[node1, node2] / S_T\n",
    "    return time_dict\n",
    "\n",
    "\n",
    "num_trucks = 2\n",
    "truck_distance_dict = get_manhattan_distance(dataset.data)\n",
    "truck_time_dict = get_time_dict(dataset.data, S_T, truck_distance_dict)\n",
    "\n",
    "#definitions of N_0, N and N_plus follow from paper\n",
    "N = list(dataset.data.keys()) #set of nodes with depot at start\n",
    "N_customers = N.copy()\n",
    "N_customers.remove('D0')\n",
    "Tr = [f'Tr{i}' for i in range(1, num_trucks+1)] #set of trucks"
   ]
  },
  {
   "cell_type": "markdown",
   "metadata": {},
   "source": [
    "Define the model"
   ]
  },
  {
   "cell_type": "code",
   "execution_count": 36,
   "metadata": {},
   "outputs": [],
   "source": [
    "# Define your data here\n",
    "# Assume distance_dict, C_T, C_B, N, V, N_customers, time_dict, M, Q_T are all defined as per your problem context\n",
    "\n",
    "# Create a new model\n",
    "model = Model(\"Truck_Routing\")\n",
    "\n",
    "# Define decision variables\n",
    "x = model.addVars(Tr, [(i, j) for i in N for j in N if i != j], lb=0, ub=1, vtype=GRB.BINARY, name='x')\n",
    "y = model.addVars(Tr, lb=0, ub=1, vtype=GRB.BINARY, name='y')\n",
    "t = model.addVars(Tr, N, lb=0, vtype=GRB.CONTINUOUS, name='t')\n",
    "t_max = model.addVar(lb=0, vtype=GRB.CONTINUOUS, name='t_max') #used for the minimising the max delivery time (find max time of all trucks, not each individual truck)\n",
    "\n",
    "# Objective 1: Cost both due to transportation and base cost of using truck if active)\n",
    "cost_obj = quicksum(C_T * truck_distance_dict[i,j] * x[truck,i,j] for i in N for j in N if i != j for truck in Tr) + \\\n",
    "           quicksum(C_B * y[truck] for truck in Tr)\n",
    "# Objective 2: environmental_obj is distance[i,j] * Weight* x[v,i,j] for all v,i,j (i.e. energy consumption)\n",
    "environmental_obj = quicksum(truck_distance_dict[i,j] * W_T * x[truck,i,j] for i in N for j in N if i != j for truck in Tr)\n",
    "# Objective 3: minimise max delivery time for each truck\n",
    "time_obj = t_max\n",
    "\n",
    "obj = cost_obj + environmental_obj + time_obj\n",
    "model.setObjective(obj, GRB.MINIMIZE)\n",
    "\n",
    "model.update()"
   ]
  },
  {
   "cell_type": "markdown",
   "metadata": {},
   "source": [
    "Constraint 1: Each customer is visited by exactly one truck"
   ]
  },
  {
   "cell_type": "code",
   "execution_count": 37,
   "metadata": {},
   "outputs": [],
   "source": [
    "# Constraint 1: Each customer is visited by exactly one truck\n",
    "\n",
    "# Each customer is visited by exactly one vehicle\n",
    "constraints = {}\n",
    "# Loop over each customer\n",
    "for customer in N_customers:\n",
    "    # Initialize the sum for the current customer\n",
    "    sum_for_current_customer = 0\n",
    "\n",
    "    # Loop over each truck\n",
    "    for truck in Tr:\n",
    "        # Loop over each node\n",
    "        for node in N:\n",
    "            # Skip if customer is equal to node\n",
    "            if customer != node:\n",
    "                # Add the variable to the sum\n",
    "                sum_for_current_customer += x[truck, node, customer]\n",
    "\n",
    "    # The sum for the current customer must be equal to 1\n",
    "    constraints[customer] = model.addConstr(sum_for_current_customer == 1, name=f'Customer_{customer}_visited_once')\n"
   ]
  },
  {
   "cell_type": "markdown",
   "metadata": {},
   "source": [
    "Constraint 2: Each depot must be visited exactly once"
   ]
  },
  {
   "cell_type": "code",
   "execution_count": 38,
   "metadata": {},
   "outputs": [],
   "source": [
    "# Constraint 2: Each depot must be visited exactly once\n",
    "\n",
    "# Each truck must leave the depot\n",
    "# y - active\n",
    "# 'D0' - depot\n",
    "# Loop over each truck\n",
    "for truck in Tr:\n",
    "    sum_for_current_vehicle = quicksum(x[truck, 'D0', customer] for customer in N_customers)\n",
    "    model.addConstr(sum_for_current_vehicle == y[truck], name=f'Truck_leaves_depot_{truck}')\n"
   ]
  },
  {
   "cell_type": "markdown",
   "metadata": {},
   "source": [
    "Constraint 3: Each vehicle arrives at depot if active"
   ]
  },
  {
   "cell_type": "code",
   "execution_count": 39,
   "metadata": {},
   "outputs": [],
   "source": [
    "\n",
    "# Constraint 3: Each truck arrives at depot if active : TRUCKS\n",
    "\n",
    "# Each truck must return to the depot\n",
    "# Loop over each truck\n",
    "for truck in Tr:\n",
    "    sum_for_current_vehicle = quicksum(x[truck, customer, 'D0'] for customer in N_customers)\n",
    "    model.addConstr(sum_for_current_vehicle == y[truck], name=f'Truck_returns_to_depot_{truck}')\n"
   ]
  },
  {
   "cell_type": "markdown",
   "metadata": {},
   "source": [
    "Constraint 4: If a vehicle arrives at a customer node it must also leave"
   ]
  },
  {
   "cell_type": "code",
   "execution_count": 40,
   "metadata": {},
   "outputs": [],
   "source": [
    "# Constraint 4: If a truck arrives at a customer node it must also leave\n",
    "\n",
    "# If a truck visits a customer, it must leave the customer\n",
    "for truck in Tr:\n",
    "    for node in N_customers:\n",
    "        model.addConstr(\n",
    "            quicksum(x[truck, node, j] for j in N if j != node) == \n",
    "            quicksum(x[truck, j, node] for j in N if j != node),\n",
    "            name=f'Flow_balance_{truck}_{node}'\n",
    "        )\n"
   ]
  },
  {
   "cell_type": "markdown",
   "metadata": {},
   "source": [
    "Constraint 5: Time at a node is equal or larger than time at previous nodes plus travel time (or irrelevant). Eliminates need for subtour constraints."
   ]
  },
  {
   "cell_type": "code",
   "execution_count": 41,
   "metadata": {},
   "outputs": [],
   "source": [
    "'''\n",
    "#Constraint 5: Time at a node is equal or larger than time at previous nodes plus travel time (or irrelevant). Eliminates need for subtour constraints.\n",
    "# Define a large constant M for the big-M method : TRUCKS\n",
    "'''\n",
    "M_subtour = 60000000  # Make sure M is larger than the maximum possible travel time\n",
    "\n",
    "# Add time constraints for all vehicles, nodes, and customers\n",
    "for truck in Tr:\n",
    "    for node in N:\n",
    "        for customer in N:\n",
    "            if node != customer:\n",
    "                model.addConstr(\n",
    "                    t[truck, customer] >= t[truck, node] + truck_time_dict[(node, customer)] - M_subtour * (1 - x[truck, node, customer]),\n",
    "                    name=f'Time_{truck}_{node}_{customer}'\n",
    "                )"
   ]
  },
  {
   "cell_type": "markdown",
   "metadata": {},
   "source": [
    "Constraint 6: Payloads"
   ]
  },
  {
   "cell_type": "code",
   "execution_count": 42,
   "metadata": {},
   "outputs": [],
   "source": [
    "# Constraint 6: Payloads : TRUCKS\n",
    "# The total payload delivered to the customer must be less or equal to the truck load capacity Q_T\n",
    "for truck in Tr:\n",
    "    model.addConstr(quicksum(dataset.data[i]['Demand'] * x[truck, i, j] for i in N for j in N if i != j) <= Q_T, \n",
    "                    name=f'Payload_{truck}')"
   ]
  },
  {
   "cell_type": "markdown",
   "metadata": {},
   "source": [
    "Constraint 7 : link y variable to x variable."
   ]
  },
  {
   "cell_type": "code",
   "execution_count": 43,
   "metadata": {},
   "outputs": [],
   "source": [
    "# Constraint 7: Link y variable to x variable : TRUCKS\n",
    "#if any link in x (for each truck) is active -> y = 1\n",
    "# can do this by checking if each truck leaves the depot (all trucks must leave depot if active)\n",
    "\n",
    "for truck in Tr:\n",
    "    model.addConstr(y[truck] == quicksum(x[truck, 'D0', i] for i in N_customers), name=f'Link_y{truck}_to_x_{truck}')\n"
   ]
  },
  {
   "cell_type": "markdown",
   "metadata": {},
   "source": [
    "Constraint 8: update time variables."
   ]
  },
  {
   "cell_type": "code",
   "execution_count": 44,
   "metadata": {},
   "outputs": [],
   "source": [
    "# Constraint 8: Update time variable : TRUCKS\n",
    "# Loop over each truck\n",
    "for truck in Tr:\n",
    "    # Loop over each customer\n",
    "    for customer in N_customers:\n",
    "        # Initialize the sum for the current customer\n",
    "        sum_for_current_customer = 0\n",
    "\n",
    "        # Loop over each node\n",
    "        for node in N:\n",
    "            # Skip the current customer\n",
    "            if node != customer:\n",
    "                # Add the time at which the truck leaves the node plus the travel time from the node to the customer,\n",
    "                # multiplied by the decision variable indicating whether the truck travels from the node to the customer,\n",
    "                # to the sum for the current customer\n",
    "                sum_for_current_customer += (t[truck, node] + truck_time_dict[(node, customer)]) * x[truck, node, customer]\n",
    "\n",
    "        # Add a constraint to the model that the time at which the truck arrives at the customer is equal to the sum for the current customer\n",
    "        model.addConstr(t[truck, customer] == sum_for_current_customer, name=f'Update_time_{truck}_{customer}')\n"
   ]
  },
  {
   "cell_type": "markdown",
   "metadata": {},
   "source": [
    "Constraint 9: update max delivery time variable."
   ]
  },
  {
   "cell_type": "code",
   "execution_count": 45,
   "metadata": {},
   "outputs": [],
   "source": [
    "\n",
    "# Constraint 9: Update max delivery time variable\n",
    "for truck in Tr:\n",
    "    for customer in N_customers:\n",
    "        # Add a constraint to the model that the maximum delivery time is greater than or equal to the delivery time to the customer for each vehicle\n",
    "        model.addConstr(t_max >= t[truck, customer], name=f'Update_max_delivery_time_{truck}_{customer}')"
   ]
  },
  {
   "cell_type": "markdown",
   "metadata": {},
   "source": [
    "Update, tune and run the model"
   ]
  },
  {
   "cell_type": "code",
   "execution_count": 46,
   "metadata": {},
   "outputs": [
    {
     "name": "stdout",
     "output_type": "stream",
     "text": [
      "Gurobi Optimizer version 11.0.2 build v11.0.2rc0 (win64 - Windows 11.0 (22631.2))\n",
      "\n",
      "CPU model: Intel(R) Core(TM) i7-9750H CPU @ 2.60GHz, instruction set [SSE2|AVX|AVX2]\n",
      "Thread count: 6 physical cores, 12 logical processors, using up to 12 threads\n",
      "\n",
      "Start tuning.\n",
      "\n",
      "Solving model using baseline parameter set with TimeLimit=3600s\n",
      "\n",
      "-------------------------------------------------------------------------------\n",
      "\n",
      "Testing candidate parameter set 1...\n",
      "\n",
      "\tDefault parameters\n",
      "\n",
      "Solving Truck_Routing with random seed #1 ... MIP gap - (infeasible)\n",
      "Solving Truck_Routing with random seed #2 ... MIP gap - (infeasible)\n",
      "Solving Truck_Routing with random seed #3 ... MIP gap - (infeasible)\n",
      "\n",
      "Summary candidate parameter set 1 \n",
      " # Name              0        1        2      Avg  Std Dev      Max\n",
      " 0 Truck_Rou    0.34s#   0.33s#   0.27s#    0.31s     0.03    0.34s\n",
      "\n",
      "Setting total tuning time limit to 9s\n",
      "(set the TuneTimeLimit parameter to choose a different value)\n",
      "\n",
      "-------------------------------------------------------------------------------\n",
      "Begin tuning (baseline mean runtime 0.31s)...\n",
      "-------------------------------------------------------------------------------\n",
      "\n",
      "Testing candidate parameter set 2...\n",
      "\n",
      "\tVarBranch 0\n",
      "\n",
      "Solving Truck_Routing with random seed #1 ... runtime 0.29s (infeasible)\n",
      "Solving Truck_Routing with random seed #2 ... runtime 0.37s (infeasible)\n",
      "Solving Truck_Routing with random seed #3 ... runtime 0.47s (infeasible)\n",
      "\n",
      "Summary candidate parameter set 2 \n",
      " # Name              0        1        2      Avg  Std Dev      Max\n",
      " 0 Truck_Rou    0.29s#   0.37s#   0.47s#    0.38s     0.07    0.47s\n",
      "\n",
      "Progress so far:\n",
      "  baseline: mean runtime 0.31s (parameter set 1, 0 non-defaults)\n",
      "  best:     mean runtime 0.31s (parameter set 1, 0 non-defaults)\n",
      "Total elapsed tuning time 2s (7s remaining, 1 running jobs)\n",
      "\n",
      "-------------------------------------------------------------------------------\n",
      "\n",
      "Testing candidate parameter set 3...\n",
      "\n",
      "\tMIPFocus 3\n",
      "\n",
      "Solving Truck_Routing with random seed #1 ... runtime 0.48s (infeasible)\n",
      "Solving Truck_Routing with random seed #2 ... runtime 0.42s (infeasible)\n",
      "Solving Truck_Routing with random seed #3 ... runtime 0.41s (infeasible)\n",
      "\n",
      "Summary candidate parameter set 3 \n",
      " # Name              0        1        2      Avg  Std Dev      Max\n",
      " 0 Truck_Rou    0.48s#   0.42s#   0.41s#    0.44s     0.03    0.48s\n",
      "\n",
      "Progress so far:\n",
      "  baseline: mean runtime 0.31s (parameter set 1, 0 non-defaults)\n",
      "  best:     mean runtime 0.31s (parameter set 1, 0 non-defaults)\n",
      "Total elapsed tuning time 3s (6s remaining, 1 running jobs)\n",
      "\n",
      "-------------------------------------------------------------------------------\n",
      "\n",
      "Testing candidate parameter set 4...\n",
      "\n",
      "\tMIPFocus 2\n",
      "\n",
      "Solving Truck_Routing with random seed #1 ... runtime 0.35s (infeasible)\n",
      "Solving Truck_Routing with random seed #2 ... runtime 0.31s (infeasible)\n",
      "Solving Truck_Routing with random seed #3 ... runtime 0.34s (infeasible)\n",
      "\n",
      "Summary candidate parameter set 4 \n",
      " # Name              0        1        2      Avg  Std Dev      Max\n",
      " 0 Truck_Rou    0.35s#   0.31s#   0.34s#    0.33s     0.01    0.35s\n",
      "\n",
      "Progress so far:\n",
      "  baseline: mean runtime 0.31s (parameter set 1, 0 non-defaults)\n",
      "  best:     mean runtime 0.31s (parameter set 1, 0 non-defaults)\n",
      "Total elapsed tuning time 5s (5s remaining, 1 running jobs)\n",
      "\n",
      "-------------------------------------------------------------------------------\n",
      "\n",
      "Testing candidate parameter set 5...\n",
      "\n",
      "\tFlowCoverCuts 0\n",
      "\n",
      "Solving Truck_Routing with random seed #1 ... runtime 0.26s (infeasible)\n",
      "Solving Truck_Routing with random seed #2 ... runtime 0.29s (infeasible)\n",
      "Solving Truck_Routing with random seed #3 ... runtime 0.25s (infeasible)\n",
      "\n",
      "Summary candidate parameter set 5 \n",
      " # Name              0        1        2      Avg  Std Dev      Max\n",
      " 0 Truck_Rou    0.26s#   0.29s#   0.25s#    0.27s     0.01    0.29s\n",
      "\n",
      "Improvement found:\n",
      "  baseline: mean runtime 0.31s (parameter set 1, 0 non-defaults)\n",
      "  improved: mean runtime 0.27s (parameter set 5, 1 non-defaults)\n",
      "Total elapsed tuning time 5s (4s remaining, 1 running jobs)\n",
      "\n",
      "-------------------------------------------------------------------------------\n",
      "\n",
      "Testing candidate parameter set 6...\n",
      "\n",
      "\tMIPFocus 2\n",
      "\tFlowCoverCuts 0\n",
      "\n",
      "Solving Truck_Routing with random seed #1 ... runtime 0.32s (infeasible)\n",
      "Solving Truck_Routing with random seed #2 ... runtime 0.32s (infeasible)\n",
      "Solving Truck_Routing with random seed #3 ... runtime 0.31s (infeasible)\n",
      "\n",
      "Summary candidate parameter set 6 \n",
      " # Name              0        1        2      Avg  Std Dev      Max\n",
      " 0 Truck_Rou    0.32s#   0.32s#   0.31s#    0.31s     0.01    0.32s\n",
      "\n",
      "Progress so far:\n",
      "  baseline: mean runtime 0.31s (parameter set 1, 0 non-defaults)\n",
      "  best:     mean runtime 0.27s (parameter set 5, 1 non-defaults)\n",
      "Total elapsed tuning time 6s (3s remaining, 1 running jobs)\n",
      "\n",
      "-------------------------------------------------------------------------------\n",
      "\n",
      "Testing candidate parameter set 7...\n",
      "\n",
      "\tMethod 0\n",
      "\tFlowCoverCuts 0\n",
      "\n",
      "Solving Truck_Routing with random seed #1 ... runtime 0.27s (infeasible)\n",
      "Solving Truck_Routing with random seed #2 ... runtime 0.26s (infeasible)\n",
      "Solving Truck_Routing with random seed #3 ... runtime 0.24s (infeasible)\n",
      "\n",
      "Summary candidate parameter set 7 \n",
      " # Name              0        1        2      Avg  Std Dev      Max\n",
      " 0 Truck_Rou    0.27s#   0.26s#   0.24s#    0.26s     0.01    0.27s\n",
      "\n",
      "Improvement found:\n",
      "  baseline: mean runtime 0.31s (parameter set 1, 0 non-defaults)\n",
      "  improved: mean runtime 0.26s (parameter set 7, 2 non-defaults)\n",
      "Total elapsed tuning time 7s (2s remaining, 1 running jobs)\n",
      "\n",
      "-------------------------------------------------------------------------------\n",
      "\n",
      "Testing candidate parameter set 8...\n",
      "\n",
      "\tMethod 0\n",
      "\tVarBranch 3\n",
      "\tFlowCoverCuts 0\n",
      "\n",
      "Solving Truck_Routing with random seed #1 ... runtime 0.33s (infeasible)\n",
      "Solving Truck_Routing with random seed #2 ... runtime 0.33s (infeasible)\n",
      "Solving Truck_Routing with random seed #3 ... runtime 0.30s (infeasible)\n",
      "\n",
      "Summary candidate parameter set 8 \n",
      " # Name              0        1        2      Avg  Std Dev      Max\n",
      " 0 Truck_Rou    0.33s#   0.33s#   0.30s#    0.32s     0.01    0.33s\n",
      "\n",
      "Progress so far:\n",
      "  baseline: mean runtime 0.31s (parameter set 1, 0 non-defaults)\n",
      "  best:     mean runtime 0.26s (parameter set 7, 2 non-defaults)\n",
      "Total elapsed tuning time 8s (1s remaining, 1 running jobs)\n",
      "\n",
      "-------------------------------------------------------------------------------\n",
      "\n",
      "Testing candidate parameter set 9...\n",
      "\n",
      "\tMethod 0\n",
      "\tMIPFocus 2\n",
      "\tFlowCoverCuts 0\n",
      "\n",
      "Solving Truck_Routing with random seed #1 ... runtime 0.30s (infeasible)\n",
      "Solving Truck_Routing with random seed #2 ... runtime 0.26s (infeasible)\n",
      "Solving Truck_Routing with random seed #3 ... runtime 0.32s (infeasible)\n",
      "\n",
      "Summary candidate parameter set 9 \n",
      " # Name              0        1        2      Avg  Std Dev      Max\n",
      " 0 Truck_Rou    0.30s#   0.26s#   0.32s#    0.29s     0.02    0.32s\n",
      "\n",
      "Progress so far:\n",
      "  baseline: mean runtime 0.31s (parameter set 1, 0 non-defaults)\n",
      "  best:     mean runtime 0.26s (parameter set 7, 2 non-defaults)\n",
      "Total elapsed tuning time 9s (0s remaining, 1 running jobs)\n",
      "\n",
      "\n",
      "\n",
      "Tune time limit reached\n",
      "\n",
      "-------------------------------------------------------------------------------\n",
      "\n",
      "Tested 9 parameter sets in 8.99s\n",
      "Total optimization run time for up to 1 concurrent runs: 8.75s\n",
      "\n",
      "Baseline parameter set: mean runtime 0.31s\n",
      "\n",
      "\tDefault parameters\n",
      "\n",
      " # Name              0        1        2      Avg  Std Dev      Max\n",
      " 0 Truck_Rou    0.34s#   0.33s#   0.27s#    0.31s     0.03    0.34s\n",
      "\n",
      "\n",
      "Improved parameter set 1 (mean runtime 0.26s):\n",
      "\n",
      "\tMethod 0\n",
      "\tFlowCoverCuts 0\n",
      "\n",
      " # Name              0        1        2      Avg  Std Dev      Max\n",
      " 0 Truck_Rou    0.27s#   0.26s#   0.24s#    0.26s     0.01    0.27s\n",
      "\n",
      "\n",
      "Improved parameter set 2 (mean runtime 0.27s):\n",
      "\n",
      "\tFlowCoverCuts 0\n",
      "\n",
      " # Name              0        1        2      Avg  Std Dev      Max\n",
      " 0 Truck_Rou    0.26s#   0.29s#   0.25s#    0.27s     0.01    0.29s\n",
      "\n",
      "Gurobi Optimizer version 11.0.2 build v11.0.2rc0 (win64 - Windows 11.0 (22631.2))\n",
      "\n",
      "CPU model: Intel(R) Core(TM) i7-9750H CPU @ 2.60GHz, instruction set [SSE2|AVX|AVX2]\n",
      "Thread count: 6 physical cores, 12 logical processors, using up to 12 threads\n",
      "\n",
      "Academic license 2518537 - for non-commercial use only - registered to j.___@student.tudelft.nl\n",
      "Optimize a model with 93 rows, 75 columns and 436 nonzeros\n",
      "Model fingerprint: 0xe004cf56\n",
      "Model has 10 quadratic constraints\n",
      "Variable types: 13 continuous, 62 integer (62 binary)\n",
      "Coefficient statistics:\n",
      "  Matrix range     [1e+00, 6e+07]\n",
      "  QMatrix range    [1e+00, 1e+00]\n",
      "  QLMatrix range   [5e-02, 1e+00]\n",
      "  Objective range  [1e+00, 5e+04]\n",
      "  Bounds range     [1e+00, 1e+00]\n",
      "  RHS range        [1e+00, 6e+07]\n",
      "Presolve removed 4 rows and 0 columns\n",
      "Presolve time: 0.00s\n",
      "Presolved: 199 rows, 225 columns, 734 nonzeros\n",
      "Presolved model has 100 SOS constraint(s)\n",
      "Variable types: 113 continuous, 112 integer (112 binary)\n",
      "\n",
      "Root relaxation: objective 7.187025e+04, 75 iterations, 0.00 seconds (0.00 work units)\n",
      "\n",
      "    Nodes    |    Current Node    |     Objective Bounds      |     Work\n",
      " Expl Unexpl |  Obj  Depth IntInf | Incumbent    BestBd   Gap | It/Node Time\n",
      "\n",
      "     0     0 71870.2533    0    5          - 71870.2533      -     -    0s\n",
      "     0     0 91695.2534    0   25          - 91695.2534      -     -    0s\n",
      "     0     0 107665.469    0   32          - 107665.469      -     -    0s\n",
      "     0     0 107665.469    0   31          - 107665.469      -     -    0s\n",
      "     0     0 110715.463    0   31          - 110715.463      -     -    0s\n",
      "     0     0 110715.463    0   36          - 110715.463      -     -    0s\n",
      "     0     0 110715.463    0   30          - 110715.463      -     -    0s\n",
      "     0     0 110715.507    0   45          - 110715.507      -     -    0s\n",
      "     0     0 110715.507    0   45          - 110715.507      -     -    0s\n",
      "     0     0 110715.507    0   45          - 110715.507      -     -    0s\n",
      "     0     2 110715.507    0   45          - 110715.507      -     -    0s\n",
      "\n",
      "Cutting planes:\n",
      "  Learned: 6\n",
      "  Gomory: 5\n",
      "  Implied bound: 5\n",
      "  Clique: 6\n",
      "  MIR: 3\n",
      "  RLT: 6\n",
      "\n",
      "Explored 1294 nodes (7599 simplex iterations) in 0.39 seconds (0.12 work units)\n",
      "Thread count was 12 (of 12 available processors)\n",
      "\n",
      "Solution count 0\n",
      "\n",
      "Model is infeasible\n",
      "Best objective -, best bound -, gap -\n",
      "Optimization was stopped with status 3\n"
     ]
    }
   ],
   "source": [
    "# Update the model to integrate new variables\n",
    "model.update()\n",
    "\n",
    "# Write model to a file\n",
    "model.write('TruckonlySimple.lp')\n",
    "\n",
    "# Tune solver parameters\n",
    "model.tune()\n",
    "\n",
    "# Optimize the model\n",
    "model.optimize()\n",
    "\n",
    "# Print the results\n",
    "if model.status == GRB.OPTIMAL:\n",
    "    print('Optimal objective: %g' % model.objVal)\n",
    "    for v in model.getVars():\n",
    "        if v.x > 0:\n",
    "            print('%s: %g' % (v.varName, v.x))\n",
    "else:\n",
    "    print('Optimization was stopped with status %d' % model.status)"
   ]
  },
  {
   "cell_type": "markdown",
   "metadata": {},
   "source": [
    "Post-processing"
   ]
  },
  {
   "cell_type": "code",
   "execution_count": 47,
   "metadata": {},
   "outputs": [
    {
     "ename": "AttributeError",
     "evalue": "Unable to retrieve attribute 'x'",
     "output_type": "error",
     "traceback": [
      "\u001b[1;31m---------------------------------------------------------------------------\u001b[0m",
      "\u001b[1;31mAttributeError\u001b[0m                            Traceback (most recent call last)",
      "Cell \u001b[1;32mIn[47], line 2\u001b[0m\n\u001b[0;32m      1\u001b[0m \u001b[38;5;66;03m# Extract and store the solution\u001b[39;00m\n\u001b[1;32m----> 2\u001b[0m solution \u001b[38;5;241m=\u001b[39m {var\u001b[38;5;241m.\u001b[39mvarName: var\u001b[38;5;241m.\u001b[39mx \u001b[38;5;28;01mfor\u001b[39;00m var \u001b[38;5;129;01min\u001b[39;00m model\u001b[38;5;241m.\u001b[39mgetVars()}\n\u001b[0;32m      4\u001b[0m \u001b[38;5;66;03m# Extract active trucks\u001b[39;00m\n\u001b[0;32m      5\u001b[0m active_trucks \u001b[38;5;241m=\u001b[39m [v \u001b[38;5;28;01mfor\u001b[39;00m v \u001b[38;5;129;01min\u001b[39;00m V \u001b[38;5;28;01mif\u001b[39;00m \u001b[38;5;124m'\u001b[39m\u001b[38;5;124mT\u001b[39m\u001b[38;5;124m'\u001b[39m \u001b[38;5;129;01min\u001b[39;00m v \u001b[38;5;129;01mand\u001b[39;00m solution[\u001b[38;5;124mf\u001b[39m\u001b[38;5;124m'\u001b[39m\u001b[38;5;124my[\u001b[39m\u001b[38;5;132;01m{\u001b[39;00mv\u001b[38;5;132;01m}\u001b[39;00m\u001b[38;5;124m]\u001b[39m\u001b[38;5;124m'\u001b[39m] \u001b[38;5;241m>\u001b[39m\u001b[38;5;241m=\u001b[39m \u001b[38;5;241m0.99\u001b[39m]\n",
      "Cell \u001b[1;32mIn[47], line 2\u001b[0m, in \u001b[0;36m<dictcomp>\u001b[1;34m(.0)\u001b[0m\n\u001b[0;32m      1\u001b[0m \u001b[38;5;66;03m# Extract and store the solution\u001b[39;00m\n\u001b[1;32m----> 2\u001b[0m solution \u001b[38;5;241m=\u001b[39m {var\u001b[38;5;241m.\u001b[39mvarName: \u001b[43mvar\u001b[49m\u001b[38;5;241;43m.\u001b[39;49m\u001b[43mx\u001b[49m \u001b[38;5;28;01mfor\u001b[39;00m var \u001b[38;5;129;01min\u001b[39;00m model\u001b[38;5;241m.\u001b[39mgetVars()}\n\u001b[0;32m      4\u001b[0m \u001b[38;5;66;03m# Extract active trucks\u001b[39;00m\n\u001b[0;32m      5\u001b[0m active_trucks \u001b[38;5;241m=\u001b[39m [v \u001b[38;5;28;01mfor\u001b[39;00m v \u001b[38;5;129;01min\u001b[39;00m V \u001b[38;5;28;01mif\u001b[39;00m \u001b[38;5;124m'\u001b[39m\u001b[38;5;124mT\u001b[39m\u001b[38;5;124m'\u001b[39m \u001b[38;5;129;01min\u001b[39;00m v \u001b[38;5;129;01mand\u001b[39;00m solution[\u001b[38;5;124mf\u001b[39m\u001b[38;5;124m'\u001b[39m\u001b[38;5;124my[\u001b[39m\u001b[38;5;132;01m{\u001b[39;00mv\u001b[38;5;132;01m}\u001b[39;00m\u001b[38;5;124m]\u001b[39m\u001b[38;5;124m'\u001b[39m] \u001b[38;5;241m>\u001b[39m\u001b[38;5;241m=\u001b[39m \u001b[38;5;241m0.99\u001b[39m]\n",
      "File \u001b[1;32msrc\\\\gurobipy\\\\var.pxi:125\u001b[0m, in \u001b[0;36mgurobipy.Var.__getattr__\u001b[1;34m()\u001b[0m\n",
      "File \u001b[1;32msrc\\\\gurobipy\\\\var.pxi:153\u001b[0m, in \u001b[0;36mgurobipy.Var.getAttr\u001b[1;34m()\u001b[0m\n",
      "File \u001b[1;32msrc\\\\gurobipy\\\\attrutil.pxi:103\u001b[0m, in \u001b[0;36mgurobipy._getattr\u001b[1;34m()\u001b[0m\n",
      "\u001b[1;31mAttributeError\u001b[0m: Unable to retrieve attribute 'x'"
     ]
    }
   ],
   "source": [
    "# Extract and store the solution\n",
    "solution = {var.varName: var.x for var in model.getVars()}\n",
    "\n",
    "# Extract active trucks\n",
    "active_trucks = [v for v in V if 'T' in v and solution[f'y[{v}]'] >= 0.99]\n",
    "\n",
    "# Extract routes for active trucks\n",
    "active_routes_truck = {}\n",
    "for truck in active_trucks:\n",
    "    active_routes_truck[truck] = []\n",
    "    for node_from in N:\n",
    "        for node_to in N:\n",
    "            if node_from != node_to and solution.get(f'x[{truck},{node_from},{node_to}]', 0) >= 0.99:\n",
    "                active_routes_truck[truck].append((node_from, node_to))\n",
    "\n",
    "print('Active routes for trucks:', active_routes_truck)"
   ]
  }
 ],
 "metadata": {
  "kernelspec": {
   "display_name": "Python 3",
   "language": "python",
   "name": "python3"
  },
  "language_info": {
   "codemirror_mode": {
    "name": "ipython",
    "version": 3
   },
   "file_extension": ".py",
   "mimetype": "text/x-python",
   "name": "python",
   "nbconvert_exporter": "python",
   "pygments_lexer": "ipython3",
   "version": "3.9.19"
  }
 },
 "nbformat": 4,
 "nbformat_minor": 2
}
