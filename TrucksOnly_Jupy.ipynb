{
 "cells": [
  {
   "cell_type": "markdown",
   "metadata": {},
   "source": [
    "# Trucks only problem #"
   ]
  },
  {
   "cell_type": "markdown",
   "metadata": {},
   "source": [
    "Install necessary packages"
   ]
  },
  {
   "cell_type": "code",
   "execution_count": 2,
   "metadata": {},
   "outputs": [],
   "source": [
    "from gurobipy import Model,GRB,LinExpr,quicksum\n",
    "import numpy as np\n",
    "from scipy.spatial import distance\n",
    "import os\n",
    "from load_dataset import Dataset"
   ]
  },
  {
   "cell_type": "markdown",
   "metadata": {},
   "source": [
    "Define model parametres"
   ]
  },
  {
   "cell_type": "code",
   "execution_count": 3,
   "metadata": {},
   "outputs": [],
   "source": [
    "## MODEL PARAMETERS ##\n",
    "W_T = 1500 #empty weight truck [kg]\n",
    "Q_T = 1000 #load capacity of trucks [kg]\n",
    "W_D = 25 #empty weight drone [kg]\n",
    "Q_D = 5 #load capacity of drones [kg]\n",
    "C_T = 25 #travel cost of trucks per unit distance [monetary unit/km]\n",
    "C_D = 1 #travel cost of drones per unit distance [monetary unit/km]\n",
    "C_B = 500 #basis cost of using a truck equipped with a drone [monetary unit]\n",
    "E = 0.5 #maximum endurance of empty drones [hours]\n",
    "S_T = 60 #average travel speed of the trucks [km/h]\n",
    "S_D = 65 #average travel speed of the drones [km/h]"
   ]
  },
  {
   "cell_type": "markdown",
   "metadata": {},
   "source": [
    "Define Big M constant"
   ]
  },
  {
   "cell_type": "code",
   "execution_count": 4,
   "metadata": {},
   "outputs": [],
   "source": [
    "M = 500 #big M constant for big M method"
   ]
  },
  {
   "cell_type": "markdown",
   "metadata": {},
   "source": [
    "Load Dataset using load_dataset.py"
   ]
  },
  {
   "cell_type": "code",
   "execution_count": 5,
   "metadata": {},
   "outputs": [],
   "source": [
    "## LOAD DATASET ##\n",
    "current_dir = os.getcwd()\n",
    "# Select which data folder to use\n",
    "data_subfolder = '0.3'\n",
    "data_num_nodes = '40'\n",
    "data_area = '20'\n",
    "\n",
    "data_file_name = f'{data_num_nodes}_{data_area}_{data_subfolder}'\n",
    "dataset_path = f'dataset/{data_subfolder}/{data_file_name}.txt'\n",
    "output_file_path = os.path.join(current_dir, data_file_name + '_solution.sol')#used to save solution file\n",
    "\n",
    "dataset = Dataset(dataset_path)"
   ]
  },
  {
   "cell_type": "markdown",
   "metadata": {},
   "source": [
    "Pre-processing"
   ]
  },
  {
   "cell_type": "code",
   "execution_count": 6,
   "metadata": {},
   "outputs": [],
   "source": [
    "## FUNCTIONS ##\n",
    "def get_manhattan_distance(data):\n",
    "    \"\"\"\n",
    "    Returns a dictionary with manhattan distances between all nodes in dataset\n",
    "    \"\"\"\n",
    "    distance_dict = {}\n",
    "    for node1 in data.keys():\n",
    "        for node2 in data.keys():\n",
    "            distance_dict[node1, node2] = distance.cityblock([data[node1]['X'], data[node1]['Y']], [data[node2]['X'], data[node2]['Y']])\n",
    "    return distance_dict\n",
    "\n",
    "def get_time_dict(data, S_T, distance_dict):\n",
    "    \"\"\"\n",
    "    Returns a dictionary with travel times between all nodes in dataset\n",
    "    \"\"\"\n",
    "    time_dict = {}\n",
    "    for node1 in data.keys():\n",
    "        for node2 in data.keys():\n",
    "            time_dict[node1, node2] = distance_dict[node1, node2] / S_T\n",
    "    return time_dict\n",
    "\n",
    "\n",
    "num_trucks = 2\n",
    "distance_dict = get_manhattan_distance(dataset.data)\n",
    "time_dict = get_time_dict(dataset.data, S_T, distance_dict)\n",
    "\n",
    "#definitions of N_0, N and N_plus follow from paper\n",
    "N = list(dataset.data.keys()) #set of nodes with depot at start\n",
    "N_customers = N.copy()\n",
    "N_customers.remove('D0')\n",
    "V = [f'V{i}' for i in range(1, num_trucks+1)] #set of trucks"
   ]
  },
  {
   "cell_type": "markdown",
   "metadata": {},
   "source": [
    "Create the model"
   ]
  },
  {
   "cell_type": "code",
   "execution_count": 7,
   "metadata": {},
   "outputs": [
    {
     "name": "stdout",
     "output_type": "stream",
     "text": [
      "Set parameter WLSAccessID\n",
      "Set parameter WLSSecret\n",
      "Set parameter LicenseID to value 2518537\n",
      "Academic license 2518537 - for non-commercial use only - registered to j.___@student.tudelft.nl\n"
     ]
    }
   ],
   "source": [
    "## MODEL ##\n",
    "model = Model(\"Truck-Only Model\")\n",
    "\n",
    "#decision variables\n",
    "#define x such that you cannot travel between same node\n",
    "x = model.addVars(V, [(i,j) for i in N for j in N if i != j], lb=0, ub=1, vtype=GRB.BINARY, name='x')\n",
    "y = model.addVars(V, lb=0, ub=1, vtype=GRB.BINARY, name='y')\n",
    "t = model.addVars(V, N, lb=0, vtype=GRB.CONTINUOUS, name='t')\n",
    "\n",
    "model.update()"
   ]
  },
  {
   "cell_type": "markdown",
   "metadata": {},
   "source": [
    "Define the constraints"
   ]
  },
  {
   "cell_type": "code",
   "execution_count": 8,
   "metadata": {},
   "outputs": [],
   "source": [
    "#constraints\n",
    "# C1: each customer is visited exactly once\n",
    "C1 = model.addConstrs((quicksum(x[v,i,j] for j in N if i != j for v in V) == 1 for i in N_customers), name='C1') \n",
    "\n",
    "# C2: each truck leaves the depot exactly once if it is active (y=1)\n",
    "C2 = model.addConstrs((quicksum(x[v,'D0',j] for j in N if 'D0' != j) - y[v] == 0 for v in V), name='C2')\n",
    "\n",
    "# C3: each truck arrives at depot once if it is active\n",
    "C3 = model.addConstrs((quicksum(x[v,i,'D0'] for i in N if i != 'D0') - y[v] == 0 for v in V), name='C3')\n",
    "\n",
    "# C4: if vehicle arrives at customer, must also leave\n",
    "C4 = model.addConstrs((quicksum(x[v,i,h] for i in N if i != h) - quicksum(x[v,h,j] for j in N if h != j) == 0 for h in N_customers for v in V), name='C4')\n",
    "\n",
    "# C5: time constraint (time at node equal or larger than time at previous node plus travel time)\n",
    "C5 = model.addConstrs((t[v,j] >= t[v,i] + time_dict[i,j] - M*(1-x[v,i,j]) for i in N for j in N if i != j for v in V), name='C5')\n",
    "\n",
    "# C6: payload for all visited customer nodes per vehicle less than limit Q_T\n",
    "C6 = model.addConstrs((dataset.data[i]['Demand'] * quicksum(x[v,i,j] for j in N if i != j) <= Q_T for i in N_customers for v in V), name='C6')\n",
    "# At least one truck must be active (otherwise optimal solution is to use no trucks)\n",
    "#C7 = model.addConstr(quicksum(y[v] for v in V) >= 0.99, name='C7')\n",
    "#C9 = model.addConstrs((x[v,i,i] == 0 for i in N for v in V), name='C9')#note: this constraint is essential (ensures you cant travek between same node) otherwise truck never leaves depot"
   ]
  },
  {
   "cell_type": "markdown",
   "metadata": {},
   "source": [
    "Run the optimiser"
   ]
  },
  {
   "cell_type": "code",
   "execution_count": 9,
   "metadata": {},
   "outputs": [
    {
     "name": "stdout",
     "output_type": "stream",
     "text": [
      "Gurobi Optimizer version 11.0.2 build v11.0.2rc0 (win64 - Windows 11.0 (22631.2))\n",
      "\n",
      "CPU model: Intel(R) Core(TM) i7-9750H CPU @ 2.60GHz, instruction set [SSE2|AVX|AVX2]\n",
      "Thread count: 6 physical cores, 12 logical processors, using up to 12 threads\n",
      "\n",
      "Academic license 2518537 - for non-commercial use only - registered to j.___@student.tudelft.nl\n",
      "Optimize a model with 3484 rows, 3364 columns and 22804 nonzeros\n",
      "Model fingerprint: 0xa8311b38\n",
      "Variable types: 82 continuous, 3282 integer (3282 binary)\n",
      "Coefficient statistics:\n",
      "  Matrix range     [6e-01, 5e+02]\n",
      "  Objective range  [2e+01, 2e+03]\n",
      "  Bounds range     [1e+00, 1e+00]\n",
      "  RHS range        [1e+00, 1e+03]\n",
      "Presolve removed 80 rows and 0 columns\n",
      "Presolve time: 0.03s\n",
      "Presolved: 3404 rows, 3364 columns, 19604 nonzeros\n",
      "Variable types: 82 continuous, 3282 integer (3282 binary)\n",
      "\n",
      "Root relaxation: objective 5.590000e+03, 173 iterations, 0.00 seconds (0.00 work units)\n",
      "\n",
      "    Nodes    |    Current Node    |     Objective Bounds      |     Work\n",
      " Expl Unexpl |  Obj  Depth IntInf | Incumbent    BestBd   Gap | It/Node Time\n",
      "\n",
      "     0     0 5590.00000    0   80          - 5590.00000      -     -    0s\n",
      "     0     0 5590.00000    0   80          - 5590.00000      -     -    0s\n",
      "     0     0 6255.00000    0   76          - 6255.00000      -     -    0s\n",
      "     0     0 6255.00000    0   76          - 6255.00000      -     -    0s\n",
      "     0     0 6290.00000    0   78          - 6290.00000      -     -    0s\n",
      "     0     0 6290.00000    0   78          - 6290.00000      -     -    0s\n",
      "     0     0 6290.00000    0   80          - 6290.00000      -     -    0s\n",
      "     0     0 6290.00000    0   80          - 6290.00000      -     -    0s\n",
      "     0     0 6290.00000    0   80          - 6290.00000      -     -    0s\n",
      "     0     0 6290.00000    0   80          - 6290.00000      -     -    0s\n",
      "     0     2 6290.00000    0   50          - 6290.00000      -     -    1s\n",
      "  2326  2295 6293.52270  171   52          - 6290.01023      -   8.5    5s\n",
      "  3389  3202 6315.00000   11   50          - 6315.00000      -   0.7   12s\n",
      "  4243  3832 6315.00000   49   63          - 6315.00000      -   5.3   15s\n"
     ]
    },
    {
     "ename": "KeyboardInterrupt",
     "evalue": "",
     "output_type": "error",
     "traceback": [
      "\u001b[1;31m---------------------------------------------------------------------------\u001b[0m",
      "\u001b[1;31mKeyboardInterrupt\u001b[0m                         Traceback (most recent call last)",
      "File \u001b[1;32mc:\\Users\\Jonathan van Zyl\\.conda\\envs\\gurobi_env\\lib\\site-packages\\ipykernel\\iostream.py:624\u001b[0m, in \u001b[0;36mOutStream.write\u001b[1;34m(self, string)\u001b[0m\n\u001b[0;32m    616\u001b[0m                 \u001b[38;5;28;01mreturn\u001b[39;00m\n\u001b[0;32m    618\u001b[0m         \u001b[38;5;28mself\u001b[39m\u001b[38;5;241m.\u001b[39msession\u001b[38;5;241m.\u001b[39msend(\n\u001b[0;32m    619\u001b[0m             \u001b[38;5;28mself\u001b[39m\u001b[38;5;241m.\u001b[39mpub_thread,\n\u001b[0;32m    620\u001b[0m             msg,\n\u001b[0;32m    621\u001b[0m             ident\u001b[38;5;241m=\u001b[39m\u001b[38;5;28mself\u001b[39m\u001b[38;5;241m.\u001b[39mtopic,\n\u001b[0;32m    622\u001b[0m         )\n\u001b[1;32m--> 624\u001b[0m \u001b[38;5;28;01mdef\u001b[39;00m \u001b[38;5;21mwrite\u001b[39m(\u001b[38;5;28mself\u001b[39m, string: \u001b[38;5;28mstr\u001b[39m) \u001b[38;5;241m-\u001b[39m\u001b[38;5;241m>\u001b[39m Optional[\u001b[38;5;28mint\u001b[39m]:  \u001b[38;5;66;03m# type:ignore[override]\u001b[39;00m\n\u001b[0;32m    625\u001b[0m \u001b[38;5;250m    \u001b[39m\u001b[38;5;124;03m\"\"\"Write to current stream after encoding if necessary\u001b[39;00m\n\u001b[0;32m    626\u001b[0m \n\u001b[0;32m    627\u001b[0m \u001b[38;5;124;03m    Returns\u001b[39;00m\n\u001b[1;32m   (...)\u001b[0m\n\u001b[0;32m    631\u001b[0m \n\u001b[0;32m    632\u001b[0m \u001b[38;5;124;03m    \"\"\"\u001b[39;00m\n\u001b[0;32m    634\u001b[0m     \u001b[38;5;28;01mif\u001b[39;00m \u001b[38;5;129;01mnot\u001b[39;00m \u001b[38;5;28misinstance\u001b[39m(string, \u001b[38;5;28mstr\u001b[39m):\n",
      "\u001b[1;31mKeyboardInterrupt\u001b[0m: "
     ]
    },
    {
     "name": "stderr",
     "output_type": "stream",
     "text": [
      "Exception ignored in: 'gurobipy.logcallbackstub'\n",
      "Traceback (most recent call last):\n",
      "  File \"c:\\Users\\Jonathan van Zyl\\.conda\\envs\\gurobi_env\\lib\\site-packages\\ipykernel\\iostream.py\", line 624, in write\n",
      "    def write(self, string: str) -> Optional[int]:  # type:ignore[override]\n",
      "KeyboardInterrupt: \n"
     ]
    },
    {
     "name": "stdout",
     "output_type": "stream",
     "text": [
      " 11638  8496 6330.33483   37   56          - 6315.00000      -  12.7   25s\n",
      " 18556 14799 6527.18586  183   68          - 6315.00000      -  11.5   30s\n",
      " 25819 20697 6762.73983   83   31          - 6315.00000      -  11.4   35s\n",
      " 31517 25523 6465.29050   58   62          - 6315.00000      -  11.6   40s\n"
     ]
    },
    {
     "ename": "KeyboardInterrupt",
     "evalue": "",
     "output_type": "error",
     "traceback": [
      "\u001b[1;31m---------------------------------------------------------------------------\u001b[0m",
      "\u001b[1;31mKeyboardInterrupt\u001b[0m                         Traceback (most recent call last)",
      "File \u001b[1;32mc:\\Users\\Jonathan van Zyl\\.conda\\envs\\gurobi_env\\lib\\site-packages\\ipykernel\\iostream.py:624\u001b[0m, in \u001b[0;36mOutStream.write\u001b[1;34m(self, string)\u001b[0m\n\u001b[0;32m    616\u001b[0m                 \u001b[38;5;28;01mreturn\u001b[39;00m\n\u001b[0;32m    618\u001b[0m         \u001b[38;5;28mself\u001b[39m\u001b[38;5;241m.\u001b[39msession\u001b[38;5;241m.\u001b[39msend(\n\u001b[0;32m    619\u001b[0m             \u001b[38;5;28mself\u001b[39m\u001b[38;5;241m.\u001b[39mpub_thread,\n\u001b[0;32m    620\u001b[0m             msg,\n\u001b[0;32m    621\u001b[0m             ident\u001b[38;5;241m=\u001b[39m\u001b[38;5;28mself\u001b[39m\u001b[38;5;241m.\u001b[39mtopic,\n\u001b[0;32m    622\u001b[0m         )\n\u001b[1;32m--> 624\u001b[0m \u001b[38;5;28;01mdef\u001b[39;00m \u001b[38;5;21mwrite\u001b[39m(\u001b[38;5;28mself\u001b[39m, string: \u001b[38;5;28mstr\u001b[39m) \u001b[38;5;241m-\u001b[39m\u001b[38;5;241m>\u001b[39m Optional[\u001b[38;5;28mint\u001b[39m]:  \u001b[38;5;66;03m# type:ignore[override]\u001b[39;00m\n\u001b[0;32m    625\u001b[0m \u001b[38;5;250m    \u001b[39m\u001b[38;5;124;03m\"\"\"Write to current stream after encoding if necessary\u001b[39;00m\n\u001b[0;32m    626\u001b[0m \n\u001b[0;32m    627\u001b[0m \u001b[38;5;124;03m    Returns\u001b[39;00m\n\u001b[1;32m   (...)\u001b[0m\n\u001b[0;32m    631\u001b[0m \n\u001b[0;32m    632\u001b[0m \u001b[38;5;124;03m    \"\"\"\u001b[39;00m\n\u001b[0;32m    634\u001b[0m     \u001b[38;5;28;01mif\u001b[39;00m \u001b[38;5;129;01mnot\u001b[39;00m \u001b[38;5;28misinstance\u001b[39m(string, \u001b[38;5;28mstr\u001b[39m):\n",
      "\u001b[1;31mKeyboardInterrupt\u001b[0m: "
     ]
    },
    {
     "name": "stderr",
     "output_type": "stream",
     "text": [
      "Exception ignored in: 'gurobipy.logcallbackstub'\n",
      "Traceback (most recent call last):\n",
      "  File \"c:\\Users\\Jonathan van Zyl\\.conda\\envs\\gurobi_env\\lib\\site-packages\\ipykernel\\iostream.py\", line 624, in write\n",
      "    def write(self, string: str) -> Optional[int]:  # type:ignore[override]\n",
      "KeyboardInterrupt: \n"
     ]
    },
    {
     "name": "stdout",
     "output_type": "stream",
     "text": [
      " 35808 29134 9248.19883  130   28          - 6315.00000      -  11.7   50s\n",
      " 37488 31376 6320.19735   33   61          - 6315.00000      -  11.6   64s\n",
      " 39977 32645 11359.8858  194   16          - 6315.00000      -  11.6   65s\n",
      " 48331 39475 6493.18983   32   59          - 6315.00000      -  11.6   70s\n"
     ]
    }
   ],
   "source": [
    "#objective function (minimise cost both due to tranportation and basis cost of using truck (if active, i.e. y=1))\n",
    "cost_obj = quicksum(C_T * distance_dict[i,j] * x[v,i,j] for i in N for j in N if i != j for v in V) + quicksum(C_B * y[v] for v in V)\n",
    "model.setObjective(cost_obj, GRB.MINIMIZE)\n",
    "model.update()\n",
    "model.write('TruckonlySimple.lp')\n",
    "#tune solver before optimizing to reduce time it takes\n",
    "#model.tune()\n",
    "model.optimize()"
   ]
  },
  {
   "cell_type": "markdown",
   "metadata": {},
   "source": [
    "Post-processing"
   ]
  },
  {
   "cell_type": "code",
   "execution_count": null,
   "metadata": {},
   "outputs": [],
   "source": [
    "## POST-PROCESSING ##\n",
    "solution = {}\n",
    "for var in model.getVars():\n",
    "    solution[var.varName] = var.x\n",
    "\n",
    "#exctract active vehicles\n",
    "active_vehicles = [v for v in V if solution[f'y[{v}]'] >= 0.99]\n",
    "#extract routes\n",
    "active_routes = {}\n",
    "for v in active_vehicles:\n",
    "    active_routes[v] = [i for i in N if solution[f'x[{v},{i},D0]'] >= 0.99] #start with depot\n",
    "    while active_routes[v][-1] != 'D0':\n",
    "        for j in N:\n",
    "            if solution[f'x[{v},{active_routes[v][-1]},{j}]'] >= 0.99:\n",
    "                active_routes[v].append(j)\n",
    "                break\n",
    "\n",
    "#retrieve timestamps of customer visits\n",
    "timestamps = {}\n",
    "for v in active_vehicles:\n",
    "    timestamps[v] = {}\n",
    "    for i in N_customers:\n",
    "        timestamps[v][i] = solution[f't[{v},{i}]']\n",
    "\n",
    "#print all solution variables which have value of 1\n",
    "print([var for var in solution.keys() if solution[var] >=0.9])\n",
    "print(active_routes)\n",
    "#plot routes\n",
    "dataset.plot_data(show_demand=True, scale_nodes=True, show_labels=False, active_routes=active_routes)"
   ]
  }
 ],
 "metadata": {
  "kernelspec": {
   "display_name": "Python 3",
   "language": "python",
   "name": "python3"
  },
  "language_info": {
   "codemirror_mode": {
    "name": "ipython",
    "version": 3
   },
   "file_extension": ".py",
   "mimetype": "text/x-python",
   "name": "python",
   "nbconvert_exporter": "python",
   "pygments_lexer": "ipython3",
   "version": "3.9.19"
  }
 },
 "nbformat": 4,
 "nbformat_minor": 2
}
