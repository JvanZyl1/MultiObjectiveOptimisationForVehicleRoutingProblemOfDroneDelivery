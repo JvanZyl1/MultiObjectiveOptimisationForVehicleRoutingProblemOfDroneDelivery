{
 "cells": [
  {
   "cell_type": "markdown",
   "metadata": {},
   "source": [
    "# Trucks only problem #"
   ]
  },
  {
   "cell_type": "markdown",
   "metadata": {},
   "source": [
    "Install necessary packages"
   ]
  },
  {
   "cell_type": "code",
   "execution_count": 20,
   "metadata": {},
   "outputs": [],
   "source": [
    "from gurobipy import Model,GRB,LinExpr,quicksum\n",
    "import numpy as np\n",
    "from scipy.spatial import distance\n",
    "import os\n",
    "import socket\n",
    "from load_dataset import Dataset"
   ]
  },
  {
   "cell_type": "markdown",
   "metadata": {},
   "source": [
    "For Ugo's laptop"
   ]
  },
  {
   "cell_type": "code",
   "execution_count": 21,
   "metadata": {},
   "outputs": [
    {
     "name": "stdout",
     "output_type": "stream",
     "text": [
      "Not Ugo's MacBook Pro, using default or no specific license settings.\n"
     ]
    }
   ],
   "source": [
    "# Define the node name or another identifier of your laptop\n",
    "my_laptop_node = 'Ugos-MacBook-Pro.local'\n",
    "\n",
    "# Get the current system's node name using socket.gethostname()\n",
    "current_node = socket.gethostname()\n",
    "\n",
    "if current_node == my_laptop_node:\n",
    "    # Set the environment variable for Gurobi license file\n",
    "    os.environ[\"GRB_LICENSE_FILE\"] = \"/Users/ugomunzi/gurobi/licenses/gurobi.lic\"\n",
    "    print(\"Gurobi license path set for Ugo's MacBook Pro.\")\n",
    "else:\n",
    "    print(\"Not Ugo's MacBook Pro, using default or no specific license settings.\")"
   ]
  },
  {
   "cell_type": "markdown",
   "metadata": {},
   "source": [
    "Define model parametres"
   ]
  },
  {
   "cell_type": "code",
   "execution_count": 22,
   "metadata": {},
   "outputs": [],
   "source": [
    "## MODEL PARAMETERS ##\n",
    "W_T = 1500 #empty weight truck [kg]\n",
    "Q_T = 1000 #load capacity of trucks [kg]\n",
    "W_D = 25 #empty weight drone [kg]\n",
    "Q_D = 5 #load capacity of drones [kg]\n",
    "C_T = 25 #travel cost of trucks per unit distance [monetary unit/km]\n",
    "C_D = 1 #travel cost of drones per unit distance [monetary unit/km]\n",
    "C_B = 500 #basis cost of using a truck equipped with a drone [monetary unit]\n",
    "E = 0.5 #maximum endurance of empty drones [hours]\n",
    "S_T = 60 #average travel speed of the trucks [km/h]\n",
    "S_D = 65 #average travel speed of the drones [km/h]"
   ]
  },
  {
   "cell_type": "markdown",
   "metadata": {},
   "source": [
    "Define Big M constant"
   ]
  },
  {
   "cell_type": "code",
   "execution_count": 23,
   "metadata": {},
   "outputs": [],
   "source": [
    "M = 500 #big M constant for big M method"
   ]
  },
  {
   "cell_type": "markdown",
   "metadata": {},
   "source": [
    "Load Dataset using load_dataset.py"
   ]
  },
  {
   "cell_type": "code",
   "execution_count": 24,
   "metadata": {},
   "outputs": [],
   "source": [
    "## LOAD DATASET ##\n",
    "current_dir = os.getcwd()\n",
    "# Select which data folder to use\n",
    "data_subfolder = '0.3'\n",
    "data_subfoldercopy = '0.3_copy'\n",
    "data_num_nodes = '40'\n",
    "data_area = '20'\n",
    "\n",
    "data_file_name = f'{data_num_nodes}_{data_area}_{data_subfoldercopy}'\n",
    "dataset_path = f'dataset/{data_subfolder}/{data_file_name}.txt'\n",
    "output_file_path = os.path.join(current_dir, data_file_name + '_solution.sol')#used to save solution file\n",
    "\n",
    "dataset = Dataset(dataset_path)\n",
    "\n"
   ]
  },
  {
   "cell_type": "markdown",
   "metadata": {},
   "source": [
    "Pre-processing"
   ]
  },
  {
   "cell_type": "code",
   "execution_count": 25,
   "metadata": {},
   "outputs": [],
   "source": [
    "## FUNCTIONS ##\n",
    "def get_manhattan_distance(data):\n",
    "    \"\"\"\n",
    "    Returns a dictionary with manhattan distances between all nodes in dataset\n",
    "    \"\"\"\n",
    "    distance_dict = {}\n",
    "    for node1 in data.keys():\n",
    "        for node2 in data.keys():\n",
    "            distance_dict[node1, node2] = distance.cityblock([data[node1]['X'], data[node1]['Y']], [data[node2]['X'], data[node2]['Y']])\n",
    "    return distance_dict\n",
    "\n",
    "def get_time_dict(data, S_T, distance_dict):\n",
    "    \"\"\"\n",
    "    Returns a dictionary with travel times between all nodes in dataset\n",
    "    \"\"\"\n",
    "    time_dict = {}\n",
    "    for node1 in data.keys():\n",
    "        for node2 in data.keys():\n",
    "            time_dict[node1, node2] = distance_dict[node1, node2] / S_T\n",
    "    return time_dict\n",
    "\n",
    "\n",
    "num_trucks = 2\n",
    "distance_dict = get_manhattan_distance(dataset.data)\n",
    "time_dict = get_time_dict(dataset.data, S_T, distance_dict)\n",
    "\n",
    "#definitions of N_0, N and N_plus follow from paper\n",
    "N = list(dataset.data.keys()) #set of nodes with depot at start\n",
    "N_customers = N.copy()\n",
    "N_customers.remove('D0')\n",
    "V = [f'V{i}' for i in range(1, num_trucks+1)] #set of trucks"
   ]
  },
  {
   "cell_type": "markdown",
   "metadata": {},
   "source": [
    "Create the model"
   ]
  },
  {
   "cell_type": "code",
   "execution_count": 26,
   "metadata": {},
   "outputs": [],
   "source": [
    "## MODEL ##\n",
    "model = Model(\"Truck-Only Model\")\n",
    "\n",
    "#decision variables\n",
    "#define x such that you cannot travel between same node\n",
    "x = model.addVars(V, [(i,j) for i in N for j in N if i != j], lb=0, ub=1, vtype=GRB.BINARY, name='x')\n",
    "y = model.addVars(V, lb=0, ub=1, vtype=GRB.BINARY, name='y')\n",
    "t = model.addVars(V, N, lb=0, vtype=GRB.CONTINUOUS, name='t')\n",
    "\n",
    "model.update()"
   ]
  },
  {
   "cell_type": "markdown",
   "metadata": {},
   "source": [
    "Set model parameters"
   ]
  },
  {
   "cell_type": "code",
   "execution_count": 27,
   "metadata": {},
   "outputs": [
    {
     "name": "stdout",
     "output_type": "stream",
     "text": [
      "Set parameter TimeLimit to value 600\n"
     ]
    }
   ],
   "source": [
    "model.setParam('TimeLimit', 600)  # Set to 10 minutes\n",
    "model.setParam('MIPGap', 1e-4)  # Set the acceptable gap"
   ]
  },
  {
   "cell_type": "markdown",
   "metadata": {},
   "source": [
    "Define the constraints"
   ]
  },
  {
   "cell_type": "code",
   "execution_count": 28,
   "metadata": {},
   "outputs": [
    {
     "data": {
      "text/plain": [
       "{('V1', 'D0', 'C1'): <gurobi.Constr *Awaiting Model Update*>,\n",
       " ('V1', 'D0', 'C2'): <gurobi.Constr *Awaiting Model Update*>,\n",
       " ('V1', 'D0', 'C3'): <gurobi.Constr *Awaiting Model Update*>,\n",
       " ('V1', 'D0', 'C4'): <gurobi.Constr *Awaiting Model Update*>,\n",
       " ('V1', 'D0', 'C5'): <gurobi.Constr *Awaiting Model Update*>,\n",
       " ('V1', 'D0', 'C6'): <gurobi.Constr *Awaiting Model Update*>,\n",
       " ('V1', 'D0', 'C7'): <gurobi.Constr *Awaiting Model Update*>,\n",
       " ('V1', 'D0', 'C8'): <gurobi.Constr *Awaiting Model Update*>,\n",
       " ('V1', 'D0', 'C9'): <gurobi.Constr *Awaiting Model Update*>,\n",
       " ('V1', 'D0', 'C10'): <gurobi.Constr *Awaiting Model Update*>,\n",
       " ('V1', 'C1', 'D0'): <gurobi.Constr *Awaiting Model Update*>,\n",
       " ('V1', 'C1', 'C2'): <gurobi.Constr *Awaiting Model Update*>,\n",
       " ('V1', 'C1', 'C3'): <gurobi.Constr *Awaiting Model Update*>,\n",
       " ('V1', 'C1', 'C4'): <gurobi.Constr *Awaiting Model Update*>,\n",
       " ('V1', 'C1', 'C5'): <gurobi.Constr *Awaiting Model Update*>,\n",
       " ('V1', 'C1', 'C6'): <gurobi.Constr *Awaiting Model Update*>,\n",
       " ('V1', 'C1', 'C7'): <gurobi.Constr *Awaiting Model Update*>,\n",
       " ('V1', 'C1', 'C8'): <gurobi.Constr *Awaiting Model Update*>,\n",
       " ('V1', 'C1', 'C9'): <gurobi.Constr *Awaiting Model Update*>,\n",
       " ('V1', 'C1', 'C10'): <gurobi.Constr *Awaiting Model Update*>,\n",
       " ('V1', 'C2', 'D0'): <gurobi.Constr *Awaiting Model Update*>,\n",
       " ('V1', 'C2', 'C1'): <gurobi.Constr *Awaiting Model Update*>,\n",
       " ('V1', 'C2', 'C3'): <gurobi.Constr *Awaiting Model Update*>,\n",
       " ('V1', 'C2', 'C4'): <gurobi.Constr *Awaiting Model Update*>,\n",
       " ('V1', 'C2', 'C5'): <gurobi.Constr *Awaiting Model Update*>,\n",
       " ('V1', 'C2', 'C6'): <gurobi.Constr *Awaiting Model Update*>,\n",
       " ('V1', 'C2', 'C7'): <gurobi.Constr *Awaiting Model Update*>,\n",
       " ('V1', 'C2', 'C8'): <gurobi.Constr *Awaiting Model Update*>,\n",
       " ('V1', 'C2', 'C9'): <gurobi.Constr *Awaiting Model Update*>,\n",
       " ('V1', 'C2', 'C10'): <gurobi.Constr *Awaiting Model Update*>,\n",
       " ('V1', 'C3', 'D0'): <gurobi.Constr *Awaiting Model Update*>,\n",
       " ('V1', 'C3', 'C1'): <gurobi.Constr *Awaiting Model Update*>,\n",
       " ('V1', 'C3', 'C2'): <gurobi.Constr *Awaiting Model Update*>,\n",
       " ('V1', 'C3', 'C4'): <gurobi.Constr *Awaiting Model Update*>,\n",
       " ('V1', 'C3', 'C5'): <gurobi.Constr *Awaiting Model Update*>,\n",
       " ('V1', 'C3', 'C6'): <gurobi.Constr *Awaiting Model Update*>,\n",
       " ('V1', 'C3', 'C7'): <gurobi.Constr *Awaiting Model Update*>,\n",
       " ('V1', 'C3', 'C8'): <gurobi.Constr *Awaiting Model Update*>,\n",
       " ('V1', 'C3', 'C9'): <gurobi.Constr *Awaiting Model Update*>,\n",
       " ('V1', 'C3', 'C10'): <gurobi.Constr *Awaiting Model Update*>,\n",
       " ('V1', 'C4', 'D0'): <gurobi.Constr *Awaiting Model Update*>,\n",
       " ('V1', 'C4', 'C1'): <gurobi.Constr *Awaiting Model Update*>,\n",
       " ('V1', 'C4', 'C2'): <gurobi.Constr *Awaiting Model Update*>,\n",
       " ('V1', 'C4', 'C3'): <gurobi.Constr *Awaiting Model Update*>,\n",
       " ('V1', 'C4', 'C5'): <gurobi.Constr *Awaiting Model Update*>,\n",
       " ('V1', 'C4', 'C6'): <gurobi.Constr *Awaiting Model Update*>,\n",
       " ('V1', 'C4', 'C7'): <gurobi.Constr *Awaiting Model Update*>,\n",
       " ('V1', 'C4', 'C8'): <gurobi.Constr *Awaiting Model Update*>,\n",
       " ('V1', 'C4', 'C9'): <gurobi.Constr *Awaiting Model Update*>,\n",
       " ('V1', 'C4', 'C10'): <gurobi.Constr *Awaiting Model Update*>,\n",
       " ('V1', 'C5', 'D0'): <gurobi.Constr *Awaiting Model Update*>,\n",
       " ('V1', 'C5', 'C1'): <gurobi.Constr *Awaiting Model Update*>,\n",
       " ('V1', 'C5', 'C2'): <gurobi.Constr *Awaiting Model Update*>,\n",
       " ('V1', 'C5', 'C3'): <gurobi.Constr *Awaiting Model Update*>,\n",
       " ('V1', 'C5', 'C4'): <gurobi.Constr *Awaiting Model Update*>,\n",
       " ('V1', 'C5', 'C6'): <gurobi.Constr *Awaiting Model Update*>,\n",
       " ('V1', 'C5', 'C7'): <gurobi.Constr *Awaiting Model Update*>,\n",
       " ('V1', 'C5', 'C8'): <gurobi.Constr *Awaiting Model Update*>,\n",
       " ('V1', 'C5', 'C9'): <gurobi.Constr *Awaiting Model Update*>,\n",
       " ('V1', 'C5', 'C10'): <gurobi.Constr *Awaiting Model Update*>,\n",
       " ('V1', 'C6', 'D0'): <gurobi.Constr *Awaiting Model Update*>,\n",
       " ('V1', 'C6', 'C1'): <gurobi.Constr *Awaiting Model Update*>,\n",
       " ('V1', 'C6', 'C2'): <gurobi.Constr *Awaiting Model Update*>,\n",
       " ('V1', 'C6', 'C3'): <gurobi.Constr *Awaiting Model Update*>,\n",
       " ('V1', 'C6', 'C4'): <gurobi.Constr *Awaiting Model Update*>,\n",
       " ('V1', 'C6', 'C5'): <gurobi.Constr *Awaiting Model Update*>,\n",
       " ('V1', 'C6', 'C7'): <gurobi.Constr *Awaiting Model Update*>,\n",
       " ('V1', 'C6', 'C8'): <gurobi.Constr *Awaiting Model Update*>,\n",
       " ('V1', 'C6', 'C9'): <gurobi.Constr *Awaiting Model Update*>,\n",
       " ('V1', 'C6', 'C10'): <gurobi.Constr *Awaiting Model Update*>,\n",
       " ('V1', 'C7', 'D0'): <gurobi.Constr *Awaiting Model Update*>,\n",
       " ('V1', 'C7', 'C1'): <gurobi.Constr *Awaiting Model Update*>,\n",
       " ('V1', 'C7', 'C2'): <gurobi.Constr *Awaiting Model Update*>,\n",
       " ('V1', 'C7', 'C3'): <gurobi.Constr *Awaiting Model Update*>,\n",
       " ('V1', 'C7', 'C4'): <gurobi.Constr *Awaiting Model Update*>,\n",
       " ('V1', 'C7', 'C5'): <gurobi.Constr *Awaiting Model Update*>,\n",
       " ('V1', 'C7', 'C6'): <gurobi.Constr *Awaiting Model Update*>,\n",
       " ('V1', 'C7', 'C8'): <gurobi.Constr *Awaiting Model Update*>,\n",
       " ('V1', 'C7', 'C9'): <gurobi.Constr *Awaiting Model Update*>,\n",
       " ('V1', 'C7', 'C10'): <gurobi.Constr *Awaiting Model Update*>,\n",
       " ('V1', 'C8', 'D0'): <gurobi.Constr *Awaiting Model Update*>,\n",
       " ('V1', 'C8', 'C1'): <gurobi.Constr *Awaiting Model Update*>,\n",
       " ('V1', 'C8', 'C2'): <gurobi.Constr *Awaiting Model Update*>,\n",
       " ('V1', 'C8', 'C3'): <gurobi.Constr *Awaiting Model Update*>,\n",
       " ('V1', 'C8', 'C4'): <gurobi.Constr *Awaiting Model Update*>,\n",
       " ('V1', 'C8', 'C5'): <gurobi.Constr *Awaiting Model Update*>,\n",
       " ('V1', 'C8', 'C6'): <gurobi.Constr *Awaiting Model Update*>,\n",
       " ('V1', 'C8', 'C7'): <gurobi.Constr *Awaiting Model Update*>,\n",
       " ('V1', 'C8', 'C9'): <gurobi.Constr *Awaiting Model Update*>,\n",
       " ('V1', 'C8', 'C10'): <gurobi.Constr *Awaiting Model Update*>,\n",
       " ('V1', 'C9', 'D0'): <gurobi.Constr *Awaiting Model Update*>,\n",
       " ('V1', 'C9', 'C1'): <gurobi.Constr *Awaiting Model Update*>,\n",
       " ('V1', 'C9', 'C2'): <gurobi.Constr *Awaiting Model Update*>,\n",
       " ('V1', 'C9', 'C3'): <gurobi.Constr *Awaiting Model Update*>,\n",
       " ('V1', 'C9', 'C4'): <gurobi.Constr *Awaiting Model Update*>,\n",
       " ('V1', 'C9', 'C5'): <gurobi.Constr *Awaiting Model Update*>,\n",
       " ('V1', 'C9', 'C6'): <gurobi.Constr *Awaiting Model Update*>,\n",
       " ('V1', 'C9', 'C7'): <gurobi.Constr *Awaiting Model Update*>,\n",
       " ('V1', 'C9', 'C8'): <gurobi.Constr *Awaiting Model Update*>,\n",
       " ('V1', 'C9', 'C10'): <gurobi.Constr *Awaiting Model Update*>,\n",
       " ('V1', 'C10', 'D0'): <gurobi.Constr *Awaiting Model Update*>,\n",
       " ('V1', 'C10', 'C1'): <gurobi.Constr *Awaiting Model Update*>,\n",
       " ('V1', 'C10', 'C2'): <gurobi.Constr *Awaiting Model Update*>,\n",
       " ('V1', 'C10', 'C3'): <gurobi.Constr *Awaiting Model Update*>,\n",
       " ('V1', 'C10', 'C4'): <gurobi.Constr *Awaiting Model Update*>,\n",
       " ('V1', 'C10', 'C5'): <gurobi.Constr *Awaiting Model Update*>,\n",
       " ('V1', 'C10', 'C6'): <gurobi.Constr *Awaiting Model Update*>,\n",
       " ('V1', 'C10', 'C7'): <gurobi.Constr *Awaiting Model Update*>,\n",
       " ('V1', 'C10', 'C8'): <gurobi.Constr *Awaiting Model Update*>,\n",
       " ('V1', 'C10', 'C9'): <gurobi.Constr *Awaiting Model Update*>,\n",
       " ('V2', 'D0', 'C1'): <gurobi.Constr *Awaiting Model Update*>,\n",
       " ('V2', 'D0', 'C2'): <gurobi.Constr *Awaiting Model Update*>,\n",
       " ('V2', 'D0', 'C3'): <gurobi.Constr *Awaiting Model Update*>,\n",
       " ('V2', 'D0', 'C4'): <gurobi.Constr *Awaiting Model Update*>,\n",
       " ('V2', 'D0', 'C5'): <gurobi.Constr *Awaiting Model Update*>,\n",
       " ('V2', 'D0', 'C6'): <gurobi.Constr *Awaiting Model Update*>,\n",
       " ('V2', 'D0', 'C7'): <gurobi.Constr *Awaiting Model Update*>,\n",
       " ('V2', 'D0', 'C8'): <gurobi.Constr *Awaiting Model Update*>,\n",
       " ('V2', 'D0', 'C9'): <gurobi.Constr *Awaiting Model Update*>,\n",
       " ('V2', 'D0', 'C10'): <gurobi.Constr *Awaiting Model Update*>,\n",
       " ('V2', 'C1', 'D0'): <gurobi.Constr *Awaiting Model Update*>,\n",
       " ('V2', 'C1', 'C2'): <gurobi.Constr *Awaiting Model Update*>,\n",
       " ('V2', 'C1', 'C3'): <gurobi.Constr *Awaiting Model Update*>,\n",
       " ('V2', 'C1', 'C4'): <gurobi.Constr *Awaiting Model Update*>,\n",
       " ('V2', 'C1', 'C5'): <gurobi.Constr *Awaiting Model Update*>,\n",
       " ('V2', 'C1', 'C6'): <gurobi.Constr *Awaiting Model Update*>,\n",
       " ('V2', 'C1', 'C7'): <gurobi.Constr *Awaiting Model Update*>,\n",
       " ('V2', 'C1', 'C8'): <gurobi.Constr *Awaiting Model Update*>,\n",
       " ('V2', 'C1', 'C9'): <gurobi.Constr *Awaiting Model Update*>,\n",
       " ('V2', 'C1', 'C10'): <gurobi.Constr *Awaiting Model Update*>,\n",
       " ('V2', 'C2', 'D0'): <gurobi.Constr *Awaiting Model Update*>,\n",
       " ('V2', 'C2', 'C1'): <gurobi.Constr *Awaiting Model Update*>,\n",
       " ('V2', 'C2', 'C3'): <gurobi.Constr *Awaiting Model Update*>,\n",
       " ('V2', 'C2', 'C4'): <gurobi.Constr *Awaiting Model Update*>,\n",
       " ('V2', 'C2', 'C5'): <gurobi.Constr *Awaiting Model Update*>,\n",
       " ('V2', 'C2', 'C6'): <gurobi.Constr *Awaiting Model Update*>,\n",
       " ('V2', 'C2', 'C7'): <gurobi.Constr *Awaiting Model Update*>,\n",
       " ('V2', 'C2', 'C8'): <gurobi.Constr *Awaiting Model Update*>,\n",
       " ('V2', 'C2', 'C9'): <gurobi.Constr *Awaiting Model Update*>,\n",
       " ('V2', 'C2', 'C10'): <gurobi.Constr *Awaiting Model Update*>,\n",
       " ('V2', 'C3', 'D0'): <gurobi.Constr *Awaiting Model Update*>,\n",
       " ('V2', 'C3', 'C1'): <gurobi.Constr *Awaiting Model Update*>,\n",
       " ('V2', 'C3', 'C2'): <gurobi.Constr *Awaiting Model Update*>,\n",
       " ('V2', 'C3', 'C4'): <gurobi.Constr *Awaiting Model Update*>,\n",
       " ('V2', 'C3', 'C5'): <gurobi.Constr *Awaiting Model Update*>,\n",
       " ('V2', 'C3', 'C6'): <gurobi.Constr *Awaiting Model Update*>,\n",
       " ('V2', 'C3', 'C7'): <gurobi.Constr *Awaiting Model Update*>,\n",
       " ('V2', 'C3', 'C8'): <gurobi.Constr *Awaiting Model Update*>,\n",
       " ('V2', 'C3', 'C9'): <gurobi.Constr *Awaiting Model Update*>,\n",
       " ('V2', 'C3', 'C10'): <gurobi.Constr *Awaiting Model Update*>,\n",
       " ('V2', 'C4', 'D0'): <gurobi.Constr *Awaiting Model Update*>,\n",
       " ('V2', 'C4', 'C1'): <gurobi.Constr *Awaiting Model Update*>,\n",
       " ('V2', 'C4', 'C2'): <gurobi.Constr *Awaiting Model Update*>,\n",
       " ('V2', 'C4', 'C3'): <gurobi.Constr *Awaiting Model Update*>,\n",
       " ('V2', 'C4', 'C5'): <gurobi.Constr *Awaiting Model Update*>,\n",
       " ('V2', 'C4', 'C6'): <gurobi.Constr *Awaiting Model Update*>,\n",
       " ('V2', 'C4', 'C7'): <gurobi.Constr *Awaiting Model Update*>,\n",
       " ('V2', 'C4', 'C8'): <gurobi.Constr *Awaiting Model Update*>,\n",
       " ('V2', 'C4', 'C9'): <gurobi.Constr *Awaiting Model Update*>,\n",
       " ('V2', 'C4', 'C10'): <gurobi.Constr *Awaiting Model Update*>,\n",
       " ('V2', 'C5', 'D0'): <gurobi.Constr *Awaiting Model Update*>,\n",
       " ('V2', 'C5', 'C1'): <gurobi.Constr *Awaiting Model Update*>,\n",
       " ('V2', 'C5', 'C2'): <gurobi.Constr *Awaiting Model Update*>,\n",
       " ('V2', 'C5', 'C3'): <gurobi.Constr *Awaiting Model Update*>,\n",
       " ('V2', 'C5', 'C4'): <gurobi.Constr *Awaiting Model Update*>,\n",
       " ('V2', 'C5', 'C6'): <gurobi.Constr *Awaiting Model Update*>,\n",
       " ('V2', 'C5', 'C7'): <gurobi.Constr *Awaiting Model Update*>,\n",
       " ('V2', 'C5', 'C8'): <gurobi.Constr *Awaiting Model Update*>,\n",
       " ('V2', 'C5', 'C9'): <gurobi.Constr *Awaiting Model Update*>,\n",
       " ('V2', 'C5', 'C10'): <gurobi.Constr *Awaiting Model Update*>,\n",
       " ('V2', 'C6', 'D0'): <gurobi.Constr *Awaiting Model Update*>,\n",
       " ('V2', 'C6', 'C1'): <gurobi.Constr *Awaiting Model Update*>,\n",
       " ('V2', 'C6', 'C2'): <gurobi.Constr *Awaiting Model Update*>,\n",
       " ('V2', 'C6', 'C3'): <gurobi.Constr *Awaiting Model Update*>,\n",
       " ('V2', 'C6', 'C4'): <gurobi.Constr *Awaiting Model Update*>,\n",
       " ('V2', 'C6', 'C5'): <gurobi.Constr *Awaiting Model Update*>,\n",
       " ('V2', 'C6', 'C7'): <gurobi.Constr *Awaiting Model Update*>,\n",
       " ('V2', 'C6', 'C8'): <gurobi.Constr *Awaiting Model Update*>,\n",
       " ('V2', 'C6', 'C9'): <gurobi.Constr *Awaiting Model Update*>,\n",
       " ('V2', 'C6', 'C10'): <gurobi.Constr *Awaiting Model Update*>,\n",
       " ('V2', 'C7', 'D0'): <gurobi.Constr *Awaiting Model Update*>,\n",
       " ('V2', 'C7', 'C1'): <gurobi.Constr *Awaiting Model Update*>,\n",
       " ('V2', 'C7', 'C2'): <gurobi.Constr *Awaiting Model Update*>,\n",
       " ('V2', 'C7', 'C3'): <gurobi.Constr *Awaiting Model Update*>,\n",
       " ('V2', 'C7', 'C4'): <gurobi.Constr *Awaiting Model Update*>,\n",
       " ('V2', 'C7', 'C5'): <gurobi.Constr *Awaiting Model Update*>,\n",
       " ('V2', 'C7', 'C6'): <gurobi.Constr *Awaiting Model Update*>,\n",
       " ('V2', 'C7', 'C8'): <gurobi.Constr *Awaiting Model Update*>,\n",
       " ('V2', 'C7', 'C9'): <gurobi.Constr *Awaiting Model Update*>,\n",
       " ('V2', 'C7', 'C10'): <gurobi.Constr *Awaiting Model Update*>,\n",
       " ('V2', 'C8', 'D0'): <gurobi.Constr *Awaiting Model Update*>,\n",
       " ('V2', 'C8', 'C1'): <gurobi.Constr *Awaiting Model Update*>,\n",
       " ('V2', 'C8', 'C2'): <gurobi.Constr *Awaiting Model Update*>,\n",
       " ('V2', 'C8', 'C3'): <gurobi.Constr *Awaiting Model Update*>,\n",
       " ('V2', 'C8', 'C4'): <gurobi.Constr *Awaiting Model Update*>,\n",
       " ('V2', 'C8', 'C5'): <gurobi.Constr *Awaiting Model Update*>,\n",
       " ('V2', 'C8', 'C6'): <gurobi.Constr *Awaiting Model Update*>,\n",
       " ('V2', 'C8', 'C7'): <gurobi.Constr *Awaiting Model Update*>,\n",
       " ('V2', 'C8', 'C9'): <gurobi.Constr *Awaiting Model Update*>,\n",
       " ('V2', 'C8', 'C10'): <gurobi.Constr *Awaiting Model Update*>,\n",
       " ('V2', 'C9', 'D0'): <gurobi.Constr *Awaiting Model Update*>,\n",
       " ('V2', 'C9', 'C1'): <gurobi.Constr *Awaiting Model Update*>,\n",
       " ('V2', 'C9', 'C2'): <gurobi.Constr *Awaiting Model Update*>,\n",
       " ('V2', 'C9', 'C3'): <gurobi.Constr *Awaiting Model Update*>,\n",
       " ('V2', 'C9', 'C4'): <gurobi.Constr *Awaiting Model Update*>,\n",
       " ('V2', 'C9', 'C5'): <gurobi.Constr *Awaiting Model Update*>,\n",
       " ('V2', 'C9', 'C6'): <gurobi.Constr *Awaiting Model Update*>,\n",
       " ('V2', 'C9', 'C7'): <gurobi.Constr *Awaiting Model Update*>,\n",
       " ('V2', 'C9', 'C8'): <gurobi.Constr *Awaiting Model Update*>,\n",
       " ('V2', 'C9', 'C10'): <gurobi.Constr *Awaiting Model Update*>,\n",
       " ('V2', 'C10', 'D0'): <gurobi.Constr *Awaiting Model Update*>,\n",
       " ('V2', 'C10', 'C1'): <gurobi.Constr *Awaiting Model Update*>,\n",
       " ('V2', 'C10', 'C2'): <gurobi.Constr *Awaiting Model Update*>,\n",
       " ('V2', 'C10', 'C3'): <gurobi.Constr *Awaiting Model Update*>,\n",
       " ('V2', 'C10', 'C4'): <gurobi.Constr *Awaiting Model Update*>,\n",
       " ('V2', 'C10', 'C5'): <gurobi.Constr *Awaiting Model Update*>,\n",
       " ('V2', 'C10', 'C6'): <gurobi.Constr *Awaiting Model Update*>,\n",
       " ('V2', 'C10', 'C7'): <gurobi.Constr *Awaiting Model Update*>,\n",
       " ('V2', 'C10', 'C8'): <gurobi.Constr *Awaiting Model Update*>,\n",
       " ('V2', 'C10', 'C9'): <gurobi.Constr *Awaiting Model Update*>}"
      ]
     },
     "execution_count": 28,
     "metadata": {},
     "output_type": "execute_result"
    }
   ],
   "source": [
    "#constraints\n",
    "# Each customer is visited by exactly one truck\n",
    "model.addConstrs((quicksum(x[v, i, j] for v in V for j in N if i != j) == 1 for i in N_customers), name='Each_customer_visited_once')\n",
    "\n",
    "# Each truck leaves the depot\n",
    "model.addConstrs((quicksum(x[v, 'D0', j] for j in N_customers) == y[v] for v in V), name='Truck_leaves_depot')\n",
    "\n",
    "# Each truck returns to the depot\n",
    "model.addConstrs((quicksum(x[v, i, 'D0'] for i in N_customers) == y[v] for v in V), name='Truck_returns_depot')\n",
    "\n",
    "# If a vechicle arrives at a customer node, it must leave the node\n",
    "model.addConstrs((quicksum(x[v, i, j] for j in N if i != j) == quicksum(x[v, j, k] for j in N if j != k) for v in V for i in N_customers for k in N_customers if i != k), name='Flow')\n",
    "\n",
    "# Time at the node is equal or larger than time at previous node\n",
    "# plus travel time. Eliminates need for subtour constraints\n",
    "model.addConstrs((t[v, j] >= t[v, i] + time_dict[i, j] - M*(1-x[v, i, j]) for v in V for i in N for j in N if i != j), name='Time_constraint')\n",
    "\n",
    "# Payload for all visited customer nodes per vehicle is less than limit\n",
    "#model.addConstrs((quicksum(dataset.data[j]['Demand']*x[v, i, j] for j in N_customers) <= Q_T for v in V for i in N_customers), name='Payload_limit')"
   ]
  },
  {
   "cell_type": "markdown",
   "metadata": {},
   "source": [
    "Run the optimiser"
   ]
  },
  {
   "cell_type": "code",
   "execution_count": 29,
   "metadata": {},
   "outputs": [
    {
     "name": "stdout",
     "output_type": "stream",
     "text": [
      "Gurobi Optimizer version 11.0.2 build v11.0.2rc0 (win64 - Windows 11.0 (22631.2))\n",
      "\n",
      "CPU model: Intel(R) Core(TM) i7-9750H CPU @ 2.60GHz, instruction set [SSE2|AVX|AVX2]\n",
      "Thread count: 6 physical cores, 12 logical processors, using up to 12 threads\n",
      "\n",
      "Academic license 2518537 - for non-commercial use only - registered to j.___@student.tudelft.nl\n",
      "Optimize a model with 414 rows, 244 columns and 4144 nonzeros\n",
      "Model fingerprint: 0xe3aa6742\n",
      "Variable types: 22 continuous, 222 integer (222 binary)\n",
      "Coefficient statistics:\n",
      "  Matrix range     [1e+00, 5e+02]\n",
      "  Objective range  [5e+01, 8e+02]\n",
      "  Bounds range     [1e+00, 1e+00]\n",
      "  RHS range        [1e+00, 5e+02]\n",
      "Presolve time: 0.04s\n",
      "Presolved: 414 rows, 244 columns, 4144 nonzeros\n",
      "Variable types: 22 continuous, 222 integer (222 binary)\n",
      "\n",
      "Root relaxation: objective 1.605000e+03, 35 iterations, 0.00 seconds (0.00 work units)\n",
      "\n",
      "    Nodes    |    Current Node    |     Objective Bounds      |     Work\n",
      " Expl Unexpl |  Obj  Depth IntInf | Incumbent    BestBd   Gap | It/Node Time\n",
      "\n",
      "     0     0 1605.00000    0   20          - 1605.00000      -     -    0s\n",
      "     0     0 1605.00000    0   20          - 1605.00000      -     -    0s\n",
      "     0     0 1700.05918    0   22          - 1700.05918      -     -    0s\n",
      "     0     0 1820.00000    0   20          - 1820.00000      -     -    0s\n",
      "     0     0 1825.00000    0   20          - 1825.00000      -     -    0s\n",
      "     0     0 2035.00000    0   20          - 2035.00000      -     -    0s\n",
      "     0     0 2038.33333    0   20          - 2038.33333      -     -    0s\n",
      "     0     0 2045.00000    0   20          - 2045.00000      -     -    0s\n",
      "     0     0 2045.00000    0   20          - 2045.00000      -     -    0s\n",
      "     0     0 2045.00000    0   20          - 2045.00000      -     -    0s\n",
      "     0     0 2045.00000    0   20          - 2045.00000      -     -    0s\n",
      "     0     0 2045.00000    0   20          - 2045.00000      -     -    0s\n",
      "     0     0 2045.00000    0   20          - 2045.00000      -     -    0s\n",
      "     0     0 2045.00000    0   20          - 2045.00000      -     -    0s\n",
      "     0     0 2045.00000    0   20          - 2045.00000      -     -    0s\n",
      "     0     0 2045.00000    0   20          - 2045.00000      -     -    0s\n",
      "     0     2 2045.03863    0   20          - 2045.03863      -     -    0s\n",
      " 45817 17972 3204.73600   37    4          - 2487.81070      -   3.9    5s\n",
      " 141897 50457 infeasible   36               - 2680.00000      -   3.9   10s\n",
      " 241792 81891 2950.90960   37   13          - 2775.12833      -   3.9   15s\n",
      " 338105 109588 infeasible   39               - 2845.78960      -   3.9   20s\n",
      " 439075 138139 infeasible   46               - 2908.31072      -   3.9   25s\n",
      " 536628 164322 3901.09257   33    4          - 2960.00000      -   3.9   30s\n",
      " 633758 189188 3921.78533   44    4          - 3000.46303      -   3.9   35s\n",
      " 720601 211125 infeasible   46               - 3035.27000      -   3.9   40s\n",
      " 819798 235313 3356.24135   39   10          - 3070.10980      -   3.9   45s\n",
      " 918897 258630 infeasible   51               - 3100.55587      -   3.9   50s\n",
      " 1017934 281106 4670.12390   46    6          - 3130.49817      -   3.9   55s\n",
      " 1097095 298397 3155.68358   40    4          - 3155.00000      -   3.9   60s\n",
      " 1202117 321869 infeasible   47               - 3185.00000      -   3.9   65s\n",
      " 1300437 342787 infeasible   46               - 3210.00000      -   3.9   70s\n",
      " 1397912 362744 3931.33000   43    6          - 3235.00000      -   3.9   75s\n",
      " 1488058 381883 4277.07625   46    4          - 3253.81399      -   3.9   80s\n",
      " 1566369 398470 3270.65953   46   11          - 3270.18893      -   3.9   85s\n",
      " 1644872 413987 3293.75060   43    4          - 3290.00000      -   3.9   90s\n",
      " 1721706 429197 3305.57287   39    6          - 3305.00000      -   3.9   95s\n",
      " 1815882 447358 4540.51173   52    4          - 3325.00000      -   3.9  100s\n",
      " 1903024 464239 4210.84790   40    4          - 3340.08100      -   3.9  105s\n",
      " 1988636 480751 4705.73821   57    6          - 3355.34718      -   3.9  110s\n",
      " 2081401 497424 infeasible   41               - 3375.00000      -   3.9  115s\n",
      " 2165965 512721 4721.78677   41    4          - 3390.00000      -   3.9  120s\n",
      " 2227603 524204 3443.10173   40    7          - 3400.07920      -   3.9  125s\n"
     ]
    }
   ],
   "source": [
    "#objective function (minimise cost both due to tranportation and basis cost of using truck (if active, i.e. y=1))\n",
    "cost_obj = quicksum(C_T * distance_dict[i,j] * x[v,i,j] for i in N for j in N if i != j for v in V) + quicksum(C_B * y[v] for v in V)\n",
    "model.setObjective(cost_obj, GRB.MINIMIZE)\n",
    "model.update()\n",
    "model.write('TruckonlySimple.lp')\n",
    "#tune solver before optimizing to reduce time it takes\n",
    "#model.tune()\n",
    "model.optimize()"
   ]
  },
  {
   "cell_type": "markdown",
   "metadata": {},
   "source": [
    "Post-processing"
   ]
  },
  {
   "cell_type": "code",
   "execution_count": null,
   "metadata": {},
   "outputs": [
    {
     "ename": "AttributeError",
     "evalue": "Unable to retrieve attribute 'x'",
     "output_type": "error",
     "traceback": [
      "\u001b[1;31m---------------------------------------------------------------------------\u001b[0m",
      "\u001b[1;31mAttributeError\u001b[0m                            Traceback (most recent call last)",
      "Cell \u001b[1;32mIn[18], line 4\u001b[0m\n\u001b[0;32m      2\u001b[0m solution \u001b[38;5;241m=\u001b[39m {}\n\u001b[0;32m      3\u001b[0m \u001b[38;5;28;01mfor\u001b[39;00m var \u001b[38;5;129;01min\u001b[39;00m model\u001b[38;5;241m.\u001b[39mgetVars():\n\u001b[1;32m----> 4\u001b[0m     solution[var\u001b[38;5;241m.\u001b[39mvarName] \u001b[38;5;241m=\u001b[39m \u001b[43mvar\u001b[49m\u001b[38;5;241;43m.\u001b[39;49m\u001b[43mx\u001b[49m\n\u001b[0;32m      6\u001b[0m \u001b[38;5;66;03m#exctract active vehicles\u001b[39;00m\n\u001b[0;32m      7\u001b[0m active_vehicles \u001b[38;5;241m=\u001b[39m [v \u001b[38;5;28;01mfor\u001b[39;00m v \u001b[38;5;129;01min\u001b[39;00m V \u001b[38;5;28;01mif\u001b[39;00m solution[\u001b[38;5;124mf\u001b[39m\u001b[38;5;124m'\u001b[39m\u001b[38;5;124my[\u001b[39m\u001b[38;5;132;01m{\u001b[39;00mv\u001b[38;5;132;01m}\u001b[39;00m\u001b[38;5;124m]\u001b[39m\u001b[38;5;124m'\u001b[39m] \u001b[38;5;241m>\u001b[39m\u001b[38;5;241m=\u001b[39m \u001b[38;5;241m0.99\u001b[39m]\n",
      "File \u001b[1;32msrc\\\\gurobipy\\\\var.pxi:125\u001b[0m, in \u001b[0;36mgurobipy.Var.__getattr__\u001b[1;34m()\u001b[0m\n",
      "File \u001b[1;32msrc\\\\gurobipy\\\\var.pxi:153\u001b[0m, in \u001b[0;36mgurobipy.Var.getAttr\u001b[1;34m()\u001b[0m\n",
      "File \u001b[1;32msrc\\\\gurobipy\\\\attrutil.pxi:103\u001b[0m, in \u001b[0;36mgurobipy._getattr\u001b[1;34m()\u001b[0m\n",
      "\u001b[1;31mAttributeError\u001b[0m: Unable to retrieve attribute 'x'"
     ]
    }
   ],
   "source": [
    "## POST-PROCESSING ##\n",
    "solution = {}\n",
    "for var in model.getVars():\n",
    "    solution[var.varName] = var.x\n",
    "\n",
    "#exctract active vehicles\n",
    "active_vehicles = [v for v in V if solution[f'y[{v}]'] >= 0.99]\n",
    "#extract routes\n",
    "active_routes = {}\n",
    "for v in active_vehicles:\n",
    "    active_routes[v] = [i for i in N if solution[f'x[{v},{i},D0]'] >= 0.99] #start with depot\n",
    "    while active_routes[v][-1] != 'D0':\n",
    "        for j in N:\n",
    "            if solution[f'x[{v},{active_routes[v][-1]},{j}]'] >= 0.99:\n",
    "                active_routes[v].append(j)\n",
    "                break\n",
    "\n",
    "#retrieve timestamps of customer visits\n",
    "timestamps = {}\n",
    "for v in active_vehicles:\n",
    "    timestamps[v] = {}\n",
    "    for i in N_customers:\n",
    "        timestamps[v][i] = solution[f't[{v},{i}]']\n",
    "\n",
    "#print all solution variables which have value of 1\n",
    "print([var for var in solution.keys() if solution[var] >=0.9])\n",
    "print(active_routes)\n",
    "#plot routes\n",
    "dataset.plot_data(show_demand=True, scale_nodes=True, show_labels=False, active_routes=active_routes)"
   ]
  }
 ],
 "metadata": {
  "kernelspec": {
   "display_name": "Python 3",
   "language": "python",
   "name": "python3"
  },
  "language_info": {
   "codemirror_mode": {
    "name": "ipython",
    "version": 3
   },
   "file_extension": ".py",
   "mimetype": "text/x-python",
   "name": "python",
   "nbconvert_exporter": "python",
   "pygments_lexer": "ipython3",
   "version": "3.9.19"
  }
 },
 "nbformat": 4,
 "nbformat_minor": 2
}
