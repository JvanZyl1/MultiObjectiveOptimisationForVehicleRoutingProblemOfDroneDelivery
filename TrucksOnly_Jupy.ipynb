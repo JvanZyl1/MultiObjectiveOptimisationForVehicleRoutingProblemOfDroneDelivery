{
 "cells": [
  {
   "cell_type": "markdown",
   "metadata": {},
   "source": [
    "# Trucks only problem #"
   ]
  },
  {
   "cell_type": "markdown",
   "metadata": {},
   "source": [
    "Install necessary packages"
   ]
  },
  {
   "cell_type": "code",
   "execution_count": 1,
   "metadata": {},
   "outputs": [],
   "source": [
    "from gurobipy import Model,GRB,LinExpr,quicksum\n",
    "import numpy as np\n",
    "from scipy.spatial import distance\n",
    "import os\n",
    "import socket\n",
    "from load_dataset import Dataset"
   ]
  },
  {
   "cell_type": "markdown",
   "metadata": {},
   "source": [
    "For Ugo's laptop"
   ]
  },
  {
   "cell_type": "code",
   "execution_count": 2,
   "metadata": {},
   "outputs": [
    {
     "name": "stdout",
     "output_type": "stream",
     "text": [
      "Not Ugo's MacBook Pro, using default or no specific license settings.\n"
     ]
    }
   ],
   "source": [
    "# Define the node name or another identifier of your laptop\n",
    "my_laptop_node = 'Ugos-MacBook-Pro.local'\n",
    "\n",
    "# Get the current system's node name using socket.gethostname()\n",
    "current_node = socket.gethostname()\n",
    "\n",
    "if current_node == my_laptop_node:\n",
    "    # Set the environment variable for Gurobi license file\n",
    "    os.environ[\"GRB_LICENSE_FILE\"] = \"/Users/ugomunzi/gurobi/licenses/gurobi.lic\"\n",
    "    print(\"Gurobi license path set for Ugo's MacBook Pro.\")\n",
    "else:\n",
    "    print(\"Not Ugo's MacBook Pro, using default or no specific license settings.\")"
   ]
  },
  {
   "cell_type": "markdown",
   "metadata": {},
   "source": [
    "Define model parametres"
   ]
  },
  {
   "cell_type": "code",
   "execution_count": 3,
   "metadata": {},
   "outputs": [],
   "source": [
    "## MODEL PARAMETERS ##\n",
    "W_T = 1500 #empty weight truck [kg]\n",
    "Q_T = 1000 #load capacity of trucks [kg]\n",
    "#W_D = 25 #empty weight drone [kg]\n",
    "#Q_D = 5 #load capacity of drones [kg]\n",
    "C_T = 25 #travel cost of trucks per unit distance [monetary unit/km]\n",
    "#C_D = 1 #travel cost of drones per unit distance [monetary unit/km]\n",
    "C_B = 500 #basis cost of using a truck equipped with a drone [monetary unit]\n",
    "#E = 0.5 #maximum endurance of empty drones [hours]\n",
    "S_T = 60 #average travel speed of the trucks [km/h]\n",
    "#S_D = 65 #average travel speed of the drones [km/h]"
   ]
  },
  {
   "cell_type": "markdown",
   "metadata": {},
   "source": [
    "Define Big M constant"
   ]
  },
  {
   "cell_type": "code",
   "execution_count": 4,
   "metadata": {},
   "outputs": [],
   "source": [
    "M = 500 #big M constant for big M method"
   ]
  },
  {
   "cell_type": "markdown",
   "metadata": {},
   "source": [
    "Load Dataset using load_dataset.py"
   ]
  },
  {
   "cell_type": "code",
   "execution_count": 5,
   "metadata": {},
   "outputs": [],
   "source": [
    "## LOAD DATASET ##\n",
    "current_dir = os.getcwd()\n",
    "# Select which data folder to use\n",
    "data_subfolder = '0.3'\n",
    "data_subfoldercopy = '0.3_copy'\n",
    "data_num_nodes = '40'\n",
    "data_area = '20'\n",
    "\n",
    "data_file_name = f'{data_num_nodes}_{data_area}_{data_subfoldercopy}'\n",
    "dataset_path = f'dataset/{data_subfolder}/{data_file_name}.txt'\n",
    "output_file_path = os.path.join(current_dir, data_file_name + '_solution.sol')#used to save solution file\n",
    "\n",
    "dataset = Dataset(dataset_path)\n",
    "\n"
   ]
  },
  {
   "cell_type": "markdown",
   "metadata": {},
   "source": [
    "Pre-processing"
   ]
  },
  {
   "cell_type": "code",
   "execution_count": 6,
   "metadata": {},
   "outputs": [],
   "source": [
    "## FUNCTIONS ##\n",
    "def get_manhattan_distance(data):\n",
    "    \"\"\"\n",
    "    Returns a dictionary with manhattan distances between all nodes in dataset\n",
    "    \"\"\"\n",
    "    distance_dict = {}\n",
    "    for node1 in data.keys():\n",
    "        for node2 in data.keys():\n",
    "            distance_dict[node1, node2] = distance.cityblock([data[node1]['X'], data[node1]['Y']], [data[node2]['X'], data[node2]['Y']])\n",
    "    return distance_dict\n",
    "\n",
    "def get_time_dict(data, S_T, distance_dict):\n",
    "    \"\"\"\n",
    "    Returns a dictionary with travel times between all nodes in dataset\n",
    "    \"\"\"\n",
    "    time_dict = {}\n",
    "    for node1 in data.keys():\n",
    "        for node2 in data.keys():\n",
    "            time_dict[node1, node2] = distance_dict[node1, node2] / S_T\n",
    "    return time_dict\n",
    "\n",
    "\n",
    "num_trucks = 10\n",
    "truck_distance_dict = get_manhattan_distance(dataset.data)\n",
    "truck_time_dict = get_time_dict(dataset.data, S_T, truck_distance_dict)\n",
    "\n",
    "#definitions of N_0, N and N_plus follow from paper\n",
    "N = list(dataset.data.keys()) #set of nodes with depot at start\n",
    "N_customers = N.copy()\n",
    "N_customers.remove('D0')\n",
    "Tr = [f'Tr{i}' for i in range(1, num_trucks+1)] #set of trucks"
   ]
  },
  {
   "cell_type": "markdown",
   "metadata": {},
   "source": [
    "Define the model"
   ]
  },
  {
   "cell_type": "code",
   "execution_count": 7,
   "metadata": {},
   "outputs": [
    {
     "name": "stdout",
     "output_type": "stream",
     "text": [
      "Set parameter WLSAccessID\n",
      "Set parameter WLSSecret\n",
      "Set parameter LicenseID to value 2518537\n",
      "Academic license 2518537 - for non-commercial use only - registered to j.___@student.tudelft.nl\n"
     ]
    }
   ],
   "source": [
    "# Define your data here\n",
    "# Assume distance_dict, C_T, C_B, N, V, N_customers, time_dict, M, Q_T are all defined as per your problem context\n",
    "\n",
    "# Create a new model\n",
    "model = Model(\"Truck_Routing\")\n",
    "\n",
    "# Define decision variables\n",
    "x = model.addVars(Tr, [(i, j) for i in N for j in N if i != j], lb=0, ub=1, vtype=GRB.BINARY, name='x')\n",
    "y = model.addVars(Tr, lb=0, ub=1, vtype=GRB.BINARY, name='y')\n",
    "t = model.addVars(Tr, N, lb=0, vtype=GRB.CONTINUOUS, name='t')\n",
    "t_max = model.addVar(lb=0, vtype=GRB.CONTINUOUS, name='t_max') #used for the minimising the max delivery time (find max time of all trucks, not each individual truck)\n",
    "\n",
    "# Objective 1: Cost both due to transportation and base cost of using truck if active)\n",
    "cost_obj = quicksum(C_T * truck_distance_dict[i,j] * x[truck,i,j] for i in N for j in N if i != j for truck in Tr) + \\\n",
    "           quicksum(C_B * y[truck] for truck in Tr)\n",
    "# Objective 2: environmental_obj is distance[i,j] * Weight* x[v,i,j] for all v,i,j (i.e. energy consumption)\n",
    "environmental_obj = quicksum(truck_distance_dict[i,j] * W_T * x[truck,i,j] for i in N for j in N if i != j for truck in Tr)\n",
    "# Objective 3: minimise max delivery time for each truck\n",
    "time_obj = t_max\n",
    "\n",
    "obj = cost_obj + environmental_obj + time_obj\n",
    "model.setObjective(obj, GRB.MINIMIZE)\n",
    "\n",
    "model.update()"
   ]
  },
  {
   "cell_type": "markdown",
   "metadata": {},
   "source": [
    "Constraint 1: Each customer is visited by exactly one truck"
   ]
  },
  {
   "cell_type": "code",
   "execution_count": 8,
   "metadata": {},
   "outputs": [],
   "source": [
    "# Constraint 1: Each customer is visited by exactly one truck\n",
    "\n",
    "# Each customer is visited by exactly one vehicle\n",
    "constraints = {}\n",
    "# Loop over each customer\n",
    "for customer in N_customers:\n",
    "    # Initialize the sum for the current customer\n",
    "    sum_for_current_customer = 0\n",
    "\n",
    "    # Loop over each truck\n",
    "    for truck in Tr:\n",
    "        # Loop over each node\n",
    "        for node in N:\n",
    "            # Skip if customer is equal to node\n",
    "            if customer != node:\n",
    "                # Add the variable to the sum\n",
    "                sum_for_current_customer += x[truck, node, customer]\n",
    "\n",
    "    # The sum for the current customer must be equal to 1\n",
    "    constraints[customer] = model.addConstr(sum_for_current_customer == 1, name=f'Customer_{customer}_visited_once')\n"
   ]
  },
  {
   "cell_type": "markdown",
   "metadata": {},
   "source": [
    "Constraint 2: Each depot must be visited exactly once"
   ]
  },
  {
   "cell_type": "code",
   "execution_count": 9,
   "metadata": {},
   "outputs": [],
   "source": [
    "# Constraint 2: Each depot must be visited exactly once\n",
    "\n",
    "# Each truck must leave the depot\n",
    "# y - active\n",
    "# 'D0' - depot\n",
    "# Loop over each truck\n",
    "for truck in Tr:\n",
    "    sum_for_current_vehicle = quicksum(x[truck, 'D0', customer] for customer in N_customers)\n",
    "    model.addConstr(sum_for_current_vehicle == y[truck], name=f'Truck_leaves_depot_{truck}')\n"
   ]
  },
  {
   "cell_type": "markdown",
   "metadata": {},
   "source": [
    "Constraint 3: Each vehicle arrives at depot if active"
   ]
  },
  {
   "cell_type": "code",
   "execution_count": 10,
   "metadata": {},
   "outputs": [],
   "source": [
    "\n",
    "# Constraint 3: Each truck arrives at depot if active : TRUCKS\n",
    "\n",
    "# Each truck must return to the depot\n",
    "# Loop over each truck\n",
    "for truck in Tr:\n",
    "    sum_for_current_vehicle = quicksum(x[truck, customer, 'D0'] for customer in N_customers)\n",
    "    model.addConstr(sum_for_current_vehicle == y[truck], name=f'Truck_returns_to_depot_{truck}')\n"
   ]
  },
  {
   "cell_type": "markdown",
   "metadata": {},
   "source": [
    "Constraint 4: If a vehicle arrives at a customer node it must also leave"
   ]
  },
  {
   "cell_type": "code",
   "execution_count": 11,
   "metadata": {},
   "outputs": [],
   "source": [
    "# Constraint 4: If a truck arrives at a customer node it must also leave\n",
    "\n",
    "# If a truck visits a customer, it must leave the customer\n",
    "for truck in Tr:\n",
    "    for node in N_customers:\n",
    "        model.addConstr(\n",
    "            quicksum(x[truck, node, j] for j in N if j != node) == \n",
    "            quicksum(x[truck, j, node] for j in N if j != node),\n",
    "            name=f'Flow_balance_{truck}_{node}'\n",
    "        )\n"
   ]
  },
  {
   "cell_type": "markdown",
   "metadata": {},
   "source": [
    "Constraint 5: Time at a node is equal or larger than time at previous nodes plus travel time (or irrelevant). Eliminates need for subtour constraints."
   ]
  },
  {
   "cell_type": "code",
   "execution_count": 12,
   "metadata": {},
   "outputs": [],
   "source": [
    "'''\n",
    "#Constraint 5: Time at a node is equal or larger than time at previous nodes plus travel time (or irrelevant). Eliminates need for subtour constraints.\n",
    "# Define a large constant M for the big-M method : TRUCKS\n",
    "'''\n",
    "M_subtour = 60000000  # Make sure M is larger than the maximum possible travel time\n",
    "\n",
    "# Add time constraints for all vehicles, nodes, and customers\n",
    "for truck in Tr:\n",
    "    for node in N:\n",
    "        for customer in N:\n",
    "            if node != customer:\n",
    "                model.addConstr(\n",
    "                    t[truck, customer] >= t[truck, node] + truck_time_dict[(node, customer)] - M_subtour * (1 - x[truck, node, customer]),\n",
    "                    name=f'Time_{truck}_{node}_{customer}'\n",
    "                )"
   ]
  },
  {
   "cell_type": "markdown",
   "metadata": {},
   "source": [
    "Constraint 6: Payloads"
   ]
  },
  {
   "cell_type": "code",
   "execution_count": 13,
   "metadata": {},
   "outputs": [],
   "source": [
    "# Constraint 6: Payloads : TRUCKS\n",
    "# The total payload delivered to the customer must be less or equal to the truck load capacity Q_T\n",
    "for truck in Tr:\n",
    "    model.addConstr(quicksum(dataset.data[i]['Demand'] * x[truck, i, j] for i in N for j in N if i != j) <= Q_T, \n",
    "                    name=f'Payload_{truck}')"
   ]
  },
  {
   "cell_type": "markdown",
   "metadata": {},
   "source": [
    "Constraint 7 : link y variable to x variable."
   ]
  },
  {
   "cell_type": "code",
   "execution_count": 14,
   "metadata": {},
   "outputs": [],
   "source": [
    "# Constraint 7: Link y variable to x variable : TRUCKS\n",
    "#if any link in x (for each truck) is active -> y = 1\n",
    "# can do this by checking if each truck leaves the depot (all trucks must leave depot if active)\n",
    "\n",
    "for truck in Tr:\n",
    "    model.addConstr(y[truck] == quicksum(x[truck, 'D0', i] for i in N_customers), name=f'Link_y{truck}_to_x_{truck}')\n"
   ]
  },
  {
   "cell_type": "markdown",
   "metadata": {},
   "source": [
    "Constraint 8: update time variables."
   ]
  },
  {
   "cell_type": "code",
   "execution_count": 15,
   "metadata": {},
   "outputs": [],
   "source": [
    "# Constraint 8: Update time variable : TRUCKS\n",
    "# Loop over each truck\n",
    "for truck in Tr:\n",
    "    # Loop over each customer\n",
    "    for customer in N_customers:\n",
    "        # Initialize the sum for the current customer\n",
    "        sum_for_current_customer = 0\n",
    "\n",
    "        # Loop over each node\n",
    "        for node in N:\n",
    "            # Skip the current customer\n",
    "            if node != customer:\n",
    "                # Add the time at which the truck leaves the node plus the travel time from the node to the customer,\n",
    "                # multiplied by the decision variable indicating whether the truck travels from the node to the customer,\n",
    "                # to the sum for the current customer\n",
    "                sum_for_current_customer += (t[truck, node] + truck_time_dict[(node, customer)]) * x[truck, node, customer]\n",
    "\n",
    "        # Add a constraint to the model that the time at which the truck arrives at the customer is equal to the sum for the current customer\n",
    "        model.addConstr(t[truck, customer] == sum_for_current_customer, name=f'Update_time_{truck}_{customer}')\n"
   ]
  },
  {
   "cell_type": "markdown",
   "metadata": {},
   "source": [
    "Constraint 9: update max delivery time variable."
   ]
  },
  {
   "cell_type": "code",
   "execution_count": 16,
   "metadata": {},
   "outputs": [],
   "source": [
    "# Constraint 9: Update max delivery time variable\n",
    "for truck in Tr:\n",
    "    for customer in N_customers:\n",
    "        # Add a constraint to the model that the maximum delivery time is greater than or equal to the delivery time to the customer for each vehicle\n",
    "        model.addConstr(t_max >= t[truck, customer], name=f'Update_max_delivery_time_{truck}_{customer}')"
   ]
  },
  {
   "cell_type": "markdown",
   "metadata": {},
   "source": [
    "Update, tune and run the model"
   ]
  },
  {
   "cell_type": "code",
   "execution_count": 17,
   "metadata": {},
   "outputs": [
    {
     "name": "stdout",
     "output_type": "stream",
     "text": [
      "Gurobi Optimizer version 11.0.2 build v11.0.2rc0 (win64 - Windows 11.0 (22631.2))\n",
      "\n",
      "CPU model: Intel(R) Core(TM) i7-9750H CPU @ 2.60GHz, instruction set [SSE2|AVX|AVX2]\n",
      "Thread count: 6 physical cores, 12 logical processors, using up to 12 threads\n",
      "\n",
      "Academic license 2518537 - for non-commercial use only - registered to j.___@student.tudelft.nl\n",
      "Optimize a model with 445 rows, 371 columns and 2180 nonzeros\n",
      "Model fingerprint: 0x931d34ed\n",
      "Model has 50 quadratic constraints\n",
      "Variable types: 61 continuous, 310 integer (310 binary)\n",
      "Coefficient statistics:\n",
      "  Matrix range     [1e+00, 6e+07]\n",
      "  QMatrix range    [1e+00, 1e+00]\n",
      "  QLMatrix range   [5e-02, 1e+00]\n",
      "  Objective range  [1e+00, 5e+04]\n",
      "  Bounds range     [1e+00, 1e+00]\n",
      "  RHS range        [1e+00, 6e+07]\n",
      "Presolve removed 20 rows and 0 columns\n",
      "Presolve time: 0.01s\n",
      "Presolved: 975 rows, 1121 columns, 3670 nonzeros\n",
      "Presolved model has 500 SOS constraint(s)\n",
      "Variable types: 561 continuous, 560 integer (560 binary)\n",
      "\n",
      "Root relaxation: objective 7.187003e+04, 383 iterations, 0.00 seconds (0.00 work units)\n",
      "\n",
      "    Nodes    |    Current Node    |     Objective Bounds      |     Work\n",
      " Expl Unexpl |  Obj  Depth IntInf | Incumbent    BestBd   Gap | It/Node Time\n",
      "\n",
      "     0     0 71870.0253    0   76          - 71870.0253      -     -    0s\n",
      "     0     0 107665.068    0   92          - 107665.068      -     -    0s\n",
      "     0     0 107665.069    0  102          - 107665.069      -     -    0s\n",
      "     0     0 107665.095    0  107          - 107665.095      -     -    0s\n",
      "     0     0 107665.108    0  101          - 107665.108      -     -    0s\n",
      "     0     0 107665.259    0  111          - 107665.259      -     -    0s\n",
      "     0     0 107665.259    0  101          - 107665.259      -     -    0s\n",
      "     0     2 107665.430    0  101          - 107665.430      -     -    0s\n",
      "*  163    68              17    268181.47670 107665.430  59.9%  11.3    0s\n",
      "* 2052   480              57    257201.31833 112850.117  56.1%   9.4    1s\n",
      "* 2241   504              60    202606.12432 112851.009  44.3%   9.3    1s\n",
      "\n",
      "Cutting planes:\n",
      "  Learned: 10\n",
      "  Gomory: 3\n",
      "  Cover: 1\n",
      "  Implied bound: 10\n",
      "  Projected implied bound: 26\n",
      "  Clique: 7\n",
      "  MIR: 3\n",
      "  Flow cover: 20\n",
      "  Zero half: 8\n",
      "  RLT: 72\n",
      "  Relax-and-lift: 68\n",
      "\n",
      "Explored 3311 nodes (33313 simplex iterations) in 3.23 seconds (2.65 work units)\n",
      "Thread count was 12 (of 12 available processors)\n",
      "\n",
      "Solution count 3: 202606 257201 268181 \n",
      "\n",
      "Optimal solution found (tolerance 1.00e-04)\n",
      "Best objective 2.026061243212e+05, best bound 2.026061243212e+05, gap 0.0000%\n",
      "Optimal objective: 202606\n",
      "x[Tr1,D0,C5]: 1\n",
      "x[Tr1,C1,D0]: 1.87222e-08\n",
      "x[Tr1,C4,D0]: 1\n",
      "x[Tr1,C4,C1]: 1.87222e-08\n",
      "x[Tr1,C5,C4]: 1\n",
      "x[Tr6,D0,C3]: 1\n",
      "x[Tr6,C1,D0]: 1\n",
      "x[Tr6,C2,D0]: 1.87222e-08\n",
      "x[Tr6,C2,C1]: 1\n",
      "x[Tr6,C3,C2]: 1\n",
      "y[Tr1]: 1\n",
      "y[Tr6]: 1\n",
      "t[Tr1,D0]: 0.253333\n",
      "t[Tr1,C1]: 9.39231e-09\n",
      "t[Tr1,C4]: 1.12333\n",
      "t[Tr1,C5]: 0.616667\n",
      "t[Tr6,C1]: 0.721667\n",
      "t[Tr6,C2]: 0.613333\n",
      "t[Tr6,C3]: 0.525\n",
      "t_max: 1.12333\n"
     ]
    }
   ],
   "source": [
    "# Update the model to integrate new variables\n",
    "model.update()\n",
    "\n",
    "# Write model to a file\n",
    "model.write('TruckonlySimple.lp')\n",
    "\n",
    "# Tune solver parameters\n",
    "#model.tune()\n",
    "\n",
    "# Optimize the model\n",
    "model.optimize()\n",
    "\n",
    "# Print the results\n",
    "if model.status == GRB.OPTIMAL:\n",
    "    print('Optimal objective: %g' % model.objVal)\n",
    "    for v in model.getVars():\n",
    "        if v.x > 0:\n",
    "            print('%s: %g' % (v.varName, v.x))\n",
    "else:\n",
    "    print('Optimization was stopped with status %d' % model.status)"
   ]
  },
  {
   "cell_type": "markdown",
   "metadata": {},
   "source": [
    "Post-processing"
   ]
  },
  {
   "cell_type": "code",
   "execution_count": 19,
   "metadata": {},
   "outputs": [
    {
     "name": "stdout",
     "output_type": "stream",
     "text": [
      "Active routes for trucks: {'Tr1': [('D0', 'C5'), ('C4', 'D0'), ('C5', 'C4')], 'Tr6': [('D0', 'C3'), ('C1', 'D0'), ('C2', 'C1'), ('C3', 'C2')]}\n"
     ]
    }
   ],
   "source": [
    "# Extract and store the solution\n",
    "solution = {var.varName: var.x for var in model.getVars()}\n",
    "\n",
    "# Extract active trucks\n",
    "active_trucks = [v for v in Tr if 'T' in v and solution[f'y[{v}]'] >= 0.99]\n",
    "\n",
    "# Extract routes for active trucks\n",
    "active_routes_truck = {}\n",
    "for truck in active_trucks:\n",
    "    active_routes_truck[truck] = []\n",
    "    for node_from in N:\n",
    "        for node_to in N:\n",
    "            if node_from != node_to and solution.get(f'x[{truck},{node_from},{node_to}]', 0) >= 0.99:\n",
    "                active_routes_truck[truck].append((node_from, node_to))\n",
    "\n",
    "print('Active routes for trucks:', active_routes_truck)"
   ]
  }
 ],
 "metadata": {
  "kernelspec": {
   "display_name": "Python 3",
   "language": "python",
   "name": "python3"
  },
  "language_info": {
   "codemirror_mode": {
    "name": "ipython",
    "version": 3
   },
   "file_extension": ".py",
   "mimetype": "text/x-python",
   "name": "python",
   "nbconvert_exporter": "python",
   "pygments_lexer": "ipython3",
   "version": "3.9.19"
  }
 },
 "nbformat": 4,
 "nbformat_minor": 2
}
