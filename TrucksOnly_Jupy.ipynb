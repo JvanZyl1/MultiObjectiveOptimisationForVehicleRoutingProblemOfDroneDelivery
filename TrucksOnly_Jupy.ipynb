{
 "cells": [
  {
   "cell_type": "markdown",
   "metadata": {},
   "source": [
    "# Trucks only problem #"
   ]
  },
  {
   "cell_type": "markdown",
   "metadata": {},
   "source": [
    "Install necessary packages"
   ]
  },
  {
   "cell_type": "code",
   "execution_count": 10,
   "metadata": {},
   "outputs": [
    {
     "name": "stdout",
     "output_type": "stream",
     "text": [
      "Requirement already satisfied: gurobipy in c:\\users\\jonathan van zyl\\appdata\\local\\programs\\python\\python39\\lib\\site-packages (11.0.2)\n"
     ]
    },
    {
     "ename": "ModuleNotFoundError",
     "evalue": "No module named 'gurobipy'",
     "output_type": "error",
     "traceback": [
      "\u001b[1;31m---------------------------------------------------------------------------\u001b[0m",
      "\u001b[1;31mModuleNotFoundError\u001b[0m                       Traceback (most recent call last)",
      "Cell \u001b[1;32mIn[10], line 3\u001b[0m\n\u001b[0;32m      1\u001b[0m get_ipython()\u001b[38;5;241m.\u001b[39msystem(\u001b[38;5;124m'\u001b[39m\u001b[38;5;124mpip install gurobipy\u001b[39m\u001b[38;5;124m'\u001b[39m)\n\u001b[1;32m----> 3\u001b[0m \u001b[38;5;28;01mfrom\u001b[39;00m \u001b[38;5;21;01mgurobipy\u001b[39;00m \u001b[38;5;28;01mimport\u001b[39;00m Model,GRB,LinExpr,quicksum\n\u001b[0;32m      4\u001b[0m \u001b[38;5;28;01mimport\u001b[39;00m \u001b[38;5;21;01mnumpy\u001b[39;00m \u001b[38;5;28;01mas\u001b[39;00m \u001b[38;5;21;01mnp\u001b[39;00m\n\u001b[0;32m      5\u001b[0m \u001b[38;5;28;01mfrom\u001b[39;00m \u001b[38;5;21;01mscipy\u001b[39;00m\u001b[38;5;21;01m.\u001b[39;00m\u001b[38;5;21;01mspatial\u001b[39;00m \u001b[38;5;28;01mimport\u001b[39;00m distance\n",
      "\u001b[1;31mModuleNotFoundError\u001b[0m: No module named 'gurobipy'"
     ]
    }
   ],
   "source": [
    "from gurobipy import Model,GRB,LinExpr,quicksum\n",
    "import numpy as np\n",
    "from scipy.spatial import distance\n",
    "import os\n",
    "from load_dataset import Dataset"
   ]
  },
  {
   "cell_type": "markdown",
   "metadata": {},
   "source": [
    "Define model parametres"
   ]
  },
  {
   "cell_type": "code",
   "execution_count": null,
   "metadata": {},
   "outputs": [],
   "source": [
    "## MODEL PARAMETERS ##\n",
    "W_T = 1500 #empty weight truck [kg]\n",
    "Q_T = 1000 #load capacity of trucks [kg]\n",
    "W_D = 25 #empty weight drone [kg]\n",
    "Q_D = 5 #load capacity of drones [kg]\n",
    "C_T = 25 #travel cost of trucks per unit distance [monetary unit/km]\n",
    "C_D = 1 #travel cost of drones per unit distance [monetary unit/km]\n",
    "C_B = 500 #basis cost of using a truck equipped with a drone [monetary unit]\n",
    "E = 0.5 #maximum endurance of empty drones [hours]\n",
    "S_T = 60 #average travel speed of the trucks [km/h]\n",
    "S_D = 65 #average travel speed of the drones [km/h]"
   ]
  },
  {
   "cell_type": "markdown",
   "metadata": {},
   "source": [
    "Define Big M constant"
   ]
  },
  {
   "cell_type": "code",
   "execution_count": null,
   "metadata": {},
   "outputs": [],
   "source": [
    "M = 500 #big M constant for big M method"
   ]
  },
  {
   "cell_type": "markdown",
   "metadata": {},
   "source": [
    "Load Dataset using load_dataset.py"
   ]
  },
  {
   "cell_type": "code",
   "execution_count": null,
   "metadata": {},
   "outputs": [],
   "source": [
    "## LOAD DATASET ##\n",
    "current_dir = os.getcwd()\n",
    "# Select which data folder to use\n",
    "data_subfolder = '0.3'\n",
    "data_num_nodes = '40'\n",
    "data_area = '20'\n",
    "\n",
    "data_file_name = f'{data_num_nodes}_{data_area}_{data_subfolder}'\n",
    "dataset_path = f'dataset/{data_subfolder}/{data_file_name}.txt'\n",
    "output_file_path = os.path.join(current_dir, data_file_name + '_solution.sol')#used to save solution file\n",
    "\n",
    "dataset = Dataset(dataset_path)"
   ]
  },
  {
   "cell_type": "markdown",
   "metadata": {},
   "source": [
    "Pre-processing"
   ]
  },
  {
   "cell_type": "code",
   "execution_count": null,
   "metadata": {},
   "outputs": [],
   "source": [
    "## FUNCTIONS ##\n",
    "def get_manhattan_distance(data):\n",
    "    \"\"\"\n",
    "    Returns a dictionary with manhattan distances between all nodes in dataset\n",
    "    \"\"\"\n",
    "    distance_dict = {}\n",
    "    for node1 in data.keys():\n",
    "        for node2 in data.keys():\n",
    "            distance_dict[node1, node2] = distance.cityblock([data[node1]['X'], data[node1]['Y']], [data[node2]['X'], data[node2]['Y']])\n",
    "    return distance_dict\n",
    "\n",
    "def get_time_dict(data, S_T, distance_dict):\n",
    "    \"\"\"\n",
    "    Returns a dictionary with travel times between all nodes in dataset\n",
    "    \"\"\"\n",
    "    time_dict = {}\n",
    "    for node1 in data.keys():\n",
    "        for node2 in data.keys():\n",
    "            time_dict[node1, node2] = distance_dict[node1, node2] / S_T\n",
    "    return time_dict\n",
    "\n",
    "\n",
    "num_trucks = 2\n",
    "distance_dict = get_manhattan_distance(dataset.data)\n",
    "time_dict = get_time_dict(dataset.data, S_T, distance_dict)\n",
    "\n",
    "#definitions of N_0, N and N_plus follow from paper\n",
    "N = list(dataset.data.keys()) #set of nodes with depot at start\n",
    "N_customers = N.copy()\n",
    "N_customers.remove('D0')\n",
    "V = [f'V{i}' for i in range(1, num_trucks+1)] #set of trucks"
   ]
  },
  {
   "cell_type": "markdown",
   "metadata": {},
   "source": [
    "Create the model"
   ]
  },
  {
   "cell_type": "code",
   "execution_count": null,
   "metadata": {},
   "outputs": [],
   "source": [
    "## MODEL ##\n",
    "model = Model(\"Truck-Only Model\")\n",
    "\n",
    "#decision variables\n",
    "#define x such that you cannot travel between same node\n",
    "x = model.addVars(V, [(i,j) for i in N for j in N if i != j], lb=0, ub=1, vtype=GRB.BINARY, name='x')\n",
    "y = model.addVars(V, lb=0, ub=1, vtype=GRB.BINARY, name='y')\n",
    "t = model.addVars(V, N, lb=0, vtype=GRB.CONTINUOUS, name='t')\n",
    "\n",
    "model.update()"
   ]
  },
  {
   "cell_type": "markdown",
   "metadata": {},
   "source": [
    "Define the constraints"
   ]
  },
  {
   "cell_type": "code",
   "execution_count": null,
   "metadata": {},
   "outputs": [],
   "source": [
    "#constraints\n",
    "# C1: each customer is visited exactly once\n",
    "C1 = model.addConstrs((quicksum(x[v,i,j] for j in N if i != j for v in V) == 1 for i in N_customers), name='C1') \n",
    "\n",
    "# C2: each truck leaves the depot exactly once if it is active (y=1)\n",
    "C2 = model.addConstrs((quicksum(x[v,'D0',j] for j in N if 'D0' != j) - y[v] == 0 for v in V), name='C2')\n",
    "\n",
    "# C3: each truck arrives at depot once if it is active\n",
    "C3 = model.addConstrs((quicksum(x[v,i,'D0'] for i in N if i != 'D0') - y[v] == 0 for v in V), name='C3')\n",
    "\n",
    "# C4: if vehicle arrives at customer, must also leave\n",
    "C4 = model.addConstrs((quicksum(x[v,i,h] for i in N if i != h) - quicksum(x[v,h,j] for j in N if h != j) == 0 for h in N_customers for v in V), name='C4')\n",
    "\n",
    "# C5: time constraint (time at node equal or larger than time at previous node plus travel time)\n",
    "C5 = model.addConstrs((t[v,j] >= t[v,i] + time_dict[i,j] - M*(1-x[v,i,j]) for i in N for j in N if i != j for v in V), name='C5')\n",
    "\n",
    "# C6: payload for all visited customer nodes per vehicle less than limit Q_T\n",
    "C6 = model.addConstrs((dataset.data[i]['Demand'] * quicksum(x[v,i,j] for j in N if i != j) <= Q_T for i in N_customers for v in V), name='C6')\n",
    "# At least one truck must be active (otherwise optimal solution is to use no trucks)\n",
    "#C7 = model.addConstr(quicksum(y[v] for v in V) >= 0.99, name='C7')\n",
    "#C9 = model.addConstrs((x[v,i,i] == 0 for i in N for v in V), name='C9')#note: this constraint is essential (ensures you cant travek between same node) otherwise truck never leaves depot"
   ]
  },
  {
   "cell_type": "markdown",
   "metadata": {},
   "source": [
    "Run the optimiser"
   ]
  },
  {
   "cell_type": "code",
   "execution_count": null,
   "metadata": {},
   "outputs": [],
   "source": [
    "#objective function (minimise cost both due to tranportation and basis cost of using truck (if active, i.e. y=1))\n",
    "cost_obj = quicksum(C_T * distance_dict[i,j] * x[v,i,j] for i in N for j in N if i != j for v in V) + quicksum(C_B * y[v] for v in V)\n",
    "model.setObjective(cost_obj, GRB.MINIMIZE)\n",
    "model.update()\n",
    "model.write('TruckonlySimple.lp')\n",
    "#tune solver before optimizing to reduce time it takes\n",
    "#model.tune()\n",
    "model.optimize()"
   ]
  },
  {
   "cell_type": "markdown",
   "metadata": {},
   "source": [
    "Post-processing"
   ]
  },
  {
   "cell_type": "code",
   "execution_count": null,
   "metadata": {},
   "outputs": [],
   "source": [
    "## POST-PROCESSING ##\n",
    "solution = {}\n",
    "for var in model.getVars():\n",
    "    solution[var.varName] = var.x\n",
    "\n",
    "#exctract active vehicles\n",
    "active_vehicles = [v for v in V if solution[f'y[{v}]'] >= 0.99]\n",
    "#extract routes\n",
    "active_routes = {}\n",
    "for v in active_vehicles:\n",
    "    active_routes[v] = [i for i in N if solution[f'x[{v},{i},D0]'] >= 0.99] #start with depot\n",
    "    while active_routes[v][-1] != 'D0':\n",
    "        for j in N:\n",
    "            if solution[f'x[{v},{active_routes[v][-1]},{j}]'] >= 0.99:\n",
    "                active_routes[v].append(j)\n",
    "                break\n",
    "\n",
    "#retrieve timestamps of customer visits\n",
    "timestamps = {}\n",
    "for v in active_vehicles:\n",
    "    timestamps[v] = {}\n",
    "    for i in N_customers:\n",
    "        timestamps[v][i] = solution[f't[{v},{i}]']\n",
    "\n",
    "#print all solution variables which have value of 1\n",
    "print([var for var in solution.keys() if solution[var] >=0.9])\n",
    "print(active_routes)\n",
    "#plot routes\n",
    "dataset.plot_data(show_demand=True, scale_nodes=True, show_labels=False, active_routes=active_routes)"
   ]
  }
 ],
 "metadata": {
  "kernelspec": {
   "display_name": "Python 3",
   "language": "python",
   "name": "python3"
  },
  "language_info": {
   "codemirror_mode": {
    "name": "ipython",
    "version": 3
   },
   "file_extension": ".py",
   "mimetype": "text/x-python",
   "name": "python",
   "nbconvert_exporter": "python",
   "pygments_lexer": "ipython3",
   "version": "3.11.0"
  }
 },
 "nbformat": 4,
 "nbformat_minor": 2
}
