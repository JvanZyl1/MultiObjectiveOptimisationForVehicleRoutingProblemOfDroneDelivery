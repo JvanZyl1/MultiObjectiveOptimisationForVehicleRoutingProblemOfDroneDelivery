{
 "cells": [
  {
   "cell_type": "markdown",
   "id": "d55e1363",
   "metadata": {},
   "source": [
    "# Trucks only problem #"
   ]
  },
  {
   "cell_type": "markdown",
   "id": "34e68bcb",
   "metadata": {},
   "source": [
    "Install necessary packages"
   ]
  },
  {
   "cell_type": "code",
   "execution_count": null,
   "id": "8ffa0659",
   "metadata": {},
   "outputs": [],
   "source": [
    "from gurobipy import Model,GRB,LinExpr,quicksum\n",
    "import numpy as np\n",
    "from scipy.spatial import distance\n",
    "import os\n",
    "import socket\n",
    "from load_dataset import Dataset"
   ]
  },
  {
   "cell_type": "markdown",
   "id": "41979347",
   "metadata": {},
   "source": [
    "For Ugo's laptop"
   ]
  },
  {
   "cell_type": "code",
   "execution_count": null,
   "id": "f70210a2",
   "metadata": {
    "lines_to_next_cell": 0
   },
   "outputs": [],
   "source": [
    "\n",
    "# Define the node name or another identifier of your laptop\n",
    "my_laptop_node = 'Ugos-MacBook-Pro.local'\n",
    "\n",
    "# Get the current system's node name using socket.gethostname()\n",
    "current_node = socket.gethostname()\n",
    "\n",
    "if current_node == my_laptop_node:\n",
    "    # Set the environment variable for Gurobi license file\n",
    "    os.environ[\"GRB_LICENSE_FILE\"] = \"/Users/ugomunzi/gurobi/licenses/gurobi.lic\"\n",
    "    print(\"Gurobi license path set for Ugo's MacBook Pro.\")\n",
    "else:\n",
    "    print(\"Not Ugo's MacBook Pro, using default or no specific license settings.\")\n"
   ]
  },
  {
   "cell_type": "markdown",
   "id": "2369d72a",
   "metadata": {},
   "source": [
    "Define model parametres"
   ]
  },
  {
   "cell_type": "code",
   "execution_count": null,
   "id": "a002faa8",
   "metadata": {},
   "outputs": [],
   "source": [
    "## MODEL PARAMETERS ##\n",
    "W_T = 1500 #empty weight truck [kg]\n",
    "Q_T = 1000 #load capacity of trucks [kg]\n",
    "#W_D = 25 #empty weight drone [kg]\n",
    "#Q_D = 5 #load capacity of drones [kg]\n",
    "C_T = 25 #travel cost of trucks per unit distance [monetary unit/km]\n",
    "#C_D = 1 #travel cost of drones per unit distance [monetary unit/km]\n",
    "C_B = 500 #basis cost of using a truck equipped with a drone [monetary unit]\n",
    "#E = 0.5 #maximum endurance of empty drones [hours]\n",
    "S_T = 60 #average travel speed of the trucks [km/h]\n",
    "#S_D = 65 #average travel speed of the drones [km/h]"
   ]
  },
  {
   "cell_type": "markdown",
   "id": "e8364252",
   "metadata": {},
   "source": [
    "Define Big M constant"
   ]
  },
  {
   "cell_type": "code",
   "execution_count": null,
   "id": "3b8525ad",
   "metadata": {},
   "outputs": [],
   "source": [
    "M = 1e9 #big M constant for big M method(1e9 is largest order of magnitude before numerical issues arise in Gurobi)"
   ]
  },
  {
   "cell_type": "markdown",
   "id": "6e34680a",
   "metadata": {},
   "source": [
    "Load Dataset using load_dataset.py"
   ]
  },
  {
   "cell_type": "code",
   "execution_count": null,
   "id": "0cbb5e88",
   "metadata": {},
   "outputs": [],
   "source": [
    "## LOAD DATASET ##\n",
    "current_dir = os.getcwd()\n",
    "# Select which data folder to use\n",
    "data_subfolder = '0.3'\n",
    "data_subfoldercopy = '0.3_copy'\n",
    "data_num_nodes = '40'\n",
    "data_area = '40'\n",
    "\n",
    "data_file_name = f'{data_num_nodes}_{data_area}_{data_subfoldercopy}'\n",
    "dataset_path = f'dataset/{data_subfolder}/{data_file_name}.txt'\n",
    "output_solution_file_path = os.path.join(current_dir, data_file_name + '_solution.sol')#used to save solution file\n",
    "output_model_file_path = os.path.join(current_dir, data_file_name + '_model.lp')#used to save model file\n",
    "dataset = Dataset(dataset_path)\n",
    "\n"
   ]
  },
  {
   "cell_type": "markdown",
   "id": "90416db9",
   "metadata": {},
   "source": [
    "Pre-processing"
   ]
  },
  {
   "cell_type": "code",
   "execution_count": null,
   "id": "f8c70f86",
   "metadata": {},
   "outputs": [],
   "source": [
    "## FUNCTIONS ##\n",
    "def get_manhattan_distance(data):\n",
    "    \"\"\"\n",
    "    Returns a dictionary with manhattan distances between all nodes in dataset\n",
    "    \"\"\"\n",
    "    distance_dict = {}\n",
    "    for node1 in data.keys():\n",
    "        for node2 in data.keys():\n",
    "            distance_dict[node1, node2] = distance.cityblock([data[node1]['X'], data[node1]['Y']], [data[node2]['X'], data[node2]['Y']])\n",
    "    return distance_dict\n",
    "\n",
    "def get_time_dict(data, S_T, distance_dict):\n",
    "    \"\"\"\n",
    "    Returns a dictionary with travel times between all nodes in dataset\n",
    "    \"\"\"\n",
    "    time_dict = {}\n",
    "    for node1 in data.keys():\n",
    "        for node2 in data.keys():\n",
    "            time_dict[node1, node2] = distance_dict[node1, node2] / S_T\n",
    "    return time_dict\n",
    "\n",
    "def check_in_x_var(i, j):\n",
    "    \"\"\"Check if the route from node i to node j is valid instead of having to pass bunch of conditions in each constraint.\n",
    "    Conditions:\n",
    "        1- cant travel between same node (i != j)\n",
    "        2- cant leave return depot D1 (i != 'D1')\n",
    "        3- cant arrive at start depot D0 (j != 'D0')\n",
    "        4- cant travel from D0 to D1 (not (i == 'D0' and j == 'D1'))\n",
    "            note that constraints 2 & 3 already ensure you cant travel from D1 to D0\n",
    "    \"\"\"\n",
    "    if i != j and i != 'D1' and j != 'D0' and not (i == 'D0' and j == 'D1'):\n",
    "        return True\n",
    "    return False\n",
    "\n",
    "def get_cost_obj(C_T, truck_distance_dict, active_routes_truck, cost_weight=1):\n",
    "    \"\"\"\n",
    "    Returns the cost objective value for the model after it has optimised\n",
    "    \"\"\"\n",
    "    cost_obj = 0\n",
    "    for truck in active_routes_truck.keys():\n",
    "        for route in active_routes_truck[truck]:\n",
    "            i, j, _, _ = route\n",
    "            cost_obj += cost_weight * C_T * truck_distance_dict[i, j]\n",
    "    return cost_obj\n",
    "\n",
    "def get_environmental_obj(W_T, truck_distance_dict, active_routes_truck, environmental_weight=1):\n",
    "    \"\"\"\n",
    "    Returns the environmental objective value for the model after it has optimised\n",
    "    \"\"\"\n",
    "    environmental_obj = 0\n",
    "    for truck in active_routes_truck.keys():\n",
    "        for route in active_routes_truck[truck]:\n",
    "            i, j, _, _ = route\n",
    "            environmental_obj += environmental_weight * W_T * truck_distance_dict[i, j]\n",
    "    return environmental_obj\n",
    "\n",
    "def get_time_obj(active_routes_truck, time_weight=1):\n",
    "    \"\"\"\n",
    "    Returns the time objective value for the model after it has optimised\n",
    "    \"\"\"\n",
    "    time_obj = 0\n",
    "    for truck in active_routes_truck.keys():\n",
    "        for route in active_routes_truck[truck]:\n",
    "            _, _, timestamp, _ = route\n",
    "            time_obj = max(time_obj, timestamp)\n",
    "    return time_weight * time_obj\n",
    "\n",
    "\n",
    "num_trucks = 5 # reduce from 10 to five to speed up optimisisation (basically half the number of variables)\n",
    "truck_distance_dict = get_manhattan_distance(dataset.data)\n",
    "truck_time_dict = get_time_dict(dataset.data, S_T, truck_distance_dict)\n",
    "\n",
    "#definitions of N_0, N and N_plus follow from paper\n",
    "N = list(dataset.data.keys()) #set of nodes with depot at start (D0) and at end (D1)\n",
    "N_customers = N.copy()\n",
    "N_customers.remove('D0')\n",
    "N_customers.remove('D1')\n",
    "Tr = [f'Tr{i}' for i in range(1, num_trucks+1)] #set of trucks"
   ]
  },
  {
   "cell_type": "markdown",
   "id": "4d5cfc39",
   "metadata": {},
   "source": [
    "Define the model"
   ]
  },
  {
   "cell_type": "code",
   "execution_count": null,
   "id": "579e5043",
   "metadata": {},
   "outputs": [],
   "source": [
    "# Create a new model\n",
    "model = Model(\"Truck_Routing\")\n",
    "\n",
    "# Define decision variables\n",
    "x = model.addVars(Tr, [(i, j) for i in N for j in N if check_in_x_var(i, j)], lb=0, ub=1, vtype=GRB.BINARY, name='x')\n",
    "y = model.addVars(Tr, lb=0, ub=1, vtype=GRB.BINARY, name='y')\n",
    "t = model.addVars(Tr, N, lb=0, vtype=GRB.CONTINUOUS, name='t')\n",
    "\n",
    "\n",
    "\n",
    "t_max = model.addVar(lb=0, vtype=GRB.CONTINUOUS, name='t_max') #used for the minimising the max delivery time (find max time of all trucks, not each individual truck)\n",
    "# Define payload variables for each truck and node (used for calculating weight of truck when travelling between nodes)\n",
    "payload = model.addVars(Tr, [(i, j) for i in N for j in N if check_in_x_var(i, j)], lb=0, ub=Q_T, vtype=GRB.CONTINUOUS, name='payload')#payload present on truck when travelling between i to j, gets updated after each delivery to a customer\n",
    "# Define dynamic weight variables\n",
    "W_dynamic = model.addVars(Tr, [(i, j) for i in N for j in N if check_in_x_var(i, j)], lb=0, vtype=GRB.CONTINUOUS, name='W_dynamic')#similar to payload but includes the empty weight of truck aswell\n",
    "\n",
    "# Objective 1: Cost both due to transportation and base cost of using truck if active)\n",
    "cost_obj = quicksum(C_T * truck_distance_dict[i,j] * x[truck,i,j] for i in N for j in N if check_in_x_var(i, j) for truck in Tr) + \\\n",
    "           quicksum(C_B * y[truck] for truck in Tr)\n",
    "# Objective 2: environmental_obj is distance[i,j] * Weight* x[v,i,j] for all v,i,j (i.e. energy consumption)\n",
    "environmental_obj = quicksum(truck_distance_dict[i,j] * W_dynamic[truck, i, j] * x[truck,i,j] for i in N for j in N if check_in_x_var(i, j) for truck in Tr)\n",
    "# Objective 3: minimise max delivery time for each truck\n",
    "time_obj = t_max\n",
    "\n",
    "#set weights such that all cost objectives are in same order of magnitude (approx 10^3, time is larger to enforce optimiser to use multiple trucks to reduce max delivery time)\n",
    "#below weights enforce the optimiser to use multiple trucks to reduce max delivery time\n",
    "cost_weight = 1\n",
    "environmental_weight = 0.01\n",
    "time_weight = 10000\n",
    "\n",
    "\"\"\"\n",
    "cost_weight = 1\n",
    "environmental_weight = 1 \n",
    "time_weight = 1\n",
    "\"\"\"\n",
    "obj = cost_weight * cost_obj + environmental_weight * environmental_obj + time_weight * time_obj\n",
    "model.setObjective(obj, GRB.MINIMIZE)\n",
    "\n",
    "model.update()"
   ]
  },
  {
   "cell_type": "markdown",
   "id": "d411e92b",
   "metadata": {},
   "source": [
    "Max constraint number, for debugging purposes."
   ]
  },
  {
   "cell_type": "code",
   "execution_count": null,
   "id": "7cad475e",
   "metadata": {},
   "outputs": [],
   "source": [
    "max_constraint_number = 15"
   ]
  },
  {
   "cell_type": "markdown",
   "id": "7b2a38d2",
   "metadata": {},
   "source": [
    "Constraint 1: Each customer is visited by exactly one truck"
   ]
  },
  {
   "cell_type": "code",
   "execution_count": null,
   "id": "ab69e52e",
   "metadata": {},
   "outputs": [],
   "source": [
    "if max_constraint_number >= 1:\n",
    "    # Constraint 1: Each customer is visited by exactly one truck\n",
    "\n",
    "    for customer in N_customers:\n",
    "        # Initialize the sum for the current customer\n",
    "        sum_for_current_customer = 0\n",
    "\n",
    "        # Loop over each truck\n",
    "        for truck in Tr:\n",
    "            # Loop over each node\n",
    "            for node in N:\n",
    "                # Skip if customer is equal to node\n",
    "                if check_in_x_var(node, customer):\n",
    "                    # Add the variable to the sum\n",
    "                    sum_for_current_customer += x[truck, node, customer]\n",
    "\n",
    "        # The sum for the current customer must be equal to 1\n",
    "        model.addConstr(sum_for_current_customer == 1, name=f'Customer_{customer}_visited_once')"
   ]
  },
  {
   "cell_type": "markdown",
   "id": "5dadab2b",
   "metadata": {},
   "source": [
    "Constraint 2: Each truck must leave the depot if active"
   ]
  },
  {
   "cell_type": "code",
   "execution_count": null,
   "id": "c19978b0",
   "metadata": {},
   "outputs": [],
   "source": [
    "if max_constraint_number >= 2:\n",
    "    # Constraint 2: Each truck must leave the depot if active\n",
    "    for truck in Tr:\n",
    "        sum_for_current_vehicle = quicksum(x[truck, 'D0', customer] for customer in N_customers)\n",
    "        model.addConstr(sum_for_current_vehicle == y[truck], name=f'Truck_leaves_depot_{truck}')"
   ]
  },
  {
   "cell_type": "markdown",
   "id": "75be8c8e",
   "metadata": {},
   "source": [
    "Constraint 3: Each vehicle arrives at depot if active"
   ]
  },
  {
   "cell_type": "code",
   "execution_count": null,
   "id": "30b033de",
   "metadata": {},
   "outputs": [],
   "source": [
    "if max_constraint_number >= 3:\n",
    "    # Constraint 3: Each truck must return to the depot if active\n",
    "    for truck in Tr:\n",
    "        sum_for_current_vehicle = quicksum(x[truck, customer, 'D1'] for customer in N_customers)\n",
    "        model.addConstr(sum_for_current_vehicle == y[truck], name=f'Truck_returns_to_depot_{truck}')"
   ]
  },
  {
   "cell_type": "markdown",
   "id": "bcc6bc70",
   "metadata": {},
   "source": [
    "Constraint 4: If a vehicle arrives at a customer node it must also leave"
   ]
  },
  {
   "cell_type": "code",
   "execution_count": null,
   "id": "900e2706",
   "metadata": {},
   "outputs": [],
   "source": [
    "if max_constraint_number >= 4:\n",
    "    # Constraint 4: If a truck arrives at a customer node it must also leave (flow balance)\n",
    "    for truck in Tr:\n",
    "        for node in N_customers:\n",
    "            model.addConstr(\n",
    "                quicksum(x[truck, node, j] for j in N if check_in_x_var(node, j)) == \n",
    "                quicksum(x[truck, j, node] for j in N if check_in_x_var(j, node)),\n",
    "                name=f'Flow_balance_{truck}_{node}'\n",
    "            )"
   ]
  },
  {
   "cell_type": "markdown",
   "id": "ff35e020",
   "metadata": {},
   "source": [
    "Constraint 5: Time at a node is equal or larger than time at previous nodes plus travel time (or irrelevant). Eliminates need for subtour constraints."
   ]
  },
  {
   "cell_type": "code",
   "execution_count": null,
   "id": "6abc6ece",
   "metadata": {},
   "outputs": [],
   "source": [
    "if max_constraint_number >= 5:\n",
    "    #Constraint 5: Time at a node is equal or larger than time at previous nodes plus travel time (or irrelevant). Eliminates need for subtour constraints.\n",
    "    # Add time constraints for all vehicles, nodes, and customers\n",
    "    for truck in Tr:\n",
    "        for node in N:\n",
    "            for customer in N:\n",
    "                if check_in_x_var(node, customer):\n",
    "                    model.addConstr(\n",
    "                        t[truck, customer] >= t[truck, node] + truck_time_dict[(node, customer)] - M * (1 - x[truck, node, customer]),\n",
    "                        name=f'Time_{truck}_{node}_{customer}'\n",
    "                    )"
   ]
  },
  {
   "cell_type": "markdown",
   "id": "6a297bab",
   "metadata": {},
   "source": [
    "Constraint 6: Payloads"
   ]
  },
  {
   "cell_type": "code",
   "execution_count": null,
   "id": "079c9ffa",
   "metadata": {},
   "outputs": [],
   "source": [
    "if max_constraint_number >= 6:\n",
    "    # Constraint 6: The total payload delivered to the customer must be less or equal to the truck load capacity Q_T\n",
    "    for truck in Tr:\n",
    "        model.addConstr(quicksum(dataset.data[i]['Demand'] * x[truck, i, j] for i in N for j in N if check_in_x_var(i, j)) <= Q_T, \n",
    "                        name=f'Payload_{truck}')"
   ]
  },
  {
   "cell_type": "markdown",
   "id": "5c5609f5",
   "metadata": {},
   "source": [
    "Constraint 7 : link y variable to x variable."
   ]
  },
  {
   "cell_type": "code",
   "execution_count": null,
   "id": "61039c44",
   "metadata": {},
   "outputs": [],
   "source": [
    "if max_constraint_number >= 7:\n",
    "    # Constraint 7: Link y variable to x variable : TRUCKS\n",
    "    #if any link in x (for each truck) is active -> y = 1\n",
    "    # can do this by checking if each truck leaves the depot (all trucks must leave depot if active)\n",
    "\n",
    "    for truck in Tr:\n",
    "        model.addConstr(y[truck] == quicksum(x[truck, 'D0', i] for i in N_customers), name=f'Link_y{truck}_to_x_{truck}')"
   ]
  },
  {
   "cell_type": "markdown",
   "id": "d6450296",
   "metadata": {},
   "source": [
    "Constraint 8: Set departure time from depot D0 for each truck = 0"
   ]
  },
  {
   "cell_type": "code",
   "execution_count": null,
   "id": "b7f863b8",
   "metadata": {},
   "outputs": [],
   "source": [
    "if max_constraint_number >= 8:\n",
    "    # Constraint 8: set departure time from depot D0 for each truck = 0\n",
    "    for truck in Tr:\n",
    "        model.addConstr(t[truck, 'D0'] == 0, name=f'Departure_time_{truck}_D0')"
   ]
  },
  {
   "cell_type": "markdown",
   "id": "f6c80500",
   "metadata": {},
   "source": [
    "Constraint 9: update time variables."
   ]
  },
  {
   "cell_type": "code",
   "execution_count": null,
   "id": "d1a2ff7c",
   "metadata": {},
   "outputs": [],
   "source": [
    "if max_constraint_number >= 9:\n",
    "    # Constraint 9: Update time variable for trucks\n",
    "    # Loop over each truck\n",
    "    for truck in Tr:\n",
    "        # Loop over each node (destination)\n",
    "        for j in N:\n",
    "            if j != 'D0':  # Ensuring no calculation is made for the time to 'D0' as it's the starting point only\n",
    "                # Initialize the sum for arriving at node j from any node i\n",
    "                sum_for_arrival_to_j = quicksum((t[truck, i] + truck_time_dict[i, j]) * x[truck, i, j]\n",
    "                                                for i in N if check_in_x_var(i, j))\n",
    "                \n",
    "                # Add the constraint that sets the arrival time at j based on departure times from all nodes i\n",
    "                model.addConstr(t[truck, j] == sum_for_arrival_to_j, name=f'Update_time_{truck}_{j}')"
   ]
  },
  {
   "cell_type": "markdown",
   "id": "dee08fc0",
   "metadata": {},
   "source": [
    "Constraint 10: update max delivery time variable."
   ]
  },
  {
   "cell_type": "code",
   "execution_count": null,
   "id": "b593ac0f",
   "metadata": {},
   "outputs": [],
   "source": [
    "if max_constraint_number >= 10:\n",
    "    # Constraint 10: Update max delivery time variable\n",
    "    for truck in Tr:\n",
    "        for node in N:\n",
    "            # Add a constraint to the model that the maximum delivery time is greater than or equal to the delivery time to the customer for each vehicle\n",
    "            model.addConstr(t_max >= t[truck, node], name=f'Update_max_delivery_time_{truck}_{node}')"
   ]
  },
  {
   "cell_type": "markdown",
   "id": "fc072ea2",
   "metadata": {},
   "source": [
    "CONSTRAINTS FOR DYNAMIC WEIGHTS AND PAYLOAD"
   ]
  },
  {
   "cell_type": "markdown",
   "id": "dd577018",
   "metadata": {},
   "source": [
    "Constraint 11: set payload for each truck at depot = sum of demand of all customers visited by truck"
   ]
  },
  {
   "cell_type": "code",
   "execution_count": null,
   "id": "65b58fe9",
   "metadata": {},
   "outputs": [],
   "source": [
    "if max_constraint_number >= 11:\n",
    "    # Constraint 11: set payload for each truck at depot = sum of demand of all customers visited by truck\n",
    "    #note: this works, checked manually\n",
    "    for truck in Tr:\n",
    "        sum_for_current_truck = 0\n",
    "        for i in N:\n",
    "            for j in N:\n",
    "                if check_in_x_var(i, j):\n",
    "                    sum_for_current_truck += dataset.data[j]['Demand'] * x[truck, i, j]\n",
    "            if check_in_x_var('D0', i):\n",
    "                model.addConstr(payload[truck, 'D0', i] == sum_for_current_truck * x[truck, 'D0', i], name=f'Payload_{truck}_D0_{i}')"
   ]
  },
  {
   "cell_type": "markdown",
   "id": "ea2eaa31",
   "metadata": {},
   "source": [
    "Constraint 12: each time truck delivers to a customer, the payload is updated"
   ]
  },
  {
   "cell_type": "code",
   "execution_count": null,
   "id": "c1103bb3",
   "metadata": {},
   "outputs": [],
   "source": [
    "if max_constraint_number >= 12:\n",
    "    #Constraint 12: each time truck delivers to a customer, the payload is updated\n",
    "    for truck in Tr:\n",
    "        for i in N:\n",
    "            for j in N_customers:\n",
    "                for k in N:\n",
    "                    \"\"\"\n",
    "                    i is node which was previously visited by truck\n",
    "                    j is customer node where truck is delivering\n",
    "                    k is node where truck is going next\n",
    "                    \"\"\"\n",
    "                    if check_in_x_var(i, j) and check_in_x_var(j, k):\n",
    "                        model.addConstr(payload[truck, j, k] <= payload[truck, i, j] - dataset.data[j]['Demand'] * x[truck, i, j] + M * (1 - x[truck, i, j]), name=f'Payload_update_{truck}_{truck}_{i}_{j}_{k}')"
   ]
  },
  {
   "cell_type": "markdown",
   "id": "d76e2a63",
   "metadata": {},
   "source": [
    "Constraint 13: Explicitly set payload to zero for inactive routes (for some reason without this some inactive trucks have payload = 1000)"
   ]
  },
  {
   "cell_type": "code",
   "execution_count": null,
   "id": "3e58220f",
   "metadata": {},
   "outputs": [],
   "source": [
    "if max_constraint_number >= 13:\n",
    "    # Constraint 13: Explicitly set payload to zero for inactive routes (for some reason without this some inactive trucks have payload = 1000)\n",
    "    for truck in Tr:\n",
    "        for i in N:\n",
    "            for j in N:\n",
    "                if check_in_x_var(i, j):\n",
    "                    model.addConstr(payload[truck, i, j] <= M * x[truck, i, j], name=f'Zero_inactive_payload_{truck}_{i}_{j}')\n",
    "\n",
    "    # Constraint 14: update dynamic weight for each truck at each node (W_dynamic[truck, i, j] = W_T + payload[truck, i, j]) only when link (thus truck) is active\n",
    "    for truck in Tr:\n",
    "        for i in N:\n",
    "            for j in N:\n",
    "                if check_in_x_var(i, j):\n",
    "                    model.addConstr(W_dynamic[truck, i, j] == (W_T + payload[truck, i, j]) * x[truck, i, j], name=f'Update_dynamic_weight_{truck}_{i}_{j}')"
   ]
  },
  {
   "cell_type": "markdown",
   "id": "b4d1a740",
   "metadata": {},
   "source": [
    "Constraint 14: update dynamic weight for each truck at each node (W_dynamic[truck, i, j] = W_T + payload[truck, i, j]) only when link (thus truck) is active"
   ]
  },
  {
   "cell_type": "code",
   "execution_count": null,
   "id": "240b87c0",
   "metadata": {},
   "outputs": [],
   "source": [
    "if max_constraint_number >= 14:\n",
    "    # Constraint 14: update dynamic weight for each truck at each node (W_dynamic[truck, i, j] = W_T + payload[truck, i, j]) only when link (thus truck) is active\n",
    "    for truck in Tr:\n",
    "        for i in N:\n",
    "            for j in N:\n",
    "                if check_in_x_var(i, j):\n",
    "                    model.addConstr(W_dynamic[truck, i, j] == (W_T + payload[truck, i, j]) * x[truck, i, j], name=f'Update_dynamic_weight_{truck}_{i}_{j}')"
   ]
  },
  {
   "cell_type": "code",
   "execution_count": 49,
   "id": "00a127e5",
   "metadata": {},
   "outputs": [],
   "source": [
    "# Create your model here\n",
    "model.update()\n",
    "\n",
    "model.setParam('Presolve', 0)\n",
    "\n",
    "\n",
    "# [Add variables, constraints, and objective function here]\n",
    "\n",
    "# Optimize the model\n",
    "for v in model.getVars():\n",
    "        v.vType = GRB.CONTINUOUS\n",
    "model.optimize()\n",
    "\n",
    "# Check if the model was solved to optimality\n",
    "#if model.status == GRB.OPTIMAL:\n",
    "    # Display shadow prices\n",
    "    #print('Shadow prices:')\n",
    "    #for c in model.getConstrs():\n",
    "        #print('%s: %g' % (c.ConstrName, c.Pi))"
   ]
  },
  {
   "cell_type": "markdown",
   "id": "3488aedc",
   "metadata": {},
   "source": [
    "Update, tune and run the model"
   ]
  },
  {
   "cell_type": "code",
   "execution_count": null,
   "id": "f74c3bbe",
   "metadata": {},
   "outputs": [],
   "source": [
    "# Update the model to integrate new variables\n",
    "model.update()\n",
    "\n",
    "# Write model to a file\n",
    "model.write('TruckonlySimple.lp')\n",
    "\n",
    "# Tune solver parameters\n",
    "#model.tune()\n",
    "\n",
    "# Set the method to dual simplex\n",
    "model.setParam('Method', 1)\n",
    "\n",
    "# Solve the model\n",
    "model.optimize()\n",
    "\n",
    "# Print the results\n",
    "if model.status == GRB.OPTIMAL:\n",
    "    print('Optimal objective: %g' % model.objVal)\n",
    "    for v in model.getVars():\n",
    "        if v.x > 0:\n",
    "            print('%s: %g' % (v.varName, v.x))\n",
    "else:\n",
    "    print('Optimization was stopped with status %d' % model.status)"
   ]
  },
  {
   "cell_type": "markdown",
   "id": "72a3ebb2",
   "metadata": {},
   "source": [
    "Post-processing"
   ]
  },
  {
   "cell_type": "code",
   "execution_count": null,
   "id": "5ead97f9",
   "metadata": {
    "lines_to_next_cell": 2
   },
   "outputs": [],
   "source": [
    "# Extract and store the solution\n",
    "solution = {var.varName: var.x for var in model.getVars()}\n",
    "\n",
    "# Extract active trucks\n",
    "active_trucks = [v for v in Tr if 'T' in v and solution[f'y[{v}]'] >= 0.99]\n",
    "\n",
    "# Extract routes for active trucks\n",
    "active_routes_truck = {} #for each truck and pair of nodes (i, j) store (node from, node to, timestamp, weight) of truck when travelling between i and j (ordered by increasing time)\n",
    "for truck in active_trucks:\n",
    "    active_routes_truck[truck] = []\n",
    "    for node_from in N:\n",
    "        for node_to in N:\n",
    "            if node_from != node_to and solution.get(f'x[{truck},{node_from},{node_to}]', 0) >= 0.99:\n",
    "                timestamp = solution.get(f't[{truck},{node_to}]', 0)\n",
    "                weight = solution.get(f'W_dynamic[{truck},{node_from},{node_to}]', 0)\n",
    "                active_routes_truck[truck].append((node_from, node_to, timestamp, np.round(weight, 1)))\n",
    "\n",
    "# Sort the routes for each truck according to the timestamps\n",
    "for truck in active_trucks:\n",
    "    active_routes_truck[truck].sort(key=lambda x: x[2])\n",
    "\n",
    "print('Active trucks:', active_trucks)\n",
    "print('Active routes for trucks:', active_routes_truck)\n",
    "\n",
    "# Print each seperate objective value after optimisation\n",
    "print('Cost objective/Total delivery cost [$]:', get_cost_obj(C_T, truck_distance_dict, active_routes_truck, cost_weight=cost_weight))\n",
    "\n",
    "#convert t_max to hours, minutes, seconds\n",
    "t_max_hours = model.getVarByName('t_max').x\n",
    "t_max_minutes, t_max_seconds = divmod(t_max_hours * 3600, 60)\n",
    "t_max_hours, t_max_minutes = divmod(t_max_minutes, 60)\n",
    "print('Max delivery time: {} hours, {} minutes, {} seconds'.format(int(t_max_hours), int(t_max_minutes), int(t_max_seconds)))\n",
    "\n",
    "#use plotting method in dataset class to visualise\n",
    "dataset.plot_data(show_demand=False, scale_nodes=True, show_labels=True, active_routes=active_routes_truck, show_weights=True)\n",
    "#save solution to .sol file\n",
    "model.write(output_solution_file_path)\n",
    "#save model to .lp file\n",
    "model.write(output_model_file_path)"
   ]
  },
  {
   "cell_type": "code",
   "execution_count": null,
   "id": "45cdd00c",
   "metadata": {},
   "outputs": [],
   "source": [
    "### Conduct a graphical sensitivity analysis\n",
    "\n",
    "# Define the range of the cost weight\n",
    "cost_weight_range = np.linspace(0, 1, 10)\n",
    "\n",
    "# Define the range of the environmental weight\n",
    "environmental_weight_range = np.linspace(0, 1, 10)\n",
    "\n",
    "# Define the range of the time weight\n",
    "time_weight_range = np.linspace(0, 1, 10)\n",
    "\n",
    "# Create a list to store the objective values\n",
    "objective_values = []\n",
    "\n",
    "# Loop over the cost weight range\n",
    "for cost_weight in cost_weight_range:\n",
    "    # Loop over the environmental weight range\n",
    "    for environmental_weight in environmental_weight_range:\n",
    "        # Loop over the time weight range\n",
    "        for time_weight in time_weight_range:\n",
    "            # Set the objective function\n",
    "            obj = cost_weight * cost_obj + environmental_weight * environmental_obj + time_weight * time_obj\n",
    "            model.setObjective(obj, GRB.MINIMIZE)\n",
    "            model.optimize()\n",
    "            objective_values.append(model.objVal)\n",
    "\n",
    "# Plot the objective values\n",
    "import matplotlib.pyplot as plt\n",
    "from mpl_toolkits.mplot3d import Axes3D\n",
    "\n",
    "# Create a figure\n",
    "fig = plt.figure()\n",
    "\n",
    "# Create a 3D plot\n",
    "ax = fig.add_subplot(111, projection='3d')\n",
    "\n",
    "# Create a meshgrid\n",
    "X, Y = np.meshgrid(cost_weight_range, environmental_weight_range)\n",
    "\n",
    "# Plot the objective values\n",
    "ax.plot_surface(X, Y, np.array(objective_values).reshape(X.shape))\n",
    "\n",
    "# Set the labels\n",
    "ax.set_xlabel('Cost weight')\n",
    "\n",
    "ax.set_ylabel('Environmental weight')\n",
    "\n",
    "ax.set_zlabel('Objective value')\n",
    "\n",
    "# Show the plot\n",
    "plt.show()"
   ]
  }
 ],
 "metadata": {
  "jupytext": {
   "cell_metadata_filter": "-all",
   "main_language": "python",
   "notebook_metadata_filter": "-all"
  },
  "kernelspec": {
   "display_name": "VRPforDrones-5bUbox2j",
   "language": "python",
   "name": "python3"
  },
  "language_info": {
   "codemirror_mode": {
    "name": "ipython",
    "version": 3
   },
   "file_extension": ".py",
   "mimetype": "text/x-python",
   "name": "python",
   "nbconvert_exporter": "python",
   "pygments_lexer": "ipython3",
   "version": "3.9.19"
  }
 },
 "nbformat": 4,
 "nbformat_minor": 5
}
