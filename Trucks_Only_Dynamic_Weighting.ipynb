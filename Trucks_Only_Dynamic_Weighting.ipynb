{
 "cells": [
  {
   "cell_type": "markdown",
   "id": "d55e1363",
   "metadata": {},
   "source": [
    "# Trucks only problem #"
   ]
  },
  {
   "cell_type": "markdown",
   "id": "34e68bcb",
   "metadata": {},
   "source": [
    "Install necessary packages"
   ]
  },
  {
   "cell_type": "code",
   "execution_count": 1,
   "id": "8ffa0659",
   "metadata": {},
   "outputs": [],
   "source": [
    "from gurobipy import Model,GRB,LinExpr,quicksum\n",
    "import numpy as np\n",
    "from scipy.spatial import distance\n",
    "import os\n",
    "import socket\n",
    "from load_dataset import Dataset"
   ]
  },
  {
   "cell_type": "markdown",
   "id": "41979347",
   "metadata": {},
   "source": [
    "For Ugo's laptop"
   ]
  },
  {
   "cell_type": "code",
   "execution_count": 2,
   "id": "f70210a2",
   "metadata": {
    "lines_to_next_cell": 0
   },
   "outputs": [
    {
     "name": "stdout",
     "output_type": "stream",
     "text": [
      "Gurobi license path set for Ugo's MacBook Pro.\n"
     ]
    }
   ],
   "source": [
    "\n",
    "# Define the node name or another identifier of your laptop\n",
    "my_laptop_node = 'Ugos-MacBook-Pro.local'\n",
    "\n",
    "# Get the current system's node name using socket.gethostname()\n",
    "current_node = socket.gethostname()\n",
    "\n",
    "if current_node == my_laptop_node:\n",
    "    # Set the environment variable for Gurobi license file\n",
    "    os.environ[\"GRB_LICENSE_FILE\"] = \"/Users/ugomunzi/gurobi/licenses/gurobi.lic\"\n",
    "    print(\"Gurobi license path set for Ugo's MacBook Pro.\")\n",
    "else:\n",
    "    print(\"Not Ugo's MacBook Pro, using default or no specific license settings.\")\n"
   ]
  },
  {
   "cell_type": "markdown",
   "id": "2369d72a",
   "metadata": {},
   "source": [
    "Define model parametres"
   ]
  },
  {
   "cell_type": "code",
   "execution_count": 4,
   "id": "a002faa8",
   "metadata": {},
   "outputs": [],
   "source": [
    "## MODEL PARAMETERS ##\n",
    "W_T = 1500 #empty weight truck [kg]\n",
    "Q_T = 1000 #load capacity of trucks [kg]\n",
    "#W_D = 25 #empty weight drone [kg]\n",
    "#Q_D = 5 #load capacity of drones [kg]\n",
    "C_T = 25 #travel cost of trucks per unit distance [monetary unit/km]\n",
    "#C_D = 1 #travel cost of drones per unit distance [monetary unit/km]\n",
    "C_B = 500 #basis cost of using a truck equipped with a drone [monetary unit]\n",
    "#E = 0.5 #maximum endurance of empty drones [hours]\n",
    "S_T = 60 #average travel speed of the trucks [km/h]\n",
    "#S_D = 65 #average travel speed of the drones [km/h]"
   ]
  },
  {
   "cell_type": "markdown",
   "id": "e8364252",
   "metadata": {},
   "source": [
    "Define Big M constant"
   ]
  },
  {
   "cell_type": "code",
   "execution_count": 5,
   "id": "3b8525ad",
   "metadata": {},
   "outputs": [],
   "source": [
    "M = 1e9 #big M constant for big M method(1e9 is largest order of magnitude before numerical issues arise in Gurobi)"
   ]
  },
  {
   "cell_type": "markdown",
   "id": "6e34680a",
   "metadata": {},
   "source": [
    "Load Dataset using load_dataset.py"
   ]
  },
  {
   "cell_type": "code",
   "execution_count": 6,
   "id": "0cbb5e88",
   "metadata": {},
   "outputs": [],
   "source": [
    "## LOAD DATASET ##\n",
    "current_dir = os.getcwd()\n",
    "# Select which data folder to use\n",
    "data_subfolder = '0.3'\n",
    "data_subfoldercopy = '0.3_copy'\n",
    "data_num_nodes = '40'\n",
    "data_area = '40'\n",
    "\n",
    "data_file_name = f'{data_num_nodes}_{data_area}_{data_subfoldercopy}'\n",
    "dataset_path = f'dataset/{data_subfolder}/{data_file_name}.txt'\n",
    "output_solution_file_path = os.path.join(current_dir, data_file_name + '_solution.sol')#used to save solution file\n",
    "output_model_file_path = os.path.join(current_dir, data_file_name + '_model.lp')#used to save model file\n",
    "dataset = Dataset(dataset_path)\n",
    "\n"
   ]
  },
  {
   "cell_type": "markdown",
   "id": "90416db9",
   "metadata": {},
   "source": [
    "Pre-processing"
   ]
  },
  {
   "cell_type": "code",
   "execution_count": 7,
   "id": "f8c70f86",
   "metadata": {},
   "outputs": [],
   "source": [
    "## FUNCTIONS ##\n",
    "def get_manhattan_distance(data):\n",
    "    \"\"\"\n",
    "    Returns a dictionary with manhattan distances between all nodes in dataset\n",
    "    \"\"\"\n",
    "    distance_dict = {}\n",
    "    for node1 in data.keys():\n",
    "        for node2 in data.keys():\n",
    "            distance_dict[node1, node2] = distance.cityblock([data[node1]['X'], data[node1]['Y']], [data[node2]['X'], data[node2]['Y']])\n",
    "    return distance_dict\n",
    "\n",
    "def get_time_dict(data, S_T, distance_dict):\n",
    "    \"\"\"\n",
    "    Returns a dictionary with travel times between all nodes in dataset\n",
    "    \"\"\"\n",
    "    time_dict = {}\n",
    "    for node1 in data.keys():\n",
    "        for node2 in data.keys():\n",
    "            time_dict[node1, node2] = distance_dict[node1, node2] / S_T\n",
    "    return time_dict\n",
    "\n",
    "def check_in_x_var(i, j):\n",
    "    \"\"\"Check if the route from node i to node j is valid instead of having to pass bunch of conditions in each constraint.\n",
    "    Conditions:\n",
    "        1- cant travel between same node (i != j)\n",
    "        2- cant leave return depot D1 (i != 'D1')\n",
    "        3- cant arrive at start depot D0 (j != 'D0')\n",
    "        4- cant travel from D0 to D1 (not (i == 'D0' and j == 'D1'))\n",
    "            note that constraints 2 & 3 already ensure you cant travel from D1 to D0\n",
    "    \"\"\"\n",
    "    if i != j and i != 'D1' and j != 'D0' and not (i == 'D0' and j == 'D1'):\n",
    "        return True\n",
    "    return False\n",
    "\n",
    "def get_cost_obj(C_T, C_B, truck_distance_dict, active_routes_truck, cost_weight=1):\n",
    "    \"\"\"\n",
    "    Returns the cost objective value for the model after it has optimised\n",
    "    \"\"\"\n",
    "    cost_obj = 0\n",
    "    for truck in active_routes_truck.keys():\n",
    "        cost_obj += cost_weight * C_B  # add base cost for using a truck\n",
    "        for route in active_routes_truck[truck]:\n",
    "            i, j, _, _ = route\n",
    "            cost_obj += cost_weight * C_T * truck_distance_dict[i, j]\n",
    "    return cost_obj\n",
    "\n",
    "def get_environmental_obj(truck_distance_dict, active_routes_truck, environmental_weight=1):\n",
    "    \"\"\"\n",
    "    Returns the environmental objective value for the model after it has optimised\n",
    "    \"\"\"\n",
    "    environmental_obj = 0\n",
    "    for truck in active_routes_truck.keys():\n",
    "        for route in active_routes_truck[truck]:\n",
    "            i, j, _, W_dynamic = route\n",
    "            environmental_obj += environmental_weight * W_dynamic * truck_distance_dict[i, j]\n",
    "    return environmental_obj\n",
    "\n",
    "def get_time_obj(active_routes_truck, time_weight=1):\n",
    "    \"\"\"\n",
    "    Returns the time objective value for the model after it has optimised\n",
    "    \"\"\"\n",
    "    time_obj = 0\n",
    "    for truck in active_routes_truck.keys():\n",
    "        for route in active_routes_truck[truck]:\n",
    "            _, _, timestamp, _ = route\n",
    "            time_obj = max(time_obj, timestamp)\n",
    "    return time_weight * time_obj\n",
    "\n",
    "\n",
    "num_trucks = 5 # reduce from 10 to five to speed up optimisisation (basically half the number of variables)\n",
    "truck_distance_dict = get_manhattan_distance(dataset.data)\n",
    "truck_time_dict = get_time_dict(dataset.data, S_T, truck_distance_dict)\n",
    "\n",
    "#definitions of N_0, N and N_plus follow from paper\n",
    "N = list(dataset.data.keys()) #set of nodes with depot at start (D0) and at end (D1)\n",
    "N_customers = N.copy()\n",
    "N_customers.remove('D0')\n",
    "N_customers.remove('D1')\n",
    "Tr = [f'Tr{i}' for i in range(1, num_trucks+1)] #set of trucks"
   ]
  },
  {
   "cell_type": "markdown",
   "id": "4d5cfc39",
   "metadata": {},
   "source": [
    "Define the model"
   ]
  },
  {
   "cell_type": "code",
   "execution_count": 8,
   "id": "579e5043",
   "metadata": {},
   "outputs": [
    {
     "name": "stdout",
     "output_type": "stream",
     "text": [
      "Set parameter WLSAccessID\n",
      "Set parameter WLSSecret\n",
      "Set parameter LicenseID to value 2514144\n",
      "Academic license 2514144 - for non-commercial use only - registered to u.___@student.tudelft.nl\n"
     ]
    }
   ],
   "source": [
    "# Create a new model\n",
    "model = Model(\"Truck_Routing\")\n",
    "\n",
    "# Define decision variables\n",
    "x = model.addVars(Tr, [(i, j) for i in N for j in N if check_in_x_var(i, j)], lb=0, ub=1, vtype=GRB.BINARY, name='x')\n",
    "y = model.addVars(Tr, lb=0, ub=1, vtype=GRB.BINARY, name='y')\n",
    "t = model.addVars(Tr, N, lb=0, vtype=GRB.CONTINUOUS, name='t')\n",
    "t_max = model.addVar(lb=0, vtype=GRB.CONTINUOUS, name='t_max') #used for the minimising the max delivery time (find max time of all trucks, not each individual truck)\n",
    "# Define payload variables for each truck and node (used for calculating weight of truck when travelling between nodes)\n",
    "payload = model.addVars(Tr, [(i, j) for i in N for j in N if check_in_x_var(i, j)], lb=0, ub=Q_T, vtype=GRB.CONTINUOUS, name='payload')#payload present on truck when travelling between i to j, gets updated after each delivery to a customer\n",
    "# Define dynamic weight variables\n",
    "W_dynamic = model.addVars(Tr, [(i, j) for i in N for j in N if check_in_x_var(i, j)], lb=0, vtype=GRB.CONTINUOUS, name='W_dynamic')#similar to payload but includes the empty weight of truck aswell\n",
    "\n",
    "# Objective 1: Cost both due to transportation and base cost of using truck if active)\n",
    "cost_obj = quicksum(C_T * truck_distance_dict[i,j] * x[truck,i,j] for i in N for j in N if check_in_x_var(i, j) for truck in Tr) + \\\n",
    "           quicksum(C_B * y[truck] for truck in Tr)\n",
    "# Objective 2: environmental_obj is distance[i,j] * Weight* x[v,i,j] for all v,i,j (i.e. energy consumption)\n",
    "environmental_obj = quicksum(truck_distance_dict[i,j] * W_dynamic[truck, i, j] * x[truck,i,j] for i in N for j in N if check_in_x_var(i, j) for truck in Tr)\n",
    "# Objective 3: minimise max delivery time for each truck\n",
    "time_obj = t_max\n",
    "\n",
    "#set weights such that all cost objectives are in same order of magnitude (approx 10^3, time is larger to enforce optimiser to use multiple trucks to reduce max delivery time)\n",
    "#below weights enforce the optimiser to use multiple trucks to reduce max delivery time\n",
    "cost_weight = 1\n",
    "environmental_weight = 0.01\n",
    "time_weight = 60 * 60\n",
    "\n",
    "\"\"\"\n",
    "cost_weight = 1\n",
    "environmental_weight = 1 \n",
    "time_weight = 1\n",
    "\"\"\"\n",
    "obj = cost_weight * cost_obj + environmental_weight * environmental_obj + time_weight * time_obj\n",
    "model.setObjective(obj, GRB.MINIMIZE)\n",
    "\n",
    "model.update()"
   ]
  },
  {
   "cell_type": "markdown",
   "id": "7b2a38d2",
   "metadata": {},
   "source": [
    "Constraint 1: Each customer is visited by exactly one truck"
   ]
  },
  {
   "cell_type": "code",
   "execution_count": 9,
   "id": "ab69e52e",
   "metadata": {},
   "outputs": [],
   "source": [
    "# Constraint 1: Each customer is visited by exactly one truck\n",
    "\n",
    "for customer in N_customers:\n",
    "    # Initialize the sum for the current customer\n",
    "    sum_for_current_customer = 0\n",
    "\n",
    "    # Loop over each truck\n",
    "    for truck in Tr:\n",
    "        # Loop over each node\n",
    "        for node in N:\n",
    "            # Skip if customer is equal to node\n",
    "            if check_in_x_var(node, customer):\n",
    "                # Add the variable to the sum\n",
    "                sum_for_current_customer += x[truck, node, customer]\n",
    "\n",
    "    # The sum for the current customer must be equal to 1\n",
    "    model.addConstr(sum_for_current_customer == 1, name=f'Customer_{customer}_visited_once')"
   ]
  },
  {
   "cell_type": "markdown",
   "id": "5dadab2b",
   "metadata": {},
   "source": [
    "Constraint 2: Each truck must leave the depot if active"
   ]
  },
  {
   "cell_type": "code",
   "execution_count": 10,
   "id": "c19978b0",
   "metadata": {},
   "outputs": [],
   "source": [
    "# Constraint 2: Each truck must leave the depot if active\n",
    "\n",
    "for truck in Tr:\n",
    "    sum_for_current_vehicle = quicksum(x[truck, 'D0', customer] for customer in N_customers)\n",
    "    model.addConstr(sum_for_current_vehicle == y[truck], name=f'Truck_leaves_depot_{truck}')"
   ]
  },
  {
   "cell_type": "markdown",
   "id": "75be8c8e",
   "metadata": {},
   "source": [
    "Constraint 3: Each vehicle arrives at depot if active"
   ]
  },
  {
   "cell_type": "code",
   "execution_count": 11,
   "id": "30b033de",
   "metadata": {},
   "outputs": [],
   "source": [
    "\n",
    "# Constraint 3: Each truck must return to the depot if active\n",
    "\n",
    "for truck in Tr:\n",
    "    sum_for_current_vehicle = quicksum(x[truck, customer, 'D1'] for customer in N_customers)\n",
    "    model.addConstr(sum_for_current_vehicle == y[truck], name=f'Truck_returns_to_depot_{truck}')"
   ]
  },
  {
   "cell_type": "markdown",
   "id": "bcc6bc70",
   "metadata": {},
   "source": [
    "Constraint 4: If a vehicle arrives at a customer node it must also leave"
   ]
  },
  {
   "cell_type": "code",
   "execution_count": 12,
   "id": "900e2706",
   "metadata": {},
   "outputs": [],
   "source": [
    "# Constraint 4: If a truck arrives at a customer node it must also leave (flow balance)\n",
    "\n",
    "for truck in Tr:\n",
    "    for node in N_customers:\n",
    "        model.addConstr(\n",
    "            quicksum(x[truck, node, j] for j in N if check_in_x_var(node, j)) == \n",
    "            quicksum(x[truck, j, node] for j in N if check_in_x_var(j, node)),\n",
    "            name=f'Flow_balance_{truck}_{node}'\n",
    "        )"
   ]
  },
  {
   "cell_type": "markdown",
   "id": "ff35e020",
   "metadata": {},
   "source": [
    "Constraint 5: Time at a node is equal or larger than time at previous nodes plus travel time (or irrelevant). Eliminates need for subtour constraints."
   ]
  },
  {
   "cell_type": "code",
   "execution_count": 13,
   "id": "6abc6ece",
   "metadata": {},
   "outputs": [],
   "source": [
    "#Constraint 5: Time at a node is equal or larger than time at previous nodes plus travel time (or irrelevant). Eliminates need for subtour constraints.\n",
    "\n",
    "# Add time constraints for all vehicles, nodes, and customers\n",
    "for truck in Tr:\n",
    "    for node in N:\n",
    "        for customer in N:\n",
    "            if check_in_x_var(node, customer):\n",
    "                model.addConstr(\n",
    "                    t[truck, customer] >= t[truck, node] + truck_time_dict[(node, customer)] - M * (1 - x[truck, node, customer]),\n",
    "                    name=f'Time_{truck}_{node}_{customer}'\n",
    "                )"
   ]
  },
  {
   "cell_type": "markdown",
   "id": "6a297bab",
   "metadata": {},
   "source": [
    "Constraint 6: Payloads"
   ]
  },
  {
   "cell_type": "code",
   "execution_count": 14,
   "id": "079c9ffa",
   "metadata": {},
   "outputs": [],
   "source": [
    "# Constraint 6: The total payload delivered to the customer must be less or equal to the truck load capacity Q_T\n",
    "\n",
    "for truck in Tr:\n",
    "    model.addConstr(quicksum(dataset.data[i]['Demand'] * x[truck, i, j] for i in N for j in N if check_in_x_var(i, j)) <= Q_T, \n",
    "                    name=f'Payload_{truck}')"
   ]
  },
  {
   "cell_type": "markdown",
   "id": "5c5609f5",
   "metadata": {},
   "source": [
    "Constraint 7 : link y variable to x variable."
   ]
  },
  {
   "cell_type": "code",
   "execution_count": 15,
   "id": "61039c44",
   "metadata": {},
   "outputs": [],
   "source": [
    "# Constraint 7: Link y variable to x variable : TRUCKS\n",
    "#if any link in x (for each truck) is active -> y = 1\n",
    "# can do this by checking if each truck leaves the depot (all trucks must leave depot if active)\n",
    "\n",
    "for truck in Tr:\n",
    "    model.addConstr(y[truck] == quicksum(x[truck, 'D0', i] for i in N_customers), name=f'Link_y{truck}_to_x_{truck}')"
   ]
  },
  {
   "cell_type": "markdown",
   "id": "d6450296",
   "metadata": {},
   "source": [
    "Constraint 8: Set departure time from depot D0 for each truck = 0"
   ]
  },
  {
   "cell_type": "code",
   "execution_count": 16,
   "id": "b7f863b8",
   "metadata": {},
   "outputs": [],
   "source": [
    "# Constraint 8: set departure time from depot D0 for each truck = 0\n",
    "\n",
    "for truck in Tr:\n",
    "    model.addConstr(t[truck, 'D0'] == 0, name=f'Departure_time_{truck}_D0')"
   ]
  },
  {
   "cell_type": "markdown",
   "id": "f6c80500",
   "metadata": {},
   "source": [
    "Constraint 9: update time variables."
   ]
  },
  {
   "cell_type": "code",
   "execution_count": 17,
   "id": "d1a2ff7c",
   "metadata": {},
   "outputs": [],
   "source": [
    "# Constraint 9: Update time variable for trucks\n",
    "# Loop over each truck\n",
    "for truck in Tr:\n",
    "    # Loop over each node (destination)\n",
    "    for j in N:\n",
    "        if j != 'D0':  # Ensuring no calculation is made for the time to 'D0' as it's the starting point only\n",
    "            # Initialize the sum for arriving at node j from any node i\n",
    "            sum_for_arrival_to_j = quicksum((t[truck, i] + truck_time_dict[i, j]) * x[truck, i, j]\n",
    "                                            for i in N if check_in_x_var(i, j))\n",
    "            \n",
    "            # Add the constraint that sets the arrival time at j based on departure times from all nodes i\n",
    "            model.addConstr(t[truck, j] == sum_for_arrival_to_j, name=f'Update_time_{truck}_{j}')"
   ]
  },
  {
   "cell_type": "markdown",
   "id": "dee08fc0",
   "metadata": {},
   "source": [
    "Constraint 10: update max delivery time variable."
   ]
  },
  {
   "cell_type": "code",
   "execution_count": 18,
   "id": "b593ac0f",
   "metadata": {},
   "outputs": [],
   "source": [
    "# Constraint 10: Update max delivery time variable\n",
    "for truck in Tr:\n",
    "    for node in N:\n",
    "        # Add a constraint to the model that the maximum delivery time is greater than or equal to the delivery time to the customer for each vehicle\n",
    "        model.addConstr(t_max >= t[truck, node], name=f'Update_max_delivery_time_{truck}_{node}')"
   ]
  },
  {
   "cell_type": "markdown",
   "id": "fc072ea2",
   "metadata": {},
   "source": [
    "CONSTRAINTS FOR DYNAMIC WEIGHTS AND PAYLOAD"
   ]
  },
  {
   "cell_type": "markdown",
   "id": "dd577018",
   "metadata": {},
   "source": [
    "Constraint 11: set payload for each truck at depot = sum of demand of all customers visited by truck"
   ]
  },
  {
   "cell_type": "code",
   "execution_count": 19,
   "id": "65b58fe9",
   "metadata": {},
   "outputs": [],
   "source": [
    "# Constraint 11: set payload for each truck at depot = sum of demand of all customers visited by truck\n",
    "#note: this works, checked manually\n",
    "for truck in Tr:\n",
    "    sum_for_current_truck = 0\n",
    "    for i in N:\n",
    "        for j in N:\n",
    "            if check_in_x_var(i, j):\n",
    "                sum_for_current_truck += dataset.data[j]['Demand'] * x[truck, i, j]\n",
    "        if check_in_x_var('D0', i):\n",
    "            model.addConstr(payload[truck, 'D0', i] == sum_for_current_truck * x[truck, 'D0', i], name=f'Payload_{truck}_D0_{i}')"
   ]
  },
  {
   "cell_type": "markdown",
   "id": "ea2eaa31",
   "metadata": {},
   "source": [
    "Constraint 12: each time truck delivers to a customer, the payload is updated"
   ]
  },
  {
   "cell_type": "code",
   "execution_count": 20,
   "id": "c1103bb3",
   "metadata": {},
   "outputs": [],
   "source": [
    "#Constraint 12: each time truck delivers to a customer, the payload is updated\n",
    "for truck in Tr:\n",
    "    for i in N:\n",
    "        for j in N_customers:\n",
    "            for k in N:\n",
    "                \"\"\"\n",
    "                i is node which was previously visited by truck\n",
    "                j is customer node where truck is delivering\n",
    "                k is node where truck is going next\n",
    "                \"\"\"\n",
    "                if check_in_x_var(i, j) and check_in_x_var(j, k):\n",
    "                    model.addConstr(payload[truck, j, k] <= payload[truck, i, j] - dataset.data[j]['Demand'] * x[truck, i, j] + M * (1 - x[truck, i, j]), name=f'Payload_update_{truck}_{truck}_{i}_{j}_{k}')"
   ]
  },
  {
   "cell_type": "markdown",
   "id": "d76e2a63",
   "metadata": {},
   "source": [
    "Constraint 13: Explicitly set payload to zero for inactive routes (for some reason without this some inactive trucks have payload = 1000)"
   ]
  },
  {
   "cell_type": "code",
   "execution_count": 21,
   "id": "3e58220f",
   "metadata": {},
   "outputs": [],
   "source": [
    "# Constraint 13: Explicitly set payload to zero for inactive routes (for some reason without this some inactive trucks have payload = 1000)\n",
    "for truck in Tr:\n",
    "    for i in N:\n",
    "        for j in N:\n",
    "            if check_in_x_var(i, j):\n",
    "                model.addConstr(payload[truck, i, j] <= M * x[truck, i, j], name=f'Zero_inactive_payload_{truck}_{i}_{j}')"
   ]
  },
  {
   "cell_type": "markdown",
   "id": "b4d1a740",
   "metadata": {},
   "source": [
    "Constraint 14: update dynamic weight for each truck at each node (W_dynamic[truck, i, j] = W_T + payload[truck, i, j]) only when link (thus truck) is active"
   ]
  },
  {
   "cell_type": "code",
   "execution_count": 22,
   "id": "240b87c0",
   "metadata": {},
   "outputs": [],
   "source": [
    "# Constraint 14: update dynamic weight for each truck at each node (W_dynamic[truck, i, j] = W_T + payload[truck, i, j]) only when link (thus truck) is active\n",
    "for truck in Tr:\n",
    "    for i in N:\n",
    "        for j in N:\n",
    "            if check_in_x_var(i, j):\n",
    "                model.addConstr(W_dynamic[truck, i, j] == (W_T + payload[truck, i, j]) * x[truck, i, j], name=f'Update_dynamic_weight_{truck}_{i}_{j}')"
   ]
  },
  {
   "cell_type": "markdown",
   "id": "3488aedc",
   "metadata": {},
   "source": [
    "Update, tune and run the model"
   ]
  },
  {
   "cell_type": "code",
   "execution_count": 23,
   "id": "f74c3bbe",
   "metadata": {},
   "outputs": [
    {
     "name": "stdout",
     "output_type": "stream",
     "text": [
      "Warning: quadratic constraint 19630 and quadratic constraint 20830 have the same name \"Update_dynamic_weight_Tr1_D0_C1\"\n",
      "Gurobi Optimizer version 11.0.2 build v11.0.2rc0 (mac64[arm] - Darwin 23.5.0 23F79)\n",
      "\n",
      "CPU model: Apple M1 Max\n",
      "Thread count: 10 physical cores, 10 logical processors, using up to 10 threads\n",
      "\n",
      "Academic license 2514144 - for non-commercial use only - registered to u.___@student.tudelft.nl\n",
      "Optimize a model with 19475 rows, 3691 columns and 61540 nonzeros\n",
      "Model fingerprint: 0x73f47b3f\n",
      "Model has 1200 quadratic objective terms\n",
      "Model has 2555 quadratic constraints\n",
      "Variable types: 2486 continuous, 1205 integer (1205 binary)\n",
      "Coefficient statistics:\n",
      "  Matrix range     [1e+00, 1e+09]\n",
      "  QMatrix range    [1e+00, 8e+01]\n",
      "  QLMatrix range   [8e-02, 2e+03]\n",
      "  Objective range  [1e+02, 4e+03]\n",
      "  QObjective range [1e-01, 2e+00]\n",
      "  Bounds range     [1e+00, 1e+03]\n",
      "  RHS range        [1e+00, 1e+09]\n",
      "Warning: Model contains large matrix coefficients\n",
      "         Consider reformulating model or setting NumericFocus parameter\n",
      "         to avoid numerical issues.\n",
      "Presolve added 35 rows and 0 columns\n",
      "Presolve removed 0 rows and 5 columns\n",
      "Presolve time: 0.23s\n",
      "Presolved: 52765 rows, 19886 columns, 225017 nonzeros\n",
      "Presolved model has 4750 SOS constraint(s)\n",
      "Variable types: 8481 continuous, 11405 integer (11405 binary)\n",
      "\n",
      "Deterministic concurrent LP optimizer: primal and dual simplex (primal and dual model)\n",
      "Showing primal log only...\n",
      "\n",
      "Root relaxation presolved: 41465 rows, 10511 columns, 392264 nonzeros\n",
      "\n",
      "\n",
      "Root simplex log...\n",
      "\n",
      "Iteration    Objective       Primal Inf.    Dual Inf.      Time\n",
      "       0    7.6161136e+04   9.946033e+03   5.373632e+08      5s\n",
      "Concurrent spin time: 0.01s\n",
      "\n",
      "Solved with dual simplex\n",
      "\n",
      "Root relaxation: objective 1.298614e+04, 504 iterations, 0.32 seconds (0.35 work units)\n",
      "Total elapsed time = 5.25s (DegenMoves)\n",
      "\n",
      "    Nodes    |    Current Node    |     Objective Bounds      |     Work\n",
      " Expl Unexpl |  Obj  Depth IntInf | Incumbent    BestBd   Gap | It/Node Time\n",
      "\n",
      "     0     0 12986.1415    0  211          - 12986.1415      -     -    5s\n",
      "     0     0 13016.9879    0  208          - 13016.9879      -     -    9s\n",
      "     0     0 13640.9573    0  244          - 13640.9573      -     -    9s\n",
      "     0     0 13661.5269    0  253          - 13661.5269      -     -    9s\n",
      "     0     0 13661.5269    0  280          - 13661.5269      -     -    9s\n",
      "     0     0 13661.5296    0  292          - 13661.5296      -     -    9s\n",
      "     0     0 13661.5296    0  301          - 13661.5296      -     -    9s\n",
      "     0     0 15101.6216    0  254          - 15101.6216      -     -   10s\n",
      "     0     0 15117.6141    0  260          - 15117.6141      -     -   11s\n",
      "     0     0 15174.3071    0  230          - 15174.3071      -     -   11s\n",
      "     0     0 15200.0413    0  290          - 15200.0413      -     -   12s\n",
      "     0     0 15204.2344    0  280          - 15204.2344      -     -   12s\n",
      "     0     0 15216.8953    0  245          - 15216.8953      -     -   12s\n",
      "     0     0 15216.8953    0  260          - 15216.8953      -     -   13s\n",
      "     0     0 15218.4573    0  178          - 15218.4573      -     -   13s\n",
      "     0     0 15225.9488    0  214          - 15225.9488      -     -   13s\n",
      "     0     0 15227.2329    0  325          - 15227.2329      -     -   13s\n",
      "     0     0 15279.8396    0  319          - 15279.8396      -     -   14s\n",
      "     0     0 15279.8396    0  349          - 15279.8396      -     -   14s\n",
      "     0     0 15279.8396    0  370          - 15279.8396      -     -   14s\n",
      "     0     0 15279.8396    0  370          - 15279.8396      -     -   15s\n",
      "     0     2 15282.2374    0  370          - 15282.2374      -     -   16s\n",
      "   119   133 15299.6560   14  271          - 15299.2743      -  65.3   20s\n",
      "   664   599 22428.9300   49  147          - 15299.2743      -  38.7   25s\n",
      "*  678   598              57    83089.332848 15299.2743  81.6%  38.2   25s\n",
      "H  700   610                    78472.669380 15299.2743  80.5%  38.2   25s\n",
      "H  705   610                    73066.490880 15299.2743  79.1%  38.5   25s\n",
      "H  708   610                    68338.124046 15299.2743  77.6%  38.7   25s\n",
      "H  757   654                    51232.310828 15299.2743  70.1%  38.7   28s\n",
      "H  761   651                    46543.862780 15299.2743  67.1%  39.0   28s\n",
      "H  804   687                    42514.142840 15299.2743  64.0%  42.5   29s\n",
      "   807   726 29436.4914   62  156 42514.1428 15299.2743  64.0%  43.0   30s\n",
      "  1021   891 34912.0665   81  152 42514.1428 15299.2743  64.0%  47.5   35s\n",
      "  1756  1486 25625.4788   39   98 42514.1428 15299.5134  64.0%  48.7   44s\n",
      "H 1759  1475                    40649.638340 15299.5134  62.4%  48.7   44s\n",
      "H 1765  1470                    39240.561134 15299.5134  61.0%  48.9   44s\n",
      "  1775  1474 25772.6770   40   96 39240.5611 15299.5134  61.0%  49.1   46s\n",
      "  1942  1618 16949.9452   18 4115 39240.5611 15299.5134  61.0%  47.9   64s\n",
      "  1944  1619 32828.6417   31  140 39240.5611 15299.5134  61.0%  47.8   67s\n",
      "  1947  1623 22688.9383   41 4084 39240.5611 15299.5134  61.0%  49.4   75s\n",
      "  1950  1625 30434.1657   24  136 39240.5611 15299.5134  61.0%  49.3   80s\n",
      "  1952  1628 30898.6284   74 4049 39240.5611 15299.5134  61.0%  50.6   89s\n",
      "  1954  1629 34621.6524   79  151 39240.5611 16088.2822  59.0%  50.6  136s\n",
      "  1956  1631 21425.6321   17  164 39240.5611 17011.8128  56.6%  50.5  142s\n",
      "  1961  1634 18850.7107   76  185 39240.5611 18698.1515  52.3%  50.4  171s\n",
      "  1966  1637 26190.5943   70  213 39240.5611 19326.9042  50.7%  50.3  175s\n",
      "  1973  1642 35932.2914   42  232 39240.5611 20654.7563  47.4%  50.1  194s\n",
      "  1974  1643 24666.7714   38  191 39240.5611 20654.7563  47.4%  50.1  195s\n",
      "  1988  1652 22140.8988    5  203 39240.5611 21237.3156  45.9%  49.7  200s\n",
      "  2000  1660 37730.6257  109  216 39240.5611 22428.6658  42.8%  49.4  206s\n",
      "  2011  1667 26053.7671   45  195 39240.5611 23257.6802  40.7%  49.1  210s\n",
      "  2016  1671 24584.2995   34  207 39240.5611 24584.2995  37.3%  49.0  215s\n",
      "  2020  1678 30302.5147   35  136 39240.5611 24584.2995  37.3%  59.6  220s\n",
      "  2052  1700 33735.1416   38  103 39240.5611 24584.2995  37.3%  62.0  225s\n",
      "  2123  1749 38838.5279   42  103 39240.5611 24584.2995  37.3%  62.7  231s\n",
      "  2250  1827 35142.8598   49  102 39240.5611 24584.2995  37.3%  63.9  236s\n",
      "  2327  1840 29571.5541   40  148 39240.5611 24584.2995  37.3%  64.0  251s\n",
      "  2769  2031 24584.2995   41  108 39240.5611 24584.2995  37.3%  60.7  255s\n",
      "  3502  2215 38682.9456   81   84 39240.5611 24584.2995  37.3%  58.0  260s\n",
      "  4482  2575 37437.6747   61   57 39240.5611 24584.2995  37.3%  56.0  265s\n",
      "  5813  2920 36623.5786   77   82 39240.5611 24584.2995  37.3%  51.8  270s\n",
      "  6588  3209 32738.1294   51  104 39240.5611 24584.2995  37.3%  50.7  275s\n",
      "  7849  3845 34565.5036   57  103 39240.5611 25692.1863  34.5%  49.0  280s\n",
      "  9422  4656     cutoff   55      39240.5611 27676.3874  29.5%  47.3  285s\n",
      " 11676  6048     cutoff   66      39240.5611 29454.2322  24.9%  45.0  290s\n",
      " 13914  7586 35380.6252   70   63 39240.5611 30567.1180  22.1%  43.3  295s\n",
      " 15224  7823 37797.6648   45   48 39240.5611 30647.4662  21.9%  42.8  305s\n",
      " 16597  8822     cutoff   57      39240.5611 30793.8548  21.5%  42.4  329s\n",
      " 17166  9612 37120.4444   56   75 39240.5611 30832.8989  21.4%  42.3  331s\n",
      " 20399 10777     cutoff   71      39240.5611 31064.0418  20.8%  41.5  336s\n",
      " 22963 12072 37651.7390   64   49 39240.5611 31272.3728  20.3%  41.0  340s\n",
      " 25768 13718 infeasible   47      39240.5611 31489.6613  19.8%  41.0  345s\n",
      " 27945 14689 38315.8554   56   97 39240.5611 31602.4983  19.5%  40.8  351s\n",
      " 30257 15557     cutoff   57      39240.5611 31746.8040  19.1%  40.5  355s\n",
      " 33238 17130 37504.1870   60   98 39240.5611 31868.9054  18.8%  40.3  500s\n",
      " 36349 18660     cutoff   52      39240.5611 31966.8181  18.5%  40.2  505s\n",
      " 40050 20091 37444.1605   78  129 39240.5611 32130.1734  18.1%  40.1  511s\n",
      " 41899 21160 34552.8764   54   64 39240.5611 32201.3605  17.9%  40.0  515s\n",
      " 44142 22178 38359.1541   52   35 39240.5611 32289.7235  17.7%  39.9  520s\n",
      " 47561 23496 35795.3975   56   48 39240.5611 32423.2425  17.4%  39.8  526s\n",
      " 49480 24230     cutoff   71      39240.5611 32498.2538  17.2%  39.8  549s\n",
      " 50286 25095     cutoff   64      39240.5611 32525.0968  17.1%  39.8  552s\n",
      " 53663 26302     cutoff   63      39240.5611 32641.5328  16.8%  39.7  556s\n",
      " 55245 26981 36875.6067   55   76 39240.5611 32682.0164  16.7%  39.7  560s\n",
      " 58444 28364 34518.0417   54   50 39240.5611 32764.1456  16.5%  39.6  566s\n",
      " 60937 29258 39198.5780   47   45 39240.5611 32842.9478  16.3%  39.5  570s\n",
      " 63629 30500 35428.7331   57  102 39240.5611 32929.1696  16.1%  39.5  576s\n",
      " 65684 31062 38073.3218   54   36 39240.5611 32986.2317  15.9%  39.4  600s\n",
      " 68433 32365 35131.7748   53   57 39240.5611 33056.0026  15.8%  39.3  605s\n",
      " 70594 33206 34935.2957   51   42 39240.5611 33109.3142  15.6%  39.3  610s\n",
      " 73649 34416 33534.7793   42   66 39240.5611 33172.2702  15.5%  39.2  616s\n",
      " 76381 35363 34371.4112   47   81 39240.5611 33224.7702  15.3%  39.2  620s\n",
      " 79271 36552 35623.8211   52   59 39240.5611 33286.9067  15.2%  39.1  625s\n",
      " 82564 37777 37882.1285   52   36 39240.5611 33370.8250  15.0%  39.0  651s\n",
      " 84514 38509 35260.2020   51   81 39240.5611 33426.8509  14.8%  39.0  655s\n",
      " 87468 39220 38646.1038   56   45 39240.5611 33470.0345  14.7%  39.0  667s\n",
      " 87764 39498 33677.5018   49   41 39240.5611 33473.8982  14.7%  39.0  670s\n",
      " 90036 40443     cutoff   64      39240.5611 33516.4239  14.6%  39.0  675s\n",
      " 91789 41273 38499.7851   59   84 39240.5611 33543.4484  14.5%  39.0  680s\n",
      " 94528 42310 37135.0951   56   54 39240.5611 33601.2471  14.4%  39.0  698s\n",
      " 95739 42561 38658.0561   62   44 39240.5611 33612.7366  14.3%  38.9  700s\n",
      " 97908 43667 37763.7154   50   45 39240.5611 33655.1372  14.2%  38.9  705s\n",
      " 99342 44009 38014.6151   58   66 39240.5611 33676.0735  14.2%  38.9  727s\n",
      " 101809 45050 38914.8852   53   37 39240.5611 33705.8918  14.1%  38.9  731s\n",
      " 103775 45699     cutoff   65      39240.5611 33738.2707  14.0%  38.9  735s\n",
      " 107429 46836 34489.1062   48   48 39240.5611 33781.7097  13.9%  38.9  741s\n",
      " 109266 47684 38905.8158   61   77 39240.5611 33805.5166  13.9%  38.9  745s\n",
      " 111693 48535 37680.2805   59  115 39240.5611 33840.1278  13.8%  38.8  750s\n",
      " 115470 49794 38992.6295   63   35 39240.5611 33886.8000  13.6%  38.8  775s\n",
      " 118777 51055     cutoff   54      39240.5611 33919.1919  13.6%  38.8  781s\n",
      " 121170 51641 37064.9317   48   47 39240.5611 33949.1686  13.5%  38.7  785s\n",
      " 124336 52787 34492.6351   48   48 39240.5611 33991.0285  13.4%  38.7  790s\n",
      " 127480 53791     cutoff   60      39240.5611 34031.3705  13.3%  38.7  796s\n",
      " 129343 54619 38754.0772   61   86 39240.5611 34054.1518  13.2%  38.7  800s\n",
      " 131736 55262 35804.8273   61   85 39240.5611 34089.1812  13.1%  38.7  823s\n",
      " 132405 56012     cutoff   55      39240.5611 34095.2725  13.1%  38.7  826s\n",
      " 135901 56824 36995.8396   55   50 39240.5611 34134.4290  13.0%  38.6  830s\n",
      " 139319 57845 38394.1357   56   46 39240.5611 34176.8562  12.9%  38.6  835s\n",
      " 142120 58720 38594.6397   59  109 39240.5611 34208.7124  12.8%  38.6  841s\n",
      " 144182 59336 36073.2390   55   61 39240.5611 34237.2816  12.8%  38.6  845s\n",
      " 147193 60499 38569.0759   51   53 39240.5611 34266.0696  12.7%  38.5  851s\n",
      " 148277 60689 35433.1655   51   47 39240.5611 34277.8863  12.6%  38.5  872s\n",
      " 148882 61436     cutoff   61      39240.5611 34286.8261  12.6%  38.6  875s\n",
      " 153054 62311 37962.1736   51   42 39240.5611 34332.7405  12.5%  38.6  881s\n",
      " 156591 63280 37675.8961   50   41 39240.5611 34366.7181  12.4%  38.6  886s\n",
      " 158358 63867     cutoff   63      39240.5611 34391.3857  12.4%  38.6  890s\n",
      " 162243 64877 37847.9642   62   70 39240.5611 34429.2890  12.3%  38.5  895s\n",
      " 164196 65314 34586.4584   57   63 39240.5611 34452.2688  12.2%  38.5  900s\n",
      " 164758 65725     cutoff   56      39240.5611 34456.2488  12.2%  38.5  922s\n",
      " 166705 66273 39103.2947   53   53 39240.5611 34478.3020  12.1%  38.5  926s\n",
      " 170367 67143 38497.4058   55   44 39240.5611 34510.1400  12.1%  38.5  931s\n",
      " 172615 68022 37001.9561   65   69 39240.5611 34529.9534  12.0%  38.5  936s\n",
      " 174356 68436 37413.1830   64   78 39240.5611 34545.4789  12.0%  38.5  940s\n",
      " 178084 69314     cutoff   68      39240.5611 34574.9020  11.9%  38.5  945s\n",
      " 180985 70246 37298.0036   59   51 39240.5611 34607.0621  11.8%  38.5  971s\n",
      " 184331 70818 36764.9181   53   57 39240.5611 34640.6037  11.7%  38.4  976s\n",
      " 187272 71770 38468.1303   53  106 39240.5611 34671.6220  11.6%  38.4  981s\n",
      " 189029 72199 36946.8705   54   96 39240.5611 34684.3720  11.6%  38.4  985s\n",
      " 192713 72941 39092.7801   61   36 39240.5611 34711.9784  11.5%  38.4  990s\n",
      " 195708 73810 38332.0154   57  103 39240.5611 34734.9081  11.5%  38.3  995s\n",
      " 197491 74327 38392.1167   55   55 39240.5611 34755.8908  11.4%  38.3 1018s\n",
      " 199921 74788 38641.3650   65   52 39240.5611 34777.9532  11.4%  38.3 1022s\n",
      " 201233 75136 39063.9900   75   57 39240.5611 34789.1680  11.3%  38.3 1025s\n",
      " 204369 75875 38927.5184   51   38 39240.5611 34815.3832  11.3%  38.3 1031s\n",
      " 207549 76714     cutoff   66      39240.5611 34848.8255  11.2%  38.3 1036s\n",
      " 210620 77436 35639.2271   51   65 39240.5611 34876.1996  11.1%  38.3 1041s\n",
      " 213149 77950 37536.8087   56  106 39240.5611 34896.3595  11.1%  38.3 1045s\n",
      " 214352 78151 37991.0366   60   40 39240.5611 34906.7732  11.0%  38.3 1066s\n",
      " 216678 78553 38929.7670   60   52 39240.5611 34929.0688  11.0%  38.3 1070s\n",
      " 218874 78960 37411.2202   57   55 39240.5611 34948.0132  10.9%  38.3 1080s\n",
      " 219668 79283 35855.8688   53  101 39240.5611 34956.4442  10.9%  38.3 1105s\n",
      " 221329 79847 35219.0879   51   92 39240.5611 34972.5776  10.9%  38.3 1113s\n",
      " 223060 80011 38132.9253   53   57 39240.5611 34985.4132  10.8%  38.3 1116s\n",
      " 225705 80711 39168.8809   65   44 39240.5611 35010.5427  10.8%  38.2 1121s\n",
      " 229022 81266 37157.1256   56   72 39240.5611 35034.7453  10.7%  38.2 1126s\n",
      " 231361 81921 36605.6846   58   48 39240.5611 35054.9650  10.7%  38.2 1149s\n",
      " 232889 82051 37948.8370   51   59 39240.5611 35065.2691  10.6%  38.2 1150s\n",
      " 235862 82884 36635.2037   57   56 39240.5611 35085.8476  10.6%  38.2 1155s\n",
      " 238369 83497     cutoff   46      39240.5611 35106.0987  10.5%  38.2 1161s\n",
      " 241378 84093 38114.4271   59   55 39240.5611 35126.4590  10.5%  38.2 1166s\n",
      " 245011 84644 38622.5305   67   53 39240.5611 35148.1713  10.4%  38.1 1171s\n",
      " 247950 85268 36793.0707   48   64 39240.5611 35176.1986  10.4%  38.1 1196s\n",
      " 250533 85786 36178.0565   52   97 39240.5611 35194.8474  10.3%  38.1 1201s\n",
      " 252795 86355 36620.4594   53   63 39240.5611 35214.7684  10.3%  38.1 1205s\n",
      " 256087 87040     cutoff   57      39240.5611 35241.4187  10.2%  38.1 1210s\n",
      " 259834 87622 37343.8385   60   55 39240.5611 35270.1557  10.1%  38.1 1216s\n",
      " 262942 88316 36670.3040   60   28 39240.5611 35295.0524  10.1%  38.0 1221s\n",
      " 264172 88509 36660.1010   58   70 39240.5611 35304.6433  10.0%  38.0 1242s\n",
      " 266843 89015 38102.3544   58   38 39240.5611 35321.9587  10.0%  38.0 1246s\n",
      " 269554 89519     cutoff   64      39240.5611 35345.3099  9.93%  38.0 1251s\n",
      " 272064 89922 38435.1525   55   30 39240.5611 35360.5118  9.89%  38.0 1255s\n",
      " 274755 90412 36167.0399   52   53 39240.5611 35379.2643  9.84%  38.0 1260s\n",
      " 278562 90942 39118.9571   59   48 39240.5611 35409.8360  9.76%  38.0 1265s\n",
      " 280453 91281 37921.5323   56   48 39240.5611 35424.5100  9.72%  38.0 1288s\n",
      " 281378 91623 38982.3774   58   96 39240.5611 35430.5308  9.71%  38.0 1290s\n",
      " 284962 92038     cutoff   51      39240.5611 35455.9119  9.64%  38.0 1296s\n",
      " 287715 92547 35517.3576   47   54 39240.5611 35471.0890  9.61%  38.0 1300s\n",
      " 289942 92995 37767.2090   58   88 39240.5611 35491.1214  9.56%  37.9 1305s\n",
      " 293209 93481     cutoff   60      39240.5611 35518.7033  9.48%  37.9 1310s\n",
      " 296328 94015     cutoff   59      39240.5611 35540.8392  9.43%  37.9 1316s\n",
      " 297655 94236 37801.0368   52   44 39240.5611 35548.3429  9.41%  37.9 1337s\n",
      " 300226 94553     cutoff   56      39240.5611 35567.4788  9.36%  37.9 1340s\n",
      " 303100 95124 37984.4039   62   64 39240.5611 35587.6188  9.31%  37.9 1345s\n",
      " 306238 95595 35753.6141   50   52 39240.5611 35607.9045  9.26%  37.9 1351s\n",
      " 309289 96037 37961.9460   50   48 39240.5611 35631.1346  9.20%  37.9 1356s\n",
      " 311200 96342 37933.1531   52   74 39240.5611 35645.5414  9.16%  37.9 1360s\n",
      " 314284 96944 37033.3597   52  109 39240.5611 35665.3953  9.11%  37.8 1385s\n",
      " 318008 97413 39020.6806   68   85 39240.5611 35688.0846  9.05%  37.8 1390s\n",
      " 320692 97954 37736.4800   57   31 39240.5611 35704.1560  9.01%  37.8 1395s\n",
      " 323704 98391 39178.8540   54   40 39240.5611 35728.0874  8.95%  37.8 1400s\n",
      " 326572 98807     cutoff   65      39240.5611 35747.1140  8.90%  37.8 1405s\n",
      " 329819 99299 39038.8402   59   52 39240.5611 35767.8481  8.85%  37.8 1410s\n",
      " 331040 99380 38092.8471   58   50 39240.5611 35773.8585  8.83%  37.7 1431s\n",
      " 333603 99837 38553.2198   58   23 39240.5611 35788.5683  8.80%  37.7 1435s\n",
      " 336750 100348 36917.4936   56   39 39240.5611 35809.1973  8.74%  37.7 1441s\n",
      " 339993 100653 37114.1922   53   73 39240.5611 35826.3940  8.70%  37.7 1446s\n",
      " 341926 101063 38328.8497   63   63 39240.5611 35839.6212  8.67%  37.7 1450s\n",
      " 345327 101493     cutoff   65      39240.5611 35859.0862  8.62%  37.7 1456s\n",
      " 347472 101823 38044.3779   57   47 39240.5611 35874.0298  8.58%  37.7 1479s\n",
      " 348508 102064 38963.3977   65   72 39240.5611 35879.8745  8.56%  37.7 1482s\n",
      " 350594 102323 38217.4981   53   73 39240.5611 35891.1578  8.54%  37.7 1485s\n",
      " 354098 102659 36397.5603   55   51 39240.5611 35911.7007  8.48%  37.6 1491s\n",
      " 357012 103055 38858.9039   68   79 39240.5611 35931.0294  8.43%  37.6 1496s\n",
      " 359149 103336 38896.2040   54   38 39240.5611 35942.9846  8.40%  37.6 1500s\n",
      " 361646 103486 39013.4409   60   51 39240.5611 35958.1059  8.36%  37.6 1514s\n",
      " 361826 103550 37340.3760   54   74 39240.5611 35958.7585  8.36%  37.6 1516s\n",
      " 363102 103801 36333.6078   52  101 39240.5611 35967.3845  8.34%  37.6 1520s\n",
      " 364454 104022 37800.4598   57   49 39240.5611 35974.9259  8.32%  37.6 1541s\n",
      " 367320 104403 36438.3318   55  105 39240.5611 35992.2064  8.28%  37.6 1546s\n",
      " 371033 104664     cutoff   52      39240.5611 36013.1142  8.22%  37.6 1551s\n",
      " 374098 104976 38828.8270   62   40 39240.5611 36029.5603  8.18%  37.6 1556s\n",
      " 376270 105159     cutoff   68      39240.5611 36041.9915  8.15%  37.6 1560s\n",
      " 379184 105514     cutoff   63      39240.5611 36056.3578  8.11%  37.6 1565s\n",
      " 381150 105894 36185.9620   50  105 39240.5611 36069.6241  8.08%  37.5 1588s\n",
      " 383316 106148 36957.5686   50   65 39240.5611 36079.6762  8.06%  37.5 1591s\n",
      " 385480 106386 38168.3630   59   55 39240.5611 36089.5402  8.03%  37.5 1595s\n",
      " 388827 106681     cutoff   66      39240.5611 36105.7299  7.99%  37.5 1601s\n",
      " 391976 106994 37062.3331   55   62 39240.5611 36124.2673  7.94%  37.5 1606s\n",
      " 393846 107219     cutoff   69      39240.5611 36133.3736  7.92%  37.5 1610s\n",
      " 397023 107585     cutoff   64      39240.5611 36150.7285  7.87%  37.5 1616s\n",
      " 398246 107770 37321.6717   66   49 39240.5611 36156.4706  7.86%  37.5 1637s\n",
      " 400787 107939 39063.1307   67   79 39240.5611 36169.5260  7.83%  37.5 1640s\n",
      " 403807 108294     cutoff   55      39240.5611 36181.5017  7.80%  37.5 1646s\n",
      " 405692 108447     cutoff   69      39240.5611 36194.1287  7.76%  37.5 1650s\n",
      " 408880 108847     cutoff   68      39240.5611 36211.3195  7.72%  37.5 1655s\n",
      " 411909 109099 37541.4576   58   48 39240.5611 36229.1300  7.67%  37.5 1661s\n",
      "\n",
      "Interrupt request received\n",
      "\n",
      "Cutting planes:\n",
      "  Learned: 3\n",
      "  Gomory: 1\n",
      "  Cover: 36\n",
      "  Implied bound: 92\n",
      "  Projected implied bound: 11\n",
      "  Clique: 14\n",
      "  MIR: 81\n",
      "  Mixing: 6\n",
      "  StrongCG: 1\n",
      "  Flow cover: 267\n",
      "  Inf proof: 3\n",
      "  Zero half: 22\n",
      "  RLT: 51\n",
      "  Relax-and-lift: 147\n",
      "  PSD: 1\n",
      "\n",
      "Explored 414451 nodes (15517233 simplex iterations) in 1673.19 seconds (3528.53 work units)\n",
      "Thread count was 10 (of 10 available processors)\n",
      "\n",
      "Solution count 9: 39240.6 40649.6 42514.1 ... 83089.3\n",
      "\n",
      "Solve interrupted\n",
      "Best objective 3.924056113410e+04, best bound 3.624016721613e+04, gap 7.6462%\n",
      "Optimization was stopped with status 11\n"
     ]
    }
   ],
   "source": [
    "# Update the model to integrate new variables\n",
    "#model.setParam('TimeLimit', 50)\n",
    "model.update()\n",
    "\n",
    "# Write model to a file\n",
    "model.write('TruckonlySimple.lp')\n",
    "\n",
    "# Tune solver parameters\n",
    "#model.tune()\n",
    "\n",
    "# Optimize the model\n",
    "model.optimize()\n",
    "\n",
    "# Print the results\n",
    "if model.status == GRB.OPTIMAL:\n",
    "    print('Optimal objective: %g' % model.objVal)\n",
    "    for v in model.getVars():\n",
    "        if v.x > 0:\n",
    "            print('%s: %g' % (v.varName, v.x))\n",
    "else:\n",
    "    print('Optimization was stopped with status %d' % model.status)"
   ]
  },
  {
   "cell_type": "markdown",
   "id": "72a3ebb2",
   "metadata": {},
   "source": [
    "Post-processing"
   ]
  },
  {
   "cell_type": "code",
   "execution_count": 24,
   "id": "5ead97f9",
   "metadata": {
    "lines_to_next_cell": 2
   },
   "outputs": [
    {
     "name": "stdout",
     "output_type": "stream",
     "text": [
      "Active trucks: ['Tr1', 'Tr3', 'Tr5']\n",
      "Active routes for trucks: {'Tr1': [('D0', 'C15', 1.3766666666689997, 1523.8), ('C15', 'C5', 1.628333333337633, 1506.3), ('C5', 'C2', 1.9100000000043025, 1504.6), ('C2', 'C1', 2.688333333337778, 1501.7), ('C1', 'D1', 3.0533333333379185, 1500.0)], 'Tr3': [('D0', 'C13', 0.4466666666666308, 1541.3), ('C13', 'C8', 1.1466666666666308, 1515.5), ('C8', 'C7', 1.2833333333333334, 1514.3), ('C7', 'C9', 1.7099999888737454, 1512.4), ('C9', 'C6', 2.1216666205723227, 1507.6), ('C6', 'C10', 2.3366666205722497, 1503.1), ('C10', 'D1', 2.65, 1500.0)], 'Tr5': [('D0', 'C14', 1.4, 1595.4), ('C14', 'C4', 1.9916666746139526, 1510.8), ('C4', 'C12', 2.2866666316985915, 1505.9), ('C12', 'C11', 2.8633332983652404, 1502.9), ('C11', 'C3', 2.971666631698574, 1501.6), ('C3', 'D1', 3.986666631698574, 1500.0)]}\n",
      "Cost objective/Total delivery cost [$]: 16035.0\n",
      "Environmental objective [kg * km]: 8853.5056\n",
      "Time objective: 14351.999874114867\n",
      "Max delivery time: 3 hours, 59 minutes, 11 seconds\n"
     ]
    },
    {
     "data": {
      "image/png": "[encoded data removed]",
      "text/plain": [
       "<Figure size 1000x1000 with 1 Axes>"
      ]
     },
     "metadata": {},
     "output_type": "display_data"
    },
    {
     "name": "stdout",
     "output_type": "stream",
     "text": [
      "Warning: quadratic constraint 19630 and quadratic constraint 20830 have the same name \"Update_dynamic_weight_Tr1_D0_C1\"\n"
     ]
    }
   ],
   "source": [
    "# Extract and store the solution\n",
    "solution = {var.varName: var.x for var in model.getVars()}\n",
    "\n",
    "# Extract active trucks\n",
    "active_trucks = [v for v in Tr if 'T' in v and solution[f'y[{v}]'] >= 0.99]\n",
    "\n",
    "# Extract routes for active trucks\n",
    "active_routes_truck = {} #for each truck and pair of nodes (i, j) store (node from, node to, timestamp, weight) of truck when travelling between i and j (ordered by increasing time)\n",
    "for truck in active_trucks:\n",
    "    active_routes_truck[truck] = []\n",
    "    for node_from in N:\n",
    "        for node_to in N:\n",
    "            if node_from != node_to and solution.get(f'x[{truck},{node_from},{node_to}]', 0) >= 0.99:\n",
    "                timestamp = solution.get(f't[{truck},{node_to}]', 0)\n",
    "                weight = solution.get(f'W_dynamic[{truck},{node_from},{node_to}]', 0)\n",
    "                active_routes_truck[truck].append((node_from, node_to, timestamp, np.round(weight, 1)))\n",
    "\n",
    "# Sort the routes for each truck according to the timestamps\n",
    "for truck in active_trucks:\n",
    "    active_routes_truck[truck].sort(key=lambda x: x[2])\n",
    "\n",
    "print('Active trucks:', active_trucks)\n",
    "print('Active routes for trucks:', active_routes_truck)\n",
    "\n",
    "# Print each seperate objective value after optimisation\n",
    "print('Cost objective/Total delivery cost [$]:', get_cost_obj(C_T, C_B, truck_distance_dict, active_routes_truck, cost_weight=cost_weight))\n",
    "print('Environmental objective [kg * km]:', get_environmental_obj(truck_distance_dict, active_routes_truck, environmental_weight=environmental_weight))\n",
    "print('Time objective:', get_time_obj(active_routes_truck, time_weight=time_weight))\n",
    "\n",
    "#convert t_max to hours, minutes, seconds\n",
    "t_max_hours = model.getVarByName('t_max').x\n",
    "t_max_minutes, t_max_seconds = divmod(t_max_hours * 3600, 60)\n",
    "t_max_hours, t_max_minutes = divmod(t_max_minutes, 60)\n",
    "print('Max delivery time: {} hours, {} minutes, {} seconds'.format(int(t_max_hours), int(t_max_minutes), int(t_max_seconds)))\n",
    "\n",
    "#use plotting method in dataset class to visualise\n",
    "dataset.plot_data(show_demand=False, scale_nodes=True, show_labels=True, active_routes=active_routes_truck, show_weights=True)\n",
    "#save solution to .sol file\n",
    "model.write(output_solution_file_path)\n",
    "#save model to .lp file\n",
    "model.write(output_model_file_path)"
   ]
  },
  {
   "cell_type": "code",
   "execution_count": 25,
   "id": "f14c92dc",
   "metadata": {},
   "outputs": [],
   "source": [
    "import unittest\n",
    "\n",
    "class TestConstraints(unittest.TestCase):\n",
    "    def setUp(self):\n",
    "        self.solution = {var.varName: var.x for var in model.getVars()}\n",
    "\n",
    "    def test_constraint_1(self):\n",
    "        # Check Constraint 1: Each customer is visited by exactly one truck\n",
    "        for customer in N_customers:\n",
    "            # Calculate the sum of x for the current customer\n",
    "            sum_for_current_customer = sum(solution[f'x[{truck},{node},{customer}]'] for truck in Tr for node in N if f'x[{truck},{node},{customer}]' in solution)\n",
    "\n",
    "            # Check if the sum is equal to 1\n",
    "            assert sum_for_current_customer == 1, f'Constraint 1 violated for customer {customer}'\n",
    "\n",
    "    def test_constraint_2(self):\n",
    "        # Check Constraint 2: Each truck must leave the depot if active\n",
    "        for truck in Tr:\n",
    "            # Calculate the sum of x for the current truck leaving the depot\n",
    "            sum_for_current_truck = sum(solution[f'x[{truck},D0,{customer}]'] for customer in N_customers if f'x[{truck},D0,{customer}]' in solution)\n",
    "\n",
    "            # Check if the sum is equal to y[truck]\n",
    "            assert sum_for_current_truck == solution[f'y[{truck}]'], f'Constraint 2 violated for truck {truck}'\n",
    "\n",
    "    def test_constraint_3(self):\n",
    "        # Test for Constraint 3: Each truck must return to the depot if active\n",
    "        for truck in Tr:\n",
    "            sum_return_to_depot = sum(solution[f'x[{truck},{customer},D1]'] for customer in N_customers if f'x[{truck},{customer},D1]' in solution)\n",
    "            assert sum_return_to_depot == solution[f'y[{truck}]'], f'Constraint 3 violated for truck {truck}'\n",
    "\n",
    "    def test_constraint_4(self):\n",
    "        # Test for Constraint 4: Flow balance for each truck at each node\n",
    "        for truck in Tr:\n",
    "            for node in N_customers:\n",
    "                sum_arrivals = sum(solution[f'x[{truck},{node},{j}]'] for j in N if f'x[{truck},{node},{j}]' in solution)\n",
    "                sum_departures = sum(solution[f'x[{truck},{j},{node}]'] for j in N if f'x[{truck},{j},{node}]' in solution)\n",
    "                assert sum_arrivals == sum_departures, f'Constraint 4 violated for truck {truck} at node {node}'\n",
    "\n",
    "    def test_constraint_5(self):\n",
    "        # Check Constraint 5: Time at a node is equal or larger than time at previous nodes plus travel time (or irrelevant)\n",
    "        for truck in Tr:\n",
    "            for node in N:\n",
    "                for customer in N:\n",
    "                    if f'x[{truck},{node},{customer}]' in solution and solution[f'x[{truck},{node},{customer}]'] > 0:\n",
    "                        # Check if the time at the customer is greater or equal to the time at the node plus the travel time\n",
    "                        assert round(solution[f't[{truck},{customer}]'],1) >= round(self.solution[f't[{truck},{node}]'] + truck_time_dict[(node, customer)], 1), f'Constraint 5 violated for truck {truck}, node {node}, customer {customer}'\n",
    "\n",
    "    def test_constraint_6(self):\n",
    "        for truck in Tr:\n",
    "            total_payload = sum(dataset.data[i]['Demand'] * solution[f'x[{truck},{i},{j}]'] for i in N for j in N if f'x[{truck},{i},{j}]' in solution)\n",
    "            assert total_payload <= Q_T, f'Constraint 6 violated for truck {truck}'\n",
    "\n",
    "    def test_constraint_7(self):\n",
    "        # Test for Constraint 7: Link y variable to x variable\n",
    "        for truck in Tr:\n",
    "            sum_leaves_depot = sum(solution[f'x[{truck},D0,{i}]'] for i in N_customers if f'x[{truck},D0,{i}]' in solution)\n",
    "            assert solution[f'y[{truck}]'] == sum_leaves_depot, f'Constraint 7 violated for truck {truck}'\n",
    "\n",
    "    def test_constraint_8(self):\n",
    "        # Test for Constraint 8: Check if departure time from depot D0 for each truck is set to 0\n",
    "        for truck in Tr:\n",
    "            assert solution[f't[{truck},D0]'] == 0, f'Constraint 8 violated for truck {truck}'\n",
    "\n",
    "    def test_constraint_9(self):\n",
    "        # Check Constraint 9: The time at a customer is updated correctly\n",
    "        for truck in Tr:\n",
    "            for j in N:\n",
    "                if j != 'D0':\n",
    "                    expected_time = sum((solution[f't[{truck},{i}]'] + truck_time_dict[i, j]) * solution[f'x[{truck},{i},{j}]'] for i in N if f'x[{truck},{i},{j}]' in solution)\n",
    "                    assert round(solution[f't[{truck},{j}]'], 1) == round(expected_time, 1), f'Constraint 9 violated for truck {truck}, node {j}'\n",
    "\n",
    "    def test_constraint_10(self):\n",
    "     # Check Constraint 10: The maximum delivery time is updated correctly\n",
    "        for truck in Tr:\n",
    "            for node in N:\n",
    "                assert round(solution['t_max'], 1) >= round(solution[f't[{truck},{node}]'], 1), f'Constraint 10 violated for truck {truck}, node {node}'\n",
    "\n",
    "\n",
    "    def test_constraint_11(self):\n",
    "        # Check Constraint 11: The payload at the depot is set correctly\n",
    "        for truck in Tr:\n",
    "            # Calculate the total demand of all customers visited by this truck\n",
    "            expected_payload = sum(dataset.data[j]['Demand'] * self.solution[f'x[{truck},{i},{j}]'] for i in N for j in N if f'x[{truck},{i},{j}]' in self.solution and self.solution[f'x[{truck},{i},{j}]'] > 0)\n",
    "            # Check if the payload at the depot for this truck matches the expected payload\n",
    "            if f'payload[{truck},D0]' in self.solution:\n",
    "                assert round(self.solution[f'payload[{truck},D0]'], 1) == round(expected_payload, 1), f'Constraint 11 violated for truck {truck}'\n",
    "            \n",
    "    def test_constraint_12(self):\n",
    "        # Check Constraint 12: The payload is updated correctly when a truck delivers to a customer\n",
    "        for truck in Tr:\n",
    "            for i in N:\n",
    "                for j in N_customers:\n",
    "                    for k in N:\n",
    "                        if f'x[{truck},{i},{j}]' in solution and f'x[{truck},{j},{k}]' in solution:\n",
    "                            expected_payload = solution[f'payload[{truck},{i},{j}]'] - dataset.data[j]['Demand'] * solution[f'x[{truck},{i},{j}]'] + M * (1 - solution[f'x[{truck},{i},{j}]'])\n",
    "                            assert round(solution[f'payload[{truck},{j},{k}]'], 1) <= round(expected_payload, 1), f'Constraint 12 violated for truck {truck}, nodes {i}, {j}, {k}'\n",
    "\n",
    "    def test_constraint_13(self):\n",
    "        # Check Constraint 13: Payload is zero for inactive routes\n",
    "        for truck in Tr:\n",
    "            for i in N:\n",
    "                for j in N:\n",
    "                    if f'x[{truck},{i},{j}]' in solution:\n",
    "                        expected_payload = M * solution[f'x[{truck},{i},{j}]']\n",
    "                        assert solution[f'payload[{truck},{i},{j}]'] <= expected_payload, f'Constraint 13 violated for truck {truck}, nodes {i}, {j}'\n",
    "\n",
    "\n",
    "    def test_constraint_14(self):\n",
    "        # Check Constraint 14: Dynamic weight is updated correctly\n",
    "        for truck in Tr:\n",
    "            for i in N:\n",
    "                for j in N:\n",
    "                    if f'x[{truck},{i},{j}]' in solution:\n",
    "                        expected_weight = (W_T + solution[f'payload[{truck},{i},{j}]']) * solution[f'x[{truck},{i},{j}]']\n",
    "                        assert solution[f'W_dynamic[{truck},{i},{j}]'] == expected_weight, f'Constraint 14 violated for truck {truck}, nodes {i}, {j}'\n",
    "    \n",
    "    def test_objective(self):\n",
    "        expected_cost = get_cost_obj(C_T, C_B, truck_distance_dict, active_routes_truck, cost_weight=cost_weight)\n",
    "        expected_environmental = get_environmental_obj(truck_distance_dict, active_routes_truck, environmental_weight=environmental_weight)\n",
    "        expected_time = get_time_obj(active_routes_truck, time_weight=time_weight)\n",
    "        expected_obj = expected_cost + expected_environmental + expected_time\n",
    "        assert abs(model.objVal - expected_obj) <= 2, 'Objective value is not correct'\n"
   ]
  },
  {
   "cell_type": "code",
   "execution_count": 26,
   "id": "ef8f32e0",
   "metadata": {},
   "outputs": [
    {
     "name": "stderr",
     "output_type": "stream",
     "text": [
      ".."
     ]
    },
    {
     "name": "stderr",
     "output_type": "stream",
     "text": [
      ".............\n",
      "----------------------------------------------------------------------\n",
      "Ran 15 tests in 0.134s\n",
      "\n",
      "OK\n"
     ]
    },
    {
     "data": {
      "text/plain": [
       "<unittest.main.TestProgram at 0x14c3e5a50>"
      ]
     },
     "execution_count": 26,
     "metadata": {},
     "output_type": "execute_result"
    }
   ],
   "source": [
    "unittest.main(argv=[''], exit=False)"
   ]
  },
  {
   "cell_type": "code",
   "execution_count": null,
   "id": "58073179",
   "metadata": {},
   "outputs": [],
   "source": []
  }
 ],
 "metadata": {
  "jupytext": {
   "cell_metadata_filter": "-all",
   "main_language": "python",
   "notebook_metadata_filter": "-all"
  },
  "kernelspec": {
   "display_name": "VRPforDrones-5bUbox2j",
   "language": "python",
   "name": "python3"
  },
  "language_info": {
   "codemirror_mode": {
    "name": "ipython",
    "version": 3
   },
   "file_extension": ".py",
   "mimetype": "text/x-python",
   "name": "python",
   "nbconvert_exporter": "python",
   "pygments_lexer": "ipython3",
   "version": "3.11.0"
  }
 },
 "nbformat": 4,
 "nbformat_minor": 5
}
