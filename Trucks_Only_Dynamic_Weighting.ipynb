{
 "cells": [
  {
   "cell_type": "markdown",
   "id": "d55e1363",
   "metadata": {},
   "source": [
    "# Trucks only problem #"
   ]
  },
  {
   "cell_type": "markdown",
   "id": "34e68bcb",
   "metadata": {},
   "source": [
    "Install necessary packages"
   ]
  },
  {
   "cell_type": "code",
   "execution_count": 209,
   "id": "8ffa0659",
   "metadata": {},
   "outputs": [],
   "source": [
    "from gurobipy import Model,GRB,LinExpr,quicksum\n",
    "import numpy as np\n",
    "from scipy.spatial import distance\n",
    "import os\n",
    "import socket\n",
    "from load_dataset import Dataset"
   ]
  },
  {
   "cell_type": "markdown",
   "id": "41979347",
   "metadata": {},
   "source": [
    "For Ugo's laptop"
   ]
  },
  {
   "cell_type": "code",
   "execution_count": 210,
   "id": "f70210a2",
   "metadata": {
    "lines_to_next_cell": 0
   },
   "outputs": [
    {
     "name": "stdout",
     "output_type": "stream",
     "text": [
      "Gurobi license path set for Ugo's MacBook Pro.\n"
     ]
    }
   ],
   "source": [
    "\n",
    "# Define the node name or another identifier of your laptop\n",
    "my_laptop_node = 'Ugos-MacBook-Pro.local'\n",
    "\n",
    "# Get the current system's node name using socket.gethostname()\n",
    "current_node = socket.gethostname()\n",
    "\n",
    "if current_node == my_laptop_node:\n",
    "    # Set the environment variable for Gurobi license file\n",
    "    os.environ[\"GRB_LICENSE_FILE\"] = \"/Users/ugomunzi/gurobi/licenses/gurobi.lic\"\n",
    "    print(\"Gurobi license path set for Ugo's MacBook Pro.\")\n",
    "else:\n",
    "    print(\"Not Ugo's MacBook Pro, using default or no specific license settings.\")\n"
   ]
  },
  {
   "cell_type": "markdown",
   "id": "2369d72a",
   "metadata": {},
   "source": [
    "Define model parametres"
   ]
  },
  {
   "cell_type": "code",
   "execution_count": 211,
   "id": "a002faa8",
   "metadata": {},
   "outputs": [],
   "source": [
    "## MODEL PARAMETERS ##\n",
    "W_T = 1500 #empty weight truck [kg]\n",
    "Q_T = 1000 #load capacity of trucks [kg]\n",
    "#W_D = 25 #empty weight drone [kg]\n",
    "#Q_D = 5 #load capacity of drones [kg]\n",
    "C_T = 25 #travel cost of trucks per unit distance [monetary unit/km]\n",
    "#C_D = 1 #travel cost of drones per unit distance [monetary unit/km]\n",
    "C_B = 500 #basis cost of using a truck equipped with a drone [monetary unit]\n",
    "#E = 0.5 #maximum endurance of empty drones [hours]\n",
    "S_T = 60 #average travel speed of the trucks [km/h]\n",
    "#S_D = 65 #average travel speed of the drones [km/h]"
   ]
  },
  {
   "cell_type": "markdown",
   "id": "e8364252",
   "metadata": {},
   "source": [
    "Define Big M constant"
   ]
  },
  {
   "cell_type": "code",
   "execution_count": 212,
   "id": "3b8525ad",
   "metadata": {},
   "outputs": [],
   "source": [
    "M = 1e9 #big M constant for big M method(1e9 is largest order of magnitude before numerical issues arise in Gurobi)"
   ]
  },
  {
   "cell_type": "markdown",
   "id": "6e34680a",
   "metadata": {},
   "source": [
    "Load Dataset using load_dataset.py"
   ]
  },
  {
   "cell_type": "code",
   "execution_count": 213,
   "id": "0cbb5e88",
   "metadata": {},
   "outputs": [],
   "source": [
    "## LOAD DATASET ##\n",
    "current_dir = os.getcwd()\n",
    "# Select which data folder to use\n",
    "data_subfolder = '0.3'\n",
    "data_subfoldercopy = '0.3_copy'\n",
    "data_num_nodes = '40'\n",
    "data_area = '40'\n",
    "\n",
    "data_file_name = f'{data_num_nodes}_{data_area}_{data_subfoldercopy}'\n",
    "dataset_path = f'dataset/{data_subfolder}/{data_file_name}.txt'\n",
    "output_solution_file_path = os.path.join(current_dir, data_file_name + '_solution.sol')#used to save solution file\n",
    "output_model_file_path = os.path.join(current_dir, data_file_name + '_model.lp')#used to save model file\n",
    "dataset = Dataset(dataset_path)\n",
    "\n"
   ]
  },
  {
   "cell_type": "markdown",
   "id": "90416db9",
   "metadata": {},
   "source": [
    "Pre-processing"
   ]
  },
  {
   "cell_type": "code",
   "execution_count": 214,
   "id": "f8c70f86",
   "metadata": {},
   "outputs": [],
   "source": [
    "## FUNCTIONS ##\n",
    "def get_manhattan_distance(data):\n",
    "    \"\"\"\n",
    "    Returns a dictionary with manhattan distances between all nodes in dataset\n",
    "    \"\"\"\n",
    "    distance_dict = {}\n",
    "    for node1 in data.keys():\n",
    "        for node2 in data.keys():\n",
    "            distance_dict[node1, node2] = distance.cityblock([data[node1]['X'], data[node1]['Y']], [data[node2]['X'], data[node2]['Y']])\n",
    "    return distance_dict\n",
    "\n",
    "def get_time_dict(data, S_T, distance_dict):\n",
    "    \"\"\"\n",
    "    Returns a dictionary with travel times between all nodes in dataset\n",
    "    \"\"\"\n",
    "    time_dict = {}\n",
    "    for node1 in data.keys():\n",
    "        for node2 in data.keys():\n",
    "            time_dict[node1, node2] = distance_dict[node1, node2] / S_T\n",
    "    return time_dict\n",
    "\n",
    "def check_in_x_var(i, j):\n",
    "    \"\"\"Check if the route from node i to node j is valid instead of having to pass bunch of conditions in each constraint.\n",
    "    Conditions:\n",
    "        1- cant travel between same node (i != j)\n",
    "        2- cant leave return depot D1 (i != 'D1')\n",
    "        3- cant arrive at start depot D0 (j != 'D0')\n",
    "        4- cant travel from D0 to D1 (not (i == 'D0' and j == 'D1'))\n",
    "            note that constraints 2 & 3 already ensure you cant travel from D1 to D0\n",
    "    \"\"\"\n",
    "    if i != j and i != 'D1' and j != 'D0' and not (i == 'D0' and j == 'D1'):\n",
    "        return True\n",
    "    return False\n",
    "\n",
    "def get_cost_obj(C_T, C_B, truck_distance_dict, active_routes_truck, cost_weight=1):\n",
    "    \"\"\"\n",
    "    Returns the cost objective value for the model after it has optimised\n",
    "    \"\"\"\n",
    "    cost_obj = 0\n",
    "    for truck in active_routes_truck.keys():\n",
    "        cost_obj += cost_weight * C_B  # add base cost for using a truck\n",
    "        for route in active_routes_truck[truck]:\n",
    "            i, j, _, _ = route\n",
    "            cost_obj += cost_weight * C_T * truck_distance_dict[i, j]\n",
    "    return cost_obj\n",
    "\n",
    "def get_environmental_obj(truck_distance_dict, active_routes_truck, environmental_weight=1):\n",
    "    \"\"\"\n",
    "    Returns the environmental objective value for the model after it has optimised\n",
    "    \"\"\"\n",
    "    environmental_obj = 0\n",
    "    for truck in active_routes_truck.keys():\n",
    "        for route in active_routes_truck[truck]:\n",
    "            i, j, _, W_dynamic = route\n",
    "            environmental_obj += environmental_weight * W_dynamic * truck_distance_dict[i, j]\n",
    "    return environmental_obj\n",
    "\n",
    "def get_time_obj(active_routes_truck, time_weight=1):\n",
    "    \"\"\"\n",
    "    Returns the time objective value for the model after it has optimised\n",
    "    \"\"\"\n",
    "    time_obj = 0\n",
    "    for truck in active_routes_truck.keys():\n",
    "        for route in active_routes_truck[truck]:\n",
    "            _, _, timestamp, _ = route\n",
    "            time_obj = max(time_obj, timestamp)\n",
    "    return time_weight * time_obj\n",
    "\n",
    "\n",
    "num_trucks = 5 # reduce from 10 to five to speed up optimisisation (basically half the number of variables)\n",
    "truck_distance_dict = get_manhattan_distance(dataset.data)\n",
    "truck_time_dict = get_time_dict(dataset.data, S_T, truck_distance_dict)\n",
    "\n",
    "#definitions of N_0, N and N_plus follow from paper\n",
    "N = list(dataset.data.keys()) #set of nodes with depot at start (D0) and at end (D1)\n",
    "N_customers = N.copy()\n",
    "N_customers.remove('D0')\n",
    "N_customers.remove('D1')\n",
    "Tr = [f'Tr{i}' for i in range(1, num_trucks+1)] #set of trucks"
   ]
  },
  {
   "cell_type": "markdown",
   "id": "4d5cfc39",
   "metadata": {},
   "source": [
    "Define the model"
   ]
  },
  {
   "cell_type": "code",
   "execution_count": 215,
   "id": "579e5043",
   "metadata": {},
   "outputs": [],
   "source": [
    "# Create a new model\n",
    "model = Model(\"Truck_Routing\")\n",
    "\n",
    "# Define decision variables\n",
    "x = model.addVars(Tr, [(i, j) for i in N for j in N if check_in_x_var(i, j)], lb=0, ub=1, vtype=GRB.BINARY, name='x')\n",
    "y = model.addVars(Tr, lb=0, ub=1, vtype=GRB.BINARY, name='y')\n",
    "t = model.addVars(Tr, N, lb=0, vtype=GRB.CONTINUOUS, name='t')\n",
    "t_max = model.addVar(lb=0, vtype=GRB.CONTINUOUS, name='t_max') #used for the minimising the max delivery time (find max time of all trucks, not each individual truck)\n",
    "# Define payload variables for each truck and node (used for calculating weight of truck when travelling between nodes)\n",
    "payload = model.addVars(Tr, [(i, j) for i in N for j in N if check_in_x_var(i, j)], lb=0, ub=Q_T, vtype=GRB.CONTINUOUS, name='payload')#payload present on truck when travelling between i to j, gets updated after each delivery to a customer\n",
    "# Define dynamic weight variables\n",
    "W_dynamic = model.addVars(Tr, [(i, j) for i in N for j in N if check_in_x_var(i, j)], lb=0, vtype=GRB.CONTINUOUS, name='W_dynamic')#similar to payload but includes the empty weight of truck aswell\n",
    "\n",
    "# Objective 1: Cost both due to transportation and base cost of using truck if active)\n",
    "cost_obj = quicksum(C_T * truck_distance_dict[i,j] * x[truck,i,j] for i in N for j in N if check_in_x_var(i, j) for truck in Tr) + \\\n",
    "           quicksum(C_B * y[truck] for truck in Tr)\n",
    "# Objective 2: environmental_obj is distance[i,j] * Weight* x[v,i,j] for all v,i,j (i.e. energy consumption)\n",
    "environmental_obj = quicksum(truck_distance_dict[i,j] * W_dynamic[truck, i, j] * x[truck,i,j] for i in N for j in N if check_in_x_var(i, j) for truck in Tr)\n",
    "# Objective 3: minimise max delivery time for each truck\n",
    "time_obj = t_max\n",
    "\n",
    "#set weights such that all cost objectives are in same order of magnitude (approx 10^3, time is larger to enforce optimiser to use multiple trucks to reduce max delivery time)\n",
    "#below weights enforce the optimiser to use multiple trucks to reduce max delivery time\n",
    "cost_weight = 1\n",
    "environmental_weight = 0.01\n",
    "time_weight = 60 * 60\n",
    "\n",
    "\"\"\"\n",
    "cost_weight = 1\n",
    "environmental_weight = 1 \n",
    "time_weight = 1\n",
    "\"\"\"\n",
    "obj = cost_weight * cost_obj + environmental_weight * environmental_obj + time_weight * time_obj\n",
    "model.setObjective(obj, GRB.MINIMIZE)\n",
    "\n",
    "model.update()"
   ]
  },
  {
   "cell_type": "markdown",
   "id": "7b2a38d2",
   "metadata": {},
   "source": [
    "Constraint 1: Each customer is visited by exactly one truck"
   ]
  },
  {
   "cell_type": "code",
   "execution_count": 216,
   "id": "ab69e52e",
   "metadata": {},
   "outputs": [],
   "source": [
    "# Constraint 1: Each customer is visited by exactly one truck\n",
    "\n",
    "for customer in N_customers:\n",
    "    # Initialize the sum for the current customer\n",
    "    sum_for_current_customer = 0\n",
    "\n",
    "    # Loop over each truck\n",
    "    for truck in Tr:\n",
    "        # Loop over each node\n",
    "        for node in N:\n",
    "            # Skip if customer is equal to node\n",
    "            if check_in_x_var(node, customer):\n",
    "                # Add the variable to the sum\n",
    "                sum_for_current_customer += x[truck, node, customer]\n",
    "\n",
    "    # The sum for the current customer must be equal to 1\n",
    "    model.addConstr(sum_for_current_customer == 1, name=f'Customer_{customer}_visited_once')"
   ]
  },
  {
   "cell_type": "markdown",
   "id": "5dadab2b",
   "metadata": {},
   "source": [
    "Constraint 2: Each truck must leave the depot if active"
   ]
  },
  {
   "cell_type": "code",
   "execution_count": 217,
   "id": "c19978b0",
   "metadata": {},
   "outputs": [],
   "source": [
    "# Constraint 2: Each truck must leave the depot if active\n",
    "\n",
    "for truck in Tr:\n",
    "    sum_for_current_vehicle = quicksum(x[truck, 'D0', customer] for customer in N_customers)\n",
    "    model.addConstr(sum_for_current_vehicle == y[truck], name=f'Truck_leaves_depot_{truck}')"
   ]
  },
  {
   "cell_type": "markdown",
   "id": "75be8c8e",
   "metadata": {},
   "source": [
    "Constraint 3: Each vehicle arrives at depot if active"
   ]
  },
  {
   "cell_type": "code",
   "execution_count": 218,
   "id": "30b033de",
   "metadata": {},
   "outputs": [],
   "source": [
    "\n",
    "# Constraint 3: Each truck must return to the depot if active\n",
    "\n",
    "for truck in Tr:\n",
    "    sum_for_current_vehicle = quicksum(x[truck, customer, 'D1'] for customer in N_customers)\n",
    "    model.addConstr(sum_for_current_vehicle == y[truck], name=f'Truck_returns_to_depot_{truck}')"
   ]
  },
  {
   "cell_type": "markdown",
   "id": "bcc6bc70",
   "metadata": {},
   "source": [
    "Constraint 4: If a vehicle arrives at a customer node it must also leave"
   ]
  },
  {
   "cell_type": "code",
   "execution_count": 219,
   "id": "900e2706",
   "metadata": {},
   "outputs": [],
   "source": [
    "# Constraint 4: If a truck arrives at a customer node it must also leave (flow balance)\n",
    "\n",
    "for truck in Tr:\n",
    "    for node in N_customers:\n",
    "        model.addConstr(\n",
    "            quicksum(x[truck, node, j] for j in N if check_in_x_var(node, j)) == \n",
    "            quicksum(x[truck, j, node] for j in N if check_in_x_var(j, node)),\n",
    "            name=f'Flow_balance_{truck}_{node}'\n",
    "        )"
   ]
  },
  {
   "cell_type": "markdown",
   "id": "ff35e020",
   "metadata": {},
   "source": [
    "Constraint 5: Time at a node is equal or larger than time at previous nodes plus travel time (or irrelevant). Eliminates need for subtour constraints."
   ]
  },
  {
   "cell_type": "code",
   "execution_count": 220,
   "id": "6abc6ece",
   "metadata": {},
   "outputs": [],
   "source": [
    "#Constraint 5: Time at a node is equal or larger than time at previous nodes plus travel time (or irrelevant). Eliminates need for subtour constraints.\n",
    "\n",
    "# Add time constraints for all vehicles, nodes, and customers\n",
    "for truck in Tr:\n",
    "    for node in N:\n",
    "        for customer in N:\n",
    "            if check_in_x_var(node, customer):\n",
    "                model.addConstr(\n",
    "                    t[truck, customer] >= t[truck, node] + truck_time_dict[(node, customer)] - M * (1 - x[truck, node, customer]),\n",
    "                    name=f'Time_{truck}_{node}_{customer}'\n",
    "                )"
   ]
  },
  {
   "cell_type": "markdown",
   "id": "6a297bab",
   "metadata": {},
   "source": [
    "Constraint 6: Payloads"
   ]
  },
  {
   "cell_type": "code",
   "execution_count": 221,
   "id": "079c9ffa",
   "metadata": {},
   "outputs": [],
   "source": [
    "# Constraint 6: The total payload delivered to the customer must be less or equal to the truck load capacity Q_T\n",
    "\n",
    "for truck in Tr:\n",
    "    model.addConstr(quicksum(dataset.data[i]['Demand'] * x[truck, i, j] for i in N for j in N if check_in_x_var(i, j)) <= Q_T, \n",
    "                    name=f'Payload_{truck}')"
   ]
  },
  {
   "cell_type": "markdown",
   "id": "5c5609f5",
   "metadata": {},
   "source": [
    "Constraint 7 : link y variable to x variable."
   ]
  },
  {
   "cell_type": "code",
   "execution_count": 222,
   "id": "61039c44",
   "metadata": {},
   "outputs": [],
   "source": [
    "# Constraint 7: Link y variable to x variable : TRUCKS\n",
    "#if any link in x (for each truck) is active -> y = 1\n",
    "# can do this by checking if each truck leaves the depot (all trucks must leave depot if active)\n",
    "\n",
    "for truck in Tr:\n",
    "    model.addConstr(y[truck] == quicksum(x[truck, 'D0', i] for i in N_customers), name=f'Link_y{truck}_to_x_{truck}')"
   ]
  },
  {
   "cell_type": "markdown",
   "id": "d6450296",
   "metadata": {},
   "source": [
    "Constraint 8: Set departure time from depot D0 for each truck = 0"
   ]
  },
  {
   "cell_type": "code",
   "execution_count": 223,
   "id": "b7f863b8",
   "metadata": {},
   "outputs": [],
   "source": [
    "# Constraint 8: set departure time from depot D0 for each truck = 0\n",
    "\n",
    "for truck in Tr:\n",
    "    model.addConstr(t[truck, 'D0'] == 0, name=f'Departure_time_{truck}_D0')"
   ]
  },
  {
   "cell_type": "markdown",
   "id": "f6c80500",
   "metadata": {},
   "source": [
    "Constraint 9: update time variables."
   ]
  },
  {
   "cell_type": "code",
   "execution_count": 224,
   "id": "d1a2ff7c",
   "metadata": {},
   "outputs": [],
   "source": [
    "# Constraint 9: Update time variable for trucks\n",
    "# Loop over each truck\n",
    "for truck in Tr:\n",
    "    # Loop over each node (destination)\n",
    "    for j in N:\n",
    "        if j != 'D0':  # Ensuring no calculation is made for the time to 'D0' as it's the starting point only\n",
    "            # Initialize the sum for arriving at node j from any node i\n",
    "            sum_for_arrival_to_j = quicksum((t[truck, i] + truck_time_dict[i, j]) * x[truck, i, j]\n",
    "                                            for i in N if check_in_x_var(i, j))\n",
    "            \n",
    "            # Add the constraint that sets the arrival time at j based on departure times from all nodes i\n",
    "            model.addConstr(t[truck, j] == sum_for_arrival_to_j, name=f'Update_time_{truck}_{j}')"
   ]
  },
  {
   "cell_type": "markdown",
   "id": "dee08fc0",
   "metadata": {},
   "source": [
    "Constraint 10: update max delivery time variable."
   ]
  },
  {
   "cell_type": "code",
   "execution_count": 225,
   "id": "b593ac0f",
   "metadata": {},
   "outputs": [],
   "source": [
    "# Constraint 10: Update max delivery time variable\n",
    "for truck in Tr:\n",
    "    for node in N:\n",
    "        # Add a constraint to the model that the maximum delivery time is greater than or equal to the delivery time to the customer for each vehicle\n",
    "        model.addConstr(t_max >= t[truck, node], name=f'Update_max_delivery_time_{truck}_{node}')"
   ]
  },
  {
   "cell_type": "markdown",
   "id": "fc072ea2",
   "metadata": {},
   "source": [
    "CONSTRAINTS FOR DYNAMIC WEIGHTS AND PAYLOAD"
   ]
  },
  {
   "cell_type": "markdown",
   "id": "dd577018",
   "metadata": {},
   "source": [
    "Constraint 11: set payload for each truck at depot = sum of demand of all customers visited by truck"
   ]
  },
  {
   "cell_type": "code",
   "execution_count": 226,
   "id": "65b58fe9",
   "metadata": {},
   "outputs": [],
   "source": [
    "# Constraint 11: set payload for each truck at depot = sum of demand of all customers visited by truck\n",
    "#note: this works, checked manually\n",
    "for truck in Tr:\n",
    "    sum_for_current_truck = 0\n",
    "    for i in N:\n",
    "        for j in N:\n",
    "            if check_in_x_var(i, j):\n",
    "                sum_for_current_truck += dataset.data[j]['Demand'] * x[truck, i, j]\n",
    "        if check_in_x_var('D0', i):\n",
    "            model.addConstr(payload[truck, 'D0', i] == sum_for_current_truck * x[truck, 'D0', i], name=f'Payload_{truck}_D0_{i}')"
   ]
  },
  {
   "cell_type": "markdown",
   "id": "ea2eaa31",
   "metadata": {},
   "source": [
    "Constraint 12: each time truck delivers to a customer, the payload is updated"
   ]
  },
  {
   "cell_type": "code",
   "execution_count": 227,
   "id": "c1103bb3",
   "metadata": {},
   "outputs": [],
   "source": [
    "#Constraint 12: each time truck delivers to a customer, the payload is updated\n",
    "for truck in Tr:\n",
    "    for i in N:\n",
    "        for j in N_customers:\n",
    "            for k in N:\n",
    "                \"\"\"\n",
    "                i is node which was previously visited by truck\n",
    "                j is customer node where truck is delivering\n",
    "                k is node where truck is going next\n",
    "                \"\"\"\n",
    "                if check_in_x_var(i, j) and check_in_x_var(j, k):\n",
    "                    model.addConstr(payload[truck, j, k] <= payload[truck, i, j] - dataset.data[j]['Demand'] * x[truck, i, j] + M * (1 - x[truck, i, j]), name=f'Payload_update_{truck}_{truck}_{i}_{j}_{k}')"
   ]
  },
  {
   "cell_type": "markdown",
   "id": "d76e2a63",
   "metadata": {},
   "source": [
    "Constraint 13: Explicitly set payload to zero for inactive routes (for some reason without this some inactive trucks have payload = 1000)"
   ]
  },
  {
   "cell_type": "code",
   "execution_count": 228,
   "id": "3e58220f",
   "metadata": {},
   "outputs": [],
   "source": [
    "# Constraint 13: Explicitly set payload to zero for inactive routes (for some reason without this some inactive trucks have payload = 1000)\n",
    "for truck in Tr:\n",
    "    for i in N:\n",
    "        for j in N:\n",
    "            if check_in_x_var(i, j):\n",
    "                model.addConstr(payload[truck, i, j] <= M * x[truck, i, j], name=f'Zero_inactive_payload_{truck}_{i}_{j}')\n",
    "\n",
    "# Constraint 14: update dynamic weight for each truck at each node (W_dynamic[truck, i, j] = W_T + payload[truck, i, j]) only when link (thus truck) is active\n",
    "for truck in Tr:\n",
    "    for i in N:\n",
    "        for j in N:\n",
    "            if check_in_x_var(i, j):\n",
    "                model.addConstr(W_dynamic[truck, i, j] == (W_T + payload[truck, i, j]) * x[truck, i, j], name=f'Update_dynamic_weight_{truck}_{i}_{j}')"
   ]
  },
  {
   "cell_type": "markdown",
   "id": "b4d1a740",
   "metadata": {},
   "source": [
    "Constraint 14: update dynamic weight for each truck at each node (W_dynamic[truck, i, j] = W_T + payload[truck, i, j]) only when link (thus truck) is active"
   ]
  },
  {
   "cell_type": "code",
   "execution_count": 229,
   "id": "240b87c0",
   "metadata": {},
   "outputs": [],
   "source": [
    "# Constraint 14: update dynamic weight for each truck at each node (W_dynamic[truck, i, j] = W_T + payload[truck, i, j]) only when link (thus truck) is active\n",
    "for truck in Tr:\n",
    "    for i in N:\n",
    "        for j in N:\n",
    "            if check_in_x_var(i, j):\n",
    "                model.addConstr(W_dynamic[truck, i, j] == (W_T + payload[truck, i, j]) * x[truck, i, j], name=f'Update_dynamic_weight_{truck}_{i}_{j}')"
   ]
  },
  {
   "cell_type": "markdown",
   "id": "3488aedc",
   "metadata": {},
   "source": [
    "Update, tune and run the model"
   ]
  },
  {
   "cell_type": "code",
   "execution_count": 230,
   "id": "f74c3bbe",
   "metadata": {},
   "outputs": [
    {
     "name": "stdout",
     "output_type": "stream",
     "text": [
      "Warning: quadratic constraint 1666 and quadratic constraint 1876 have the same name \"Update_dynamic_weight_Tr1_D0_C1\"\n",
      "Gurobi Optimizer version 11.0.2 build v11.0.2rc0 (mac64[arm] - Darwin 23.5.0 23F79)\n",
      "\n",
      "CPU model: Apple M1 Max\n",
      "Thread count: 10 physical cores, 10 logical processors, using up to 10 threads\n",
      "\n",
      "Academic license 2514144 - for non-commercial use only - registered to u.___@student.tudelft.nl\n",
      "Optimize a model with 1601 rows, 676 columns and 5200 nonzeros\n",
      "Model fingerprint: 0x5c92c63a\n",
      "Model has 210 quadratic objective terms\n",
      "Model has 485 quadratic constraints\n",
      "Variable types: 461 continuous, 215 integer (215 binary)\n",
      "Coefficient statistics:\n",
      "  Matrix range     [1e+00, 1e+09]\n",
      "  QMatrix range    [1e+00, 5e+00]\n",
      "  QLMatrix range   [2e-01, 2e+03]\n",
      "  Objective range  [3e+02, 4e+03]\n",
      "  QObjective range [2e-01, 2e+00]\n",
      "  Bounds range     [1e+00, 1e+03]\n",
      "  RHS range        [1e+00, 1e+09]\n",
      "Warning: Model contains large matrix coefficients\n",
      "         Consider reformulating model or setting NumericFocus parameter\n",
      "         to avoid numerical issues.\n",
      "Presolve added 40 rows and 0 columns\n",
      "Presolve removed 0 rows and 5 columns\n",
      "Presolve time: 0.03s\n",
      "Presolved: 3296 rows, 2051 columns, 15874 nonzeros\n",
      "Presolved model has 780 SOS constraint(s)\n",
      "Variable types: 1446 continuous, 605 integer (605 binary)\n",
      "\n",
      "Root relaxation: objective 9.565292e+03, 288 iterations, 0.00 seconds (0.00 work units)\n",
      "\n",
      "    Nodes    |    Current Node    |     Objective Bounds      |     Work\n",
      " Expl Unexpl |  Obj  Depth IntInf | Incumbent    BestBd   Gap | It/Node Time\n",
      "\n",
      "     0     0 9565.29237    0   36          - 9565.29237      -     -    0s\n",
      "H    0     0                    28098.631252 9565.29237  66.0%     -    0s\n",
      "H    0     0                    28098.169686 9565.29237  66.0%     -    0s\n",
      "H    0     0                    26923.966440 9567.47939  64.5%     -    0s\n",
      "     0     0 9567.47939    0   59 26923.9664 9567.47939  64.5%     -    0s\n",
      "     0     0 10346.5200    0  146 26923.9664 10346.5200  61.6%     -    0s\n",
      "     0     0 10788.9234    0   63 26923.9664 10788.9234  59.9%     -    0s\n",
      "     0     0 10803.9656    0   57 26923.9664 10803.9656  59.9%     -    0s\n",
      "     0     0 11115.0386    0  110 26923.9664 11115.0386  58.7%     -    0s\n",
      "H    0     0                    23915.190540 11115.0386  53.5%     -    0s\n",
      "     0     0 11624.8599    0  147 23915.1905 11624.8599  51.4%     -    0s\n",
      "     0     0 11706.3277    0  127 23915.1905 11706.3277  51.1%     -    0s\n",
      "     0     0 11906.5200    0  155 23915.1905 11906.5200  50.2%     -    0s\n",
      "     0     0 11911.8816    0  150 23915.1905 11911.8816  50.2%     -    0s\n",
      "     0     2 11911.8816    0  150 23915.1905 11911.8816  50.2%     -    0s\n",
      "H   38    42                    23915.190438 11911.8816  50.2%  23.6    0s\n",
      "\n",
      "Cutting planes:\n",
      "  Learned: 236\n",
      "  Gomory: 2\n",
      "  Cover: 4\n",
      "  Implied bound: 134\n",
      "  Clique: 7\n",
      "  MIR: 24\n",
      "  Flow cover: 8\n",
      "  Inf proof: 6\n",
      "  RLT: 28\n",
      "  Relax-and-lift: 8\n",
      "\n",
      "Explored 10783 nodes (118357 simplex iterations) in 2.78 seconds (4.16 work units)\n",
      "Thread count was 10 (of 10 available processors)\n",
      "\n",
      "Solution count 4: 23915.2 26924 28098.2 28098.6 \n",
      "\n",
      "Optimal solution found (tolerance 1.00e-04)\n",
      "Best objective 2.391519043814e+04, best bound 2.391519043814e+04, gap 0.0000%\n",
      "Optimal objective: 23915.2\n",
      "x[Tr2,D0,C6]: 1\n",
      "x[Tr2,C1,C2]: 1\n",
      "x[Tr2,C2,C5]: 1\n",
      "x[Tr2,C3,C4]: 1\n",
      "x[Tr2,C4,D1]: 1\n",
      "x[Tr2,C5,C3]: 1\n",
      "x[Tr2,C6,C1]: 1\n",
      "y[Tr2]: 1\n",
      "t[Tr2,C1]: 0.705\n",
      "t[Tr2,C2]: 1.48333\n",
      "t[Tr2,C3]: 1.95833\n",
      "t[Tr2,C4]: 2.65167\n",
      "t[Tr2,C5]: 1.765\n",
      "t[Tr2,C6]: 0.208333\n",
      "t[Tr2,D1]: 3.9\n",
      "t_max: 3.9\n",
      "payload[Tr2,D0,C6]: 17.22\n",
      "payload[Tr2,C1,C2]: 10.99\n",
      "payload[Tr2,C2,C5]: 8.11\n",
      "payload[Tr2,C3,C4]: 4.83\n",
      "payload[Tr2,C5,C3]: 6.39\n",
      "payload[Tr2,C6,C1]: 12.7\n",
      "W_dynamic[Tr2,D0,C6]: 1517.22\n",
      "W_dynamic[Tr2,C1,C2]: 1510.99\n",
      "W_dynamic[Tr2,C2,C5]: 1508.11\n",
      "W_dynamic[Tr2,C3,C4]: 1504.83\n",
      "W_dynamic[Tr2,C4,D1]: 1500\n",
      "W_dynamic[Tr2,C5,C3]: 1506.39\n",
      "W_dynamic[Tr2,C6,C1]: 1512.7\n"
     ]
    }
   ],
   "source": [
    "# Update the model to integrate new variables\n",
    "model.update()\n",
    "\n",
    "# Write model to a file\n",
    "model.write('TruckonlySimple.lp')\n",
    "\n",
    "# Tune solver parameters\n",
    "#model.tune()\n",
    "\n",
    "# Optimize the model\n",
    "model.optimize()\n",
    "\n",
    "# Print the results\n",
    "if model.status == GRB.OPTIMAL:\n",
    "    print('Optimal objective: %g' % model.objVal)\n",
    "    for v in model.getVars():\n",
    "        if v.x > 0:\n",
    "            print('%s: %g' % (v.varName, v.x))\n",
    "else:\n",
    "    print('Optimization was stopped with status %d' % model.status)"
   ]
  },
  {
   "cell_type": "markdown",
   "id": "72a3ebb2",
   "metadata": {},
   "source": [
    "Post-processing"
   ]
  },
  {
   "cell_type": "code",
   "execution_count": 231,
   "id": "5ead97f9",
   "metadata": {
    "lines_to_next_cell": 2
   },
   "outputs": [
    {
     "name": "stdout",
     "output_type": "stream",
     "text": [
      "Active trucks: ['Tr2']\n",
      "Active routes for trucks: {'Tr2': [('D0', 'C6', 0.2083333333333357, 1517.2), ('C6', 'C1', 0.7049999717025202, 1512.7), ('C1', 'C2', 1.4833333050358535, 1511.0), ('C2', 'C5', 1.7649999717025144, 1508.1), ('C5', 'C3', 1.9583333050358478, 1506.4), ('C3', 'C4', 2.6516666383691767, 1504.8), ('C4', 'D1', 3.8999999717025102, 1500.0)]}\n",
      "Cost objective/Total delivery cost [$]: 6350.0\n",
      "Environmental objective [kg * km]: 3525.1796999999997\n",
      "Time objective: 14039.999898129037\n",
      "Max delivery time: 3 hours, 53 minutes, 59 seconds\n"
     ]
    },
    {
     "data": {
      "image/png": "[encoded data removed]",
      "text/plain": [
       "<Figure size 1000x1000 with 1 Axes>"
      ]
     },
     "metadata": {},
     "output_type": "display_data"
    },
    {
     "name": "stdout",
     "output_type": "stream",
     "text": [
      "Warning: quadratic constraint 1666 and quadratic constraint 1876 have the same name \"Update_dynamic_weight_Tr1_D0_C1\"\n"
     ]
    }
   ],
   "source": [
    "# Extract and store the solution\n",
    "solution = {var.varName: var.x for var in model.getVars()}\n",
    "\n",
    "# Extract active trucks\n",
    "active_trucks = [v for v in Tr if 'T' in v and solution[f'y[{v}]'] >= 0.99]\n",
    "\n",
    "# Extract routes for active trucks\n",
    "active_routes_truck = {} #for each truck and pair of nodes (i, j) store (node from, node to, timestamp, weight) of truck when travelling between i and j (ordered by increasing time)\n",
    "for truck in active_trucks:\n",
    "    active_routes_truck[truck] = []\n",
    "    for node_from in N:\n",
    "        for node_to in N:\n",
    "            if node_from != node_to and solution.get(f'x[{truck},{node_from},{node_to}]', 0) >= 0.99:\n",
    "                timestamp = solution.get(f't[{truck},{node_to}]', 0)\n",
    "                weight = solution.get(f'W_dynamic[{truck},{node_from},{node_to}]', 0)\n",
    "                active_routes_truck[truck].append((node_from, node_to, timestamp, np.round(weight, 1)))\n",
    "\n",
    "# Sort the routes for each truck according to the timestamps\n",
    "for truck in active_trucks:\n",
    "    active_routes_truck[truck].sort(key=lambda x: x[2])\n",
    "\n",
    "print('Active trucks:', active_trucks)\n",
    "print('Active routes for trucks:', active_routes_truck)\n",
    "\n",
    "# Print each seperate objective value after optimisation\n",
    "print('Cost objective/Total delivery cost [$]:', get_cost_obj(C_T, C_B, truck_distance_dict, active_routes_truck, cost_weight=cost_weight))\n",
    "print('Environmental objective [kg * km]:', get_environmental_obj(truck_distance_dict, active_routes_truck, environmental_weight=environmental_weight))\n",
    "print('Time objective:', get_time_obj(active_routes_truck, time_weight=time_weight))\n",
    "\n",
    "#convert t_max to hours, minutes, seconds\n",
    "t_max_hours = model.getVarByName('t_max').x\n",
    "t_max_minutes, t_max_seconds = divmod(t_max_hours * 3600, 60)\n",
    "t_max_hours, t_max_minutes = divmod(t_max_minutes, 60)\n",
    "print('Max delivery time: {} hours, {} minutes, {} seconds'.format(int(t_max_hours), int(t_max_minutes), int(t_max_seconds)))\n",
    "\n",
    "#use plotting method in dataset class to visualise\n",
    "dataset.plot_data(show_demand=False, scale_nodes=True, show_labels=True, active_routes=active_routes_truck, show_weights=True)\n",
    "#save solution to .sol file\n",
    "model.write(output_solution_file_path)\n",
    "#save model to .lp file\n",
    "model.write(output_model_file_path)"
   ]
  },
  {
   "cell_type": "code",
   "execution_count": 240,
   "id": "f14c92dc",
   "metadata": {},
   "outputs": [],
   "source": [
    "import unittest\n",
    "\n",
    "class TestConstraints(unittest.TestCase):\n",
    "    def setUp(self):\n",
    "        self.solution = {var.varName: var.x for var in model.getVars()}\n",
    "\n",
    "    def test_constraint_1(self):\n",
    "        # Check Constraint 1: Each customer is visited by exactly one truck\n",
    "        for customer in N_customers:\n",
    "            # Calculate the sum of x for the current customer\n",
    "            sum_for_current_customer = sum(solution[f'x[{truck},{node},{customer}]'] for truck in Tr for node in N if f'x[{truck},{node},{customer}]' in solution)\n",
    "\n",
    "            # Check if the sum is equal to 1\n",
    "            assert sum_for_current_customer == 1, f'Constraint 1 violated for customer {customer}'\n",
    "\n",
    "    def test_constraint_2(self):\n",
    "        # Check Constraint 2: Each truck must leave the depot if active\n",
    "        for truck in Tr:\n",
    "            # Calculate the sum of x for the current truck leaving the depot\n",
    "            sum_for_current_truck = sum(solution[f'x[{truck},D0,{customer}]'] for customer in N_customers if f'x[{truck},D0,{customer}]' in solution)\n",
    "\n",
    "            # Check if the sum is equal to y[truck]\n",
    "            assert sum_for_current_truck == solution[f'y[{truck}]'], f'Constraint 2 violated for truck {truck}'\n",
    "\n",
    "    def test_constraint_3(self):\n",
    "        # Test for Constraint 3: Each truck must return to the depot if active\n",
    "        for truck in Tr:\n",
    "            sum_return_to_depot = sum(solution[f'x[{truck},{customer},D1]'] for customer in N_customers if f'x[{truck},{customer},D1]' in solution)\n",
    "            assert sum_return_to_depot == solution[f'y[{truck}]'], f'Constraint 3 violated for truck {truck}'\n",
    "\n",
    "    def test_constraint_4(self):\n",
    "        # Test for Constraint 4: Flow balance for each truck at each node\n",
    "        for truck in Tr:\n",
    "            for node in N_customers:\n",
    "                sum_arrivals = sum(solution[f'x[{truck},{node},{j}]'] for j in N if f'x[{truck},{node},{j}]' in solution)\n",
    "                sum_departures = sum(solution[f'x[{truck},{j},{node}]'] for j in N if f'x[{truck},{j},{node}]' in solution)\n",
    "                assert sum_arrivals == sum_departures, f'Constraint 4 violated for truck {truck} at node {node}'\n",
    "\n",
    "    def test_constraint_5(self):\n",
    "        # Check Constraint 5: Time at a node is equal or larger than time at previous nodes plus travel time (or irrelevant)\n",
    "        for truck in Tr:\n",
    "            for node in N:\n",
    "                for customer in N:\n",
    "                    if f'x[{truck},{node},{customer}]' in solution and solution[f'x[{truck},{node},{customer}]'] > 0:\n",
    "                        # Check if the time at the customer is greater or equal to the time at the node plus the travel time\n",
    "                        assert round(solution[f't[{truck},{customer}]'],1) >= round(self.solution[f't[{truck},{node}]'] + truck_time_dict[(node, customer)], 1), f'Constraint 5 violated for truck {truck}, node {node}, customer {customer}'\n",
    "\n",
    "    def test_constraint_6(self):\n",
    "        for truck in Tr:\n",
    "            total_payload = sum(dataset.data[i]['Demand'] * solution[f'x[{truck},{i},{j}]'] for i in N for j in N if f'x[{truck},{i},{j}]' in solution)\n",
    "            assert total_payload <= Q_T, f'Constraint 6 violated for truck {truck}'\n",
    "\n",
    "    def test_constraint_7(self):\n",
    "        # Test for Constraint 7: Link y variable to x variable\n",
    "        for truck in Tr:\n",
    "            sum_leaves_depot = sum(solution[f'x[{truck},D0,{i}]'] for i in N_customers if f'x[{truck},D0,{i}]' in solution)\n",
    "            assert solution[f'y[{truck}]'] == sum_leaves_depot, f'Constraint 7 violated for truck {truck}'\n",
    "\n",
    "    def test_constraint_8(self):\n",
    "        # Test for Constraint 8: Check if departure time from depot D0 for each truck is set to 0\n",
    "        for truck in Tr:\n",
    "            assert solution[f't[{truck},D0]'] == 0, f'Constraint 8 violated for truck {truck}'\n",
    "\n",
    "    def test_constraint_9(self):\n",
    "        # Check Constraint 9: The time at a customer is updated correctly\n",
    "        for truck in Tr:\n",
    "            for j in N:\n",
    "                if j != 'D0':\n",
    "                    expected_time = sum((solution[f't[{truck},{i}]'] + truck_time_dict[i, j]) * solution[f'x[{truck},{i},{j}]'] for i in N if f'x[{truck},{i},{j}]' in solution)\n",
    "                    assert round(solution[f't[{truck},{j}]'], 1) == round(expected_time, 1), f'Constraint 9 violated for truck {truck}, node {j}'\n",
    "\n",
    "    def test_constraint_10(self):\n",
    "     # Check Constraint 10: The maximum delivery time is updated correctly\n",
    "        for truck in Tr:\n",
    "            for node in N:\n",
    "                assert round(solution['t_max'], 1) >= round(solution[f't[{truck},{node}]'], 1), f'Constraint 10 violated for truck {truck}, node {node}'\n",
    "\n",
    "\n",
    "    def test_constraint_11(self):\n",
    "        # Check Constraint 11: The payload at the depot is set correctly\n",
    "        for truck in Tr:\n",
    "            # Calculate the total demand of all customers visited by this truck\n",
    "            expected_payload = sum(dataset.data[j]['Demand'] * self.solution[f'x[{truck},{i},{j}]'] for i in N for j in N if f'x[{truck},{i},{j}]' in self.solution and self.solution[f'x[{truck},{i},{j}]'] > 0)\n",
    "            # Check if the payload at the depot for this truck matches the expected payload\n",
    "            if f'payload[{truck},D0]' in self.solution:\n",
    "                assert round(self.solution[f'payload[{truck},D0]'], 1) == round(expected_payload, 1), f'Constraint 11 violated for truck {truck}'\n",
    "            \n",
    "    def test_constraint_12(self):\n",
    "        # Check Constraint 12: The payload is updated correctly when a truck delivers to a customer\n",
    "        for truck in Tr:\n",
    "            for i in N:\n",
    "                for j in N_customers:\n",
    "                    for k in N:\n",
    "                        if f'x[{truck},{i},{j}]' in solution and f'x[{truck},{j},{k}]' in solution:\n",
    "                            expected_payload = solution[f'payload[{truck},{i},{j}]'] - dataset.data[j]['Demand'] * solution[f'x[{truck},{i},{j}]'] + M * (1 - solution[f'x[{truck},{i},{j}]'])\n",
    "                            assert round(solution[f'payload[{truck},{j},{k}]'], 1) <= round(expected_payload, 1), f'Constraint 12 violated for truck {truck}, nodes {i}, {j}, {k}'\n",
    "\n",
    "    def test_constraint_13(self):\n",
    "        # Check Constraint 13: Payload is zero for inactive routes\n",
    "        for truck in Tr:\n",
    "            for i in N:\n",
    "                for j in N:\n",
    "                    if f'x[{truck},{i},{j}]' in solution:\n",
    "                        expected_payload = M * solution[f'x[{truck},{i},{j}]']\n",
    "                        assert solution[f'payload[{truck},{i},{j}]'] <= expected_payload, f'Constraint 13 violated for truck {truck}, nodes {i}, {j}'\n",
    "\n",
    "\n",
    "    def test_constraint_14(self):\n",
    "        # Check Constraint 14: Dynamic weight is updated correctly\n",
    "        for truck in Tr:\n",
    "            for i in N:\n",
    "                for j in N:\n",
    "                    if f'x[{truck},{i},{j}]' in solution:\n",
    "                        expected_weight = (W_T + solution[f'payload[{truck},{i},{j}]']) * solution[f'x[{truck},{i},{j}]']\n",
    "                        assert solution[f'W_dynamic[{truck},{i},{j}]'] == expected_weight, f'Constraint 14 violated for truck {truck}, nodes {i}, {j}'\n",
    "    \n",
    "    def test_objective(self):\n",
    "        expected_cost = get_cost_obj(C_T, C_B, truck_distance_dict, active_routes_truck, cost_weight=cost_weight)\n",
    "        expected_environmental = get_environmental_obj(truck_distance_dict, active_routes_truck, environmental_weight=environmental_weight)\n",
    "        expected_time = get_time_obj(active_routes_truck, time_weight=time_weight)\n",
    "        expected_obj = expected_cost + expected_environmental + expected_time\n",
    "        assert round(model.objVal, 1) == round(expected_obj, 1), 'Objective value is not correct'\n"
   ]
  },
  {
   "cell_type": "code",
   "execution_count": 241,
   "id": "ef8f32e0",
   "metadata": {},
   "outputs": [
    {
     "name": "stderr",
     "output_type": "stream",
     "text": [
      "...............\n",
      "----------------------------------------------------------------------\n",
      "Ran 15 tests in 0.029s\n",
      "\n",
      "OK\n"
     ]
    },
    {
     "data": {
      "text/plain": [
       "<unittest.main.TestProgram at 0x147411ad0>"
      ]
     },
     "execution_count": 241,
     "metadata": {},
     "output_type": "execute_result"
    }
   ],
   "source": [
    "unittest.main(argv=[''], exit=False)"
   ]
  },
  {
   "cell_type": "code",
   "execution_count": null,
   "id": "8dc5c169",
   "metadata": {},
   "outputs": [],
   "source": []
  }
 ],
 "metadata": {
  "jupytext": {
   "cell_metadata_filter": "-all",
   "main_language": "python",
   "notebook_metadata_filter": "-all"
  },
  "kernelspec": {
   "display_name": "VRPforDrones-5bUbox2j",
   "language": "python",
   "name": "python3"
  },
  "language_info": {
   "codemirror_mode": {
    "name": "ipython",
    "version": 3
   },
   "file_extension": ".py",
   "mimetype": "text/x-python",
   "name": "python",
   "nbconvert_exporter": "python",
   "pygments_lexer": "ipython3",
   "version": "3.11.0"
  }
 },
 "nbformat": 4,
 "nbformat_minor": 5
}
