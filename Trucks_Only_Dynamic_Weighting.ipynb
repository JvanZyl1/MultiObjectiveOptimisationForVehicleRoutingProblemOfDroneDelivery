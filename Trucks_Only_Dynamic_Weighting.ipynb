{
 "cells": [
  {
   "cell_type": "markdown",
   "id": "d55e1363",
   "metadata": {},
   "source": [
    "# Trucks only problem #"
   ]
  },
  {
   "cell_type": "markdown",
   "id": "34e68bcb",
   "metadata": {},
   "source": [
    "Install necessary packages"
   ]
  },
  {
   "cell_type": "code",
   "execution_count": 24,
   "id": "8ffa0659",
   "metadata": {},
   "outputs": [],
   "source": [
    "from gurobipy import Model,GRB,LinExpr,quicksum\n",
    "import numpy as np\n",
    "from scipy.spatial import distance\n",
    "import os\n",
    "import socket\n",
    "from load_dataset import Dataset"
   ]
  },
  {
   "cell_type": "markdown",
   "id": "41979347",
   "metadata": {},
   "source": [
    "For Ugo's laptop"
   ]
  },
  {
   "cell_type": "code",
   "execution_count": 25,
   "id": "f70210a2",
   "metadata": {
    "lines_to_next_cell": 0
   },
   "outputs": [
    {
     "name": "stdout",
     "output_type": "stream",
     "text": [
      "Gurobi license path set for Ugo's MacBook Pro.\n"
     ]
    }
   ],
   "source": [
    "\n",
    "# Define the node name or another identifier of your laptop\n",
    "my_laptop_node = 'Ugos-MacBook-Pro.local'\n",
    "\n",
    "# Get the current system's node name using socket.gethostname()\n",
    "current_node = socket.gethostname()\n",
    "\n",
    "if current_node == my_laptop_node:\n",
    "    # Set the environment variable for Gurobi license file\n",
    "    os.environ[\"GRB_LICENSE_FILE\"] = \"/Users/ugomunzi/gurobi/licenses/gurobi.lic\"\n",
    "    print(\"Gurobi license path set for Ugo's MacBook Pro.\")\n",
    "else:\n",
    "    print(\"Not Ugo's MacBook Pro, using default or no specific license settings.\")\n"
   ]
  },
  {
   "cell_type": "markdown",
   "id": "2369d72a",
   "metadata": {},
   "source": [
    "Define model parametres"
   ]
  },
  {
   "cell_type": "code",
   "execution_count": 26,
   "id": "a002faa8",
   "metadata": {},
   "outputs": [],
   "source": [
    "## MODEL PARAMETERS ##\n",
    "W_T = 1500 #empty weight truck [kg]\n",
    "Q_T = 1000 #load capacity of trucks [kg]\n",
    "#W_D = 25 #empty weight drone [kg]\n",
    "#Q_D = 5 #load capacity of drones [kg]\n",
    "C_T = 25 #travel cost of trucks per unit distance [monetary unit/km]\n",
    "#C_D = 1 #travel cost of drones per unit distance [monetary unit/km]\n",
    "C_B = 500 #basis cost of using a truck equipped with a drone [monetary unit]\n",
    "#E = 0.5 #maximum endurance of empty drones [hours]\n",
    "S_T = 60 #average travel speed of the trucks [km/h]\n",
    "#S_D = 65 #average travel speed of the drones [km/h]"
   ]
  },
  {
   "cell_type": "markdown",
   "id": "e8364252",
   "metadata": {},
   "source": [
    "Define Big M constant"
   ]
  },
  {
   "cell_type": "code",
   "execution_count": 27,
   "id": "3b8525ad",
   "metadata": {},
   "outputs": [],
   "source": [
    "M = 1e9 #big M constant for big M method(1e9 is largest order of magnitude before numerical issues arise in Gurobi)"
   ]
  },
  {
   "cell_type": "markdown",
   "id": "6e34680a",
   "metadata": {},
   "source": [
    "Load Dataset using load_dataset.py"
   ]
  },
  {
   "cell_type": "code",
   "execution_count": 28,
   "id": "0cbb5e88",
   "metadata": {},
   "outputs": [],
   "source": [
    "## LOAD DATASET ##\n",
    "current_dir = os.getcwd()\n",
    "# Select which data folder to use\n",
    "data_subfolder = '0.3'\n",
    "data_subfoldercopy = '0.3_copy'\n",
    "data_num_nodes = '40'\n",
    "data_area = '40'\n",
    "\n",
    "data_file_name = f'{data_num_nodes}_{data_area}_{data_subfoldercopy}'\n",
    "dataset_path = f'dataset/{data_subfolder}/{data_file_name}.txt'\n",
    "output_solution_file_path = os.path.join(current_dir, data_file_name + '_solution.sol')#used to save solution file\n",
    "output_model_file_path = os.path.join(current_dir, data_file_name + '_model.lp')#used to save model file\n",
    "dataset = Dataset(dataset_path)\n",
    "\n"
   ]
  },
  {
   "cell_type": "markdown",
   "id": "90416db9",
   "metadata": {},
   "source": [
    "Pre-processing"
   ]
  },
  {
   "cell_type": "code",
   "execution_count": 29,
   "id": "f8c70f86",
   "metadata": {},
   "outputs": [],
   "source": [
    "## FUNCTIONS ##\n",
    "def get_manhattan_distance(data):\n",
    "    \"\"\"\n",
    "    Returns a dictionary with manhattan distances between all nodes in dataset\n",
    "    \"\"\"\n",
    "    distance_dict = {}\n",
    "    for node1 in data.keys():\n",
    "        for node2 in data.keys():\n",
    "            distance_dict[node1, node2] = distance.cityblock([data[node1]['X'], data[node1]['Y']], [data[node2]['X'], data[node2]['Y']])\n",
    "    return distance_dict\n",
    "\n",
    "def get_time_dict(data, S_T, distance_dict):\n",
    "    \"\"\"\n",
    "    Returns a dictionary with travel times between all nodes in dataset\n",
    "    \"\"\"\n",
    "    time_dict = {}\n",
    "    for node1 in data.keys():\n",
    "        for node2 in data.keys():\n",
    "            time_dict[node1, node2] = distance_dict[node1, node2] / S_T\n",
    "    return time_dict\n",
    "\n",
    "def check_in_x_var(i, j):\n",
    "    \"\"\"Check if the route from node i to node j is valid instead of having to pass bunch of conditions in each constraint.\n",
    "    Conditions:\n",
    "        1- cant travel between same node (i != j)\n",
    "        2- cant leave return depot D1 (i != 'D1')\n",
    "        3- cant arrive at start depot D0 (j != 'D0')\n",
    "        4- cant travel from D0 to D1 (not (i == 'D0' and j == 'D1'))\n",
    "            note that constraints 2 & 3 already ensure you cant travel from D1 to D0\n",
    "    \"\"\"\n",
    "    if i != j and i != 'D1' and j != 'D0' and not (i == 'D0' and j == 'D1'):\n",
    "        return True\n",
    "    return False\n",
    "\n",
    "def get_cost_obj(C_T, truck_distance_dict, active_routes_truck, cost_weight=1):\n",
    "    \"\"\"\n",
    "    Returns the cost objective value for the model after it has optimised\n",
    "    \"\"\"\n",
    "    cost_obj = 0\n",
    "    for truck in active_routes_truck.keys():\n",
    "        for route in active_routes_truck[truck]:\n",
    "            i, j, _, _ = route\n",
    "            cost_obj += cost_weight * C_T * truck_distance_dict[i, j]\n",
    "    return cost_obj\n",
    "\n",
    "def get_environmental_obj(W_T, truck_distance_dict, active_routes_truck, environmental_weight=1):\n",
    "    \"\"\"\n",
    "    Returns the environmental objective value for the model after it has optimised\n",
    "    \"\"\"\n",
    "    environmental_obj = 0\n",
    "    for truck in active_routes_truck.keys():\n",
    "        for route in active_routes_truck[truck]:\n",
    "            i, j, _, _ = route\n",
    "            environmental_obj += environmental_weight * W_T * truck_distance_dict[i, j]\n",
    "    return environmental_obj\n",
    "\n",
    "def get_time_obj(active_routes_truck, time_weight=1):\n",
    "    \"\"\"\n",
    "    Returns the time objective value for the model after it has optimised\n",
    "    \"\"\"\n",
    "    time_obj = 0\n",
    "    for truck in active_routes_truck.keys():\n",
    "        for route in active_routes_truck[truck]:\n",
    "            _, _, timestamp, _ = route\n",
    "            time_obj = max(time_obj, timestamp)\n",
    "    return time_weight * time_obj\n",
    "\n",
    "\n",
    "num_trucks = 5 # reduce from 10 to five to speed up optimisisation (basically half the number of variables)\n",
    "truck_distance_dict = get_manhattan_distance(dataset.data)\n",
    "truck_time_dict = get_time_dict(dataset.data, S_T, truck_distance_dict)\n",
    "\n",
    "#definitions of N_0, N and N_plus follow from paper\n",
    "N = list(dataset.data.keys()) #set of nodes with depot at start (D0) and at end (D1)\n",
    "N_customers = N.copy()\n",
    "N_customers.remove('D0')\n",
    "N_customers.remove('D1')\n",
    "Tr = [f'Tr{i}' for i in range(1, num_trucks+1)] #set of trucks"
   ]
  },
  {
   "cell_type": "markdown",
   "id": "4d5cfc39",
   "metadata": {},
   "source": [
    "Define the model"
   ]
  },
  {
   "cell_type": "code",
   "execution_count": 30,
   "id": "579e5043",
   "metadata": {},
   "outputs": [],
   "source": [
    "# Create a new model\n",
    "model = Model(\"Truck_Routing\")\n",
    "\n",
    "# Define decision variables\n",
    "x = model.addVars(Tr, [(i, j) for i in N for j in N if check_in_x_var(i, j)], lb=0, ub=1, vtype=GRB.BINARY, name='x')\n",
    "y = model.addVars(Tr, lb=0, ub=1, vtype=GRB.BINARY, name='y')\n",
    "t = model.addVars(Tr, N, lb=0, vtype=GRB.CONTINUOUS, name='t')\n",
    "t_max = model.addVar(lb=0, vtype=GRB.CONTINUOUS, name='t_max') #used for the minimising the max delivery time (find max time of all trucks, not each individual truck)\n",
    "# Define payload variables for each truck and node (used for calculating weight of truck when travelling between nodes)\n",
    "payload = model.addVars(Tr, [(i, j) for i in N for j in N if check_in_x_var(i, j)], lb=0, ub=Q_T, vtype=GRB.CONTINUOUS, name='payload')#payload present on truck when travelling between i to j, gets updated after each delivery to a customer\n",
    "# Define dynamic weight variables\n",
    "W_dynamic = model.addVars(Tr, [(i, j) for i in N for j in N if check_in_x_var(i, j)], lb=0, vtype=GRB.CONTINUOUS, name='W_dynamic')#similar to payload but includes the empty weight of truck aswell\n",
    "\n",
    "# Objective 1: Cost both due to transportation and base cost of using truck if active)\n",
    "cost_obj = quicksum(C_T * truck_distance_dict[i,j] * x[truck,i,j] for i in N for j in N if check_in_x_var(i, j) for truck in Tr) + \\\n",
    "           quicksum(C_B * y[truck] for truck in Tr)\n",
    "# Objective 2: environmental_obj is distance[i,j] * Weight* x[v,i,j] for all v,i,j (i.e. energy consumption)\n",
    "environmental_obj = quicksum(truck_distance_dict[i,j] * W_dynamic[truck, i, j] * x[truck,i,j] for i in N for j in N if check_in_x_var(i, j) for truck in Tr)\n",
    "# Objective 3: minimise max delivery time for each truck\n",
    "time_obj = t_max\n",
    "\n",
    "#set weights such that all cost objectives are in same order of magnitude (approx 10^3, time is larger to enforce optimiser to use multiple trucks to reduce max delivery time)\n",
    "#below weights enforce the optimiser to use multiple trucks to reduce max delivery time\n",
    "cost_weight = 1\n",
    "environmental_weight = 0.01\n",
    "time_weight = 10000\n",
    "\n",
    "\"\"\"\n",
    "cost_weight = 1\n",
    "environmental_weight = 1 \n",
    "time_weight = 1\n",
    "\"\"\"\n",
    "obj = cost_weight * cost_obj + environmental_weight * environmental_obj + time_weight * time_obj\n",
    "model.setObjective(obj, GRB.MINIMIZE)\n",
    "\n",
    "model.update()"
   ]
  },
  {
   "cell_type": "markdown",
   "id": "7b2a38d2",
   "metadata": {},
   "source": [
    "Constraint 1: Each customer is visited by exactly one truck"
   ]
  },
  {
   "cell_type": "code",
   "execution_count": 31,
   "id": "ab69e52e",
   "metadata": {},
   "outputs": [],
   "source": [
    "# Constraint 1: Each customer is visited by exactly one truck\n",
    "\n",
    "for customer in N_customers:\n",
    "    # Initialize the sum for the current customer\n",
    "    sum_for_current_customer = 0\n",
    "\n",
    "    # Loop over each truck\n",
    "    for truck in Tr:\n",
    "        # Loop over each node\n",
    "        for node in N:\n",
    "            # Skip if customer is equal to node\n",
    "            if check_in_x_var(node, customer):\n",
    "                # Add the variable to the sum\n",
    "                sum_for_current_customer += x[truck, node, customer]\n",
    "\n",
    "    # The sum for the current customer must be equal to 1\n",
    "    model.addConstr(sum_for_current_customer == 1, name=f'Customer_{customer}_visited_once')"
   ]
  },
  {
   "cell_type": "markdown",
   "id": "5dadab2b",
   "metadata": {},
   "source": [
    "Constraint 2: Each truck must leave the depot if active"
   ]
  },
  {
   "cell_type": "code",
   "execution_count": 32,
   "id": "c19978b0",
   "metadata": {},
   "outputs": [],
   "source": [
    "# Constraint 2: Each truck must leave the depot if active\n",
    "\n",
    "for truck in Tr:\n",
    "    sum_for_current_vehicle = quicksum(x[truck, 'D0', customer] for customer in N_customers)\n",
    "    model.addConstr(sum_for_current_vehicle == y[truck], name=f'Truck_leaves_depot_{truck}')"
   ]
  },
  {
   "cell_type": "markdown",
   "id": "75be8c8e",
   "metadata": {},
   "source": [
    "Constraint 3: Each vehicle arrives at depot if active"
   ]
  },
  {
   "cell_type": "code",
   "execution_count": 33,
   "id": "30b033de",
   "metadata": {},
   "outputs": [],
   "source": [
    "\n",
    "# Constraint 3: Each truck must return to the depot if active\n",
    "\n",
    "for truck in Tr:\n",
    "    sum_for_current_vehicle = quicksum(x[truck, customer, 'D1'] for customer in N_customers)\n",
    "    model.addConstr(sum_for_current_vehicle == y[truck], name=f'Truck_returns_to_depot_{truck}')"
   ]
  },
  {
   "cell_type": "markdown",
   "id": "bcc6bc70",
   "metadata": {},
   "source": [
    "Constraint 4: If a vehicle arrives at a customer node it must also leave"
   ]
  },
  {
   "cell_type": "code",
   "execution_count": 34,
   "id": "900e2706",
   "metadata": {},
   "outputs": [],
   "source": [
    "# Constraint 4: If a truck arrives at a customer node it must also leave (flow balance)\n",
    "\n",
    "for truck in Tr:\n",
    "    for node in N_customers:\n",
    "        model.addConstr(\n",
    "            quicksum(x[truck, node, j] for j in N if check_in_x_var(node, j)) == \n",
    "            quicksum(x[truck, j, node] for j in N if check_in_x_var(j, node)),\n",
    "            name=f'Flow_balance_{truck}_{node}'\n",
    "        )"
   ]
  },
  {
   "cell_type": "markdown",
   "id": "ff35e020",
   "metadata": {},
   "source": [
    "Constraint 5: Time at a node is equal or larger than time at previous nodes plus travel time (or irrelevant). Eliminates need for subtour constraints."
   ]
  },
  {
   "cell_type": "code",
   "execution_count": 35,
   "id": "6abc6ece",
   "metadata": {},
   "outputs": [],
   "source": [
    "#Constraint 5: Time at a node is equal or larger than time at previous nodes plus travel time (or irrelevant). Eliminates need for subtour constraints.\n",
    "\n",
    "# Add time constraints for all vehicles, nodes, and customers\n",
    "for truck in Tr:\n",
    "    for node in N:\n",
    "        for customer in N:\n",
    "            if check_in_x_var(node, customer):\n",
    "                model.addConstr(\n",
    "                    t[truck, customer] >= t[truck, node] + truck_time_dict[(node, customer)] - M * (1 - x[truck, node, customer]),\n",
    "                    name=f'Time_{truck}_{node}_{customer}'\n",
    "                )"
   ]
  },
  {
   "cell_type": "markdown",
   "id": "6a297bab",
   "metadata": {},
   "source": [
    "Constraint 6: Payloads"
   ]
  },
  {
   "cell_type": "code",
   "execution_count": 36,
   "id": "079c9ffa",
   "metadata": {},
   "outputs": [],
   "source": [
    "# Constraint 6: The total payload delivered to the customer must be less or equal to the truck load capacity Q_T\n",
    "\n",
    "for truck in Tr:\n",
    "    model.addConstr(quicksum(dataset.data[i]['Demand'] * x[truck, i, j] for i in N for j in N if check_in_x_var(i, j)) <= Q_T, \n",
    "                    name=f'Payload_{truck}')"
   ]
  },
  {
   "cell_type": "markdown",
   "id": "5c5609f5",
   "metadata": {},
   "source": [
    "Constraint 7 : link y variable to x variable."
   ]
  },
  {
   "cell_type": "code",
   "execution_count": 37,
   "id": "61039c44",
   "metadata": {},
   "outputs": [],
   "source": [
    "# Constraint 7: Link y variable to x variable : TRUCKS\n",
    "#if any link in x (for each truck) is active -> y = 1\n",
    "# can do this by checking if each truck leaves the depot (all trucks must leave depot if active)\n",
    "\n",
    "for truck in Tr:\n",
    "    model.addConstr(y[truck] == quicksum(x[truck, 'D0', i] for i in N_customers), name=f'Link_y{truck}_to_x_{truck}')"
   ]
  },
  {
   "cell_type": "markdown",
   "id": "d6450296",
   "metadata": {},
   "source": [
    "Constraint 8: Set departure time from depot D0 for each truck = 0"
   ]
  },
  {
   "cell_type": "code",
   "execution_count": 38,
   "id": "b7f863b8",
   "metadata": {},
   "outputs": [],
   "source": [
    "# Constraint 8: set departure time from depot D0 for each truck = 0\n",
    "\n",
    "for truck in Tr:\n",
    "    model.addConstr(t[truck, 'D0'] == 0, name=f'Departure_time_{truck}_D0')"
   ]
  },
  {
   "cell_type": "markdown",
   "id": "f6c80500",
   "metadata": {},
   "source": [
    "Constraint 9: update time variables."
   ]
  },
  {
   "cell_type": "code",
   "execution_count": 39,
   "id": "d1a2ff7c",
   "metadata": {},
   "outputs": [],
   "source": [
    "# Constraint 9: Update time variable for trucks\n",
    "# Loop over each truck\n",
    "for truck in Tr:\n",
    "    # Loop over each node (destination)\n",
    "    for j in N:\n",
    "        if j != 'D0':  # Ensuring no calculation is made for the time to 'D0' as it's the starting point only\n",
    "            # Initialize the sum for arriving at node j from any node i\n",
    "            sum_for_arrival_to_j = quicksum((t[truck, i] + truck_time_dict[i, j]) * x[truck, i, j]\n",
    "                                            for i in N if check_in_x_var(i, j))\n",
    "            \n",
    "            # Add the constraint that sets the arrival time at j based on departure times from all nodes i\n",
    "            model.addConstr(t[truck, j] == sum_for_arrival_to_j, name=f'Update_time_{truck}_{j}')\n",
    "\n",
    "\n"
   ]
  },
  {
   "cell_type": "markdown",
   "id": "dee08fc0",
   "metadata": {},
   "source": [
    "Constraint 10: update max delivery time variable."
   ]
  },
  {
   "cell_type": "code",
   "execution_count": 40,
   "id": "b593ac0f",
   "metadata": {},
   "outputs": [],
   "source": [
    "# Constraint 10: Update max delivery time variable\n",
    "for truck in Tr:\n",
    "    for node in N:\n",
    "        # Add a constraint to the model that the maximum delivery time is greater than or equal to the delivery time to the customer for each vehicle\n",
    "        model.addConstr(t_max >= t[truck, node], name=f'Update_max_delivery_time_{truck}_{node}')"
   ]
  },
  {
   "cell_type": "markdown",
   "id": "fc072ea2",
   "metadata": {},
   "source": [
    "CONSTRAINTS FOR DYNAMIC WEIGHTS AND PAYLOAD"
   ]
  },
  {
   "cell_type": "markdown",
   "id": "dd577018",
   "metadata": {},
   "source": [
    "Constraint 11: set payload for each truck at depot = sum of demand of all customers visited by truck"
   ]
  },
  {
   "cell_type": "code",
   "execution_count": 41,
   "id": "65b58fe9",
   "metadata": {},
   "outputs": [],
   "source": [
    "# Constraint 11: set payload for each truck at depot = sum of demand of all customers visited by truck\n",
    "#note: this works, checked manually\n",
    "for truck in Tr:\n",
    "    sum_for_current_truck = 0\n",
    "    for i in N:\n",
    "        for j in N:\n",
    "            if check_in_x_var(i, j):\n",
    "                sum_for_current_truck += dataset.data[j]['Demand'] * x[truck, i, j]\n",
    "        if check_in_x_var('D0', i):\n",
    "            model.addConstr(payload[truck, 'D0', i] == sum_for_current_truck * x[truck, 'D0', i], name=f'Payload_{truck}_D0_{i}')"
   ]
  },
  {
   "cell_type": "markdown",
   "id": "ea2eaa31",
   "metadata": {},
   "source": [
    "Constraint 12: each time truck delivers to a customer, the payload is updated"
   ]
  },
  {
   "cell_type": "code",
   "execution_count": 42,
   "id": "c1103bb3",
   "metadata": {},
   "outputs": [],
   "source": [
    "#Constraint 12: each time truck delivers to a customer, the payload is updated\n",
    "for truck in Tr:\n",
    "    for i in N:\n",
    "        for j in N_customers:\n",
    "            for k in N:\n",
    "                \"\"\"\n",
    "                i is node which was previously visited by truck\n",
    "                j is customer node where truck is delivering\n",
    "                k is node where truck is going next\n",
    "                \"\"\"\n",
    "                if check_in_x_var(i, j) and check_in_x_var(j, k):\n",
    "                    model.addConstr(payload[truck, j, k] <= payload[truck, i, j] - dataset.data[j]['Demand'] * x[truck, i, j] + M * (1 - x[truck, i, j]), name=f'Payload_update_{truck}_{truck}_{i}_{j}_{k}')"
   ]
  },
  {
   "cell_type": "markdown",
   "id": "d76e2a63",
   "metadata": {},
   "source": [
    "Constraint 13: Explicitly set payload to zero for inactive routes (for some reason without this some inactive trucks have payload = 1000)"
   ]
  },
  {
   "cell_type": "code",
   "execution_count": 43,
   "id": "3e58220f",
   "metadata": {},
   "outputs": [],
   "source": [
    "# Constraint 13: Explicitly set payload to zero for inactive routes (for some reason without this some inactive trucks have payload = 1000)\n",
    "for truck in Tr:\n",
    "    for i in N:\n",
    "        for j in N:\n",
    "            if check_in_x_var(i, j):\n",
    "                model.addConstr(payload[truck, i, j] <= M * x[truck, i, j], name=f'Zero_inactive_payload_{truck}_{i}_{j}')"
   ]
  },
  {
   "cell_type": "markdown",
   "id": "b4d1a740",
   "metadata": {},
   "source": [
    "Constraint 14: update dynamic weight for each truck at each node (W_dynamic[truck, i, j] = W_T + payload[truck, i, j]) only when link (thus truck) is active"
   ]
  },
  {
   "cell_type": "code",
   "execution_count": 44,
   "id": "240b87c0",
   "metadata": {},
   "outputs": [],
   "source": [
    "# Constraint 14: update dynamic weight for each truck at each node (W_dynamic[truck, i, j] = W_T + payload[truck, i, j]) only when link (thus truck) is active\n",
    "for truck in Tr:\n",
    "    for i in N:\n",
    "        for j in N:\n",
    "            if check_in_x_var(i, j):\n",
    "                model.addConstr(W_dynamic[truck, i, j] == (W_T + payload[truck, i, j]) * x[truck, i, j], name=f'Update_dynamic_weight_{truck}_{i}_{j}')"
   ]
  },
  {
   "cell_type": "markdown",
   "id": "3488aedc",
   "metadata": {},
   "source": [
    "Update, tune and run the model"
   ]
  },
  {
   "cell_type": "code",
   "execution_count": 45,
   "id": "f74c3bbe",
   "metadata": {},
   "outputs": [
    {
     "name": "stdout",
     "output_type": "stream",
     "text": [
      "Gurobi Optimizer version 11.0.2 build v11.0.2rc0 (mac64[arm] - Darwin 23.5.0 23F79)\n",
      "\n",
      "CPU model: Apple M1 Max\n",
      "Thread count: 10 physical cores, 10 logical processors, using up to 10 threads\n",
      "\n",
      "Academic license 2514144 - for non-commercial use only - registered to u.___@student.tudelft.nl\n",
      "Optimize a model with 10367 rows, 2416 columns and 33040 nonzeros\n",
      "Model fingerprint: 0x68f0776b\n",
      "Model has 780 quadratic objective terms\n",
      "Model has 905 quadratic constraints\n",
      "Variable types: 1631 continuous, 785 integer (785 binary)\n",
      "Coefficient statistics:\n",
      "  Matrix range     [1e+00, 1e+09]\n",
      "  QMatrix range    [1e+00, 5e+00]\n",
      "  QLMatrix range   [1e-01, 2e+03]\n",
      "  Objective range  [2e+02, 1e+04]\n",
      "  QObjective range [1e-01, 2e+00]\n",
      "  Bounds range     [1e+00, 1e+03]\n",
      "  RHS range        [1e+00, 1e+09]\n",
      "Warning: Model contains large matrix coefficients\n",
      "         Consider reformulating model or setting NumericFocus parameter\n",
      "         to avoid numerical issues.\n",
      "Presolve added 110 rows and 5 columns\n",
      "Presolve time: 0.15s\n",
      "Presolved: 16662 rows, 7701 columns, 78392 nonzeros\n",
      "Presolved model has 3000 SOS constraint(s)\n",
      "Variable types: 5406 continuous, 2295 integer (2295 binary)\n",
      "\n",
      "Root relaxation: objective 1.171004e+04, 1037 iterations, 0.03 seconds (0.04 work units)\n",
      "\n",
      "    Nodes    |    Current Node    |     Objective Bounds      |     Work\n",
      " Expl Unexpl |  Obj  Depth IntInf | Incumbent    BestBd   Gap | It/Node Time\n",
      "\n",
      "     0     0 11710.0437    0  105          - 11710.0437      -     -    0s\n",
      "     0     0 11898.6332    0  107          - 11898.6332      -     -    1s\n",
      "     0     0 11898.6332    0  112          - 11898.6332      -     -    1s\n",
      "     0     0 11898.6332    0  121          - 11898.6332      -     -    1s\n",
      "     0     0 12151.8516    0  173          - 12151.8516      -     -    1s\n",
      "     0     0 12257.1350    0  186          - 12257.1350      -     -    1s\n",
      "     0     0 12305.2883    0  159          - 12305.2883      -     -    1s\n",
      "     0     0 12305.2883    0  183          - 12305.2883      -     -    1s\n",
      "     0     0 13536.0859    0  191          - 13536.0859      -     -    1s\n",
      "     0     0 13618.9130    0  208          - 13618.9130      -     -    1s\n",
      "     0     0 13618.9130    0  206          - 13618.9130      -     -    1s\n",
      "     0     0 13802.8608    0  253          - 13802.8608      -     -    1s\n",
      "     0     0 13823.4664    0  271          - 13823.4664      -     -    1s\n",
      "     0     0 14086.0636    0  266          - 14086.0636      -     -    2s\n",
      "     0     0 14108.7744    0  266          - 14108.7744      -     -    2s\n",
      "     0     0 14108.7744    0  189          - 14108.7744      -     -    2s\n",
      "     0     0 14123.5863    0  211          - 14123.5863      -     -    2s\n",
      "     0     0 14157.7617    0  199          - 14157.7617      -     -    2s\n",
      "     0     0 14174.0370    0  211          - 14174.0370      -     -    2s\n",
      "     0     0 14255.9245    0  229          - 14255.9245      -     -    2s\n",
      "     0     0 14282.2378    0  235          - 14282.2378      -     -    2s\n",
      "     0     0 14282.2378    0  209          - 14282.2378      -     -    2s\n",
      "     0     0 14373.9708    0  212          - 14373.9708      -     -    2s\n",
      "     0     0 14389.4836    0  218          - 14389.4836      -     -    2s\n",
      "     0     0 14444.8624    0  218          - 14444.8624      -     -    3s\n",
      "     0     2 14457.1480    0  207          - 14457.1480      -     -    3s\n",
      "*  629   473              37    114554.68498 14748.0173  87.1%  23.1    4s\n",
      "*  632   473              38    100239.47166 14748.0173  85.3%  23.0    4s\n",
      "H  660   494                    91190.650832 14748.0173  83.8%  23.2    4s\n",
      "H  711   535                    69212.230240 14748.0173  78.7%  24.0    5s\n",
      "H  713   535                    68371.307373 14748.0173  78.4%  24.0    5s\n",
      "H  718   535                    67422.928528 14748.0173  78.1%  24.1    5s\n",
      "H  720   535                    63771.239411 14748.0173  76.9%  24.0    5s\n",
      "H  721   535                    61660.214507 14748.0173  76.1%  24.0    5s\n",
      "H  840   615                    61023.999496 14748.0173  75.8%  24.1    6s\n",
      "H  893   660                    58732.265919 14748.0173  74.9%  24.0    7s\n",
      "H  894   660                    57560.021227 14748.0173  74.4%  23.9    7s\n",
      "  1923  1416 18844.3415   60  397 57560.0212 14984.2008  74.0%  25.7   11s\n",
      "  1932  1422 26983.0421   82   81 57560.0212 18607.4342  67.7%  25.6   19s\n",
      "  1933  1423 18857.2112   61   89 57560.0212 18607.4342  67.7%  25.6   20s\n",
      "\n",
      "Cutting planes:\n",
      "  Learned: 1\n",
      "  Cover: 18\n",
      "  Implied bound: 1\n",
      "  Projected implied bound: 95\n",
      "  Clique: 9\n",
      "  MIR: 25\n",
      "  Flow cover: 61\n",
      "  Zero half: 3\n",
      "  RLT: 20\n",
      "  Relax-and-lift: 236\n",
      "  BQP: 1\n",
      "\n",
      "Explored 1934 nodes (55471 simplex iterations) in 20.13 seconds (26.22 work units)\n",
      "Thread count was 10 (of 10 available processors)\n",
      "\n",
      "Solution count 10: 57560 58732.3 61024 ... 100239\n",
      "\n",
      "Optimal solution found (tolerance 1.00e-04)\n",
      "Best objective 5.756002122665e+04, best bound 5.756002122665e+04, gap 0.0000%\n",
      "Optimal objective: 57560\n",
      "x[Tr1,D0,C11]: 1\n",
      "x[Tr1,C3,C9]: 1\n",
      "x[Tr1,C5,C3]: 1\n",
      "x[Tr1,C9,D1]: 1\n",
      "x[Tr1,C11,C5]: 1\n",
      "x[Tr2,D0,C12]: 1\n",
      "x[Tr2,C4,C8]: 1\n",
      "x[Tr2,C8,D1]: 1\n",
      "x[Tr2,C12,C4]: 1\n",
      "x[Tr3,D0,C10]: 1\n",
      "x[Tr3,C1,D1]: 1\n",
      "x[Tr3,C2,C1]: 1\n",
      "x[Tr3,C6,C2]: 1\n",
      "x[Tr3,C10,C6]: 1\n",
      "x[Tr4,D0,C7]: 1\n",
      "x[Tr4,C7,D1]: 1\n",
      "y[Tr1]: 1\n",
      "y[Tr2]: 1\n",
      "y[Tr3]: 1\n",
      "y[Tr4]: 1\n",
      "t[Tr1,C3]: 1.495\n",
      "t[Tr1,C5]: 1.30167\n",
      "t[Tr1,C9]: 2.57333\n",
      "t[Tr1,C11]: 1.12333\n",
      "t[Tr1,D1]: 2.98333\n",
      "t[Tr2,C4]: 1.83833\n",
      "t[Tr2,C8]: 2.33667\n",
      "t[Tr2,C12]: 1.54333\n",
      "t[Tr2,D1]: 3.08667\n",
      "t[Tr3,C1]: 2.58167\n",
      "t[Tr3,C2]: 1.80333\n",
      "t[Tr3,C6]: 0.528333\n",
      "t[Tr3,C10]: 0.313333\n",
      "t[Tr3,D1]: 2.94667\n",
      "t[Tr4,C7]: 0.63\n",
      "t[Tr4,D1]: 1.26\n",
      "t_max: 3.08667\n",
      "payload[Tr1,D0,C11]: 9.44\n",
      "payload[Tr1,C3,C9]: 4.78\n",
      "payload[Tr1,C5,C3]: 6.34\n",
      "payload[Tr1,C11,C5]: 8.06\n",
      "payload[Tr2,D0,C12]: 9.05\n",
      "payload[Tr2,C4,C8]: 1.22\n",
      "payload[Tr2,C12,C4]: 6.05\n",
      "payload[Tr3,D0,C10]: 12.22\n",
      "payload[Tr3,C2,C1]: 1.71\n",
      "payload[Tr3,C6,C2]: 4.59\n",
      "payload[Tr3,C10,C6]: 9.11\n",
      "payload[Tr4,D0,C7]: 1.86\n",
      "W_dynamic[Tr1,D0,C11]: 1509.44\n",
      "W_dynamic[Tr1,C3,C9]: 1504.78\n",
      "W_dynamic[Tr1,C5,C3]: 1506.34\n",
      "W_dynamic[Tr1,C9,D1]: 1500\n",
      "W_dynamic[Tr1,C11,C5]: 1508.06\n",
      "W_dynamic[Tr2,D0,C12]: 1509.05\n",
      "W_dynamic[Tr2,C4,C8]: 1501.22\n",
      "W_dynamic[Tr2,C8,D1]: 1500\n",
      "W_dynamic[Tr2,C12,C4]: 1506.05\n",
      "W_dynamic[Tr3,D0,C10]: 1512.22\n",
      "W_dynamic[Tr3,C1,D1]: 1500\n",
      "W_dynamic[Tr3,C2,C1]: 1501.71\n",
      "W_dynamic[Tr3,C6,C2]: 1504.59\n",
      "W_dynamic[Tr3,C10,C6]: 1509.11\n",
      "W_dynamic[Tr4,D0,C7]: 1501.86\n",
      "W_dynamic[Tr4,C7,D1]: 1500\n"
     ]
    }
   ],
   "source": [
    "# Update the model to integrate new variables\n",
    "model.update()\n",
    "\n",
    "# Write model to a file\n",
    "model.write('TruckonlySimple.lp')\n",
    "\n",
    "# Tune solver parameters\n",
    "#model.tune()\n",
    "\n",
    "# Optimize the model\n",
    "model.optimize()\n",
    "\n",
    "# Print the results\n",
    "if model.status == GRB.OPTIMAL:\n",
    "    print('Optimal objective: %g' % model.objVal)\n",
    "    for v in model.getVars():\n",
    "        if v.x > 0:\n",
    "            print('%s: %g' % (v.varName, v.x))\n",
    "else:\n",
    "    print('Optimization was stopped with status %d' % model.status)"
   ]
  },
  {
   "cell_type": "markdown",
   "id": "72a3ebb2",
   "metadata": {},
   "source": [
    "Post-processing"
   ]
  },
  {
   "cell_type": "code",
   "execution_count": 46,
   "id": "5ead97f9",
   "metadata": {
    "lines_to_next_cell": 2
   },
   "outputs": [
    {
     "name": "stdout",
     "output_type": "stream",
     "text": [
      "Active trucks: ['Tr1', 'Tr2', 'Tr3', 'Tr4']\n",
      "Active routes for trucks: {'Tr1': [('D0', 'C11', 1.1233333349227905, 1509.4), ('C11', 'C5', 1.3016666682561238, 1508.1), ('C5', 'C3', 1.4950000015894447, 1506.3), ('C3', 'C9', 2.5733333349227783, 1504.8), ('C9', 'D1', 2.9833333333333334, 1500.0)], 'Tr2': [('D0', 'C12', 1.5433333333333321, 1509.0), ('C12', 'C4', 1.8383333333333134, 1506.0), ('C4', 'C8', 2.3366666666666465, 1501.2), ('C8', 'D1', 3.0866666666666362, 1500.0)], 'Tr3': [('D0', 'C10', 0.3133333921432504, 1512.2), ('C10', 'C6', 0.5283333921432531, 1509.1), ('C6', 'C2', 1.8033333921432535, 1504.6), ('C2', 'C1', 2.5816667254765866, 1501.7), ('C1', 'D1', 2.946666725476587, 1500.0)], 'Tr4': [('D0', 'C7', 0.63, 1501.9), ('C7', 'D1', 1.2600000000000002, 1500.0)]}\n",
      "Cost objective/Total delivery cost [$]: 15415.0\n",
      "Environmental objective [kg * km]: 9249.0\n",
      "Time objective: 30866.666666666362\n",
      "Max delivery time: 3 hours, 5 minutes, 11 seconds\n"
     ]
    },
    {
     "data": {
      "image/png": "[encoded data removed]",
      "text/plain": [
       "<Figure size 1000x1000 with 1 Axes>"
      ]
     },
     "metadata": {},
     "output_type": "display_data"
    }
   ],
   "source": [
    "# Extract and store the solution\n",
    "solution = {var.varName: var.x for var in model.getVars()}\n",
    "\n",
    "# Extract active trucks\n",
    "active_trucks = [v for v in Tr if 'T' in v and solution[f'y[{v}]'] >= 0.99]\n",
    "\n",
    "# Extract routes for active trucks\n",
    "active_routes_truck = {} #for each truck and pair of nodes (i, j) store (node from, node to, timestamp, weight) of truck when travelling between i and j (ordered by increasing time)\n",
    "for truck in active_trucks:\n",
    "    active_routes_truck[truck] = []\n",
    "    for node_from in N:\n",
    "        for node_to in N:\n",
    "            if node_from != node_to and solution.get(f'x[{truck},{node_from},{node_to}]', 0) >= 0.99:\n",
    "                timestamp = solution.get(f't[{truck},{node_to}]', 0)\n",
    "                weight = solution.get(f'W_dynamic[{truck},{node_from},{node_to}]', 0)\n",
    "                active_routes_truck[truck].append((node_from, node_to, timestamp, np.round(weight, 1)))\n",
    "\n",
    "# Sort the routes for each truck according to the timestamps\n",
    "for truck in active_trucks:\n",
    "    active_routes_truck[truck].sort(key=lambda x: x[2])\n",
    "\n",
    "print('Active trucks:', active_trucks)\n",
    "print('Active routes for trucks:', active_routes_truck)\n",
    "\n",
    "# Print each seperate objective value after optimisation\n",
    "print('Cost objective/Total delivery cost [$]:', get_cost_obj(C_T, truck_distance_dict, active_routes_truck, cost_weight=cost_weight))\n",
    "print('Environmental objective [kg * km]:', get_environmental_obj(W_T, truck_distance_dict, active_routes_truck, environmental_weight=environmental_weight))\n",
    "print('Time objective:', get_time_obj(active_routes_truck, time_weight=time_weight))\n",
    "\n",
    "#convert t_max to hours, minutes, seconds\n",
    "t_max_hours = model.getVarByName('t_max').x\n",
    "t_max_minutes, t_max_seconds = divmod(t_max_hours * 3600, 60)\n",
    "t_max_hours, t_max_minutes = divmod(t_max_minutes, 60)\n",
    "print('Max delivery time: {} hours, {} minutes, {} seconds'.format(int(t_max_hours), int(t_max_minutes), int(t_max_seconds)))\n",
    "\n",
    "#use plotting method in dataset class to visualise\n",
    "dataset.plot_data(show_demand=False, scale_nodes=True, show_labels=True, active_routes=active_routes_truck, show_weights=True)\n",
    "#save solution to .sol file\n",
    "model.write(output_solution_file_path)\n",
    "#save model to .lp file\n",
    "model.write(output_model_file_path)"
   ]
  },
  {
   "cell_type": "code",
   "execution_count": null,
   "id": "15b2e002",
   "metadata": {
    "lines_to_next_cell": 2
   },
   "outputs": [],
   "source": [
    "\n"
   ]
  }
 ],
 "metadata": {
  "jupytext": {
   "cell_metadata_filter": "-all",
   "main_language": "python",
   "notebook_metadata_filter": "-all"
  },
  "kernelspec": {
   "display_name": "VRPforDrones-5bUbox2j",
   "language": "python",
   "name": "python3"
  },
  "language_info": {
   "codemirror_mode": {
    "name": "ipython",
    "version": 3
   },
   "file_extension": ".py",
   "mimetype": "text/x-python",
   "name": "python",
   "nbconvert_exporter": "python",
   "pygments_lexer": "ipython3",
   "version": "3.11.0"
  }
 },
 "nbformat": 4,
 "nbformat_minor": 5
}
