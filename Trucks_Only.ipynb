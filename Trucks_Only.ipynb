{
 "cells": [
  {
   "cell_type": "markdown",
   "id": "13d1bb08",
   "metadata": {},
   "source": [
    "# Trucks only problem #"
   ]
  },
  {
   "cell_type": "markdown",
   "id": "ded56a86",
   "metadata": {},
   "source": [
    "Install necessary packages"
   ]
  },
  {
   "cell_type": "code",
   "execution_count": 1,
   "id": "da61d852",
   "metadata": {},
   "outputs": [],
   "source": [
    "from gurobipy import Model,GRB,LinExpr,quicksum\n",
    "import numpy as np\n",
    "from scipy.spatial import distance\n",
    "import os\n",
    "import socket\n",
    "from load_dataset import Dataset"
   ]
  },
  {
   "cell_type": "markdown",
   "id": "75b389a3",
   "metadata": {},
   "source": [
    "For Ugo's laptop"
   ]
  },
  {
   "cell_type": "code",
   "execution_count": 2,
   "id": "581a6c84",
   "metadata": {},
   "outputs": [
    {
     "name": "stdout",
     "output_type": "stream",
     "text": [
      "Gurobi license path set for Ugo's MacBook Pro.\n"
     ]
    }
   ],
   "source": [
    "# Define the node name or another identifier of your laptop\n",
    "my_laptop_node = 'Ugos-MacBook-Pro.local'\n",
    "\n",
    "# Get the current system's node name using socket.gethostname()\n",
    "current_node = socket.gethostname()\n",
    "\n",
    "if current_node == my_laptop_node:\n",
    "    # Set the environment variable for Gurobi license file\n",
    "    os.environ[\"GRB_LICENSE_FILE\"] = \"/Users/ugomunzi/gurobi/licenses/gurobi.lic\"\n",
    "    print(\"Gurobi license path set for Ugo's MacBook Pro.\")\n",
    "else:\n",
    "    print(\"Not Ugo's MacBook Pro, using default or no specific license settings.\")"
   ]
  },
  {
   "cell_type": "markdown",
   "id": "9aa63448",
   "metadata": {},
   "source": [
    "Define model parametres"
   ]
  },
  {
   "cell_type": "code",
   "execution_count": 3,
   "id": "70c3a06a",
   "metadata": {},
   "outputs": [],
   "source": [
    "## MODEL PARAMETERS ##\n",
    "W_T = 1500 #empty weight truck [kg]\n",
    "Q_T = 1000 #load capacity of trucks [kg]\n",
    "#W_D = 25 #empty weight drone [kg]\n",
    "#Q_D = 5 #load capacity of drones [kg]\n",
    "C_T = 25 #travel cost of trucks per unit distance [monetary unit/km]\n",
    "#C_D = 1 #travel cost of drones per unit distance [monetary unit/km]\n",
    "C_B = 500 #basis cost of using a truck equipped with a drone [monetary unit]\n",
    "#E = 0.5 #maximum endurance of empty drones [hours]\n",
    "S_T = 60 #average travel speed of the trucks [km/h]\n",
    "#S_D = 65 #average travel speed of the drones [km/h]"
   ]
  },
  {
   "cell_type": "markdown",
   "id": "08f98638",
   "metadata": {},
   "source": [
    "Define Big M constant"
   ]
  },
  {
   "cell_type": "code",
   "execution_count": 4,
   "id": "5620452d",
   "metadata": {},
   "outputs": [],
   "source": [
    "#M = 500 #big M constant for big M method"
   ]
  },
  {
   "cell_type": "markdown",
   "id": "688b6064",
   "metadata": {},
   "source": [
    "Load Dataset using load_dataset.py"
   ]
  },
  {
   "cell_type": "code",
   "execution_count": 5,
   "id": "9560ecb2",
   "metadata": {},
   "outputs": [],
   "source": [
    "## LOAD DATASET ##\n",
    "current_dir = os.getcwd()\n",
    "# Select which data folder to use\n",
    "data_subfolder = '0.3'\n",
    "data_subfoldercopy = '0.3_copy'\n",
    "data_subfoldercopy = '0.3'\n",
    "data_num_nodes = '40'\n",
    "data_area = '20'\n",
    "\n",
    "data_file_name = f'{data_num_nodes}_{data_area}_{data_subfoldercopy}'\n",
    "dataset_path = f'dataset/{data_subfolder}/{data_file_name}.txt'\n",
    "output_file_path = os.path.join(current_dir, data_file_name + '_solution.sol')#used to save solution file\n",
    "dataset = Dataset(dataset_path)\n",
    "\n"
   ]
  },
  {
   "cell_type": "markdown",
   "id": "3176c483",
   "metadata": {},
   "source": [
    "Pre-processing"
   ]
  },
  {
   "cell_type": "code",
   "execution_count": 6,
   "id": "7ed00fcf",
   "metadata": {},
   "outputs": [],
   "source": [
    "## FUNCTIONS ##\n",
    "def get_manhattan_distance(data):\n",
    "    \"\"\"\n",
    "    Returns a dictionary with manhattan distances between all nodes in dataset\n",
    "    \"\"\"\n",
    "    distance_dict = {}\n",
    "    for node1 in data.keys():\n",
    "        for node2 in data.keys():\n",
    "            distance_dict[node1, node2] = distance.cityblock([data[node1]['X'], data[node1]['Y']], [data[node2]['X'], data[node2]['Y']])\n",
    "    return distance_dict\n",
    "\n",
    "def get_time_dict(data, S_T, distance_dict):\n",
    "    \"\"\"\n",
    "    Returns a dictionary with travel times between all nodes in dataset\n",
    "    \"\"\"\n",
    "    time_dict = {}\n",
    "    for node1 in data.keys():\n",
    "        for node2 in data.keys():\n",
    "            time_dict[node1, node2] = distance_dict[node1, node2] / S_T\n",
    "    return time_dict\n",
    "\n",
    "def check_in_x_var(i, j):\n",
    "    \"\"\"Check if the route from node i to node j is valid instead of having to pass bunch of conditions in each constraint.\n",
    "    Conditions:\n",
    "        1- cant travel between same node (i != j)\n",
    "        2- cant leave return depot D1 (i != 'D1')\n",
    "        3- cant arrive at start depot D0 (j != 'D0')\n",
    "        4- cant travel from D0 to D1 (not (i == 'D0' and j == 'D1'))\n",
    "            note that constraints 2 & 3 already ensure you cant travel from D1 to D0\n",
    "    \"\"\"\n",
    "    if i != j and i != 'D1' and j != 'D0' and not (i == 'D0' and j == 'D1'):\n",
    "        return True\n",
    "    return False\n",
    "\n",
    "\n",
    "num_trucks = 10\n",
    "truck_distance_dict = get_manhattan_distance(dataset.data)\n",
    "truck_time_dict = get_time_dict(dataset.data, S_T, truck_distance_dict)\n",
    "\n",
    "#definitions of N_0, N and N_plus follow from paper\n",
    "N = list(dataset.data.keys()) #set of nodes with depot at start (D0) and at end (D1)\n",
    "N_customers = N.copy()\n",
    "N_customers.remove('D0')\n",
    "N_customers.remove('D1')\n",
    "Tr = [f'Tr{i}' for i in range(1, num_trucks+1)] #set of trucks"
   ]
  },
  {
   "cell_type": "markdown",
   "id": "a73167f9",
   "metadata": {},
   "source": [
    "Define the model"
   ]
  },
  {
   "cell_type": "code",
   "execution_count": 7,
   "id": "bd1efaec",
   "metadata": {},
   "outputs": [
    {
     "name": "stdout",
     "output_type": "stream",
     "text": [
      "Set parameter WLSAccessID\n",
      "Set parameter WLSSecret\n",
      "Set parameter LicenseID to value 2514144\n",
      "Academic license 2514144 - for non-commercial use only - registered to u.___@student.tudelft.nl\n"
     ]
    }
   ],
   "source": [
    "# Create a new model\n",
    "model = Model(\"Truck_Routing\")\n",
    "\n",
    "# Define decision variables\n",
    "x = model.addVars(Tr, [(i, j) for i in N for j in N if check_in_x_var(i, j)], lb=0, ub=1, vtype=GRB.BINARY, name='x')\n",
    "y = model.addVars(Tr, lb=0, ub=1, vtype=GRB.BINARY, name='y')\n",
    "t = model.addVars(Tr, N, lb=0, vtype=GRB.CONTINUOUS, name='t')\n",
    "t_max = model.addVar(lb=0, vtype=GRB.CONTINUOUS, name='t_max') #used for the minimising the max delivery time (find max time of all trucks, not each individual truck)\n",
    "\n",
    "# Objective 1: Cost both due to transportation and base cost of using truck if active)\n",
    "cost_obj = quicksum(C_T * truck_distance_dict[i,j] * x[truck,i,j] for i in N for j in N if check_in_x_var(i, j) for truck in Tr) + \\\n",
    "           quicksum(C_B * y[truck] for truck in Tr)\n",
    "# Objective 2: environmental_obj is distance[i,j] * Weight* x[v,i,j] for all v,i,j (i.e. energy consumption)\n",
    "environmental_obj = quicksum(truck_distance_dict[i,j] * W_T * x[truck,i,j] for i in N for j in N if check_in_x_var(i, j) for truck in Tr)\n",
    "# Objective 3: minimise max delivery time for each truck\n",
    "time_obj = t_max\n",
    "\n",
    "obj = cost_obj + environmental_obj + time_obj\n",
    "model.setObjective(obj, GRB.MINIMIZE)\n",
    "\n",
    "model.update()"
   ]
  },
  {
   "cell_type": "markdown",
   "id": "d038e04c",
   "metadata": {},
   "source": [
    "Constraint 1: Each customer is visited by exactly one truck"
   ]
  },
  {
   "cell_type": "code",
   "execution_count": 8,
   "id": "78b23a90",
   "metadata": {
    "lines_to_next_cell": 2
   },
   "outputs": [],
   "source": [
    "# Constraint 1: Each customer is visited by exactly one truck\n",
    "\n",
    "for customer in N_customers:\n",
    "    # Initialize the sum for the current customer\n",
    "    sum_for_current_customer = 0\n",
    "\n",
    "    # Loop over each truck\n",
    "    for truck in Tr:\n",
    "        # Loop over each node\n",
    "        for node in N:\n",
    "            # Skip if customer is equal to node\n",
    "            if check_in_x_var(node, customer):\n",
    "                # Add the variable to the sum\n",
    "                sum_for_current_customer += x[truck, node, customer]\n",
    "\n",
    "    # The sum for the current customer must be equal to 1\n",
    "    model.addConstr(sum_for_current_customer == 1, name=f'Customer_{customer}_visited_once')"
   ]
  },
  {
   "cell_type": "markdown",
   "id": "0fe0a443",
   "metadata": {},
   "source": [
    "Constraint 2: Each truck must leave the depot if active"
   ]
  },
  {
   "cell_type": "code",
   "execution_count": 9,
   "id": "1d3ac9bc",
   "metadata": {
    "lines_to_next_cell": 2
   },
   "outputs": [],
   "source": [
    "# Constraint 2: Each truck must leave the depot if active\n",
    "\n",
    "for truck in Tr:\n",
    "    sum_for_current_vehicle = quicksum(x[truck, 'D0', customer] for customer in N_customers)\n",
    "    model.addConstr(sum_for_current_vehicle == y[truck], name=f'Truck_leaves_depot_{truck}')"
   ]
  },
  {
   "cell_type": "markdown",
   "id": "c2aeaa4b",
   "metadata": {},
   "source": [
    "Constraint 3: Each vehicle arrives at depot if active"
   ]
  },
  {
   "cell_type": "code",
   "execution_count": 10,
   "id": "f935604e",
   "metadata": {
    "lines_to_next_cell": 2
   },
   "outputs": [],
   "source": [
    "\n",
    "# Constraint 3: Each truck must return to the depot if active\n",
    "\n",
    "for truck in Tr:\n",
    "    sum_for_current_vehicle = quicksum(x[truck, customer, 'D1'] for customer in N_customers)\n",
    "    model.addConstr(sum_for_current_vehicle == y[truck], name=f'Truck_returns_to_depot_{truck}')"
   ]
  },
  {
   "cell_type": "markdown",
   "id": "5bb65977",
   "metadata": {},
   "source": [
    "Constraint 4: If a vehicle arrives at a customer node it must also leave"
   ]
  },
  {
   "cell_type": "code",
   "execution_count": 11,
   "id": "86ea1a9b",
   "metadata": {
    "lines_to_next_cell": 2
   },
   "outputs": [],
   "source": [
    "# Constraint 4: If a truck arrives at a customer node it must also leave (flow balance)\n",
    "\n",
    "for truck in Tr:\n",
    "    for node in N_customers:\n",
    "        model.addConstr(\n",
    "            quicksum(x[truck, node, j] for j in N if check_in_x_var(node, j)) == \n",
    "            quicksum(x[truck, j, node] for j in N if check_in_x_var(j, node)),\n",
    "            name=f'Flow_balance_{truck}_{node}'\n",
    "        )"
   ]
  },
  {
   "cell_type": "markdown",
   "id": "53bef6ef",
   "metadata": {},
   "source": [
    "Constraint 5: Time at a node is equal or larger than time at previous nodes plus travel time (or irrelevant). Eliminates need for subtour constraints."
   ]
  },
  {
   "cell_type": "code",
   "execution_count": 12,
   "id": "3799018f",
   "metadata": {},
   "outputs": [],
   "source": [
    "'''\n",
    "#Constraint 5: Time at a node is equal or larger than time at previous nodes plus travel time (or irrelevant). Eliminates need for subtour constraints.\n",
    "# Define a large constant M for the big-M method : TRUCKS\n",
    "'''\n",
    "M_subtour = 60000000  # Make sure M is larger than the maximum possible travel time\n",
    "\n",
    "# Add time constraints for all vehicles, nodes, and customers\n",
    "for truck in Tr:\n",
    "    for node in N:\n",
    "        for customer in N:\n",
    "            if check_in_x_var(node, customer):\n",
    "                model.addConstr(\n",
    "                    t[truck, customer] >= t[truck, node] + truck_time_dict[(node, customer)] - M_subtour * (1 - x[truck, node, customer]),\n",
    "                    name=f'Time_{truck}_{node}_{customer}'\n",
    "                )"
   ]
  },
  {
   "cell_type": "markdown",
   "id": "e5bdf804",
   "metadata": {},
   "source": [
    "Constraint 6: Payloads"
   ]
  },
  {
   "cell_type": "code",
   "execution_count": 13,
   "id": "a1fd6e67",
   "metadata": {},
   "outputs": [],
   "source": [
    "# Constraint 6: The total payload delivered to the customer must be less or equal to the truck load capacity Q_T\n",
    "# \n",
    "for truck in Tr:\n",
    "    model.addConstr(quicksum(dataset.data[i]['Demand'] * x[truck, i, j] for i in N for j in N if check_in_x_var(i, j)) <= Q_T, \n",
    "                    name=f'Payload_{truck}')"
   ]
  },
  {
   "cell_type": "markdown",
   "id": "e7b0fb54",
   "metadata": {},
   "source": [
    "Constraint 7 : link y variable to x variable."
   ]
  },
  {
   "cell_type": "code",
   "execution_count": 14,
   "id": "46a6ed0d",
   "metadata": {},
   "outputs": [],
   "source": [
    "# Constraint 7: Link y variable to x variable : TRUCKS\n",
    "#if any link in x (for each truck) is active -> y = 1\n",
    "# can do this by checking if each truck leaves the depot (all trucks must leave depot if active)\n",
    "\n",
    "for truck in Tr:\n",
    "    model.addConstr(y[truck] == quicksum(x[truck, 'D0', i] for i in N_customers), name=f'Link_y{truck}_to_x_{truck}')"
   ]
  },
  {
   "cell_type": "markdown",
   "id": "b5749a31",
   "metadata": {},
   "source": [
    "Constraint 8: Set departure time from depot D0 for each truck = 0"
   ]
  },
  {
   "cell_type": "code",
   "execution_count": 15,
   "id": "2e0c3ad4",
   "metadata": {},
   "outputs": [],
   "source": [
    "# Constraint 8: set departure time from depot D0 for each truck = 0\n",
    "\n",
    "for truck in Tr:\n",
    "    model.addConstr(t[truck, 'D0'] == 0, name=f'Departure_time_{truck}_D0')"
   ]
  },
  {
   "cell_type": "markdown",
   "id": "8a3381f7",
   "metadata": {},
   "source": [
    "Constraint 9: update time variables."
   ]
  },
  {
   "cell_type": "code",
   "execution_count": 16,
   "id": "d31e79ee",
   "metadata": {},
   "outputs": [],
   "source": [
    "# Constraint 9: Update time variable for trucks\n",
    "# Loop over each truck\n",
    "for truck in Tr:\n",
    "    # Loop over each node (destination)\n",
    "    for j in N:\n",
    "        if j != 'D0':  # Ensuring no calculation is made for the time to 'D0' as it's the starting point only\n",
    "            # Initialize the sum for arriving at node j from any node i\n",
    "            sum_for_arrival_to_j = quicksum((t[truck, i] + truck_time_dict[i, j]) * x[truck, i, j]\n",
    "                                            for i in N if check_in_x_var(i, j))\n",
    "            \n",
    "            # Add the constraint that sets the arrival time at j based on departure times from all nodes i\n",
    "            model.addConstr(t[truck, j] == sum_for_arrival_to_j, name=f'Update_time_{truck}_{j}')\n",
    "\n",
    "\n"
   ]
  },
  {
   "cell_type": "markdown",
   "id": "92563c59",
   "metadata": {},
   "source": [
    "Constraint 10: update max delivery time variable."
   ]
  },
  {
   "cell_type": "code",
   "execution_count": 17,
   "id": "183664d8",
   "metadata": {},
   "outputs": [],
   "source": [
    "# Constraint 10: Update max delivery time variable\n",
    "for truck in Tr:\n",
    "    for node in N:\n",
    "        # Add a constraint to the model that the maximum delivery time is greater than or equal to the delivery time to the customer for each vehicle\n",
    "        model.addConstr(t_max >= t[truck, node], name=f'Update_max_delivery_time_{truck}_{node}')"
   ]
  },
  {
   "cell_type": "markdown",
   "id": "df91bff6",
   "metadata": {},
   "source": [
    "Update, tune and run the model"
   ]
  },
  {
   "cell_type": "code",
   "execution_count": 18,
   "id": "08c2b556",
   "metadata": {},
   "outputs": [
    {
     "name": "stdout",
     "output_type": "stream",
     "text": [
      "Gurobi Optimizer version 11.0.2 build v11.0.2rc0 (mac64[arm] - Darwin 23.5.0 23F79)\n",
      "\n",
      "CPU model: Apple M1 Max\n",
      "Thread count: 10 physical cores, 10 logical processors, using up to 10 threads\n",
      "\n",
      "Academic license 2514144 - for non-commercial use only - registered to u.___@student.tudelft.nl\n",
      "Optimize a model with 17310 rows, 16831 columns and 115280 nonzeros\n",
      "Model fingerprint: 0xa31c309a\n",
      "Model has 410 quadratic constraints\n",
      "Variable types: 421 continuous, 16410 integer (16410 binary)\n",
      "Coefficient statistics:\n",
      "  Matrix range     [6e-01, 6e+07]\n",
      "  QMatrix range    [1e+00, 1e+00]\n",
      "  QLMatrix range   [2e-02, 1e+00]\n",
      "  Objective range  [1e+00, 1e+05]\n",
      "  Bounds range     [1e+00, 1e+00]\n",
      "  RHS range        [1e+00, 6e+07]\n",
      "Presolve removed 30 rows and 10 columns\n",
      "Presolve time: 0.11s\n",
      "Presolved: 49690 rows, 64821 columns, 227250 nonzeros\n",
      "Presolved model has 32000 SOS constraint(s)\n",
      "Variable types: 32411 continuous, 32410 integer (32410 binary)\n",
      "Deterministic concurrent LP optimizer: primal and dual simplex\n",
      "Showing primal log only...\n",
      "\n",
      "Concurrent spin time: 0.00s\n",
      "\n",
      "Solved with dual simplex\n",
      "\n",
      "Use crossover to convert LP symmetric solution to basic solution...\n",
      "\n",
      "Root relaxation: objective 3.409900e+05, 1232 iterations, 0.14 seconds (0.17 work units)\n",
      "\n",
      "    Nodes    |    Current Node    |     Objective Bounds      |     Work\n",
      " Expl Unexpl |  Obj  Depth IntInf | Incumbent    BestBd   Gap | It/Node Time\n",
      "\n",
      "     0     0 340990.018    0  680          - 340990.018      -     -    9s\n",
      "     0     0 340990.022    0  564          - 340990.022      -     -   17s\n",
      "     0     0 340990.045    0  366          - 340990.045      -     -   20s\n",
      "     0     0 340990.045    0  390          - 340990.045      -     -   20s\n",
      "     0     0 340990.045    0  360          - 340990.045      -     -   21s\n",
      "     0     0 340990.158    0  390          - 340990.158      -     -   22s\n",
      "     0     0 340990.158    0  360          - 340990.158      -     -   24s\n",
      "     0     0 340990.158    0  390          - 340990.158      -     -   24s\n",
      "     0     0 340990.158    0  360          - 340990.158      -     -   25s\n",
      "     0     0 340990.158    0  390          - 340990.158      -     -   26s\n",
      "     0     0 340990.158    0  360          - 340990.158      -     -   27s\n",
      "     0     0 340990.158    0  360          - 340990.158      -     -   28s\n",
      "     0     2 341600.036    0  360          - 341600.036      -     -   30s\n",
      "    69    82 341600.036   10  151          - 341600.036      -  28.4   36s\n",
      "   187   203 345412.663   18  177          - 341600.036      -  27.4   40s\n",
      "   281   298 347547.680   22  175          - 341600.036      -  31.8   45s\n",
      "   478   506 352122.568   37  326          - 341600.036      -  29.2   50s\n",
      "   715   715 353800.503   54   38          - 341600.036      -  67.2   55s\n",
      "   872   826 354715.503   65   50          - 341600.036      -  88.4   60s\n",
      "  1170  1065 395891.417   83   49          - 341600.036      -  75.1   65s\n",
      "  1475  1303 391317.345   93   31          - 341600.036      -  66.0   71s\n",
      "* 1500  1303              84    833655.09000 341600.036  59.0%  65.2   71s\n",
      "* 1645  1456             128    766555.39000 341600.036  55.4%  70.9   72s\n",
      "* 1821  1602             132    672003.76000 341600.036  49.2%  67.1   73s\n",
      "H 2157  1691                    635098.76000 341600.036  46.2%  61.3   74s\n",
      "  2192  1879 351055.405   26  203 635098.760 341600.036  46.2%  60.6   76s\n",
      "  2707  2303 354105.503   58   87 635098.760 341600.036  46.2%  53.2   82s\n",
      "  3022  2392 354715.770   75   32 635098.760 341600.036  46.2%  50.6   87s\n",
      "  3066  2601 354715.770   76   36 635098.760 341600.036  46.2%  50.3   90s\n",
      "  3315  2789 355630.702   89   36 635098.760 341600.036  46.2%  49.1   97s\n",
      "H 3340  2788                    626558.76000 341600.036  45.5%  48.8   98s\n",
      "  3562  2829 360511.155   96   30 626558.760 341600.036  45.5%  47.9  101s\n",
      "  3800  2976 510158.412  104 8205 626558.760 341600.036  45.5%  52.8  232s\n",
      "  3803  2978 429747.522   82   38 626558.760 341600.036  45.5%  52.8  235s\n",
      "  3810  2983 387961.045   62   38 626558.760 341600.036  45.5%  52.7  241s\n",
      "  3812  2987 349530.345   10   18 626558.760 341600.036  45.5%  69.4  323s\n",
      "  3818  2997 354105.346   12   10 626558.760 341600.036  45.5%  69.6  326s\n",
      "  3826  3004 374082.846   13   20 626558.760 341600.036  45.5%  80.9  388s\n",
      "  3836  3011 374845.376   14    4 626558.760 341600.036  45.5%  94.1  435s\n",
      "  3846  3018 374845.346   14    5 626558.760 341600.036  45.5%   117  443s\n",
      "  3856  3020 374845.346   15    1 626558.760 341600.036  45.5%   120  446s\n",
      "  3866  3026 375150.347   15    1 626558.760 341600.036  45.5%   126  451s\n",
      "  3883  3032 infeasible   16      626558.760 341600.036  45.5%   129  460s\n",
      "  3915  3036 infeasible   15      626558.760 341600.036  45.5%   147  468s\n",
      "  3937  3032 341600.036   16    4 626558.760 341600.036  45.5%   156  476s\n",
      "  3955  3038 367678.002   16   24 626558.760 341600.036  45.5%   169  487s\n",
      "  3977  3043  postponed   18      626558.760 341600.036  45.5%   181  498s\n",
      "  3999  3055 infeasible   18      626558.760 341600.036  45.5%   187  509s\n",
      "  4026  3049 341600.036   19    4 626558.760 341600.036  45.5%   199  523s\n",
      "  4041  3054  postponed   20      626558.760 341600.036  45.5%   223  542s\n",
      "  4059  3067 341600.036   21    6 626558.760 341600.036  45.5%   237  548s\n",
      "  4092  3065 infeasible   22      626558.760 341600.036  45.5%   249  601s\n",
      "  4107  3082 341600.036   21    6 626558.760 341600.036  45.5%   258  615s\n",
      "  4135  3076 infeasible   21      626558.760 341600.036  45.5%   267  638s\n",
      "  4149  3098  postponed   23      626558.760 341600.036  45.5%   286  650s\n",
      "  4185  3080 infeasible   23      626558.760 341600.036  45.5%   301  748s\n",
      "  4205  3095 358680.332   24    2 626558.760 341600.036  45.5%   319  760s\n",
      "  4239  3088 341600.036   24    1 626558.760 341600.036  45.5%   337  776s\n",
      "  4281  3078 infeasible   26      626558.760 341600.036  45.5%   370  788s\n",
      "  4309  3076  postponed   27      626558.760 341600.036  45.5%   395  804s\n",
      "  4329  3070  postponed   28      626558.760 341600.036  45.5%   423  939s\n",
      "  4347  3073 360205.331   28    4 626558.760 341600.036  45.5%   442 1063s\n",
      "  4376  3087 infeasible   33      626558.760 341600.036  45.5%   491 1087s\n",
      "  4420  3073  postponed   33      626558.760 341600.036  45.5%   518 1151s\n",
      "  4447  3071 341600.036   34    4 626558.760 341600.036  45.5%   555 1170s\n",
      "  4490  3078 341600.036   35    4 626558.760 341600.036  45.5%   589 1244s\n",
      "\n",
      "Interrupt request received\n",
      "  4550  3070  postponed   42      626558.760 341600.036  45.5%   641 2117s\n",
      "\n",
      "Cutting planes:\n",
      "  Learned: 9\n",
      "  MIR: 9\n",
      "  RLT: 76\n",
      "\n",
      "Explored 4586 nodes (3114971 simplex iterations) in 2117.95 seconds (5963.36 work units)\n",
      "Thread count was 10 (of 10 available processors)\n",
      "\n",
      "Solution count 5: 626559 635099 672004 ... 833655\n",
      "\n",
      "Solve interrupted\n",
      "Best objective 6.265587600000e+05, best bound 3.416000356657e+05, gap 45.4800%\n",
      "Optimization was stopped with status 11\n"
     ]
    }
   ],
   "source": [
    "# Update the model to integrate new variables\n",
    "model.update()\n",
    "\n",
    "# Write model to a file\n",
    "model.write('TruckonlySimple.lp')\n",
    "\n",
    "# Tune solver parameters\n",
    "#model.tune()\n",
    "\n",
    "# Optimize the model\n",
    "model.optimize()\n",
    "\n",
    "# Print the results\n",
    "if model.status == GRB.OPTIMAL:\n",
    "    print('Optimal objective: %g' % model.objVal)\n",
    "    for v in model.getVars():\n",
    "        if v.x > 0:\n",
    "            print('%s: %g' % (v.varName, v.x))\n",
    "else:\n",
    "    print('Optimization was stopped with status %d' % model.status)"
   ]
  },
  {
   "cell_type": "markdown",
   "id": "f3f6496b",
   "metadata": {},
   "source": [
    "Post-processing"
   ]
  },
  {
   "cell_type": "code",
   "execution_count": 20,
   "id": "246e3f9a",
   "metadata": {
    "lines_to_next_cell": 3
   },
   "outputs": [
    {
     "name": "stdout",
     "output_type": "stream",
     "text": [
      "Active routes for trucks: {'Tr8': [('D0', 'C6', 0.08333333333333333), ('C6', 'C24', 0.18166666536126283), ('C24', 'C4', 0.35999999998603016), ('C4', 'C7', 0.5799999999860301), ('C7', 'C33', 0.6466666666526968), ('C33', 'C35', 0.7150000012659677), ('C35', 'C21', 0.8333333333333334), ('C21', 'C30', 0.9933333327543049), ('C30', 'C31', 1.1633342681289476), ('C31', 'C15', 1.2466685374071542), ('C15', 'C12', 1.3000018707404875), ('C12', 'C22', 1.363335204073821), ('C22', 'C39', 1.5550018707404876), ('C39', 'C29', 1.6116685374071542), ('C29', 'C37', 1.8016685374071542), ('C37', 'C19', 1.9250018707404877), ('C19', 'C25', 2.2116685374071543), ('C25', 'C32', 2.433335204073821), ('C32', 'C20', 2.7183352040738207), ('C20', 'D1', 3.076668537407154)], 'Tr9': [('D0', 'C8', 0.19833333333333333), ('C8', 'C17', 0.25666666666666665), ('C17', 'C18', 0.39833333333333387), ('C18', 'C38', 0.6833333333333333), ('C38', 'C2', 0.9299999989574709), ('C2', 'C36', 1.159999998957471), ('C36', 'C27', 1.3383333322908042), ('C27', 'C13', 1.4699999994227904), ('C13', 'C26', 1.641666666089457), ('C26', 'C16', 1.893333330583248), ('C16', 'C40', 2.104999997249915), ('C40', 'C28', 2.2133333305832483), ('C28', 'C14', 2.293333330583248), ('C14', 'C11', 2.493333330583248), ('C11', 'C23', 2.5766666657797765), ('C23', 'C5', 2.803333332446443), ('C5', 'C1', 2.8516666638419945), ('C1', 'C3', 3.0483333305086613), ('C3', 'C34', 3.3616666638419943), ('C34', 'C10', 3.4116666638419946), ('C10', 'C9', 3.5516666638419947), ('C9', 'D1', 3.7599999971753277)]}\n"
     ]
    }
   ],
   "source": [
    "# Python\n",
    "# Extract and store the solution\n",
    "solution = {var.varName: var.x for var in model.getVars()}\n",
    "\n",
    "# Extract active trucks\n",
    "active_trucks = [v for v in Tr if 'T' in v and solution[f'y[{v}]'] >= 0.99]\n",
    "\n",
    "# Extract routes for active trucks\n",
    "active_routes_truck = {}\n",
    "for truck in active_trucks:\n",
    "    active_routes_truck[truck] = []\n",
    "    for node_from in N:\n",
    "        for node_to in N:\n",
    "            if node_from != node_to and solution.get(f'x[{truck},{node_from},{node_to}]', 0) >= 0.99:\n",
    "                timestamp = solution.get(f't[{truck},{node_to}]', 0)\n",
    "                active_routes_truck[truck].append((node_from, node_to, timestamp))\n",
    "\n",
    "# Sort the routes for each truck according to the timestamps\n",
    "for truck in active_trucks:\n",
    "    active_routes_truck[truck].sort(key=lambda x: x[2])\n",
    "\n",
    "print('Active routes for trucks:', active_routes_truck)\n",
    "#save solution to .sol file\n",
    "model.write(output_file_path)"
   ]
  },
  {
   "cell_type": "code",
   "execution_count": null,
   "id": "30ac8a5a",
   "metadata": {},
   "outputs": [],
   "source": []
  }
 ],
 "metadata": {
  "jupytext": {
   "cell_metadata_filter": "-all",
   "main_language": "python",
   "notebook_metadata_filter": "-all"
  },
  "kernelspec": {
   "display_name": "VRPforDrones-5bUbox2j",
   "language": "python",
   "name": "python3"
  },
  "language_info": {
   "codemirror_mode": {
    "name": "ipython",
    "version": 3
   },
   "file_extension": ".py",
   "mimetype": "text/x-python",
   "name": "python",
   "nbconvert_exporter": "python",
   "pygments_lexer": "ipython3",
   "version": "3.11.0"
  }
 },
 "nbformat": 4,
 "nbformat_minor": 5
}
