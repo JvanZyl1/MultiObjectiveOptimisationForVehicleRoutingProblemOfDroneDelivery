{
 "cells": [
  {
   "cell_type": "markdown",
   "id": "13d1bb08",
   "metadata": {},
   "source": [
    "# Trucks only problem #"
   ]
  },
  {
   "cell_type": "markdown",
   "id": "ded56a86",
   "metadata": {},
   "source": [
    "Install necessary packages"
   ]
  },
  {
   "cell_type": "code",
   "execution_count": 1,
   "id": "da61d852",
   "metadata": {},
   "outputs": [],
   "source": [
    "from gurobipy import Model,GRB,LinExpr,quicksum\n",
    "import numpy as np\n",
    "from scipy.spatial import distance\n",
    "import os\n",
    "import socket\n",
    "from load_dataset import Dataset"
   ]
  },
  {
   "cell_type": "markdown",
   "id": "75b389a3",
   "metadata": {},
   "source": [
    "For Ugo's laptop"
   ]
  },
  {
   "cell_type": "code",
   "execution_count": 2,
   "id": "581a6c84",
   "metadata": {},
   "outputs": [
    {
     "name": "stdout",
     "output_type": "stream",
     "text": [
      "Gurobi license path set for Ugo's MacBook Pro.\n"
     ]
    }
   ],
   "source": [
    "# Define the node name or another identifier of your laptop\n",
    "my_laptop_node = 'Ugos-MacBook-Pro.local'\n",
    "\n",
    "# Get the current system's node name using socket.gethostname()\n",
    "current_node = socket.gethostname()\n",
    "\n",
    "if current_node == my_laptop_node:\n",
    "    # Set the environment variable for Gurobi license file\n",
    "    os.environ[\"GRB_LICENSE_FILE\"] = \"/Users/ugomunzi/gurobi/licenses/gurobi.lic\"\n",
    "    print(\"Gurobi license path set for Ugo's MacBook Pro.\")\n",
    "else:\n",
    "    print(\"Not Ugo's MacBook Pro, using default or no specific license settings.\")"
   ]
  },
  {
   "cell_type": "markdown",
   "id": "9aa63448",
   "metadata": {},
   "source": [
    "Define model parametres"
   ]
  },
  {
   "cell_type": "code",
   "execution_count": 3,
   "id": "70c3a06a",
   "metadata": {},
   "outputs": [],
   "source": [
    "## MODEL PARAMETERS ##\n",
    "W_T = 1500 #empty weight truck [kg]\n",
    "Q_T = 1000 #load capacity of trucks [kg]\n",
    "#W_D = 25 #empty weight drone [kg]\n",
    "#Q_D = 5 #load capacity of drones [kg]\n",
    "C_T = 25 #travel cost of trucks per unit distance [monetary unit/km]\n",
    "#C_D = 1 #travel cost of drones per unit distance [monetary unit/km]\n",
    "C_B = 500 #basis cost of using a truck equipped with a drone [monetary unit]\n",
    "#E = 0.5 #maximum endurance of empty drones [hours]\n",
    "S_T = 60 #average travel speed of the trucks [km/h]\n",
    "#S_D = 65 #average travel speed of the drones [km/h]"
   ]
  },
  {
   "cell_type": "markdown",
   "id": "08f98638",
   "metadata": {},
   "source": [
    "Define Big M constant"
   ]
  },
  {
   "cell_type": "code",
   "execution_count": 4,
   "id": "5620452d",
   "metadata": {},
   "outputs": [],
   "source": [
    "#M = 500 #big M constant for big M method"
   ]
  },
  {
   "cell_type": "markdown",
   "id": "688b6064",
   "metadata": {},
   "source": [
    "Load Dataset using load_dataset.py"
   ]
  },
  {
   "cell_type": "code",
   "execution_count": 21,
   "id": "9560ecb2",
   "metadata": {},
   "outputs": [],
   "source": [
    "## LOAD DATASET ##\n",
    "current_dir = os.getcwd()\n",
    "# Select which data folder to use\n",
    "data_subfolder = '0.3'\n",
    "data_subfoldercopy = '0.3_copy'\n",
    "data_num_nodes = '40'\n",
    "data_area = '20'\n",
    "\n",
    "data_file_name = f'{data_num_nodes}_{data_area}_{data_subfoldercopy}'\n",
    "dataset_path = f'dataset/{data_subfolder}/{data_file_name}.txt'\n",
    "output_solution_file_path = os.path.join(current_dir, data_file_name + '_solution.sol')#used to save solution file\n",
    "output_model_file_path = os.path.join(current_dir, data_file_name + '_model.lp')#used to save model file\n",
    "dataset = Dataset(dataset_path)\n",
    "\n"
   ]
  },
  {
   "cell_type": "markdown",
   "id": "3176c483",
   "metadata": {},
   "source": [
    "Pre-processing"
   ]
  },
  {
   "cell_type": "code",
   "execution_count": 6,
   "id": "7ed00fcf",
   "metadata": {},
   "outputs": [],
   "source": [
    "## FUNCTIONS ##\n",
    "def get_manhattan_distance(data):\n",
    "    \"\"\"\n",
    "    Returns a dictionary with manhattan distances between all nodes in dataset\n",
    "    \"\"\"\n",
    "    distance_dict = {}\n",
    "    for node1 in data.keys():\n",
    "        for node2 in data.keys():\n",
    "            distance_dict[node1, node2] = distance.cityblock([data[node1]['X'], data[node1]['Y']], [data[node2]['X'], data[node2]['Y']])\n",
    "    return distance_dict\n",
    "\n",
    "def get_time_dict(data, S_T, distance_dict):\n",
    "    \"\"\"\n",
    "    Returns a dictionary with travel times between all nodes in dataset\n",
    "    \"\"\"\n",
    "    time_dict = {}\n",
    "    for node1 in data.keys():\n",
    "        for node2 in data.keys():\n",
    "            time_dict[node1, node2] = distance_dict[node1, node2] / S_T\n",
    "    return time_dict\n",
    "\n",
    "def check_in_x_var(i, j):\n",
    "    \"\"\"Check if the route from node i to node j is valid instead of having to pass bunch of conditions in each constraint.\n",
    "    Conditions:\n",
    "        1- cant travel between same node (i != j)\n",
    "        2- cant leave return depot D1 (i != 'D1')\n",
    "        3- cant arrive at start depot D0 (j != 'D0')\n",
    "        4- cant travel from D0 to D1 (not (i == 'D0' and j == 'D1'))\n",
    "            note that constraints 2 & 3 already ensure you cant travel from D1 to D0\n",
    "    \"\"\"\n",
    "    if i != j and i != 'D1' and j != 'D0' and not (i == 'D0' and j == 'D1'):\n",
    "        return True\n",
    "    return False\n",
    "\n",
    "\n",
    "num_trucks = 10\n",
    "truck_distance_dict = get_manhattan_distance(dataset.data)\n",
    "truck_time_dict = get_time_dict(dataset.data, S_T, truck_distance_dict)\n",
    "\n",
    "#definitions of N_0, N and N_plus follow from paper\n",
    "N = list(dataset.data.keys()) #set of nodes with depot at start (D0) and at end (D1)\n",
    "N_customers = N.copy()\n",
    "N_customers.remove('D0')\n",
    "N_customers.remove('D1')\n",
    "Tr = [f'Tr{i}' for i in range(1, num_trucks+1)] #set of trucks"
   ]
  },
  {
   "cell_type": "markdown",
   "id": "a73167f9",
   "metadata": {},
   "source": [
    "Define the model"
   ]
  },
  {
   "cell_type": "code",
   "execution_count": 7,
   "id": "bd1efaec",
   "metadata": {},
   "outputs": [
    {
     "name": "stdout",
     "output_type": "stream",
     "text": [
      "Set parameter WLSAccessID\n",
      "Set parameter WLSSecret\n",
      "Set parameter LicenseID to value 2514144\n",
      "Academic license 2514144 - for non-commercial use only - registered to u.___@student.tudelft.nl\n"
     ]
    }
   ],
   "source": [
    "# Create a new model\n",
    "model = Model(\"Truck_Routing\")\n",
    "\n",
    "# Define decision variables\n",
    "x = model.addVars(Tr, [(i, j) for i in N for j in N if check_in_x_var(i, j)], lb=0, ub=1, vtype=GRB.BINARY, name='x')\n",
    "y = model.addVars(Tr, lb=0, ub=1, vtype=GRB.BINARY, name='y')\n",
    "t = model.addVars(Tr, N, lb=0, vtype=GRB.CONTINUOUS, name='t')\n",
    "t_max = model.addVar(lb=0, vtype=GRB.CONTINUOUS, name='t_max') #used for the minimising the max delivery time (find max time of all trucks, not each individual truck)\n",
    "\n",
    "# Objective 1: Cost both due to transportation and base cost of using truck if active)\n",
    "cost_obj = quicksum(C_T * truck_distance_dict[i,j] * x[truck,i,j] for i in N for j in N if check_in_x_var(i, j) for truck in Tr) + \\\n",
    "           quicksum(C_B * y[truck] for truck in Tr)\n",
    "# Objective 2: environmental_obj is distance[i,j] * Weight* x[v,i,j] for all v,i,j (i.e. energy consumption)\n",
    "environmental_obj = quicksum(truck_distance_dict[i,j] * W_T * x[truck,i,j] for i in N for j in N if check_in_x_var(i, j) for truck in Tr)\n",
    "# Objective 3: minimise max delivery time for each truck\n",
    "time_obj = t_max\n",
    "\n",
    "obj = cost_obj + environmental_obj + time_obj\n",
    "model.setObjective(obj, GRB.MINIMIZE)\n",
    "\n",
    "model.update()"
   ]
  },
  {
   "cell_type": "markdown",
   "id": "d038e04c",
   "metadata": {},
   "source": [
    "Constraint 1: Each customer is visited by exactly one truck"
   ]
  },
  {
   "cell_type": "code",
   "execution_count": 8,
   "id": "78b23a90",
   "metadata": {
    "lines_to_next_cell": 2
   },
   "outputs": [],
   "source": [
    "# Constraint 1: Each customer is visited by exactly one truck\n",
    "\n",
    "for customer in N_customers:\n",
    "    # Initialize the sum for the current customer\n",
    "    sum_for_current_customer = 0\n",
    "\n",
    "    # Loop over each truck\n",
    "    for truck in Tr:\n",
    "        # Loop over each node\n",
    "        for node in N:\n",
    "            # Skip if customer is equal to node\n",
    "            if check_in_x_var(node, customer):\n",
    "                # Add the variable to the sum\n",
    "                sum_for_current_customer += x[truck, node, customer]\n",
    "\n",
    "    # The sum for the current customer must be equal to 1\n",
    "    model.addConstr(sum_for_current_customer == 1, name=f'Customer_{customer}_visited_once')"
   ]
  },
  {
   "cell_type": "markdown",
   "id": "0fe0a443",
   "metadata": {},
   "source": [
    "Constraint 2: Each truck must leave the depot if active"
   ]
  },
  {
   "cell_type": "code",
   "execution_count": 9,
   "id": "1d3ac9bc",
   "metadata": {
    "lines_to_next_cell": 2
   },
   "outputs": [],
   "source": [
    "# Constraint 2: Each truck must leave the depot if active\n",
    "\n",
    "for truck in Tr:\n",
    "    sum_for_current_vehicle = quicksum(x[truck, 'D0', customer] for customer in N_customers)\n",
    "    model.addConstr(sum_for_current_vehicle == y[truck], name=f'Truck_leaves_depot_{truck}')"
   ]
  },
  {
   "cell_type": "markdown",
   "id": "c2aeaa4b",
   "metadata": {},
   "source": [
    "Constraint 3: Each vehicle arrives at depot if active"
   ]
  },
  {
   "cell_type": "code",
   "execution_count": 10,
   "id": "f935604e",
   "metadata": {
    "lines_to_next_cell": 2
   },
   "outputs": [],
   "source": [
    "\n",
    "# Constraint 3: Each truck must return to the depot if active\n",
    "\n",
    "for truck in Tr:\n",
    "    sum_for_current_vehicle = quicksum(x[truck, customer, 'D1'] for customer in N_customers)\n",
    "    model.addConstr(sum_for_current_vehicle == y[truck], name=f'Truck_returns_to_depot_{truck}')"
   ]
  },
  {
   "cell_type": "markdown",
   "id": "5bb65977",
   "metadata": {},
   "source": [
    "Constraint 4: If a vehicle arrives at a customer node it must also leave"
   ]
  },
  {
   "cell_type": "code",
   "execution_count": 11,
   "id": "86ea1a9b",
   "metadata": {
    "lines_to_next_cell": 2
   },
   "outputs": [],
   "source": [
    "# Constraint 4: If a truck arrives at a customer node it must also leave (flow balance)\n",
    "\n",
    "for truck in Tr:\n",
    "    for node in N_customers:\n",
    "        model.addConstr(\n",
    "            quicksum(x[truck, node, j] for j in N if check_in_x_var(node, j)) == \n",
    "            quicksum(x[truck, j, node] for j in N if check_in_x_var(j, node)),\n",
    "            name=f'Flow_balance_{truck}_{node}'\n",
    "        )"
   ]
  },
  {
   "cell_type": "markdown",
   "id": "53bef6ef",
   "metadata": {},
   "source": [
    "Constraint 5: Time at a node is equal or larger than time at previous nodes plus travel time (or irrelevant). Eliminates need for subtour constraints."
   ]
  },
  {
   "cell_type": "code",
   "execution_count": 12,
   "id": "3799018f",
   "metadata": {},
   "outputs": [],
   "source": [
    "'''\n",
    "#Constraint 5: Time at a node is equal or larger than time at previous nodes plus travel time (or irrelevant). Eliminates need for subtour constraints.\n",
    "# Define a large constant M for the big-M method : TRUCKS\n",
    "'''\n",
    "M_subtour = 60000000  # Make sure M is larger than the maximum possible travel time\n",
    "\n",
    "# Add time constraints for all vehicles, nodes, and customers\n",
    "for truck in Tr:\n",
    "    for node in N:\n",
    "        for customer in N:\n",
    "            if check_in_x_var(node, customer):\n",
    "                model.addConstr(\n",
    "                    t[truck, customer] >= t[truck, node] + truck_time_dict[(node, customer)] - M_subtour * (1 - x[truck, node, customer]),\n",
    "                    name=f'Time_{truck}_{node}_{customer}'\n",
    "                )"
   ]
  },
  {
   "cell_type": "markdown",
   "id": "e5bdf804",
   "metadata": {},
   "source": [
    "Constraint 6: Payloads"
   ]
  },
  {
   "cell_type": "code",
   "execution_count": 13,
   "id": "a1fd6e67",
   "metadata": {},
   "outputs": [],
   "source": [
    "# Constraint 6: The total payload delivered to the customer must be less or equal to the truck load capacity Q_T\n",
    "# \n",
    "for truck in Tr:\n",
    "    model.addConstr(quicksum(dataset.data[i]['Demand'] * x[truck, i, j] for i in N for j in N if check_in_x_var(i, j)) <= Q_T, \n",
    "                    name=f'Payload_{truck}')"
   ]
  },
  {
   "cell_type": "markdown",
   "id": "e7b0fb54",
   "metadata": {},
   "source": [
    "Constraint 7 : link y variable to x variable."
   ]
  },
  {
   "cell_type": "code",
   "execution_count": 14,
   "id": "46a6ed0d",
   "metadata": {},
   "outputs": [],
   "source": [
    "# Constraint 7: Link y variable to x variable : TRUCKS\n",
    "#if any link in x (for each truck) is active -> y = 1\n",
    "# can do this by checking if each truck leaves the depot (all trucks must leave depot if active)\n",
    "\n",
    "for truck in Tr:\n",
    "    model.addConstr(y[truck] == quicksum(x[truck, 'D0', i] for i in N_customers), name=f'Link_y{truck}_to_x_{truck}')"
   ]
  },
  {
   "cell_type": "markdown",
   "id": "b5749a31",
   "metadata": {},
   "source": [
    "Constraint 8: Set departure time from depot D0 for each truck = 0"
   ]
  },
  {
   "cell_type": "code",
   "execution_count": 15,
   "id": "2e0c3ad4",
   "metadata": {},
   "outputs": [],
   "source": [
    "# Constraint 8: set departure time from depot D0 for each truck = 0\n",
    "\n",
    "for truck in Tr:\n",
    "    model.addConstr(t[truck, 'D0'] == 0, name=f'Departure_time_{truck}_D0')"
   ]
  },
  {
   "cell_type": "markdown",
   "id": "8a3381f7",
   "metadata": {},
   "source": [
    "Constraint 9: update time variables."
   ]
  },
  {
   "cell_type": "code",
   "execution_count": 16,
   "id": "d31e79ee",
   "metadata": {},
   "outputs": [],
   "source": [
    "# Constraint 9: Update time variable for trucks\n",
    "# Loop over each truck\n",
    "for truck in Tr:\n",
    "    # Loop over each node (destination)\n",
    "    for j in N:\n",
    "        if j != 'D0':  # Ensuring no calculation is made for the time to 'D0' as it's the starting point only\n",
    "            # Initialize the sum for arriving at node j from any node i\n",
    "            sum_for_arrival_to_j = quicksum((t[truck, i] + truck_time_dict[i, j]) * x[truck, i, j]\n",
    "                                            for i in N if check_in_x_var(i, j))\n",
    "            \n",
    "            # Add the constraint that sets the arrival time at j based on departure times from all nodes i\n",
    "            model.addConstr(t[truck, j] == sum_for_arrival_to_j, name=f'Update_time_{truck}_{j}')\n",
    "\n",
    "\n"
   ]
  },
  {
   "cell_type": "markdown",
   "id": "92563c59",
   "metadata": {},
   "source": [
    "Constraint 10: update max delivery time variable."
   ]
  },
  {
   "cell_type": "code",
   "execution_count": 17,
   "id": "183664d8",
   "metadata": {},
   "outputs": [],
   "source": [
    "# Constraint 10: Update max delivery time variable\n",
    "for truck in Tr:\n",
    "    for node in N:\n",
    "        # Add a constraint to the model that the maximum delivery time is greater than or equal to the delivery time to the customer for each vehicle\n",
    "        model.addConstr(t_max >= t[truck, node], name=f'Update_max_delivery_time_{truck}_{node}')"
   ]
  },
  {
   "cell_type": "markdown",
   "id": "df91bff6",
   "metadata": {},
   "source": [
    "Update, tune and run the model"
   ]
  },
  {
   "cell_type": "code",
   "execution_count": 18,
   "id": "08c2b556",
   "metadata": {},
   "outputs": [
    {
     "name": "stdout",
     "output_type": "stream",
     "text": [
      "Gurobi Optimizer version 11.0.2 build v11.0.2rc0 (mac64[arm] - Darwin 23.5.0 23F79)\n",
      "\n",
      "CPU model: Apple M1 Max\n",
      "Thread count: 10 physical cores, 10 logical processors, using up to 10 threads\n",
      "\n",
      "Academic license 2514144 - for non-commercial use only - registered to u.___@student.tudelft.nl\n",
      "Optimize a model with 475 rows, 381 columns and 2230 nonzeros\n",
      "Model fingerprint: 0x395b8a1f\n",
      "Model has 60 quadratic constraints\n",
      "Variable types: 71 continuous, 310 integer (310 binary)\n",
      "Coefficient statistics:\n",
      "  Matrix range     [1e+00, 6e+07]\n",
      "  QMatrix range    [1e+00, 1e+00]\n",
      "  QLMatrix range   [5e-02, 1e+00]\n",
      "  Objective range  [1e+00, 8e+02]\n",
      "  Bounds range     [1e+00, 1e+00]\n",
      "  RHS range        [1e+00, 6e+07]\n",
      "Presolve removed 40 rows and 10 columns\n",
      "Presolve time: 0.01s\n",
      "Presolved: 995 rows, 1121 columns, 3900 nonzeros\n",
      "Presolved model has 500 SOS constraint(s)\n",
      "Variable types: 561 continuous, 560 integer (560 binary)\n",
      "\n",
      "Root relaxation: objective 1.670025e+03, 455 iterations, 0.00 seconds (0.00 work units)\n",
      "\n",
      "    Nodes    |    Current Node    |     Objective Bounds      |     Work\n",
      " Expl Unexpl |  Obj  Depth IntInf | Incumbent    BestBd   Gap | It/Node Time\n",
      "\n",
      "     0     0 1670.02533    0   86          - 1670.02533      -     -    0s\n",
      "     0     0 1670.04368    0   80          - 1670.04368      -     -    0s\n",
      "     0     0 1670.08833    0   74          - 1670.08833      -     -    0s\n",
      "     0     0 1670.08833    0   74          - 1670.08833      -     -    0s\n",
      "     0     0 1670.08833    0   80          - 1670.08833      -     -    0s\n",
      "H    0     0                    3592.0600000 1670.08833  53.5%     -    0s\n",
      "H    0     0                    3572.0466667 1670.08833  53.2%     -    0s\n",
      "     0     0 1670.08833    0   64 3572.04667 1670.08833  53.2%     -    0s\n",
      "     0     0 1670.08833    0   74 3572.04667 1670.08833  53.2%     -    0s\n",
      "     0     0 1670.08833    0   74 3572.04667 1670.08833  53.2%     -    0s\n",
      "     0     0 1670.08833    0   74 3572.04667 1670.08833  53.2%     -    0s\n",
      "     0     0 1757.54951    0  178 3572.04667 1757.54951  50.8%     -    0s\n",
      "H    0     0                    2726.4833333 1757.54958  35.5%     -    0s\n",
      "     0     0 1757.54958    0  203 2726.48333 1757.54958  35.5%     -    0s\n",
      "     0     0 1776.90389    0   47 2726.48333 1776.90389  34.8%     -    0s\n",
      "     0     0 1795.14233    0   74 2726.48333 1795.14233  34.2%     -    0s\n",
      "     0     0 1815.04957    0  185 2726.48333 1815.04957  33.4%     -    0s\n",
      "     0     0 1815.05500    0  215 2726.48333 1815.05500  33.4%     -    0s\n",
      "     0     0 1815.22662    0   48 2726.48333 1815.22662  33.4%     -    0s\n",
      "     0     0 1815.41000    0   45 2726.48333 1815.41000  33.4%     -    0s\n",
      "     0     0 1815.45833    0   31 2726.48333 1815.45833  33.4%     -    0s\n",
      "     0     0 1815.45833    0   45 2726.48333 1815.45833  33.4%     -    0s\n",
      "H    0     0                    2546.4833333 1815.46254  28.7%     -    0s\n",
      "     0     0 1815.50667    0   30 2546.48333 1815.50667  28.7%     -    0s\n",
      "     0     0 1815.50667    0   30 2546.48333 1815.50667  28.7%     -    0s\n",
      "H    0     2                    2546.3633333 1815.50667  28.7%     -    0s\n",
      "     0     2 1815.50667    0   30 2546.36333 1815.50667  28.7%     -    0s\n",
      "*   52    19               5    2481.3199998 1815.50667  26.8%  21.3    0s\n",
      "\n",
      "Cutting planes:\n",
      "  Learned: 57\n",
      "  Gomory: 3\n",
      "  Implied bound: 11\n",
      "  Clique: 1\n",
      "  MIR: 6\n",
      "  Flow cover: 4\n",
      "  RLT: 76\n",
      "  Relax-and-lift: 13\n",
      "\n",
      "Explored 1486 nodes (18676 simplex iterations) in 0.76 seconds (1.11 work units)\n",
      "Thread count was 10 (of 10 available processors)\n",
      "\n",
      "Solution count 5: 2481.32 2546.36 2726.48 ... 3592.06\n",
      "\n",
      "Optimal solution found (tolerance 1.00e-04)\n",
      "Best objective 2.481319999760e+03, best bound 2.481319999760e+03, gap 0.0000%\n",
      "Optimal objective: 2481.32\n",
      "x[Tr6,D0,C4]: 1\n",
      "x[Tr6,C1,C5]: 1\n",
      "x[Tr6,C2,C1]: 1\n",
      "x[Tr6,C3,C2]: 1\n",
      "x[Tr6,C4,C3]: 1\n",
      "x[Tr6,C5,D1]: 1\n",
      "y[Tr6]: 1\n",
      "t[Tr6,C1]: 0.908333\n",
      "t[Tr6,C2]: 0.8\n",
      "t[Tr6,C3]: 0.711667\n",
      "t[Tr6,C4]: 0.253333\n",
      "t[Tr6,C5]: 0.956667\n",
      "t[Tr6,D1]: 1.32\n",
      "t_max: 1.32\n"
     ]
    }
   ],
   "source": [
    "# Update the model to integrate new variables\n",
    "model.update()\n",
    "\n",
    "# Write model to a file\n",
    "model.write('TruckonlySimple.lp')\n",
    "\n",
    "# Tune solver parameters\n",
    "#model.tune()\n",
    "\n",
    "# Optimize the model\n",
    "model.optimize()\n",
    "\n",
    "# Print the results\n",
    "if model.status == GRB.OPTIMAL:\n",
    "    print('Optimal objective: %g' % model.objVal)\n",
    "    for v in model.getVars():\n",
    "        if v.x > 0:\n",
    "            print('%s: %g' % (v.varName, v.x))\n",
    "else:\n",
    "    print('Optimization was stopped with status %d' % model.status)"
   ]
  },
  {
   "cell_type": "markdown",
   "id": "f3f6496b",
   "metadata": {},
   "source": [
    "Post-processing"
   ]
  },
  {
   "cell_type": "code",
   "execution_count": 22,
   "id": "246e3f9a",
   "metadata": {
    "lines_to_next_cell": 3
   },
   "outputs": [
    {
     "name": "stdout",
     "output_type": "stream",
     "text": [
      "Active routes for trucks: {'Tr6': [('D0', 'C4', 0.25333333333333335), ('C4', 'C3', 0.7116666666666667), ('C3', 'C2', 0.8), ('C2', 'C1', 0.9083332398480783), ('C1', 'C5', 0.9566665037360319), ('C5', 'D1', 1.3199997595889954)]}\n"
     ]
    }
   ],
   "source": [
    "# Python\n",
    "# Extract and store the solution\n",
    "solution = {var.varName: var.x for var in model.getVars()}\n",
    "\n",
    "# Extract active trucks\n",
    "active_trucks = [v for v in Tr if 'T' in v and solution[f'y[{v}]'] >= 0.99]\n",
    "\n",
    "# Extract routes for active trucks\n",
    "active_routes_truck = {}\n",
    "for truck in active_trucks:\n",
    "    active_routes_truck[truck] = []\n",
    "    for node_from in N:\n",
    "        for node_to in N:\n",
    "            if node_from != node_to and solution.get(f'x[{truck},{node_from},{node_to}]', 0) >= 0.99:\n",
    "                timestamp = solution.get(f't[{truck},{node_to}]', 0)\n",
    "                active_routes_truck[truck].append((node_from, node_to, timestamp))\n",
    "\n",
    "# Sort the routes for each truck according to the timestamps\n",
    "for truck in active_trucks:\n",
    "    active_routes_truck[truck].sort(key=lambda x: x[2])\n",
    "\n",
    "print('Active routes for trucks:', active_routes_truck)\n",
    "#save solution to .sol file\n",
    "model.write(output_solution_file_path)\n",
    "#save model to .lp file\n",
    "model.write(output_model_file_path)"
   ]
  },
  {
   "cell_type": "code",
   "execution_count": null,
   "id": "30ac8a5a",
   "metadata": {},
   "outputs": [],
   "source": []
  }
 ],
 "metadata": {
  "jupytext": {
   "cell_metadata_filter": "-all",
   "main_language": "python",
   "notebook_metadata_filter": "-all"
  },
  "kernelspec": {
   "display_name": "VRPforDrones-5bUbox2j",
   "language": "python",
   "name": "python3"
  },
  "language_info": {
   "codemirror_mode": {
    "name": "ipython",
    "version": 3
   },
   "file_extension": ".py",
   "mimetype": "text/x-python",
   "name": "python",
   "nbconvert_exporter": "python",
   "pygments_lexer": "ipython3",
   "version": "3.11.0"
  }
 },
 "nbformat": 4,
 "nbformat_minor": 5
}
